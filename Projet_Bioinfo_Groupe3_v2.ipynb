{
  "cells": [
    {
      "cell_type": "markdown",
      "metadata": {
        "id": "OXNNjJMRseoa"
      },
      "source": [
        "**LO3IN402** : Projet Bioinformatique\n",
        "\n",
        "---\n",
        "\n",
        "Ferdinand BUJANOWSKI - **21106550**<br>\n",
        "Lev SAVOLSKIY - **21241759**<br>\n",
        "Haoran ZHANG - **28717301**<br>"
      ]
    },
    {
      "cell_type": "markdown",
      "metadata": {
        "id": "3BWPhQM5qqws"
      },
      "source": [
        "# 1) Introduction / Préparation"
      ]
    },
    {
      "cell_type": "code",
      "execution_count": null,
      "metadata": {
        "id": "Ex-AWAIYqmyn"
      },
      "outputs": [],
      "source": [
        "import numpy as np\n",
        "from numpy import float32\n",
        "import matplotlib.pyplot as plt\n",
        "\n",
        "# TODO ALL IMPORTS"
      ]
    },
    {
      "cell_type": "markdown",
      "metadata": {
        "id": "HV4V3gunq7Ar"
      },
      "source": [
        "## 1.1) Import des séquences à analyser"
      ]
    },
    {
      "cell_type": "markdown",
      "source": [
        "Tout d'abord on va importer les sequences sur lesquelles notre groupe va travailler (**Groupe 3**). Les 109 sequences sont enregistrées dans un fichier de type .fasta, la fonction suivante va les extraire et enregistrer sous forme d'une liste de chaînes de caractères :"
      ],
      "metadata": {
        "id": "rnc2-crnTglQ"
      }
    },
    {
      "cell_type": "code",
      "execution_count": null,
      "metadata": {
        "id": "t9lSNZGetZG6"
      },
      "outputs": [],
      "source": [
        "def readFasta(fastaFileName):\n",
        "    \"\"\"\n",
        "    Read a fasta file\n",
        "    entrée fastaFileName: nom du fichier fasta\n",
        "    sortie séquences: liste contenant toutes les séquences du fichier\n",
        "    \"\"\"\n",
        "\n",
        "    sequence = \"\"\n",
        "    sequences_list = []\n",
        "    prev_header = \"\"\n",
        "    header = \"\"\n",
        "\n",
        "    for line in open(fastaFileName):\n",
        "        string = line.strip()\n",
        "        if string[0] != \">\":\n",
        "            if prev_header != header:\n",
        "                prev_header = header\n",
        "            sequence = sequence + string\n",
        "        else:\n",
        "            header = string\n",
        "            if sequence != \"\":\n",
        "                sequences_list.append(sequence)\n",
        "                sequence = \"\"\n",
        "\n",
        "    sequences_list.append(sequence)\n",
        "\n",
        "    return sequences_list"
      ]
    },
    {
      "cell_type": "code",
      "execution_count": null,
      "metadata": {
        "colab": {
          "base_uri": "https://localhost:8080/"
        },
        "id": "WuDlklN9vXGY",
        "outputId": "c5265bd2-b713-4150-c664-292b3802c3a1"
      },
      "outputs": [
        {
          "output_type": "execute_result",
          "data": {
            "text/plain": [
              "109"
            ]
          },
          "metadata": {},
          "execution_count": 4
        }
      ],
      "source": [
        "sequences = [seq.upper() for seq in readFasta('Sequence_by_Peaks_3.fasta')];\n",
        "len(sequences)"
      ]
    },
    {
      "cell_type": "markdown",
      "source": [
        "On va définir quelques \"constantes\" pour notre projet :\n",
        "*   `nuc` : l'alphabet de nucléotides présents dans nos séquences (Adénine, Cytosine, Guanine et Thymine)\n",
        "*   `comp_nuc` : un dictionnaire désignant à chaque nucléotide son nucléotide complémentaire.\n"
      ],
      "metadata": {
        "id": "2y_kTqGKT-27"
      }
    },
    {
      "cell_type": "code",
      "execution_count": null,
      "metadata": {
        "id": "BJ9Veoe6oqR_"
      },
      "outputs": [],
      "source": [
        "# CONSTANTES\n",
        "\n",
        "nuc = ('A', 'C', 'G', 'T')\n",
        "\n",
        "comp_nuc = {\n",
        "  \"A\": \"T\",\n",
        "  \"T\": \"A\",\n",
        "  \"G\": \"C\",\n",
        "  \"C\": \"G\"\n",
        "}"
      ]
    },
    {
      "cell_type": "markdown",
      "metadata": {
        "id": "TWiL_ehoht3X"
      },
      "source": [
        "## 1.2) Implémentation d'autres fonctions utiles"
      ]
    },
    {
      "cell_type": "markdown",
      "source": [
        "Sauvegarde / Récupération des dictionnaires"
      ],
      "metadata": {
        "id": "A0_EJxZdYsOb"
      }
    },
    {
      "cell_type": "code",
      "execution_count": null,
      "metadata": {
        "id": "n5wjVYJcmO3O"
      },
      "outputs": [],
      "source": [
        "import json\n",
        "\n",
        "def write_json(obj, filename):\n",
        "  with open(filename, 'w') as file_obj:\n",
        "    json.dump(obj, file_obj)\n",
        "\n",
        "def load_json(filename):\n",
        "  with open(filename) as file_obj:\n",
        "    return json.load(file_obj)"
      ]
    },
    {
      "cell_type": "markdown",
      "metadata": {
        "id": "u3VAe1zl6PAz"
      },
      "source": [
        "Visualisation des matrices de poids"
      ]
    },
    {
      "cell_type": "code",
      "execution_count": null,
      "metadata": {
        "id": "E1zG0cPt6RB4"
      },
      "outputs": [],
      "source": [
        "import numpy as np\n",
        "import matplotlib.pyplot as plt\n",
        "\n",
        "def weight_matrix(mat, nuc=nuc, save_path=None, titre='Profil de probabilités', offset=0):\n",
        "\n",
        "  plt.figure(figsize=(8, 6))\n",
        "  plt.imshow(mat, cmap='inferno', aspect='auto', vmin=0., vmax=1., interpolation='none')\n",
        "  plt.colorbar(label='Proba')\n",
        "  plt.title(titre)\n",
        "  plt.xlabel('Position dans le motif')\n",
        "  plt.yticks(np.arange(len(nuc)), nuc)\n",
        "  plt.xticks(np.arange(len(mat[0])), np.arange(offset, len(mat[0]) + offset))\n",
        "  if save_path:\n",
        "    plt.savefig(save_path, bbox_inches='tight')\n",
        "    return\n",
        "  plt.show()\n"
      ]
    },
    {
      "cell_type": "markdown",
      "metadata": {
        "id": "YZKgao0nrFhJ"
      },
      "source": [
        "## 1.3) Création des classes pour le traitement de données"
      ]
    },
    {
      "cell_type": "markdown",
      "source": [
        "Pendant ce projet, on va travailler avec des classes `Transformer` et `Estimator` de la library **Scikit-Learn**. Plus précisamment, on va utiliser l'API définie par Scikit-Learn pour créer de nombreuses nouvelles classes de ces deux types, ce qui va nous permettre de simplifier le traitement de données des résultats générés par les différents algorithmes.\n",
        "\n",
        "L'idée est de créér des classes qui servent chacune à une 'étape élémentaire' de traitement de données, en utilisant l'API de Scikit-Learn. Après, si on a besoin de traiter des données en plusieurs étapes, on va pouvoir \"enchaîner\" les différentes classes dont on a besoin dans ce qui on appele une **Pipeline**.\n",
        "\n",
        "Les classes de type Transformer possèdent toutes les deux fonctions `fit()` et `transform()`, des fonctions qui peuvent être appelées une après l'autre en appelant la fonction `fit_transform()`. Ces fonctions prennent des données d'entré appelées `X`, et retournent les données transformées appelées `y`."
      ],
      "metadata": {
        "id": "3J3LRXLfjMBc"
      }
    },
    {
      "cell_type": "markdown",
      "metadata": {
        "id": "_Yyzecnpzp88"
      },
      "source": [
        "### `DictClassTransformer`\n",
        "\n",
        "**Description** : Création des 'classes d'équivalence' des motifs\n",
        "\n",
        "**Input** : `dict(string;value)` => le dictionnaire de départ associant une valeur à chaque motif\n",
        "\n",
        "**Output** : `dict(value;list(string))` => un dictionnaire associant à chaque valeur présente dans le dictionnaire de départ une liste de tous les motifs ayant cette valeur comme valeur associée\n",
        "\n",
        "**Hyper-paramètres** : `None`"
      ]
    },
    {
      "cell_type": "code",
      "execution_count": null,
      "metadata": {
        "id": "XGe4gXUylYND"
      },
      "outputs": [],
      "source": [
        "from sklearn.base import BaseEstimator, TransformerMixin\n",
        "\n",
        "class DictClassTransformer(BaseEstimator, TransformerMixin):\n",
        "\n",
        "  def __init__(self):\n",
        "    pass\n",
        "\n",
        "  def fit(self, X, y=None):\n",
        "    return self\n",
        "\n",
        "  def transform(self, X):\n",
        "    class_dict = dict()\n",
        "    for motif, val in X.items():\n",
        "      if val not in class_dict:\n",
        "        class_dict[val] = [motif]\n",
        "      else:\n",
        "        class_dict[val].append(motif)\n",
        "    for key in class_dict.keys():\n",
        "      class_dict[key] = np.array(class_dict[key])\n",
        "    return class_dict"
      ]
    },
    {
      "cell_type": "markdown",
      "metadata": {
        "id": "Dxkat3muG_Dl"
      },
      "source": [
        "### `KmerGenerator`\n",
        "\n",
        "**Description** : Génération de motifs de taille k\n",
        "\n",
        "**Input** : `None`\n",
        "\n",
        "**Output** : `list(string)` => tous les motifs\n",
        "\n",
        "**Hyper-paramètres** :\n",
        "- `k` : taille des motifs"
      ]
    },
    {
      "cell_type": "code",
      "execution_count": null,
      "metadata": {
        "id": "wR5pLTitvBku"
      },
      "outputs": [],
      "source": [
        "from itertools import product\n",
        "\n",
        "class KmerGenerator(BaseEstimator, TransformerMixin):\n",
        "\n",
        "  def __init__(self, k):\n",
        "    # l'hyperparamètre k est la longueur des motifs\n",
        "    self.k = k\n",
        "\n",
        "  def fit(self, X, y=None):\n",
        "    # ici pas de fit\n",
        "    return self\n",
        "\n",
        "  def transform(self, X=None):\n",
        "    \"\"\"Génère\n",
        "    \"\"\"\n",
        "    prod = product(nuc, repeat=self.k)\n",
        "    kmers = [''.join(kmer) for kmer in list(prod)]\n",
        "    return kmers"
      ]
    },
    {
      "cell_type": "markdown",
      "metadata": {
        "id": "1v3Lko9fHXip"
      },
      "source": [
        "### `LowComplexTransformer`\n",
        "**Description** : Enlèvement des motifs \"peu complexes\"\n",
        "\n",
        "**Input** : `list(string)` => liste de motifs de départ\n",
        "\n",
        "**Output** : `list(string)` => liste de motifs réduite\n",
        "\n",
        "**Hyper-paramètres** :\n",
        "- `preps` : % de répétitions maximales d'un nucléotide spécifique dans un motif\n",
        "- `tups` : # de tuples répétés dans un motif pour être considéré \"peu complexe\""
      ]
    },
    {
      "cell_type": "code",
      "execution_count": null,
      "metadata": {
        "id": "M9CqGHRdk-A8"
      },
      "outputs": [],
      "source": [
        "from math import ceil\n",
        "\n",
        "class LowComplexTransformer(BaseEstimator, TransformerMixin):\n",
        "\n",
        "  def __init__(self, preps, tups):\n",
        "    self.preps = preps\n",
        "    self.tups = tups\n",
        "\n",
        "  def fit(self, X, y=None):\n",
        "    return self\n",
        "\n",
        "  def transform(self, X):\n",
        "    \"\"\"\n",
        "    Enlève les motifs peu complexes selon les hyperparamètres preps et tups\n",
        "    X = liste de motifs de départ\n",
        "    \"\"\"\n",
        "    k = len(X[0])\n",
        "    nreps = ceil(k * self.preps)\n",
        "    out = []\n",
        "    twoLetterCombs = [\"\".join(tup) for tup in list(product(nuc, repeat=2))]\n",
        "    for motif in X:\n",
        "      if True in [motif.count(n) > nreps for n in nuc]:\n",
        "          continue\n",
        "      if True in [x*self.tups in motif for x in twoLetterCombs]:\n",
        "          continue\n",
        "      out.append(motif)\n",
        "\n",
        "    return np.array(out)"
      ]
    },
    {
      "cell_type": "markdown",
      "metadata": {
        "id": "wn5qci1pU8YE"
      },
      "source": [
        "# 2) HashTable"
      ]
    },
    {
      "cell_type": "markdown",
      "source": [
        "Avec l'algorithme du tableau de hachage (HashTable), on va essayer de trouver un/des motif(s) candidats qui pourraient être le motif consensus (motif sur lequel se lie le facteur de transcription **HAP4**). Dans la suite du projet, après avoir sélectionné un ou plusieurs motifs candidats, on va utilisier les autres algorithmes pour vérifier ou rejeter le(s) motif(s) sélectionné(s)."
      ],
      "metadata": {
        "id": "p7hEnXhmY4L5"
      }
    },
    {
      "cell_type": "markdown",
      "source": [
        "Tout d'abord quelques fonctions pour faciliter la gestion des séquences complémentaires :"
      ],
      "metadata": {
        "id": "gMZjgHP5ZmkQ"
      }
    },
    {
      "cell_type": "code",
      "execution_count": null,
      "metadata": {
        "id": "iJxyD59sAccA"
      },
      "outputs": [],
      "source": [
        "def comp_n(n, comp_nuc=comp_nuc):\n",
        "    if n in comp_nuc:\n",
        "      return comp_nuc[n]\n",
        "    return \"_\"\n",
        "\n",
        "def comp_seq(seq, comp_nuc=comp_nuc):\n",
        "  return \"\".join(reversed([comp_n(n, comp_nuc) for n in seq]))\n",
        "\n",
        "def get_keys(d:dict(), v:int):\n",
        "  return [key for key in d if d[key]==v]"
      ]
    },
    {
      "cell_type": "markdown",
      "source": [
        "## 2.1) Classes pour l'algorithme"
      ],
      "metadata": {
        "id": "fkmLDx0kaYHi"
      }
    },
    {
      "cell_type": "markdown",
      "source": [
        "On va créer des classes de Transformeur pour des différentes étapes du traitement de données nécessaires pour la génération d'un tableau de hachage. Quelques de ces classes vont être encore utiles pour les algorithmes suivants."
      ],
      "metadata": {
        "id": "CztuiLJtalXy"
      }
    },
    {
      "cell_type": "markdown",
      "metadata": {
        "id": "VsaB3i1bSZxM"
      },
      "source": [
        "### `HashTableTransformer`\n",
        "**Description** : Transformer une liste de séquences en dictionnaire motif --> # occurrences\n",
        "\n",
        "**Input** : `list(string)` => motifs 'valides' (après enlèvement des motifs peu complexes)\n",
        "\n",
        "**Output** : `dict(string;int)` => HashTable non trié\n",
        "\n",
        "**Hyper-paramètres** :\n",
        "- `sequences` : les séquences dans lesquelles on cherche des motifs"
      ]
    },
    {
      "cell_type": "code",
      "execution_count": null,
      "metadata": {
        "id": "s0wy9qQZODOc"
      },
      "outputs": [],
      "source": [
        "class HashTableTransformer(BaseEstimator, TransformerMixin):\n",
        "\n",
        "  def __init__(self, sequences):\n",
        "    self.sequences = sequences\n",
        "    self.freq = 1/len(sequences)\n",
        "\n",
        "  def fit(self, X, y=None):\n",
        "    return self\n",
        "\n",
        "  def transform(self, X):\n",
        "    out = dict()\n",
        "    if len(X) == 0:\n",
        "      return out\n",
        "\n",
        "    k = len(X[0])\n",
        "    for seq in self.sequences:\n",
        "      for i in range(len(seq) - k + 1):\n",
        "        motif = seq[i:i+k]\n",
        "        if motif not in X:\n",
        "          continue\n",
        "        if motif not in out:\n",
        "          out[motif] = self.freq\n",
        "        else:\n",
        "          out[motif] += self.freq\n",
        "    for key in out.keys():\n",
        "      out[key] = int(round(out[key]*10**4)) / 10**4\n",
        "    return out"
      ]
    },
    {
      "cell_type": "markdown",
      "metadata": {
        "id": "GxK1NseeFX4H"
      },
      "source": [
        "### `MotiveCollapser`\n",
        "**Description** : Combiner les motifs complémentaires ; si deux motifs complémentaires sont présents dans un dictionnaire, on garde un des deux et on met comme valeur la somme des valeurs des deux motifs de départ.\n",
        "\n",
        "**Input** : `dict(string;value)` => le dictionnaire de motifs de départ\n",
        "\n",
        "**Output** : `dict(string;value)` => le dictionnaire \"réduit\"\n",
        "\n",
        "**Hyper-paramètres** : `None`"
      ]
    },
    {
      "cell_type": "code",
      "execution_count": null,
      "metadata": {
        "id": "USeiamqTGL_P"
      },
      "outputs": [],
      "source": [
        "class MotiveCollapser(BaseEstimator, TransformerMixin):\n",
        "\n",
        "  def __init__(self):\n",
        "    pass\n",
        "\n",
        "  def fit(self, X, y=None):\n",
        "    return self\n",
        "\n",
        "  def transform(self, X):\n",
        "    out = dict()\n",
        "\n",
        "    for motif in X:\n",
        "      comp = comp_seq(motif)\n",
        "      bigger = comp if comp > motif else motif\n",
        "      if bigger in out:\n",
        "        out[bigger] += X[motif]\n",
        "      else:\n",
        "        out[bigger] = X[motif]\n",
        "\n",
        "    return out"
      ]
    },
    {
      "cell_type": "markdown",
      "metadata": {
        "id": "YmHuPr6dyt4h"
      },
      "source": [
        "### `MotiveDictSorter`\n",
        "**Description** : Tri d'un dictionnaire de motifs\n",
        "\n",
        "**Input** : `dict(string;value)` => le dictionnaire de départ (non trié)\n",
        "\n",
        "**Output** : `dict(string;value)` => le dictionnaire trié\n",
        "\n",
        "**Hyper-paramètres** :\n",
        "- `asc` : l'ordre du tri (croissant / décroissant)"
      ]
    },
    {
      "cell_type": "code",
      "execution_count": null,
      "metadata": {
        "id": "Iv-SnqQ1zMp4"
      },
      "outputs": [],
      "source": [
        "class MotiveDictSorter(BaseEstimator, TransformerMixin):\n",
        "\n",
        "  def __init__(self, asc=False):\n",
        "    self.asc = asc\n",
        "\n",
        "  def fit(self, X, y=None):\n",
        "    return self\n",
        "\n",
        "  def transform(self, X):\n",
        "    out = dict()\n",
        "    size = len(X)\n",
        "\n",
        "    values_unique = []\n",
        "    for val in X.values():\n",
        "        if val not in values_unique:\n",
        "            values_unique.append(val)\n",
        "    sorted_values = sorted(values_unique, reverse=not(self.asc))\n",
        "\n",
        "    counter = 0\n",
        "    for val in sorted_values:\n",
        "        for key in get_keys(X, val):\n",
        "            if counter < size:\n",
        "                out[key] = val\n",
        "                counter += 1\n",
        "            else:\n",
        "                break\n",
        "    return out"
      ]
    },
    {
      "cell_type": "markdown",
      "metadata": {
        "id": "gd_FwID2utLt"
      },
      "source": [
        "## 2.2) Pipeline et Évaluation des meilleures paramètres"
      ]
    },
    {
      "cell_type": "markdown",
      "source": [
        "### Étape 1) Trouver le meilleur motif ayant une interaction avec HAP4"
      ],
      "metadata": {
        "id": "p5WYmSN5clCZ"
      }
    },
    {
      "cell_type": "markdown",
      "source": [
        "A priori, on ne connaît pas encore la longueur du motif consensus qu'on cherche. Étant donné qu'avec chaque nucléotide ajouté, le nombre de \"variations\" du motif consensus qui pourraient être présents dans nos séquences, et donc le nombre de cas considérés comme des motifs différents par l'algorithme augmente par un facteur de 4, on va commencé avec une **longueur de motif égale à 5**.\n",
        "\n",
        "On va générer tous les k-mers possibles ayant une longueur de 5, puis on va créer une **Pipeline** ayant plusieurs étapes de traitement de données résultant dans un tableau de hashage \"compressé\" (pour chaque tuple de nucléotides complémentaires, il y a une seule entrée dans le tableau ayant comme valeur la somme des valeurs des deux nucléotides originaux) :"
      ],
      "metadata": {
        "id": "tn2RGplEcisY"
      }
    },
    {
      "cell_type": "code",
      "source": [
        "from sklearn.pipeline import Pipeline\n",
        "\n",
        "all_kmers = KmerGenerator(k=5).fit_transform(None)\n",
        "\n",
        "first_pipeline = Pipeline([\n",
        "    ('ht', HashTableTransformer(sequences=sequences)),\n",
        "    ('collapse', MotiveCollapser()),\n",
        "    ('sort', MotiveDictSorter())\n",
        "])\n",
        "\n",
        "ht_dict_1 = first_pipeline.fit_transform(all_kmers)\n",
        "\n",
        "def first_n_motives(d, n):\n",
        "  d_keys = list(d.keys())\n",
        "  for i in range(n):\n",
        "    print(d_keys[i] + \" : \" + str(d[d_keys[i]]))\n",
        "\n",
        "first_n_motives(ht_dict_1, 20)"
      ],
      "metadata": {
        "colab": {
          "base_uri": "https://localhost:8080/"
        },
        "id": "nXwROvVacrUV",
        "outputId": "a3bfd80f-23ac-4f3c-a35a-96f721358ab7"
      },
      "execution_count": null,
      "outputs": [
        {
          "output_type": "stream",
          "name": "stdout",
          "text": [
            "TTTTT : 3.3853\n",
            "TATAT : 3.0551\n",
            "TATTT : 2.5137\n",
            "TTTCT : 2.2569\n",
            "ATTTT : 2.2568\n",
            "ATATT : 2.1652\n",
            "TTATT : 2.0642\n",
            "GGGGG : 2.0459\n",
            "TTTGT : 2.0184\n",
            "TATTA : 1.9908\n",
            "TTGTA : 1.9816\n",
            "ATTAT : 1.9632999999999998\n",
            "TTTTC : 1.9542\n",
            "TTTTG : 1.9266\n",
            "TGTAT : 1.8991000000000002\n",
            "TTCTT : 1.844\n",
            "CCAAT : 1.8165\n",
            "TTTTA : 1.8165\n",
            "TTCTC : 1.7890000000000001\n",
            "CTATT : 1.7797999999999998\n"
          ]
        }
      ]
    },
    {
      "cell_type": "markdown",
      "source": [
        "Avant de chercher les \"meilleurs\" motifs dans la BDD Yeastract pour trouver des éventuelles interactions avec HAP4, on veut retirer quelques motifs qu'on peut considérer comme \"peu complexe\". Pour l'instant, disons qu'un motif est peu complexe s'il y a au moins 4 fois le même nucléotide dedans (on ne considère pas encore les répétitions des tuples de nucléotides) :"
      ],
      "metadata": {
        "id": "vqk8Yo6EgFSt"
      }
    },
    {
      "cell_type": "code",
      "source": [
        "com_gen = LowComplexTransformer(preps=0.6, tups=4)\n",
        "\n",
        "ht_dict_2 = first_pipeline.fit_transform(com_gen.fit_transform(all_kmers))\n",
        "\n",
        "first_n_motives(ht_dict_2, 10)"
      ],
      "metadata": {
        "colab": {
          "base_uri": "https://localhost:8080/"
        },
        "id": "c9YVV4BOgcZE",
        "outputId": "c0e57603-7869-4305-9b89-8c9357bb49e7"
      },
      "execution_count": null,
      "outputs": [
        {
          "output_type": "stream",
          "name": "stdout",
          "text": [
            "TATAT : 3.0551\n",
            "ATATT : 2.1652\n",
            "TATTA : 1.9908\n",
            "TTGTA : 1.9816\n",
            "ATTAT : 1.9632999999999998\n",
            "TGTAT : 1.8991000000000002\n",
            "CCAAT : 1.8165\n",
            "TTCTC : 1.7890000000000001\n",
            "CTATT : 1.7797999999999998\n",
            "TATTG : 1.7614999999999998\n"
          ]
        }
      ]
    },
    {
      "cell_type": "markdown",
      "source": [
        "On cherche manuellement chacun de ces motifs dans la BDD en essayant de trouver un motif qui correspond au facteur de transcription HAP4:\n",
        "*   `TATAT` : pas de match\n",
        "*   `ATATT` : pas de match\n",
        "*   `TATTA` : pas de match\n",
        "*   `TTGTA` : pas de match\n",
        "*   `ATTAT` : pas de match\n",
        "*   `TGTAT` : pas de match\n",
        "*   `CCAAT` : match avec **HAP4**\n",
        "\n",
        "Le motif le plus fréquent dans nos séquences ayant des interactions avec le facteur de transcription **HAP4** est le motif `CCAAT`.\n",
        "\n",
        "Dans la suite, on va vérifier ce résultat en utilisant d'autres algorithmes de récherche, notamment ceux qui permettent de trouver le niveau de variation du motif (= trouver des différents versions du motif avec quelques nucléotides variés). On cherche également à analyser la pertinence de ce résultat, en regardant si les autres algorithmes sont capables de trouver le motif `CCAAT` d'un niveau important sans \"correction\" de notre part (nous ferons comme si nous ne connaissions pas encore le bon résultat).\n"
      ],
      "metadata": {
        "id": "cvDdCjneiZgQ"
      }
    },
    {
      "cell_type": "markdown",
      "source": [
        "### Étape 2) Évaluation des meilleurs paramètres de réduction \"peu complexe\" en fonction du motif consensus trouvé"
      ],
      "metadata": {
        "id": "CzMzcVawjjAP"
      }
    },
    {
      "cell_type": "code",
      "source": [
        "consensus = \"CCAAT\""
      ],
      "metadata": {
        "id": "40llFo7MmljQ"
      },
      "execution_count": null,
      "outputs": []
    },
    {
      "cell_type": "markdown",
      "source": [
        "On va créer une fonction qui évalue un tableau de hachage (trié) en fonction :\n",
        "* du position relative du motif consensus\n",
        "* de la longueur totale du dictionnaire\n",
        "\n",
        "Pour des différentes combinaisons des paramètres pour la fonction qui retire des motifs peu complexes, on va évaluer les tableaux de hachage respectifs pour trouver la liste \"optimale\" des motifs assez complexe. On va donc utiiser cette liste de motifs \"valides\" pour la suite du projet."
      ],
      "metadata": {
        "id": "G9HLC31miGQK"
      }
    },
    {
      "cell_type": "code",
      "execution_count": null,
      "metadata": {
        "id": "8cIvVq_L6Ha2"
      },
      "outputs": [],
      "source": [
        "def ht_dict_evaluation(sorted_dict, consensus=consensus, verbose=False):\n",
        "  all_freqs = list()\n",
        "  all_pos = list()\n",
        "\n",
        "  for i, motif in enumerate(sorted_dict.keys()):\n",
        "    if consensus in motif or comp_seq(consensus) in motif:\n",
        "      all_freqs.append(sorted_dict[motif])\n",
        "      all_pos.append(i)\n",
        "\n",
        "  total_freq = sum(all_freqs)\n",
        "  l_dict = len(sorted_dict)\n",
        "  ranking_score = (l_dict - (sum(all_pos) / len(all_pos))) / l_dict\n",
        "  if verbose:\n",
        "    print((total_freq, ranking_score))\n",
        "\n",
        "  return total_freq * ranking_score / l_dict"
      ]
    },
    {
      "cell_type": "code",
      "execution_count": null,
      "metadata": {
        "colab": {
          "base_uri": "https://localhost:8080/"
        },
        "id": "VJA7L_THuyiW",
        "outputId": "5aa59580-442d-4138-9d18-1bcacbc04b38"
      },
      "outputs": [
        {
          "output_type": "stream",
          "name": "stdout",
          "text": [
            "Itération 1 -> (0.3, 2) : score = 0.006581521739130435\n",
            "Itération 2 -> (0.3, 3) : score = 0.006055\n",
            "Itération 3 -> (0.4, 2) : score = 0.006581521739130435\n",
            "Itération 4 -> (0.4, 3) : score = 0.006055\n",
            "Itération 5 -> (0.5, 2) : score = 0.0041093857509226246\n",
            "Itération 6 -> (0.5, 3) : score = 0.0037370703125\n",
            "Itération 7 -> (0.6, 2) : score = 0.0041093857509226246\n",
            "Itération 8 -> (0.6, 3) : score = 0.0037370703125\n"
          ]
        },
        {
          "output_type": "execute_result",
          "data": {
            "text/plain": [
              "(0.3, 2)"
            ]
          },
          "metadata": {},
          "execution_count": 19
        }
      ],
      "source": [
        "def find_best_hashtable(kmers):\n",
        "  preps_grid = [0.3, 0.4, 0.5, 0.6]\n",
        "  tups_grid = [2, 3]\n",
        "\n",
        "  best_score = 0.\n",
        "  best_preps, best_tups = (0, 0)\n",
        "  best_dict = None\n",
        "\n",
        "  iter = 0\n",
        "\n",
        "  for preps in preps_grid:\n",
        "    for tups in tups_grid:\n",
        "      iter += 1\n",
        "\n",
        "      current_pipeline = Pipeline([\n",
        "        ('remove_complex', LowComplexTransformer(preps=preps, tups=tups)),\n",
        "        ('gen_ht', HashTableTransformer(sequences=sequences)),\n",
        "        ('collapse_ht', MotiveCollapser()),\n",
        "        ('sort_ht', MotiveDictSorter())\n",
        "      ])\n",
        "      current_dict = current_pipeline.fit_transform(kmers)\n",
        "      current_score = ht_dict_evaluation(current_dict, consensus)\n",
        "\n",
        "      print(\"Itération \" + str(iter) + \" -> \" + str((preps, tups)) + \" : score = \" + str(current_score))\n",
        "\n",
        "      if current_score > best_score:\n",
        "        best_score = current_score\n",
        "        best_preps, best_tups = (preps, tups)\n",
        "        best_dict = current_dict\n",
        "\n",
        "  return best_preps, best_tups\n",
        "\n",
        "best_preps, best_tups = find_best_hashtable(all_kmers)\n",
        "best_preps, best_tups"
      ]
    },
    {
      "cell_type": "code",
      "source": [
        "best_low_complex = LowComplexTransformer(preps=0.3, tups=2)\n",
        "input_motives = best_low_complex.fit_transform(all_kmers)"
      ],
      "metadata": {
        "id": "4hXMAx4qfx8h"
      },
      "execution_count": null,
      "outputs": []
    },
    {
      "cell_type": "code",
      "source": [
        "ht_pipeline = Pipeline([\n",
        "  ('gen_ht', HashTableTransformer(sequences=sequences)),\n",
        "  ('collapse_ht', MotiveCollapser()),\n",
        "  ('sort_ht', MotiveDictSorter())\n",
        "])\n",
        "ht = ht_pipeline.fit_transform(input_motives)"
      ],
      "metadata": {
        "id": "k5IxLFQPETMh"
      },
      "execution_count": null,
      "outputs": []
    },
    {
      "cell_type": "code",
      "source": [
        "first_n_motives(ht, 20)"
      ],
      "metadata": {
        "colab": {
          "base_uri": "https://localhost:8080/"
        },
        "id": "pXS3cBJTE2qF",
        "outputId": "fd7c0d32-3cf5-48b3-b04c-e7d0b689ed81"
      },
      "execution_count": null,
      "outputs": [
        {
          "output_type": "stream",
          "name": "stdout",
          "text": [
            "CCAAT : 1.8165\n",
            "TGATA : 1.5963\n",
            "TTGAA : 1.5229\n",
            "ATAGT : 1.4955\n",
            "TAGTA : 1.4127999999999998\n",
            "GAAGT : 1.3669\n",
            "ATGAT : 1.3486\n",
            "AAGTT : 1.3395\n",
            "ATACT : 1.2844000000000002\n",
            "CATTG : 1.2844000000000002\n",
            "TACAT : 1.2661\n",
            "GTGAT : 1.2569\n",
            "CAATT : 1.2294\n",
            "GTAAT : 1.1927\n",
            "GATTG : 1.1835\n",
            "TTCAC : 1.1835\n",
            "TCAAT : 1.1651\n",
            "TGTAC : 1.1560000000000001\n",
            "AGCTT : 1.1467999999999998\n",
            "TGAAT : 1.1467999999999998\n"
          ]
        }
      ]
    },
    {
      "cell_type": "markdown",
      "source": [
        "## 2.3) Conclusion HashTable\n",
        "\n",
        "Avec les paramètres d'enlèvement des motifs peu complexes \"optimales\", le tableau de hachage final a comme meilleur tuple de motifs le tuple `CCAAT/ATTGG` avec une fréquence relative de `1.8165`. En moyenne, on trouve sur chaque séquence environ deux fois un de ces deux motifs."
      ],
      "metadata": {
        "id": "fUGNV5_uj4o0"
      }
    },
    {
      "cell_type": "markdown",
      "source": [
        "On va étudie ce qui va se passer si on augmente la longueur du motif k :"
      ],
      "metadata": {
        "id": "LK-4xyWKmfmJ"
      }
    },
    {
      "cell_type": "code",
      "source": [
        "kmers_6 = KmerGenerator(k=6).fit_transform(None)\n",
        "best_preps, best_tups = find_best_hashtable(kmers_6)\n",
        "best_preps, best_tups"
      ],
      "metadata": {
        "colab": {
          "base_uri": "https://localhost:8080/"
        },
        "id": "Wnxq4MEFmrZB",
        "outputId": "753f6c38-10ab-4bb3-a142-c4e83d76139e"
      },
      "execution_count": null,
      "outputs": [
        {
          "output_type": "stream",
          "name": "stdout",
          "text": [
            "Itération 1 -> (0.3, 2) : score = 0.0021944689214385598\n",
            "Itération 2 -> (0.3, 3) : score = 0.001962076962371094\n",
            "Itération 3 -> (0.4, 2) : score = 0.0022070223526807903\n",
            "Itération 4 -> (0.4, 3) : score = 0.0019190841175426134\n",
            "Itération 5 -> (0.5, 2) : score = 0.0022070223526807903\n",
            "Itération 6 -> (0.5, 3) : score = 0.0019190841175426134\n",
            "Itération 7 -> (0.6, 2) : score = 0.0019234367489184424\n",
            "Itération 8 -> (0.6, 3) : score = 0.0016236934559198234\n"
          ]
        },
        {
          "output_type": "execute_result",
          "data": {
            "text/plain": [
              "(0.4, 2)"
            ]
          },
          "metadata": {},
          "execution_count": 23
        }
      ]
    },
    {
      "cell_type": "code",
      "source": [
        "best_low_complex = LowComplexTransformer(preps=0.4, tups=2)\n",
        "input_motives_6 = best_low_complex.fit_transform(kmers_6)\n",
        "ht_6 = ht_pipeline.fit_transform(input_motives_6)\n",
        "\n",
        "first_n_motives(ht_6, 10)"
      ],
      "metadata": {
        "colab": {
          "base_uri": "https://localhost:8080/"
        },
        "id": "BrimfpHinrw_",
        "outputId": "e63e86b9-cb70-48a4-e250-9b10105974d1"
      },
      "execution_count": null,
      "outputs": [
        {
          "output_type": "stream",
          "name": "stdout",
          "text": [
            "ATTGGT : 0.7432000000000001\n",
            "TGATTG : 0.6514\n",
            "TACAAT : 0.5871999999999999\n",
            "GATTGG : 0.5596\n",
            "TTATCA : 0.5321\n",
            "GAAACT : 0.5229\n",
            "GCCAAT : 0.5138\n",
            "TATTGG : 0.5138\n",
            "TAGTAT : 0.5138\n",
            "CTATTG : 0.5045999999999999\n"
          ]
        }
      ]
    },
    {
      "cell_type": "markdown",
      "source": [
        "On remarque que 7 des 10 \"meilleurs\" motifs de longueur 6 contiennent soit `ATTGG` (ou `ATTG`), soit `CCAAT` (ou `CAAT`), ce qui supporte l'hypothèse que `CCAAT/ATTGG` est bien le motif consensus qu'on cherche.\n",
        "\n",
        "Cependant, le fait qu'il n'y a plus une seule entrée pour un motif peu variable, mais plutôt plusieurs entrées pour des variations assez équiprobables du même motif indique que le motif \"élémentaire\" qu'on cherche a probablement seulement 5 nucleotides, avec des éventuelles variations sur chaque côté.\n",
        "\n",
        "Dans la suite du projet, on va donc continuer à chercher des motifs de longueur 5 en utilisant les autres algorithmes de recherche."
      ],
      "metadata": {
        "id": "cs3v2yq8oXdI"
      }
    },
    {
      "cell_type": "markdown",
      "metadata": {
        "id": "4EV5jTBtrQoZ"
      },
      "source": [
        "# 3) Median String Search"
      ]
    },
    {
      "cell_type": "markdown",
      "source": [
        "L'intérêt particulier d'utiliser cet algorithme à la place d'un \"simple\" HashTable est de voir si le motif consensus qu'on choisi a bien une distance de Hamming minimale sur l'ensemble des séquences par rapport aux distances de Hamming d'autres motifs.\n",
        "\n",
        "Cependant, cet algorithme est assez couteux en termes de temps d'exécution par rapport a l'algorithme du tableau de Hashage pour la même longueur de motif. En plus, avec chaque nucléotide \"ajouté\" à la longueur k, la complexité de l'algorithme augmente de manière assez importante. Il est donc dans notre intérêt de garder la longueur de motif 5, en plus des raisons déjà mentionnées dans la partie précédente.\n",
        "\n",
        "Il est également important d'indiquer que dans notre implémentation de l'algorithme Median String Search, pour un motif et une séquence donné, l'algorithme choisit toujours la \"direction\" du motif la moins distante (vu que pour chaque motif il existe aussi une version complémentaire). Il est donc inutile de garder tous les motifs étudiés dans le dictionnaire final, on va alors \"compresser\" le dictionnaire comme on l'a déjà fait pour les résultats du tableau de hachage (voir la classe `MotiveCollapser` pour plus d'information)."
      ],
      "metadata": {
        "id": "VSHBwq8auFbM"
      }
    },
    {
      "cell_type": "code",
      "execution_count": null,
      "metadata": {
        "id": "5bvw8mzIz4AV"
      },
      "outputs": [],
      "source": [
        "def hamming(str1:str, str2:str):\n",
        "\tif len(str1) != len(str2):\n",
        "\t\traise Exception(\"str1 = \" + str1 + \", str2 = \" + str2)\n",
        "\treturn sum([1 for i in range(len(str1)) if str1[i] != str2[i]])\n",
        "\n",
        "def minHamming(motif, seq, k, allow_comp):\n",
        "\tlowest = k\n",
        "\tfor i in range(len(seq)-k+1):\n",
        "\t\tcurrent = hamming(motif, seq[i:i+k])\n",
        "\n",
        "\t\tif current == 0:\n",
        "\t\t\treturn 0\n",
        "\t\tif allow_comp:\n",
        "\t\t\tcurrent_comp = hamming(comp_seq(motif), seq[i:i+k])\n",
        "\t\t\tif current_comp == 0:\n",
        "\t\t\t\treturn 0\n",
        "\t\t\tif current_comp < current:\n",
        "\t\t\t\tcurrent = current_comp\n",
        "\t\tif current < lowest:\n",
        "\t\t\tlowest = current\n",
        "\treturn lowest\n",
        "\n",
        "def totalDistance(motif:str, sequences, k, allow_comp=False):\n",
        "\treturn sum([minHamming(motif, seq, k, allow_comp) for seq in sequences])"
      ]
    },
    {
      "cell_type": "markdown",
      "source": [
        "## 3.1) Classes pour l'algorithme"
      ],
      "metadata": {
        "id": "QYk83G5qlCGx"
      }
    },
    {
      "cell_type": "markdown",
      "source": [
        "### `MedianStringTransformer`\n",
        "**Description** : Transformer une liste de séquence en dictionnaire motif --> distance de Hamming minimale\n",
        "\n",
        "**Input** : `list(string)` => motifs 'valides' (après enlèvement des motifs peu complexes)\n",
        "\n",
        "**Output** : `dict(string;int)` => dictionnaire MSS non trié\n",
        "\n",
        "**Hyper-paramètres** :\n",
        "- `séquences` : les séquences dans lesquelles on cherche les distances de Hamming"
      ],
      "metadata": {
        "id": "HmC_O7scaKRU"
      }
    },
    {
      "cell_type": "code",
      "source": [
        "class MedianStringTransformer(BaseEstimator, TransformerMixin):\n",
        "\n",
        "  def __init__(self, sequences, verbose=False):\n",
        "    self.sequences = sequences\n",
        "    self.verbose = verbose\n",
        "\n",
        "  def fit(self, X, y=None):\n",
        "    return self\n",
        "\n",
        "  def transform(self, X):\n",
        "    \"\"\"\n",
        "    X = liste de motifs valides\n",
        "    \"\"\"\n",
        "    out = dict()\n",
        "    k = len(X[0])\n",
        "\n",
        "    l_mot = len(X)\n",
        "\n",
        "    for i, motif in enumerate(X):\n",
        "      if self.verbose:\n",
        "        print(\"motif \" + str(i + 1) + \"/\" + str(l_mot))\n",
        "\n",
        "      bigger = max([motif, comp_seq(motif)])\n",
        "      if bigger in out:\n",
        "        continue\n",
        "\n",
        "      current = totalDistance(motif, self.sequences, k, allow_comp=True)\n",
        "      out[bigger] = current\n",
        "\n",
        "    return out"
      ],
      "metadata": {
        "id": "rKfLi-_WdaJd"
      },
      "execution_count": null,
      "outputs": []
    },
    {
      "cell_type": "markdown",
      "source": [
        "### `MedianStringPipeline`\n",
        "**Description** : Génération du dictionnaire des motifs valides triés par distance de Hamming\n",
        "\n",
        "**Input** : `list(string)` => les k-mers valides (sortie de `preparation_pipeline`)\n",
        "\n",
        "**Output** : `dict(string;int)` => le dictionnaire motif ; distance de Hamming trié par ordre croissant\n",
        "\n",
        "**Étapes** :\n",
        "1. `MedianStringTransformer` avec `sequences` égal aux séquences du fichier `Peak_3.fasta`\n",
        "2. `MotiveDictSorter`\n",
        "\n"
      ],
      "metadata": {
        "id": "28fYgLeqbgBv"
      }
    },
    {
      "cell_type": "markdown",
      "source": [
        "## 3.2) Conclusion MSS"
      ],
      "metadata": {
        "id": "EcgYuO-LxDwQ"
      }
    },
    {
      "cell_type": "code",
      "source": [
        "mss_pipeline = Pipeline([\n",
        "  ('gen_mss', MedianStringTransformer(sequences=sequences, verbose=True)),\n",
        "  ('sort_mss', MotiveDictSorter(asc=True))\n",
        "])\n",
        "# dict_mss = mss_pipeline.fit_transform(input_motives)\n",
        "# write_json(dict_mss, \"dict_mss.json\")\n",
        "\n",
        "dict_mss = load_json(\"dict_mss.json\")\n",
        "first_n_motives(dict_mss, 10)"
      ],
      "metadata": {
        "id": "DhtUO5SqgcNu",
        "colab": {
          "base_uri": "https://localhost:8080/"
        },
        "outputId": "b5752c18-6be4-4279-8020-11d5083957d5"
      },
      "execution_count": null,
      "outputs": [
        {
          "output_type": "stream",
          "name": "stdout",
          "text": [
            "CCAAT : 19\n",
            "ATAGT : 29\n",
            "TTGAA : 32\n",
            "ATACT : 35\n",
            "ATGAT : 35\n",
            "CATTG : 35\n",
            "TCATC : 35\n",
            "TAGTA : 36\n",
            "TGATA : 36\n",
            "TCACT : 38\n"
          ]
        }
      ]
    },
    {
      "cell_type": "markdown",
      "source": [
        "On voit bien que la motif ayant la plus petite distance globale sur l'ensemble de nos séquences est le motif `CCAAT`, ce qui supporte bien l'hypothèse courant qu'il s'agit du motif consensus du facteur de transcription **HAP4**.\n",
        "\n",
        "On s'intéresse maintenant à créer un \"profil\" des motifs de distance minimale du motif consensus, en utilisant l'algorithme de distance de Hamming ; pour chaque séquence, on cherche la position pour laquelle le motif respectif a une distance minimale du motif `CCAAT`.\n",
        "\n",
        "On va utiliser ce profil dans la suite du projet pour comparer les résultats d'autres algorithmes générant des profils, comme l'algorithme **Greedy Iterative Motive Search**."
      ],
      "metadata": {
        "id": "hfZtD1ivj2dk"
      }
    },
    {
      "cell_type": "code",
      "source": [
        "class MinDistProfileGenerator(BaseEstimator, TransformerMixin):\n",
        "\n",
        "  def __init__(self, sequences):\n",
        "    self.sequences = sequences\n",
        "\n",
        "  def fit(self, X, y=None):\n",
        "    return self\n",
        "\n",
        "  def transform(self, X):\n",
        "    out = []\n",
        "\n",
        "    X_ = X\n",
        "    if np.shape(X) == ():\n",
        "      X_ = [X]\n",
        "\n",
        "    for motif in X_:\n",
        "      current_out = []\n",
        "      k = len(motif)\n",
        "\n",
        "      for seq in self.sequences:\n",
        "        best_dist = k\n",
        "        best_motif = None\n",
        "\n",
        "        for i in range(len(seq) - k + 1):\n",
        "          current_motif = seq[i:i+k]\n",
        "          current_dist = hamming(current_motif, motif)\n",
        "          if(current_dist < best_dist):\n",
        "            best_dist = current_dist\n",
        "            best_motif = current_motif\n",
        "\n",
        "        current_out.append(best_motif)\n",
        "\n",
        "      out.append(current_out)\n",
        "\n",
        "    if(len(X_) == 1):\n",
        "      return np.ndarray.flatten(np.array(out))\n",
        "    return out"
      ],
      "metadata": {
        "id": "zUs-eEjNV2B5"
      },
      "execution_count": null,
      "outputs": []
    },
    {
      "cell_type": "code",
      "source": [
        "min_dist_prof_gen = MinDistProfileGenerator(sequences)\n",
        "profile_mss = min_dist_prof_gen.fit_transform(consensus)\n",
        "profile_mss"
      ],
      "metadata": {
        "colab": {
          "base_uri": "https://localhost:8080/"
        },
        "id": "59eKKHfsrGQt",
        "outputId": "4d2c326f-39b9-4fc8-c68b-531681d1fd35"
      },
      "execution_count": null,
      "outputs": [
        {
          "output_type": "execute_result",
          "data": {
            "text/plain": [
              "array(['CCAAT', 'CCAAT', 'CCAAT', 'CCAAT', 'CCAAT', 'CCAAT', 'CCAAT',\n",
              "       'CCATT', 'CCGAT', 'CCAGT', 'CAAAT', 'CCACT', 'CCCAT', 'CCAAT',\n",
              "       'CCAAT', 'CCAAT', 'CCAAT', 'CCAAT', 'CCAAT', 'CCAAT', 'CCATT',\n",
              "       'CCAAT', 'CCAAC', 'CCAAT', 'CCAAG', 'CCAAT', 'CCAAT', 'ACAAT',\n",
              "       'ACAAT', 'CCAGT', 'CCAAG', 'TCAAT', 'CCAAT', 'CCAAT', 'CCAAG',\n",
              "       'CCAAT', 'CCAAT', 'CCTAT', 'CAAAT', 'CCAAT', 'CCAAG', 'CCAAT',\n",
              "       'CCAGT', 'CCCAT', 'CCAAT', 'ACAAT', 'CCAAT', 'CCAAT', 'TCAAT',\n",
              "       'ACAAT', 'CCAAT', 'CCAAT', 'CCAAT', 'CCGAT', 'CCAAT', 'CCAAA',\n",
              "       'CCAAT', 'CCAAT', 'CAAAT', 'CCAAT', 'CCAAT', 'CAAAT', 'CCAAT',\n",
              "       'CCAAT', 'CAAAT', 'CCAAC', 'CCAAT', 'CCAAT', 'CCAAT', 'CCGAT',\n",
              "       'CCAAT', 'CCAAT', 'CCAGT', 'CCATT', 'CCAAG', 'CAAAT', 'CCAAG',\n",
              "       'CAAAT', 'CAAAT', 'CAAAT', 'CAAAT', 'CCAAC', 'TCAAG', 'CCAAT',\n",
              "       'CCAAT', 'CCAAT', 'CCAAT', 'CCAAT', 'CCAAT', 'TCAAT', 'CCACT',\n",
              "       'CCATT', 'CCAAT', 'CTAAT', 'CCAAT', 'CCAAT', 'CTAAT', 'CCAAT',\n",
              "       'CCAAT', 'CTAAT', 'TCAAT', 'TCAAT', 'TCAAT', 'CCAAT', 'CAAAT',\n",
              "       'CCAAT', 'CCAAT', 'ACAAT', 'ACAAT'], dtype='<U5')"
            ]
          },
          "metadata": {},
          "execution_count": 29
        }
      ]
    },
    {
      "cell_type": "markdown",
      "metadata": {
        "id": "SI7TFb0orUbG"
      },
      "source": [
        "# 4) Greedy Profile Motive Search"
      ]
    },
    {
      "cell_type": "markdown",
      "source": [
        "On se demande maintenant si le profil généré précédemment peut aussi être trouvé avec un algorithme, plus précisemment avec l'algorithme Greedy Profile Motive Search. Cet algorithme chosit un profil aléatoirement parmi les séquences, et trouve les positions les plus probables en considérant le profil courant comme une matrice de probabilités (ayant une probabilité associé pour chaque nucléotide et pour chaque position dans le motif). En répétant ce processus plusieurs fois, avec une évaluation de chaque profile en utilisant un \"score\" donnant un nombre à un profil donné, on va à un moment arriver à un profil qui ne change plus dans les répétitions suivants.\n",
        "\n",
        "Cependant, on ne peut jamais être sûr que le profil sélectionné ait vraiment un score maximal parmi tous les profils possibles, vu que la première sélection de profil est aléatoire. Pourtant, en répétant plusieurs fois la même procédure, la probabilité qu'il ne s'agit pas seulement d'un \"maximum local\" augmente."
      ],
      "metadata": {
        "id": "VNlJ1rix7NMi"
      }
    },
    {
      "cell_type": "markdown",
      "source": [
        "## 4.1) Classes pour l'algorithme"
      ],
      "metadata": {
        "id": "lyZlwyfO9Oey"
      }
    },
    {
      "cell_type": "markdown",
      "metadata": {
        "id": "9O5VpyC5bYed"
      },
      "source": [
        "### `FrequencyMatrixTransformer`\n",
        "\n",
        "**Description** :\n",
        "\n",
        "**Input** : `None` =>\n",
        "\n",
        "**Output** : `None` =>\n",
        "\n",
        "**Hyper-paramètres** : `None`"
      ]
    },
    {
      "cell_type": "code",
      "source": [
        "class FrequencyMatrixTransformer(BaseEstimator, TransformerMixin):\n",
        "\n",
        "  def __init__(self, alphabet=nuc):\n",
        "    self.alphabet = alphabet\n",
        "\n",
        "  def fit(self, X, y=None):\n",
        "    return self\n",
        "\n",
        "  def transform(self, X):\n",
        "    out = list()\n",
        "    k = len(X[0])\n",
        "    for i, nucleotide in enumerate(self.alphabet):\n",
        "      out.append(list())\n",
        "      for j in range(k):\n",
        "        out[i].append(len([1 for motif in X if motif[j] == nucleotide]))\n",
        "    return np.array(out)"
      ],
      "metadata": {
        "id": "gJTIURW_sRPa"
      },
      "execution_count": null,
      "outputs": []
    },
    {
      "cell_type": "code",
      "execution_count": null,
      "metadata": {
        "colab": {
          "base_uri": "https://localhost:8080/"
        },
        "id": "VAhnptJ7bokL",
        "outputId": "2a50fff3-79ff-4e16-da23-2cbbee486d4d"
      },
      "outputs": [
        {
          "output_type": "stream",
          "name": "stdout",
          "text": [
            "[[2 1 0 1 1 0 2 2]\n",
            " [0 0 0 1 1 0 0 1]\n",
            " [0 0 1 0 1 2 1 0]\n",
            " [1 2 2 1 0 1 0 0]]\n"
          ]
        }
      ],
      "source": [
        "fm_transformer = FrequencyMatrixTransformer()\n",
        "MF = fm_transformer.fit_transform(['AATTGGAA', 'ATGCCTGC', 'TTTAAGAA'])\n",
        "print(MF)"
      ]
    },
    {
      "cell_type": "markdown",
      "metadata": {
        "id": "4brE-iuh1erK"
      },
      "source": [
        "### `ProbabilityMatrixTransformer`\n",
        "\n",
        "**Description** :\n",
        "\n",
        "**Input** : `None` =>\n",
        "\n",
        "**Output** : `None` =>\n",
        "\n",
        "**Hyper-paramètres** : `None`"
      ]
    },
    {
      "cell_type": "code",
      "source": [
        "class ProbabilityMatrixTransformer(BaseEstimator, TransformerMixin):\n",
        "\n",
        "  def __init__(self):\n",
        "    pass\n",
        "\n",
        "  def fit(self, X, y=None):\n",
        "    return self\n",
        "\n",
        "  def transform(self, X):\n",
        "    sum_col = sum(X[:, 0])\n",
        "    self.PWM = list()\n",
        "    for i in range(len(X)):\n",
        "      self.PWM.append(list())\n",
        "      for j in range(len(X[i])):\n",
        "        self.PWM[i].append(X[i][j] / sum_col)\n",
        "    return np.array(self.PWM)"
      ],
      "metadata": {
        "id": "RSmFSiOktvRk"
      },
      "execution_count": null,
      "outputs": []
    },
    {
      "cell_type": "code",
      "source": [
        "import matplotlib.pyplot as plt\n",
        "\n",
        "def weight_matrix(mat, nuc=nuc, save_path=None, titre='Profil de probabilités', offset=0):\n",
        "\n",
        "  plt.figure(figsize=(8, 6))\n",
        "  plt.imshow(mat, cmap='inferno', aspect='auto', vmin=0., vmax=1., interpolation='none')\n",
        "  plt.colorbar(label='Proba')\n",
        "  plt.title(titre)\n",
        "  plt.xlabel('Position dans le motif')\n",
        "  plt.yticks(np.arange(len(nuc)), nuc)\n",
        "  plt.xticks(np.arange(len(mat[0])), np.arange(offset, len(mat[0]) + offset))\n",
        "  if save_path:\n",
        "    plt.savefig(save_path, bbox_inches='tight')\n",
        "    return\n",
        "  plt.show()"
      ],
      "metadata": {
        "id": "Y0oJCiY8vOeB"
      },
      "execution_count": null,
      "outputs": []
    },
    {
      "cell_type": "code",
      "execution_count": null,
      "metadata": {
        "colab": {
          "base_uri": "https://localhost:8080/"
        },
        "id": "SF4xByMC1i2O",
        "outputId": "dd46c437-6841-4bad-f3bc-de67db66862d"
      },
      "outputs": [
        {
          "output_type": "stream",
          "name": "stdout",
          "text": [
            "[[0.66666667 0.33333333 0.         0.33333333 0.33333333 0.\n",
            "  0.66666667 0.66666667]\n",
            " [0.         0.         0.         0.33333333 0.33333333 0.\n",
            "  0.         0.33333333]\n",
            " [0.         0.         0.33333333 0.         0.33333333 0.66666667\n",
            "  0.33333333 0.        ]\n",
            " [0.33333333 0.66666667 0.66666667 0.33333333 0.         0.33333333\n",
            "  0.         0.        ]]\n",
            "[[2 1 0 1 1 0 2 2]\n",
            " [0 0 0 1 1 0 0 1]\n",
            " [0 0 1 0 1 2 1 0]\n",
            " [1 2 2 1 0 1 0 0]]\n"
          ]
        }
      ],
      "source": [
        "pwm_transformer = ProbabilityMatrixTransformer()\n",
        "PWM = pwm_transformer.fit_transform(MF)\n",
        "print(PWM)\n",
        "print(MF)"
      ]
    },
    {
      "cell_type": "code",
      "source": [
        "list_to_proba_matrix = Pipeline([\n",
        "    (\"freq\", FrequencyMatrixTransformer(nuc)),\n",
        "    (\"proba\", ProbabilityMatrixTransformer())\n",
        "])"
      ],
      "metadata": {
        "id": "TrQ6NM49jTcl"
      },
      "execution_count": null,
      "outputs": []
    },
    {
      "cell_type": "markdown",
      "metadata": {
        "id": "x7J10xMi10uK"
      },
      "source": [
        "### `SequenceProbabilityEstimator`\n",
        "\n",
        "**Description** :\n",
        "\n",
        "**Input** : `None` =>\n",
        "\n",
        "**Output** : `None` =>\n",
        "\n",
        "**Hyper-paramètres** : `None`"
      ]
    },
    {
      "cell_type": "code",
      "source": [
        "from sklearn.base import ClassifierMixin\n",
        "\n",
        "class SequenceProbabilityEstimator(BaseEstimator, ClassifierMixin):\n",
        "\n",
        "  def __init__(self, alphabet):\n",
        "    self.alphabet = alphabet\n",
        "\n",
        "    self.freq_trans = FrequencyMatrixTransformer(alphabet)\n",
        "    self.proba_trans = ProbabilityMatrixTransformer()\n",
        "\n",
        "    self.MF = None\n",
        "    self.PWM = None\n",
        "\n",
        "  def letter_index(self, letter):\n",
        "    for i in range(len(self.alphabet)):\n",
        "      if letter == self.alphabet[i]:\n",
        "        return i\n",
        "    return -1\n",
        "\n",
        "  def get_proba(self, motif):\n",
        "    current_proba = 1.\n",
        "\n",
        "    for i, letter in enumerate(motif):\n",
        "      current_proba *= self.PWM[self.letter_index(letter)][i]\n",
        "    return current_proba\n",
        "\n",
        "  def fit(self, X, y=None):\n",
        "    self.MF = self.freq_trans.fit_transform(X)\n",
        "    self.PWM = self.proba_trans.fit_transform(self.MF)\n",
        "    return self\n",
        "\n",
        "  def predict(self, X):\n",
        "    if len(X) == 1:\n",
        "      return self.get_proba(X[0])\n",
        "    return np.array([self.get_proba(motif) for motif in X])"
      ],
      "metadata": {
        "id": "BT7H-MySD-SK"
      },
      "execution_count": null,
      "outputs": []
    },
    {
      "cell_type": "code",
      "source": [
        "test_proba_estimator = SequenceProbabilityEstimator(alphabet=nuc)\n",
        "test_proba_estimator.fit([\"AATTGGAA\", \"AATCGAAT\", \"TGTGACAG\"])\n",
        "test_proba_estimator.predict([\"AATTGGAA\"])"
      ],
      "metadata": {
        "colab": {
          "base_uri": "https://localhost:8080/"
        },
        "id": "m6O8tuk2KUdt",
        "outputId": "144b4817-8558-45a8-e568-be445e9f923a"
      },
      "execution_count": null,
      "outputs": [
        {
          "output_type": "execute_result",
          "data": {
            "text/plain": [
              "0.010973936899862823"
            ]
          },
          "metadata": {},
          "execution_count": 37
        }
      ]
    },
    {
      "cell_type": "markdown",
      "source": [
        "### `MostProbablePositionEstimator`\n",
        "\n",
        "**Description** :\n",
        "\n",
        "**Input** : `None` =>\n",
        "\n",
        "**Output** : `None` =>\n",
        "\n",
        "**Hyper-paramètres** : `None`"
      ],
      "metadata": {
        "id": "7dvVIIY2KhAl"
      }
    },
    {
      "cell_type": "code",
      "source": [
        "class MostProbablePositionEstimator(BaseEstimator, ClassifierMixin):\n",
        "\n",
        "  def __init__(self, alphabet, valid_motives):\n",
        "    self.proba_estimator = SequenceProbabilityEstimator(alphabet)\n",
        "    self.valid_motives = valid_motives\n",
        "    self.k = 0\n",
        "\n",
        "    self.MF = None\n",
        "    self.PWM = None\n",
        "\n",
        "  def fit(self, X, y=None):\n",
        "    self.proba_estimator.fit(X)\n",
        "    self.k = len(X[0])\n",
        "\n",
        "    self.MF = self.proba_estimator.MF\n",
        "    self.PWM = self.proba_estimator.PWM\n",
        "\n",
        "    return self\n",
        "\n",
        "  def predict(self, X):\n",
        "    max = []\n",
        "    out = []\n",
        "\n",
        "    for seq_counter, seq in enumerate(X):\n",
        "      max.append(0)\n",
        "      out.append(0)\n",
        "\n",
        "      for i in range(0, len(seq) - self.k + 1):\n",
        "        current_motif = seq[i:i+self.k]\n",
        "        if current_motif not in self.valid_motives:\n",
        "          continue\n",
        "\n",
        "        current_prob = self.proba_estimator.predict([current_motif])\n",
        "        if current_prob > max[seq_counter]:\n",
        "          max[seq_counter] = current_prob\n",
        "          out[seq_counter] = i\n",
        "\n",
        "    if len(X) == 1:\n",
        "      return out[0]\n",
        "    return np.array(out)"
      ],
      "metadata": {
        "id": "ZDmgwC76MJYB"
      },
      "execution_count": null,
      "outputs": []
    },
    {
      "cell_type": "markdown",
      "source": [
        "### `VectorToMotiveTransformer`\n",
        "\n",
        "**Description** :\n",
        "\n",
        "**Input** : `None` =>\n",
        "\n",
        "**Output** : `None` =>\n",
        "\n",
        "**Hyper-paramètres** : `None`"
      ],
      "metadata": {
        "id": "NiACMDx5Kj--"
      }
    },
    {
      "cell_type": "code",
      "source": [
        "class VectorToMotiveTransformer(BaseEstimator, TransformerMixin):\n",
        "\n",
        "  def __init__(self, sequences, k):\n",
        "    self.sequences = sequences\n",
        "    self.k = k\n",
        "\n",
        "  def fit(self, X, y=None):\n",
        "    return self\n",
        "\n",
        "  def transform(self, X):\n",
        "    return np.array([seq[i : i + self.k] for i, seq in zip(X, self.sequences)])"
      ],
      "metadata": {
        "id": "aHeABzcMd20Y"
      },
      "execution_count": null,
      "outputs": []
    },
    {
      "cell_type": "markdown",
      "metadata": {
        "id": "a8CvZjxE2dVz"
      },
      "source": [
        "### `ScoreTransformer`\n",
        "\n",
        "**Description** :\n",
        "\n",
        "**Input** : `None` =>\n",
        "\n",
        "**Output** : `None` =>\n",
        "\n",
        "**Hyper-paramètres** : `None`"
      ]
    },
    {
      "cell_type": "code",
      "source": [
        "class ScoreTransformer(BaseEstimator, TransformerMixin):\n",
        "\n",
        "  def __init__(self):\n",
        "    pass\n",
        "\n",
        "  def fit(self, X, y=None):\n",
        "    return self\n",
        "\n",
        "  def transform(self, X):\n",
        "    k = len(X[0])\n",
        "    return sum([max([line[i] for line in X]) for i in range(k)])"
      ],
      "metadata": {
        "id": "2k5YYWiXRWzC"
      },
      "execution_count": null,
      "outputs": []
    },
    {
      "cell_type": "markdown",
      "source": [
        "### `GreedyProfileTransformer`\n",
        "\n",
        "**Description** :\n",
        "\n",
        "**Input** : `None` =>\n",
        "\n",
        "**Output** : `None` =>\n",
        "\n",
        "**Hyper-paramètres** : `None`"
      ],
      "metadata": {
        "id": "2s_lpxszKqH0"
      }
    },
    {
      "cell_type": "code",
      "source": [
        "import random\n",
        "\n",
        "class GreedyProfileTransformer(BaseEstimator, TransformerMixin):\n",
        "\n",
        "  def __init__(self, alphabet, valid_motives):\n",
        "    self.vector_estimator = MostProbablePositionEstimator(alphabet, valid_motives)\n",
        "    self.score_transformer = ScoreTransformer()\n",
        "    self.k = len(valid_motives[0])\n",
        "\n",
        "    self.vector = None\n",
        "    self.best_score = 0\n",
        "\n",
        "  def fit(self, X, y=None):\n",
        "    return self\n",
        "\n",
        "  def transform(self, X):\n",
        "    # ici : X = sequences\n",
        "    vect_to_motive = VectorToMotiveTransformer(X, self.k);\n",
        "\n",
        "    while(True):\n",
        "      if self.vector is None:\n",
        "        self.vector = np.array([random.randrange(len(seq) - self.k) for seq in X])\n",
        "      else:\n",
        "        self.vector = self.vector_estimator.predict(X)\n",
        "\n",
        "      current_motives = vect_to_motive.fit_transform(self.vector)\n",
        "      self.vector_estimator.fit(current_motives)\n",
        "\n",
        "      current_score = self.score_transformer.fit_transform(self.vector_estimator.MF)\n",
        "      if current_score <= self.best_score:\n",
        "        return self.vector\n",
        "\n",
        "      self.best_score = current_score"
      ],
      "metadata": {
        "id": "tnQvg1taY3zi"
      },
      "execution_count": null,
      "outputs": []
    },
    {
      "cell_type": "code",
      "source": [
        "test_greedy = GreedyProfileTransformer(nuc, input_motives)\n",
        "best_vector = test_greedy.fit(None).transform(sequences)"
      ],
      "metadata": {
        "id": "oENeKeWjfH8S"
      },
      "execution_count": null,
      "outputs": []
    },
    {
      "cell_type": "code",
      "source": [
        "vector_to_motives = VectorToMotiveTransformer(sequences, 5)\n",
        "vector_to_motives.fit_transform(best_vector)"
      ],
      "metadata": {
        "colab": {
          "base_uri": "https://localhost:8080/"
        },
        "id": "4XUXwG215bWF",
        "outputId": "ea067c4a-8c76-4e84-b8c8-0cc51f76bd09"
      },
      "execution_count": null,
      "outputs": [
        {
          "output_type": "execute_result",
          "data": {
            "text/plain": [
              "array(['GATGA', 'TATCA', 'TATGA', 'TATGA', 'GATCA', 'GATGA', 'GATTA',\n",
              "       'TATGA', 'CATGA', 'CATGA', 'GATCA', 'TATCA', 'GTACA', 'TATGA',\n",
              "       'TATGA', 'GATGA', 'TATCA', 'TATGA', 'TATGA', 'TATGA', 'CATCA',\n",
              "       'GATTA', 'TATCA', 'TATCA', 'TATGA', 'TATCA', 'TATGA', 'GATGA',\n",
              "       'TATGA', 'GATGA', 'TATGA', 'TATGA', 'TATGA', 'TATGA', 'TATGA',\n",
              "       'CATCA', 'TATGA', 'TATCA', 'TATGA', 'CTAGA', 'TATGA', 'GATGA',\n",
              "       'GTTCA', 'GTTGA', 'TATGA', 'TATCA', 'TATGA', 'GATGA', 'TATGA',\n",
              "       'GATGA', 'TATGA', 'TATGA', 'TATGA', 'GTTGA', 'TATCA', 'GATGA',\n",
              "       'TATCA', 'TATGA', 'TATGA', 'TATGA', 'TATGA', 'TATGA', 'TATCA',\n",
              "       'TATGA', 'GATGA', 'CATGA', 'TATGA', 'GATGA', 'GATCA', 'GATGA',\n",
              "       'TATGA', 'GATGA', 'TATCA', 'TATCA', 'GATGA', 'TATGA', 'TATGA',\n",
              "       'TATCA', 'TATGA', 'TATGA', 'CATGA', 'GATGA', 'GATGA', 'GATGA',\n",
              "       'TATGA', 'GATTA', 'GATGA', 'TATGA', 'GATGA', 'TATGA', 'GATCA',\n",
              "       'CATCA', 'GATGA', 'TATCA', 'GATGA', 'GATGA', 'CATCA', 'CATCA',\n",
              "       'TATCA', 'GTTCA', 'TATGA', 'TATGA', 'TATCA', 'TATGA', 'TATGA',\n",
              "       'GATGA', 'TATCA', 'TATCA', 'TATGA'], dtype='<U5')"
            ]
          },
          "metadata": {},
          "execution_count": 45
        }
      ]
    },
    {
      "cell_type": "markdown",
      "metadata": {
        "id": "-jveXMVl3M0X"
      },
      "source": [
        "### `GreedyIterativeEstimator`\n",
        "\n",
        "**Description** :\n",
        "\n",
        "**Input** : `None` =>\n",
        "\n",
        "**Output** : `None` =>\n",
        "\n",
        "**Hyper-paramètres** : `None`"
      ]
    },
    {
      "cell_type": "code",
      "source": [
        "class GreedyIterativeTransformer(BaseEstimator, TransformerMixin):\n",
        "\n",
        "  def __init__(self, alphabet, valid_motives, iterations, verbose=False):\n",
        "    self.alphabet = alphabet\n",
        "    self.valid_motives = valid_motives\n",
        "    self.iterations = iterations\n",
        "    self.verbose = verbose\n",
        "\n",
        "    self.best_score = 0\n",
        "    self.vector = None\n",
        "\n",
        "  def fit(self, X, y=None):\n",
        "    return self\n",
        "\n",
        "  def transform(self, X):\n",
        "    for i in range(self.iterations):\n",
        "      if self.verbose:\n",
        "        print(\"Iteration \" + str(i + 1) + \"/\" + str(self.iterations))\n",
        "      greedy = GreedyProfileTransformer(self.alphabet, self.valid_motives)\n",
        "      current_vector = greedy.fit_transform(X)\n",
        "      if greedy.best_score > self.best_score:\n",
        "        self.best_score = greedy.best_score\n",
        "        self.vector = current_vector\n",
        "        if self.verbose:\n",
        "          print(\"  best score : \" + str(self.best_score))\n",
        "    return self.vector"
      ],
      "metadata": {
        "id": "NlDyU8Hm6-lq"
      },
      "execution_count": null,
      "outputs": []
    },
    {
      "cell_type": "markdown",
      "source": [
        "## 4.2) Evaluation + Conclusion Greedy"
      ],
      "metadata": {
        "id": "fgEEU3GH9n4C"
      }
    },
    {
      "cell_type": "markdown",
      "source": [
        "L'algorithme Greedy Profile Motive Search est un algorithme qui choisit une position pour chaque séquence, correspondant à un motif par séquence pour donner un **profil**. Vu qu'on ne connaît pas à priori le \"sens d'insertion\" des motifs qu'on cherche à trouver, il est important de donner à l'algorithme l'option de sélectionner des motifs dans le sens complémentaire d'une séquence.\n",
        "\n",
        "On réalise ça en \"étendant\" toutes les séquences, ce qui veut dire qu'on ajoute les séquences complémentaires respectives à chaque de nos séquences. L'algorithme Greedy peut donc pour chaque séquence sélectionner soit une position dans le sens \"normale\" (`i` entre 0 et `len(seq)`), soit dans le sens \"complémentaire\" (`i` entre `len(seq)` et `2 * len(seq)`)."
      ],
      "metadata": {
        "id": "6hTlpzVF9vFf"
      }
    },
    {
      "cell_type": "code",
      "source": [
        "sequences_extended = [seq + comp_seq(seq) for seq in sequences]\n",
        "greedy_ite = GreedyIterativeTransformer(nuc, input_motives, 20)\n",
        "best_vector = greedy_ite.fit_transform(sequences_extended)"
      ],
      "metadata": {
        "id": "DEScr1eD95Kj"
      },
      "execution_count": null,
      "outputs": []
    },
    {
      "cell_type": "code",
      "source": [
        "vector_to_motives = VectorToMotiveTransformer(sequences_extended, 5)\n",
        "profile_greedy = vector_to_motives.fit_transform(best_vector)\n",
        "profile_greedy"
      ],
      "metadata": {
        "colab": {
          "base_uri": "https://localhost:8080/"
        },
        "id": "7Oi9_CDO_qU-",
        "outputId": "4943028e-c74a-4cc5-eed9-540b9cb67325"
      },
      "execution_count": null,
      "outputs": [
        {
          "output_type": "execute_result",
          "data": {
            "text/plain": [
              "array(['CTAGT', 'ATAGT', 'ATAGT', 'ATAGT', 'ATAGT', 'ATGGT', 'ATAGT',\n",
              "       'ATAGT', 'ATAGT', 'CTAAT', 'TTAGA', 'ATAGT', 'ATGGT', 'CTAGT',\n",
              "       'ATAGT', 'CTAGT', 'ATAGT', 'ATAGT', 'ATAGT', 'ATAGT', 'ATAGT',\n",
              "       'ATAGT', 'ATAGT', 'ATAGT', 'CTAGT', 'CTAGT', 'ATAGT', 'ATAGT',\n",
              "       'ATAGT', 'ATAGT', 'ATAGT', 'ATAGT', 'ATAGT', 'ATAGT', 'ATAGT',\n",
              "       'ATAGT', 'ATAGT', 'TTAGA', 'ATAGT', 'CTAGA', 'ATAGT', 'ATAGT',\n",
              "       'ATAGT', 'CTAGT', 'ATAGT', 'ATAGT', 'ATAGT', 'ATGGT', 'ATAGT',\n",
              "       'ATAGT', 'ATAGT', 'ATAGT', 'ATAGT', 'ATAGT', 'ATAGT', 'ATAGT',\n",
              "       'ATAGT', 'CTAGT', 'ATAGT', 'ATAGT', 'ATAGT', 'ATAGT', 'ATAGT',\n",
              "       'ATAGT', 'ATAGT', 'ATGGT', 'ATAGT', 'ATAGT', 'ATAGT', 'ATGGA',\n",
              "       'ATAGT', 'ATAGT', 'ATAGT', 'ATGGT', 'ATAGT', 'ATAGT', 'ATAGT',\n",
              "       'ATAGT', 'GTAGT', 'ATAGT', 'ATAGT', 'ATAGT', 'ATGGT', 'ATAGT',\n",
              "       'CTAGT', 'ATAGT', 'ATAGT', 'ATAGT', 'ATGGT', 'ATAGT', 'ATGGT',\n",
              "       'ATAGT', 'ATAGT', 'TTAGA', 'ATAGT', 'ATAGT', 'ATAGT', 'ATAGT',\n",
              "       'CTAGT', 'ATGGT', 'ATAGT', 'ATAGT', 'ATAGT', 'ATGGT', 'ATGGT',\n",
              "       'GTAGT', 'ATAGT', 'CTAGT', 'ATAGT'], dtype='<U5')"
            ]
          },
          "metadata": {},
          "execution_count": 50
        }
      ]
    },
    {
      "cell_type": "markdown",
      "source": [
        "A partir du profil retourné par l'algorithme Greedy itératif, on génère une matrice de probabilité :"
      ],
      "metadata": {
        "id": "SsSIuwyp_kLK"
      }
    },
    {
      "cell_type": "code",
      "source": [
        "motif_proba = ProbabilityMatrixTransformer().fit_transform(FrequencyMatrixTransformer(nuc).fit_transform(profile_greedy))\n",
        "motif_proba"
      ],
      "metadata": {
        "colab": {
          "base_uri": "https://localhost:8080/"
        },
        "id": "bIl-vO6vuVBm",
        "outputId": "6daad377-6d55-49a0-9ffe-fc35f63a11bb"
      },
      "execution_count": null,
      "outputs": [
        {
          "output_type": "execute_result",
          "data": {
            "text/plain": [
              "array([[0.8440367 , 0.        , 0.88990826, 0.00917431, 0.04587156],\n",
              "       [0.11009174, 0.        , 0.        , 0.        , 0.        ],\n",
              "       [0.01834862, 0.        , 0.11009174, 0.99082569, 0.        ],\n",
              "       [0.02752294, 1.        , 0.        , 0.        , 0.95412844]])"
            ]
          },
          "metadata": {},
          "execution_count": 51
        }
      ]
    },
    {
      "cell_type": "markdown",
      "source": [
        "Puis on peut visualiser cette matrice graphiquement :"
      ],
      "metadata": {
        "id": "cWTASErJ_rru"
      }
    },
    {
      "cell_type": "code",
      "source": [
        "weight_matrix(motif_proba)"
      ],
      "metadata": {
        "colab": {
          "base_uri": "https://localhost:8080/",
          "height": 565
        },
        "id": "H5Fh3NvXIGsc",
        "outputId": "78fa7226-4e15-44cb-95c5-925df36fa005"
      },
      "execution_count": null,
      "outputs": [
        {
          "output_type": "display_data",
          "data": {
            "text/plain": [
              "<Figure size 800x600 with 2 Axes>"
            ],
            "image/png": "[encoded data removed]"
          },
          "metadata": {}
        }
      ]
    },
    {
      "cell_type": "markdown",
      "source": [
        "On a bien trouvé un profil contenant des motifs ayant une variabilité très basse, ce qui est bien l'intérêt de l'algorithme. Cependant, on a exécuté l'algorithme plusieurs fois et on n'a pas trouvé le motif consensus `CCAAT`.\n",
        "\n",
        "Quelques autres profils trouvés avec l'algorithme Greedy itératif :\n",
        "*   motif le plus probable `TATCA`, score associé = **503**\n",
        "*   motif le plus probable `ATCAT`, score associé = **509**\n",
        "*   motif le plus probable `CAATT`, score associé = **500**"
      ],
      "metadata": {
        "id": "2IGeJbmZIOv5"
      }
    },
    {
      "cell_type": "markdown",
      "source": [
        "Afin de comprendre si les résultats sont valides, et pourquoi l'algorithme ne trouve pas notre motif consensus, on va d'abord comparer les scores associés aux profils trouvés respectifs avec le score associé au \"meilleur\" profil trouvé par l'algorithme de distance de hamming en utilisant le motif consensus."
      ],
      "metadata": {
        "id": "plhObYPePf1D"
      }
    },
    {
      "cell_type": "code",
      "source": [
        "profile_to_score = Pipeline([\n",
        "    (\"freq_mat\", FrequencyMatrixTransformer(nuc)),\n",
        "    (\"score\", ScoreTransformer())\n",
        "])\n",
        "\n",
        "score_profile_mss = profile_to_score.fit_transform(profile_mss)\n",
        "score_profile_greedy = profile_to_score.fit_transform(profile_greedy)\n",
        "\n",
        "score_profile_mss, score_profile_greedy"
      ],
      "metadata": {
        "colab": {
          "base_uri": "https://localhost:8080/"
        },
        "id": "gajY7Greud6E",
        "outputId": "c73e778d-78bc-4bcf-fc69-df62ea075414"
      },
      "execution_count": null,
      "outputs": [
        {
          "output_type": "execute_result",
          "data": {
            "text/plain": [
              "(491, 510)"
            ]
          },
          "metadata": {},
          "execution_count": 53
        }
      ]
    },
    {
      "cell_type": "markdown",
      "source": [
        "Il semble que le score du profil MSS est un petit peu plus petit que celui associés aux profils trouvés par l'algorithme Greedy itératif. Cependant, la distance totale de Hamming du motif consensus est quand même plus petit que les distances respectives des \"meilleurs\" motifs trouvés par l'algorithme Greedy :"
      ],
      "metadata": {
        "id": "UGHk7IFTP-NK"
      }
    },
    {
      "cell_type": "code",
      "source": [
        "print(dict_mss[consensus])\n",
        "print(dict_mss[comp_seq(\"TATCA\")])\n",
        "print(dict_mss[comp_seq(\"ATCAT\")])"
      ],
      "metadata": {
        "colab": {
          "base_uri": "https://localhost:8080/"
        },
        "id": "BMGLAK2TNGv_",
        "outputId": "111258fc-3ad1-43e6-c67a-f44fb77ebf30"
      },
      "execution_count": null,
      "outputs": [
        {
          "output_type": "stream",
          "name": "stdout",
          "text": [
            "19\n",
            "36\n",
            "35\n"
          ]
        }
      ]
    },
    {
      "cell_type": "markdown",
      "source": [
        "Afin de comprendre pourquoi les scores associés respectifs sont quand même plus hauts que celui du profil \"consensus\", regardons la matrice de probabilités de ce dernier :"
      ],
      "metadata": {
        "id": "vKsHuHtLQnyf"
      }
    },
    {
      "cell_type": "code",
      "source": [
        "proba_profile_mss = list_to_proba_matrix.fit_transform(profile_mss)\n",
        "proba_profile_mss"
      ],
      "metadata": {
        "colab": {
          "base_uri": "https://localhost:8080/"
        },
        "id": "0I9JNPNyOgiD",
        "outputId": "8300896d-752c-4671-f78c-2f716e1e4107"
      },
      "execution_count": null,
      "outputs": [
        {
          "output_type": "execute_result",
          "data": {
            "text/plain": [
              "array([[0.05504587, 0.10091743, 0.94495413, 0.90825688, 0.00917431],\n",
              "       [0.88073394, 0.87155963, 0.01834862, 0.01834862, 0.02752294],\n",
              "       [0.        , 0.        , 0.02752294, 0.03669725, 0.06422018],\n",
              "       [0.06422018, 0.02752294, 0.00917431, 0.03669725, 0.89908257]])"
            ]
          },
          "metadata": {},
          "execution_count": 55
        }
      ]
    },
    {
      "cell_type": "markdown",
      "source": [
        "Dans les profils sélectionnés par l'algorithme Greedy itératif, on trouve souvent plusieurs positions ayant le même nucléotide 100%, ainsi qu'une ou deux positions avec le même nucléotide dans beaucoup moins de cas (~75% des cas).\n",
        "\n",
        "Dans le profil \"consensus\" trouvé par l'algorithme de distance de Hamming minimale, on trouve pour chaque position le même nucléotide respectif dans environ 90% des cas. La \"confiance totale\" est donc un peu plus basse, ce qui explique le score associé plus bas, mais la distance de Hamming globale va quand même être plus basse que celles associées aux profils sélectionnés par Greedy, étant donné la variabilité moins importante par nucléotide.\n"
      ],
      "metadata": {
        "id": "1DhXXfCDQ1mo"
      }
    },
    {
      "cell_type": "markdown",
      "source": [
        "Un autre motif trouvé par l'algorithme Greedy itératif est `CAATT`, qui rassemble beaucoup notre motif consensus, seulement \"décalé\", d'un nucléotide. On va le garder en tête pour le prochain algorithme, vu que les résultats de ce dernier vont lui également rassembler beaucoup.."
      ],
      "metadata": {
        "id": "F5EzdtE1VEzJ"
      }
    },
    {
      "cell_type": "markdown",
      "metadata": {
        "id": "hfXW5vuXra4F"
      },
      "source": [
        "# 5) Random Projection\n",
        "\n",
        "Avec cet algorithme, on ne cherche pas à trouver un profil (liste contenant un motif par séquence) qu'on espère inclut notre motif consensus, mais on cherche plutôt à identifier quel sous-ensemble de motifs contient globalement des motifs les plus fréquents ou les moins variés. Le paramètre déterminant des sous-ensembles est la combinaison de positions spécifiques qui doivent être identiques pour tous les motifs d'un sous-ensemble. Ces sous-ensembles sont donc un peu comme des \"classes d'équivalence\" de motifs. On les appele des **buckets**.\n",
        "\n",
        "Pour évaluer un bucket afin de le comparer avec d'autres buckets, on peut soit soit lui associer comme valeur la somme des fréquences de ses motifs respectifs, soit on le transforme en matrice de fréquence afin de calculer son score (voir l'algorithme Greedy pour plus d'informations). Dans la version itérative de Random Projection, on trie d'abord tous les buckets générés dans une itération par leurs fréquences totales associées, puis on garde le bucket globalement le plus fréquent et on calcule son score. Si le score est meilleur que celui de tous les buckets avant, on le retient afin de retourner à la fin des itérations le bucket ayant le meilleur score de tous les buckest testés.\n",
        "\n",
        "La sélection favorise donc les sous-ensembles de motifs fréquents, qui sont à la même fois peu variables à travers toutes les séquences."
      ]
    },
    {
      "cell_type": "markdown",
      "source": [
        "## 5.1) Classes pour l'algorithme"
      ],
      "metadata": {
        "id": "hqQYT0OsCMtf"
      }
    },
    {
      "cell_type": "markdown",
      "metadata": {
        "id": "FAkihjnFhh-X"
      },
      "source": [
        "### `ProjectionGenerator`\n",
        "\n",
        "**Description** :\n",
        "\n",
        "**Input** : `None` =>\n",
        "\n",
        "**Output** : `None` =>\n",
        "\n",
        "**Hyper-paramètres** : `None`"
      ]
    },
    {
      "cell_type": "code",
      "source": [
        "class ProjectionGenerator(BaseEstimator, TransformerMixin):\n",
        "\n",
        "  def __init__(self, k):\n",
        "    self.k = k\n",
        "\n",
        "  def fit(self, X, y=None):\n",
        "    return self\n",
        "\n",
        "  def transform(self, X):\n",
        "    positions = set(range(self.k))\n",
        "    out = []\n",
        "\n",
        "    for _ in range(X):\n",
        "      out.append(random.choice(list(positions)))\n",
        "      positions.remove(out[-1])\n",
        "\n",
        "    out.sort()\n",
        "    return set(out)"
      ],
      "metadata": {
        "id": "qwGKw9VsSU2R"
      },
      "execution_count": null,
      "outputs": []
    },
    {
      "cell_type": "markdown",
      "source": [
        "### `KeyGenerator`\n",
        "\n",
        "**Description** :\n",
        "\n",
        "**Input** : `None` =>\n",
        "\n",
        "**Output** : `None` =>\n",
        "\n",
        "**Hyper-paramètres** : `None`"
      ],
      "metadata": {
        "id": "MvUy74XPbylS"
      }
    },
    {
      "cell_type": "code",
      "source": [
        "class KeyGenerator(BaseEstimator, TransformerMixin):\n",
        "\n",
        "  def __init__(self, projection):\n",
        "    self.projection = projection\n",
        "\n",
        "  def fit(self, X, y=None):\n",
        "    return self\n",
        "\n",
        "  def transform(self, X):\n",
        "    out = np.array([\"\".join([motif[i] for i in self.projection]) for motif in X])\n",
        "    if len(out) == 1:\n",
        "      return out[0]\n",
        "    return out"
      ],
      "metadata": {
        "id": "Z3vDg7SfUikV"
      },
      "execution_count": null,
      "outputs": []
    },
    {
      "cell_type": "code",
      "source": [
        "proj = ProjectionGenerator(5)\n",
        "key_gen = KeyGenerator(proj.fit_transform(3))\n",
        "key_gen.fit_transform(profile_greedy)"
      ],
      "metadata": {
        "colab": {
          "base_uri": "https://localhost:8080/"
        },
        "id": "N-IcZ-YtZz-k",
        "outputId": "54838d18-c2c9-4586-e37a-c45232c68a95"
      },
      "execution_count": null,
      "outputs": [
        {
          "output_type": "execute_result",
          "data": {
            "text/plain": [
              "array(['CTG', 'ATG', 'ATG', 'ATG', 'ATG', 'ATG', 'ATG', 'ATG', 'ATG',\n",
              "       'CTA', 'TTG', 'ATG', 'ATG', 'CTG', 'ATG', 'CTG', 'ATG', 'ATG',\n",
              "       'ATG', 'ATG', 'ATG', 'ATG', 'ATG', 'ATG', 'CTG', 'CTG', 'ATG',\n",
              "       'ATG', 'ATG', 'ATG', 'ATG', 'ATG', 'ATG', 'ATG', 'ATG', 'ATG',\n",
              "       'ATG', 'TTG', 'ATG', 'CTG', 'ATG', 'ATG', 'ATG', 'CTG', 'ATG',\n",
              "       'ATG', 'ATG', 'ATG', 'ATG', 'ATG', 'ATG', 'ATG', 'ATG', 'ATG',\n",
              "       'ATG', 'ATG', 'ATG', 'CTG', 'ATG', 'ATG', 'ATG', 'ATG', 'ATG',\n",
              "       'ATG', 'ATG', 'ATG', 'ATG', 'ATG', 'ATG', 'ATG', 'ATG', 'ATG',\n",
              "       'ATG', 'ATG', 'ATG', 'ATG', 'ATG', 'ATG', 'GTG', 'ATG', 'ATG',\n",
              "       'ATG', 'ATG', 'ATG', 'CTG', 'ATG', 'ATG', 'ATG', 'ATG', 'ATG',\n",
              "       'ATG', 'ATG', 'ATG', 'TTG', 'ATG', 'ATG', 'ATG', 'ATG', 'CTG',\n",
              "       'ATG', 'ATG', 'ATG', 'ATG', 'ATG', 'ATG', 'GTG', 'ATG', 'CTG',\n",
              "       'ATG'], dtype='<U3')"
            ]
          },
          "metadata": {},
          "execution_count": 58
        }
      ]
    },
    {
      "cell_type": "markdown",
      "source": [
        "### `RandomProjectionTransformer`\n",
        "\n",
        "**Description** :\n",
        "\n",
        "**Input** : `None` =>\n",
        "\n",
        "**Output** : `None` =>\n",
        "\n",
        "**Hyper-paramètres** : `None`"
      ],
      "metadata": {
        "id": "w-mJnaJLrf_1"
      }
    },
    {
      "cell_type": "code",
      "source": [
        "class RandomProjTransformer(BaseEstimator, TransformerMixin):\n",
        "\n",
        "  def __init__(self, k, p, valid_motives, alphabet, projection=None):\n",
        "    self.k = k\n",
        "    self.p = p\n",
        "    self.valid_motives = valid_motives\n",
        "    self.alphabet = alphabet\n",
        "\n",
        "    self.profil_gen = FrequencyMatrixTransformer(self.alphabet)\n",
        "    if projection is None:\n",
        "      self.projection = ProjectionGenerator(k).fit_transform(p)\n",
        "    else:\n",
        "      self.projection = projection\n",
        "    self.key_gen = KeyGenerator(self.projection)\n",
        "\n",
        "    self.key_freq = None\n",
        "    self.key_motives = None\n",
        "\n",
        "  def fit(self, X, y=None):\n",
        "    return self\n",
        "\n",
        "  def transform(self, X):\n",
        "    self.key_freq = {}\n",
        "    self.key_motives = {}\n",
        "\n",
        "    for seq in X:\n",
        "      for i in range(len(seq) - self.k + 1):\n",
        "        current_motif = seq[i : i + self.k]\n",
        "\n",
        "        if current_motif in self.valid_motives:\n",
        "          key = self.key_gen.fit_transform([current_motif])\n",
        "\n",
        "          if key in self.key_freq:\n",
        "            self.key_freq[key] += 1\n",
        "            self.key_motives[key].append(current_motif)\n",
        "          else:\n",
        "            self.key_freq[key] = 1\n",
        "            self.key_motives[key] = [current_motif]\n",
        "\n",
        "    return self.key_freq"
      ],
      "metadata": {
        "id": "MuDwJjG2dZuF"
      },
      "execution_count": null,
      "outputs": []
    },
    {
      "cell_type": "markdown",
      "source": [
        "### `RandProjIterativeTransformer`\n",
        "\n",
        "**Description** :\n",
        "\n",
        "**Input** : `None` =>\n",
        "\n",
        "**Output** : `None` =>\n",
        "\n",
        "**Hyper-paramètres** : `None`"
      ],
      "metadata": {
        "id": "TKPPzcpRliMl"
      }
    },
    {
      "cell_type": "code",
      "source": [
        "class RandomProjIterativeTransformer(BaseEstimator, TransformerMixin):\n",
        "\n",
        "  def __init__(self, k, p, valid_motives, alphabet, iterations, projections=None, verbose=False):\n",
        "    self.k = k\n",
        "    self.p = p\n",
        "    self.valid_motives = valid_motives\n",
        "    self.alphabet = alphabet\n",
        "\n",
        "    self.verbose = verbose\n",
        "\n",
        "    self.dict_sorter = MotiveDictSorter()\n",
        "    self.score_pipeline = Pipeline([\n",
        "        (\"mat_freq\", FrequencyMatrixTransformer(alphabet)),\n",
        "        (\"score_trans\", ScoreTransformer())\n",
        "    ])\n",
        "\n",
        "    self.projections = projections\n",
        "    if self.projections is None:\n",
        "      self.iterations = iterations\n",
        "    else:\n",
        "      self.iterations = len(self.projections)\n",
        "\n",
        "    self.best_score = 0\n",
        "    self.best_bucket = None\n",
        "    self.best_projection = None\n",
        "\n",
        "  def fit(self, X, y=None):\n",
        "    return self\n",
        "\n",
        "  def transform(self, X):\n",
        "\n",
        "    for i in range(self.iterations):\n",
        "      if self.verbose:\n",
        "        print(\"Iteration \" + str(i+1) + \"/\" + str(self.iterations))\n",
        "\n",
        "      current_proj = None\n",
        "      if self.projections is not None:\n",
        "        current_proj = self.projections[i]\n",
        "      random_proj = RandomProjTransformer(self.k, self.p, self.valid_motives, self.alphabet, current_proj)\n",
        "\n",
        "      if self.verbose:\n",
        "        print(\"Current Projection : \" + str(current_proj))\n",
        "\n",
        "      current_dict_freq = random_proj.fit_transform(X)\n",
        "      current_dict_motives = random_proj.key_motives\n",
        "      current_proj = random_proj.projection\n",
        "\n",
        "      current_dict_freq_sorted = self.dict_sorter.fit_transform(current_dict_freq)\n",
        "      current_key = list(current_dict_freq_sorted.keys())[0]\n",
        "      current_bucket = current_dict_motives[current_key]\n",
        "      current_score = self.score_pipeline.fit_transform(current_bucket)\n",
        "\n",
        "      print(\"Current Score : \" + str(current_score))\n",
        "\n",
        "      if current_score > self.best_score:\n",
        "        self.best_score = current_score\n",
        "        self.best_bucket = np.array(current_bucket)\n",
        "        self.best_projection = current_proj\n",
        "        if self.verbose:\n",
        "          print(\"  Best projection : \" + str(self.best_projection))\n",
        "\n",
        "    return self.best_bucket"
      ],
      "metadata": {
        "id": "ZMOTfSAzsouU"
      },
      "execution_count": null,
      "outputs": []
    },
    {
      "cell_type": "markdown",
      "source": [
        "## 5.2) Evaluation + Conclusion Random Projection"
      ],
      "metadata": {
        "id": "Vj6w3TOYmP9v"
      }
    },
    {
      "cell_type": "markdown",
      "source": [
        "Pour l'exécution de l'algorithme Random Projection itératif, on va choisir une taille de clef de trois nucléotides pour des motifs d'une longueur de 5 nucléotides. Puisqu'il y a que 10 combinaisons de 3 positions sur 5, on ne va pas choisir aléatoirement des projections à chaque itération, mais plutôt itérer les 10 projections manuellement pour trouver la meilleure.\n",
        "\n",
        "Bien évidemment, cela n'est pas toujours réalisable vu que le nombre de combinaisons augmente lorsque la longueur du motif augmente."
      ],
      "metadata": {
        "id": "gdtmYhluD8DZ"
      }
    },
    {
      "cell_type": "code",
      "source": [
        "projections = []\n",
        "for x in range(5):\n",
        "  for y in range(5):\n",
        "    for z in range(5):\n",
        "      new_set = {x, y, z}\n",
        "      if new_set not in projections and len(new_set) == 3:\n",
        "        projections.append(new_set)"
      ],
      "metadata": {
        "id": "1WoJyJQ-ppbR"
      },
      "execution_count": null,
      "outputs": []
    },
    {
      "cell_type": "code",
      "source": [
        "rand_proj_est = RandomProjIterativeTransformer(5, 3, input_motives, nuc, 10, projections=projections, verbose=True)\n",
        "best_bucket = rand_proj_est.fit_transform(sequences_extended)"
      ],
      "metadata": {
        "colab": {
          "base_uri": "https://localhost:8080/"
        },
        "id": "JDRxvTakxsYz",
        "outputId": "d93fc810-392b-4151-f762-3e613fc333d0"
      },
      "execution_count": null,
      "outputs": [
        {
          "output_type": "stream",
          "name": "stdout",
          "text": [
            "Iteration 1/10\n",
            "Current Projection : {0, 1, 2}\n",
            "Current Score : 4294\n",
            "  Best projection : {0, 1, 2}\n",
            "Iteration 2/10\n",
            "Current Projection : {0, 1, 3}\n",
            "Current Score : 5076\n",
            "  Best projection : {0, 1, 3}\n",
            "Iteration 3/10\n",
            "Current Projection : {0, 1, 4}\n",
            "Current Score : 4034\n",
            "Iteration 4/10\n",
            "Current Projection : {0, 2, 3}\n",
            "Current Score : 4672\n",
            "Iteration 5/10\n",
            "Current Projection : {0, 2, 4}\n",
            "Current Score : 4613\n",
            "Iteration 6/10\n",
            "Current Projection : {0, 3, 4}\n",
            "Current Score : 4034\n",
            "Iteration 7/10\n",
            "Current Projection : {1, 2, 3}\n",
            "Current Score : 4641\n",
            "Iteration 8/10\n",
            "Current Projection : {1, 2, 4}\n",
            "Current Score : 4672\n",
            "Iteration 9/10\n",
            "Current Projection : {1, 3, 4}\n",
            "Current Score : 5076\n",
            "Iteration 10/10\n",
            "Current Projection : {2, 3, 4}\n",
            "Current Score : 4294\n"
          ]
        }
      ]
    },
    {
      "cell_type": "markdown",
      "source": [
        "On va transformer le meilleur \"bucket\" trouvé par l'algorithme en matrice de probabilités / poids, ensuite on va la visualiser :"
      ],
      "metadata": {
        "id": "rul-9ZlhFKnN"
      }
    },
    {
      "cell_type": "code",
      "source": [
        "rp_mat_proba = list_to_proba_matrix.fit_transform(best_bucket)\n",
        "weight_matrix(rp_mat_proba)"
      ],
      "metadata": {
        "colab": {
          "base_uri": "https://localhost:8080/",
          "height": 565
        },
        "id": "iXcmGFqopJg5",
        "outputId": "e13fb220-e64e-4a44-d7cb-8da38e54790e"
      },
      "execution_count": null,
      "outputs": [
        {
          "output_type": "display_data",
          "data": {
            "text/plain": [
              "<Figure size 800x600 with 2 Axes>"
            ],
            "image/png": "[encoded data removed]"
          },
          "metadata": {}
        }
      ]
    },
    {
      "cell_type": "markdown",
      "source": [
        "On remarque que le bucket sélectionné par l'algorithme RandomProj itératif comme le \"meilleur\" rassemble bien notre motif consensus, mais décalé vers la gauche d'un nucléotide. La projection choisie étant de `{0, 1, 3}`, on relance l'algorithme RandomProj simple (une seule itération) en passant la projection `{1, 2, 4}` comme paramètre, pour vérifier s'il s'agit bien du résultat attendu :"
      ],
      "metadata": {
        "id": "fOj1r6UD0RbQ"
      }
    },
    {
      "cell_type": "code",
      "source": [
        "# initiation de l'algorithme avec la projection qu'on souhaite étudier\n",
        "rand_proj_tr = RandomProjTransformer(5, 3, input_motives, nuc, projection={1, 2, 4})\n",
        "\n",
        "# lancement de l'algorithme avec les séquences \"étendues\" (ayant les deux directions dans une séquence)\n",
        "rand_proj_tr.fit_transform(sequences_extended)\n",
        "print(rand_proj_tr.projection)\n",
        "\n",
        "# on trie les buckets par fréquence\n",
        "rp_dict_sorted = MotiveDictSorter().fit_transform(rand_proj_tr.key_freq)\n",
        "rp_dict_keys = list(rp_dict_sorted.keys())\n",
        "\n",
        "# on affiche les 5 meilleurs buckets par leurs clefs\n",
        "for i in range(5):\n",
        "  print(rp_dict_keys[i] + \" : \" + str(rp_dict_sorted[rp_dict_keys[i]]))"
      ],
      "metadata": {
        "colab": {
          "base_uri": "https://localhost:8080/"
        },
        "id": "Nu9dF_491ecJ",
        "outputId": "5403b2ae-0e64-43e5-c6e6-30f0c0d6ebb3"
      },
      "execution_count": null,
      "outputs": [
        {
          "output_type": "stream",
          "name": "stdout",
          "text": [
            "{1, 2, 4}\n",
            "CAT : 1284\n",
            "TGA : 1259\n",
            "AGT : 1137\n",
            "ATG : 1025\n",
            "ACT : 1007\n"
          ]
        }
      ]
    },
    {
      "cell_type": "markdown",
      "source": [
        "On voit que le meilleur clef est CAT pour les positions 1, 2, 4, ce qui correspond bien au motif consensus. Pour être sûr qu'on a trouvé notre motif, on visualise les résultats comme matrice de probabilités :"
      ],
      "metadata": {
        "id": "YjsSgkq81gew"
      }
    },
    {
      "cell_type": "code",
      "source": [
        "best_bucket = rand_proj_tr.key_motives[rp_dict_keys[0]]\n",
        "proba_profile_rp = list_to_proba_matrix.fit_transform(best_bucket)\n",
        "weight_matrix(proba_profile_rp)"
      ],
      "metadata": {
        "colab": {
          "base_uri": "https://localhost:8080/",
          "height": 565
        },
        "id": "sq3YSK7e1g17",
        "outputId": "ddcc81c4-d43a-4b12-fbe1-57dde135a8bd"
      },
      "execution_count": null,
      "outputs": [
        {
          "output_type": "display_data",
          "data": {
            "text/plain": [
              "<Figure size 800x600 with 2 Axes>"
            ],
            "image/png": "[encoded data removed]"
          },
          "metadata": {}
        }
      ]
    },
    {
      "cell_type": "markdown",
      "source": [
        "Le resultat est celui qu'on attendait : On voit bien les nucléotides `C`, `A` et `T` dans les positions 1, 2 et 4 respectivement. En plus, pour les positions qui n'étaient pas fixées par le bucket, on voit quand même une tendance vers les nucléotides `C` et `T` pour les positions 0 et 3 respectifs, complétent donc le motif consensus `CCAAT`.\n",
        "\n",
        "Même s'il ne s'agit pas d'un \"vrai\" profil, mais plutôt d'un sous-ensemble de motifs réciproquement proches, on va quand même le garder pour le comparer avec des profils générés par les autres algorithmes, afin de trouver l'algorithme qui a le mieux trouvé des motifs biologiquement significatifs."
      ],
      "metadata": {
        "id": "1V_MjfEZ2VTl"
      }
    },
    {
      "cell_type": "markdown",
      "source": [
        "# 6) SuffixTree"
      ],
      "metadata": {
        "id": "wM5WBeZP7KiY"
      }
    },
    {
      "cell_type": "markdown",
      "source": [
        "Pour ce prochain algorithme, il y a deux stratégies de recherche des motifs qu'on peut appliquer après génération d'un Suffix Tree à partir de nos séquences :\n",
        "* **Exact Match** : On cherche les position dans nos séquences qui sont éxactement égales aux motif consensus. Si on s'intéresse seulement du nombre des positions trouvées, cette approche est simplement un tableau de hachage un peu plus éfficace en termes d'espace occupé pour le stocker. On attend donc des résultats égales à ceux trouvés par HashTable.\n",
        "* **Inexact Match** : C'est une autre stratégie pour trouver des groupes de motifs réciproquement similaires (comme le MSS, elle utilise la distance de Hamming). Ici, l'algorithme retourne des dictionnaires \"à deux dimensions\", c'est-à-dire un dictionnaire qui associe à un motif son propre dictionnaire contenant des motifs moins distantes et leurs fréquences respectives dans l'ensemble de séquences. Les résultats seront analysées à la fin du chapitre."
      ],
      "metadata": {
        "id": "CJQ5G4gSGUZg"
      }
    },
    {
      "cell_type": "code",
      "source": [
        "!pip install suffix-trees"
      ],
      "metadata": {
        "colab": {
          "base_uri": "https://localhost:8080/"
        },
        "id": "A24S_nuaKPs8",
        "outputId": "a765b441-146f-438e-f645-9205b7cbc11b"
      },
      "execution_count": null,
      "outputs": [
        {
          "output_type": "stream",
          "name": "stdout",
          "text": [
            "Collecting suffix-trees\n",
            "  Downloading suffix_trees-0.3.0-py3-none-any.whl (5.4 kB)\n",
            "Installing collected packages: suffix-trees\n",
            "Successfully installed suffix-trees-0.3.0\n"
          ]
        }
      ]
    },
    {
      "cell_type": "markdown",
      "source": [
        "## 6.1) Classes pour l'algorithme"
      ],
      "metadata": {
        "id": "oV5wnBq-GWXB"
      }
    },
    {
      "cell_type": "markdown",
      "source": [
        "### `SuffixTreeOccEstimator`\n",
        "\n",
        "**Description** :\n",
        "\n",
        "**Input** : `None` =>\n",
        "\n",
        "**Output** : `None` =>\n",
        "\n",
        "**Hyper-paramètres** : `None`"
      ],
      "metadata": {
        "id": "OxNvl2F5Wi8t"
      }
    },
    {
      "cell_type": "code",
      "source": [
        "from suffix_trees import STree\n",
        "\n",
        "class SuffixTreeOccEstimator(BaseEstimator, ClassifierMixin):\n",
        "\n",
        "  def __init__(self):\n",
        "    self.tree = None\n",
        "\n",
        "  def fit(self, X, y=None):\n",
        "    self.tree = STree.STree(\"\".join(X))\n",
        "    return self\n",
        "\n",
        "  def predict(self, X):\n",
        "    if np.shape(X) == ():\n",
        "      return self.tree.find_all(X)\n",
        "    return np.array([self.tree.find_all(motif) for motif in X])"
      ],
      "metadata": {
        "id": "TKobLLqbLYjI"
      },
      "execution_count": null,
      "outputs": []
    },
    {
      "cell_type": "code",
      "source": [
        "st_est = SuffixTreeOccEstimator()\n",
        "st_est.fit(sequences_extended)\n",
        "len(st_est.predict(consensus))"
      ],
      "metadata": {
        "colab": {
          "base_uri": "https://localhost:8080/"
        },
        "id": "ow3V06x6Oplq",
        "outputId": "60eaee8a-4823-44ab-f20f-41f3f64f8abe"
      },
      "execution_count": null,
      "outputs": [
        {
          "output_type": "execute_result",
          "data": {
            "text/plain": [
              "200"
            ]
          },
          "metadata": {},
          "execution_count": 68
        }
      ]
    },
    {
      "cell_type": "markdown",
      "source": [
        "### `ExactMatchDictCreator`\n",
        "\n",
        "**Description** :\n",
        "\n",
        "**Input** : `None` =>\n",
        "\n",
        "**Output** : `None` =>\n",
        "\n",
        "**Hyper-paramètres** : `None`"
      ],
      "metadata": {
        "id": "AfYo8LUmWovB"
      }
    },
    {
      "cell_type": "code",
      "source": [
        "class ExactMatchDictCreator(BaseEstimator, TransformerMixin):\n",
        "\n",
        "  def __init__(self, sequences):\n",
        "    self.tree_est = SuffixTreeOccEstimator()\n",
        "    self.tree_est.fit(sequences)\n",
        "\n",
        "  def fit(self, X, y=None):\n",
        "    return self\n",
        "\n",
        "  def transform(self, X):\n",
        "    if np.shape(X) == ():\n",
        "      return {X: len(self.tree_est.predict(X))}\n",
        "    return {motif: len(self.tree_est.predict(motif)) for motif in X}"
      ],
      "metadata": {
        "id": "ED6hw5oTPUp4"
      },
      "execution_count": null,
      "outputs": []
    },
    {
      "cell_type": "markdown",
      "source": [
        "### `SeedGenerator`\n",
        "\n",
        "**Description** :\n",
        "\n",
        "**Input** : `None` =>\n",
        "\n",
        "**Output** : `None` =>\n",
        "\n",
        "**Hyper-paramètres** : `None`"
      ],
      "metadata": {
        "id": "gCIpNj3MWta3"
      }
    },
    {
      "cell_type": "code",
      "source": [
        "class SeedGenerator(BaseEstimator, TransformerMixin):\n",
        "\n",
        "  def __init__(self, n):\n",
        "    self.n = n\n",
        "\n",
        "  def fit(self, X, y=None):\n",
        "    return self\n",
        "\n",
        "  def transform(self, X):\n",
        "    out = []\n",
        "\n",
        "    X_ = None\n",
        "    if np.shape(X) == ():\n",
        "      X_ = [X]\n",
        "    else:\n",
        "      X_ = X\n",
        "\n",
        "    for mot in X_:\n",
        "      seeds = []\n",
        "      cpy = mot\n",
        "      for i in range(self.n):\n",
        "        l = (int)(np.ceil(len(cpy) / (self.n - i)))\n",
        "        seeds.append(cpy[:l])\n",
        "        cpy = cpy[l:]\n",
        "      out.append(seeds)\n",
        "\n",
        "    return np.array(out)"
      ],
      "metadata": {
        "id": "7-a8bLZ_UvMt"
      },
      "execution_count": null,
      "outputs": []
    },
    {
      "cell_type": "code",
      "source": [
        "seed_gen = SeedGenerator(3)\n",
        "print(seed_gen.fit_transform(\"Bonjour Au Revoir\"))\n",
        "print(seed_gen.fit_transform([\"Test Test\", \"Toast Toast\"]))"
      ],
      "metadata": {
        "colab": {
          "base_uri": "https://localhost:8080/"
        },
        "id": "oAo5ULWOV5dM",
        "outputId": "f2515ac4-c2ed-42e9-9e76-a64dc2996dc3"
      },
      "execution_count": null,
      "outputs": [
        {
          "output_type": "stream",
          "name": "stdout",
          "text": [
            "[['Bonjou' 'r Au R' 'evoir']]\n",
            "[['Tes' 't T' 'est']\n",
            " ['Toas' 't To' 'ast']]\n"
          ]
        }
      ]
    },
    {
      "cell_type": "markdown",
      "source": [
        "### `InexactMatchDictCreator`\n",
        "\n",
        "**Description** :\n",
        "\n",
        "**Input** : `None` =>\n",
        "\n",
        "**Output** : `None` =>\n",
        "\n",
        "**Hyper-paramètres** : `None`"
      ],
      "metadata": {
        "id": "8sRm-U1DQzUX"
      }
    },
    {
      "cell_type": "code",
      "source": [
        "class InexactMatchDictCreator(BaseEstimator, TransformerMixin):\n",
        "\n",
        "  def __init__(self, sequences, v, valid_motives, verbose=False):\n",
        "    self.exact_match = ExactMatchDictCreator(sequences)\n",
        "    self.seed_gen = SeedGenerator(v + 1)\n",
        "\n",
        "    self.v = v\n",
        "    self.valid_motives = valid_motives\n",
        "    self.verbose = verbose\n",
        "    self.seq_joined = \"\".join(sequences)\n",
        "\n",
        "  def fit(self, X, y=None):\n",
        "    return self\n",
        "\n",
        "  def transform(self, X):\n",
        "    out = {}\n",
        "    X_ = None\n",
        "    if np.shape(X) == ():\n",
        "      X_ = [X]\n",
        "    else:\n",
        "      X_ = X\n",
        "\n",
        "    k = len(X_[0])\n",
        "\n",
        "    for m, motif in enumerate(X_):\n",
        "      if self.verbose:\n",
        "        print(\"Motif \" + str(m + 1) + \"/\" + str(len(X_)))\n",
        "      all_candidates = []\n",
        "      seeds = seed_gen.fit_transform(motif)[0]\n",
        "      total_seed_l = 0\n",
        "\n",
        "      for seed in seeds:\n",
        "        candidate_indexes = self.exact_match.tree_est.predict(seed)\n",
        "        for cand_i in candidate_indexes:\n",
        "          candidate_mot = self.seq_joined[cand_i - total_seed_l : cand_i + k - total_seed_l]\n",
        "          if len(candidate_mot) == len(motif) and candidate_mot in self.valid_motives and hamming(motif, candidate_mot) <= self.v:\n",
        "            all_candidates.append(candidate_mot)\n",
        "        total_seed_l += len(seed)\n",
        "      out[motif] = self.exact_match.fit_transform(all_candidates)\n",
        "\n",
        "    return out"
      ],
      "metadata": {
        "id": "CIL-yAvz4wKu"
      },
      "execution_count": null,
      "outputs": []
    },
    {
      "cell_type": "markdown",
      "source": [
        "## 6.2) Évaluation + Conclusion Exact Match"
      ],
      "metadata": {
        "id": "C7nvZq8LHN3R"
      }
    },
    {
      "cell_type": "code",
      "source": [
        "em_dict_pipeline = Pipeline([\n",
        "    ('em', ExactMatchDictCreator(sequences)),\n",
        "    ('collapse', MotiveCollapser()),\n",
        "    ('sort', MotiveDictSorter())\n",
        "])\n",
        "sorted_em_dict = em_dict_pipeline.fit_transform(input_motives)\n",
        "first_n_motives(sorted_em_dict, 10)"
      ],
      "metadata": {
        "id": "XCz7bliqQmM9",
        "colab": {
          "base_uri": "https://localhost:8080/"
        },
        "outputId": "c5c2d09e-2ef5-4d60-8d24-b31242bcdad0"
      },
      "execution_count": null,
      "outputs": [
        {
          "output_type": "stream",
          "name": "stdout",
          "text": [
            "CCAAT : 201\n",
            "TGATA : 175\n",
            "TTGAA : 167\n",
            "ATAGT : 165\n",
            "TAGTA : 155\n",
            "GAAGT : 150\n",
            "ATGAT : 150\n",
            "AAGTT : 149\n",
            "CATTG : 141\n",
            "ATACT : 140\n"
          ]
        }
      ]
    },
    {
      "cell_type": "code",
      "source": [
        "ht[consensus], sorted_em_dict[consensus] / len(sequences)"
      ],
      "metadata": {
        "colab": {
          "base_uri": "https://localhost:8080/"
        },
        "id": "bKIcVsMs43B0",
        "outputId": "fa023953-aafd-411c-ea9f-419a3f9bb823"
      },
      "execution_count": null,
      "outputs": [
        {
          "output_type": "execute_result",
          "data": {
            "text/plain": [
              "(1.8165, 1.8440366972477065)"
            ]
          },
          "metadata": {},
          "execution_count": 74
        }
      ]
    },
    {
      "cell_type": "markdown",
      "source": [
        "Comme déjà expliqué dans la partie d'Introduction de ce chapitre, on s'attendait de voir éxactement les mêmes résultats qu'on a déjà obtenu avec l'algorithme HashTable, vu qu'il s'agit du même principe (même si SuffiXTree est la manière la plus éfficace de stocker des données).\n",
        "\n",
        "Les petites différences peuvent être expliquées par le fait que l'algorithme Suffix Tree traite l'ensemble des sequences comme une grande sequence, il peut donc y avoir de nouveaux motifs émergeant du \"site de fusion\" de deux séquences."
      ],
      "metadata": {
        "id": "JZ4DVhLlGtf0"
      }
    },
    {
      "cell_type": "markdown",
      "source": [
        "## 5.3) Évaluation + Conclusion Inexact Match"
      ],
      "metadata": {
        "id": "_jyhneWSGpU5"
      }
    },
    {
      "cell_type": "code",
      "source": [
        "im_dict_gen = InexactMatchDictCreator(sequences_extended, 2, input_motives, verbose=True)\n",
        "# im_dict = im_dict_gen.fit_transform(input_motives)\n",
        "# write_json(im_dict, \"inexact_match.json\")\n",
        "im_dict = load_json(\"inexact_match.json\")"
      ],
      "metadata": {
        "id": "hw8ZhiEUBQvU"
      },
      "execution_count": null,
      "outputs": []
    },
    {
      "cell_type": "code",
      "source": [
        "first_n_motives(im_dict, 20)"
      ],
      "metadata": {
        "colab": {
          "base_uri": "https://localhost:8080/"
        },
        "id": "WWnor0bnAzqO",
        "outputId": "87759167-e81b-42d7-c633-a30967d0fe2d"
      },
      "execution_count": null,
      "outputs": [
        {
          "output_type": "stream",
          "name": "stdout",
          "text": [
            "AACCG : {'AACTT': 148, 'AAGCC': 53, 'AACTC': 89, 'AACGG': 52, 'AATCC': 113, 'AACCT': 69, 'AATCT': 81, 'AAGCT': 127, 'AACTG': 113, 'AACGC': 34, 'AAGTG': 106, 'AATGG': 113, 'AAGCG': 41, 'AATCG': 59, 'AATTG': 138, 'AACGT': 56, 'AACCG': 35, 'AGCCT': 46, 'GACCA': 88, 'AGCCA': 89, 'GACCG': 23, 'ATCCA': 89, 'TACCT': 79, 'ATCCG': 36, 'GTCCG': 31, 'ATCCT': 94, 'TACCA': 97, 'GACCT': 43, 'TGCCG': 35, 'AGCCG': 26, 'TACCG': 37, 'TTCCG': 44, 'CAGCG': 46, 'ACCGG': 37, 'GAACG': 46, 'TAACG': 48, 'ATTCG': 57, 'ATCTG': 82, 'ATCAG': 104, 'AGCTG': 106, 'ACCTG': 57, 'TACTG': 126, 'ACTCG': 55, 'ACCAG': 72, 'GACTG': 53, 'CACTG': 83, 'AGCAG': 76, 'TACAG': 107, 'ATACG': 93, 'CATCG': 69, 'GACAG': 63, 'TATCG': 68, 'CAACG': 52, 'ATCGG': 49, 'CACGG': 21, 'TAGCG': 41, 'AGACG': 53, 'ATGCG': 45, 'AGTCG': 36, 'GATCG': 42, 'TACGG': 49}\n",
            "AACCT : {'AAGGT': 80, 'AACTT': 148, 'AAGTT': 146, 'AAGCC': 53, 'AACTC': 89, 'AACGG': 52, 'AATCC': 113, 'AACCT': 69, 'AATCT': 81, 'AAGCT': 127, 'AACTG': 113, 'AATGT': 106, 'AACGC': 34, 'AAGCG': 41, 'AATCG': 59, 'AACGT': 56, 'AACCG': 35, 'TGCCT': 60, 'AGCCT': 46, 'GACCA': 88, 'AGCCA': 89, 'GACCG': 23, 'ATCCA': 89, 'TACCT': 79, 'ATCCG': 36, 'ATCCT': 94, 'TACCA': 97, 'GACCT': 43, 'GGCCT': 42, 'GTCCT': 49, 'AGCCG': 26, 'TACCG': 37, 'GAACT': 98, 'GAGCT': 81, 'CAGCT': 106, 'CACGT': 75, 'CAACT': 121, 'AGCTT': 127, 'ACCAT': 89, 'AGACT': 85, 'ATACT': 141, 'ACCGT': 36, 'TAGCT': 116, 'CACTT': 107, 'GACTT': 93, 'GACAT': 59, 'ATCAT': 151, 'TACGT': 105, 'ACCTT': 79, 'TACAT': 143, 'AGTCT': 85, 'GACGT': 37, 'AGGCT': 46, 'CATCT': 101, 'ATCGT': 51, 'AGCAT': 94, 'ATGCT': 94, 'TAACT': 92, 'GATCT': 49, 'AGCGT': 42, 'ACGCT': 41}\n",
            "AACGC : {'AAGGT': 80, 'AACTT': 148, 'AAGCC': 53, 'AACTC': 89, 'AACGG': 52, 'AATCC': 113, 'AACCT': 69, 'AATTC': 106, 'AAGTC': 94, 'AACTG': 113, 'AATGT': 106, 'AACGC': 34, 'AATGG': 113, 'AATGC': 95, 'AACGT': 56, 'AAGGC': 67, 'AACCG': 35, 'TACGG': 49, 'CACGA': 35, 'CACGG': 21, 'GACGC': 22, 'ATCGC': 71, 'ACCGG': 37, 'ATCGA': 67, 'GACGA': 34, 'GTCGC': 23, 'TACGT': 105, 'TTCGC': 53, 'ACCGT': 36, 'ACCGA': 47, 'CACGT': 75, 'TACGC': 33, 'TACGA': 81, 'GACGT': 37, 'AGCGA': 66, 'AGCGT': 42, 'ATCGG': 49, 'ATCGT': 51, 'ATTGC': 89, 'TAAGC': 66, 'CAAGC': 66, 'ATCAC': 137, 'AGCTC': 81, 'AGCAC': 70, 'ATAGC': 110, 'ATGGC': 63, 'ACAGC': 87, 'GATGC': 54, 'CATGC': 51, 'GACTC': 56, 'ACTGC': 78, 'GAAGC': 82, 'TACTC': 87, 'AGTGC': 66, 'CAGGC': 28, 'ACGGC': 28, 'TATGC': 74, 'TAGGC': 27}\n",
            "AACGG : {'AAGGT': 80, 'AACTT': 148, 'AACTC': 89, 'AACGG': 52, 'AACCT': 69, 'AACTG': 113, 'AATGT': 106, 'AACGC': 34, 'AAGTG': 106, 'AATGG': 113, 'AATGC': 95, 'AAGCG': 41, 'AATCG': 59, 'AATTG': 138, 'AACGT': 56, 'AAGGC': 67, 'AACCG': 35, 'TACGG': 49, 'CACGA': 35, 'CACGG': 21, 'GACGC': 22, 'ATCGC': 71, 'TTCGG': 38, 'ACCGG': 37, 'ATCGA': 67, 'GACGA': 34, 'TACGT': 105, 'ACCGT': 36, 'ACCGA': 47, 'CACGT': 75, 'CTCGG': 51, 'TACGC': 33, 'TACGA': 81, 'GACGT': 37, 'AGCGA': 66, 'AGCGT': 42, 'ATCGG': 49, 'TCCGG': 38, 'ATCGT': 51, 'ATTGG': 200, 'CAAGG': 69, 'ATAGG': 57, 'ATCTG': 82, 'ATCAG': 104, 'AGCTG': 106, 'TATGG': 77, 'ACCTG': 57, 'TACTG': 126, 'ACTGG': 95, 'TAAGG': 60, 'ACCAG': 72, 'GACTG': 53, 'CATGG': 48, 'CACTG': 83, 'AGCAG': 76, 'TACAG': 107, 'AGCCG': 26, 'GACAG': 63, 'TACCG': 37, 'ACAGG': 54, 'ATCCG': 36, 'GACCG': 23}\n",
            "AACGT : {'AAGGT': 80, 'AACTT': 148, 'AAGTT': 146, 'AACTC': 89, 'AACGG': 52, 'AACCT': 69, 'AATCT': 81, 'AAGCT': 127, 'AACTG': 113, 'AATGT': 106, 'AACGC': 34, 'AATGG': 113, 'AATGC': 95, 'AACGT': 56, 'AAGGC': 67, 'AACCG': 35, 'TACGG': 49, 'CACGA': 35, 'CACGG': 21, 'GACGC': 22, 'ATCGC': 71, 'ACCGG': 37, 'ATCGA': 67, 'GACGA': 34, 'TACGT': 105, 'TGCGT': 51, 'ACCGT': 36, 'ACCGA': 47, 'CTCGT': 58, 'TCCGT': 47, 'CACGT': 75, 'TACGC': 33, 'TACGA': 81, 'GACGT': 37, 'AGCGA': 66, 'AGCGT': 42, 'ATCGG': 49, 'GCCGT': 28, 'GTCGT': 37, 'ATCGT': 51, 'ATGGT': 90, 'GAAGT': 150, 'AGCCT': 46, 'AGCTT': 127, 'ACCAT': 89, 'ACTGT': 109, 'CACTT': 107, 'CAGGT': 57, 'GACTT': 93, 'GACAT': 59, 'ATCAT': 151, 'CATGT': 107, 'ATCCT': 94, 'CAAGT': 96, 'TACCT': 79, 'ACCTT': 79, 'TACAT': 143, 'GATGT': 92, 'GACCT': 43, 'TAAGT': 79, 'ACAGT': 109, 'ACGGT': 36, 'TAGGT': 57, 'ATAGT': 164, 'AGCAT': 94}\n",
            "AACTC : {'AACTT': 148, 'AAGTT': 146, 'AAGCC': 53, 'AACTC': 89, 'AACGG': 52, 'AATCC': 113, 'AACCT': 69, 'AATTC': 106, 'AAGTC': 94, 'AACTG': 113, 'AACGC': 34, 'AAGTG': 106, 'AATGC': 95, 'AATTG': 138, 'AACGT': 56, 'AAGGC': 67, 'AACCG': 35, 'CACTA': 108, 'AGCTC': 81, 'ATCTG': 82, 'AGCTG': 106, 'ACCTT': 79, 'ACCTG': 57, 'AGCTA': 116, 'TACTG': 126, 'TGCTC': 92, 'AGCTT': 127, 'GACTT': 93, 'GACTC': 56, 'GGCTC': 60, 'GACTG': 53, 'CACTG': 83, 'TACTC': 87, 'TACTA': 154, 'CACTT': 107, 'ACCTA': 57, 'ATCTA': 87, 'GACTA': 76, 'ACTTC': 149, 'AGGTC': 43, 'AGTTC': 100, 'CAATC': 130, 'ATCAC': 137, 'GATTC': 74, 'ACATC': 93, 'AGCAC': 70, 'ACGTC': 37, 'CATTC': 81, 'TAGTC': 74, 'TAATC': 96, 'ATGTC': 58, 'TACGC': 33, 'ATCGC': 71, 'CAGTC': 53, 'GAATC': 74, 'GACGC': 22, 'AGATC': 50, 'GAGTC': 56}\n",
            "AACTG : {'AACTT': 148, 'AAGTT': 146, 'AACTC': 89, 'AACGG': 52, 'AACCT': 69, 'AATTC': 106, 'AAGTC': 94, 'AACTG': 113, 'AACGC': 34, 'AAGTG': 106, 'AATGG': 113, 'AAGCG': 41, 'AATCG': 59, 'AATTG': 138, 'AACGT': 56, 'AACCG': 35, 'TCCTG': 78, 'CACTA': 108, 'GCCTG': 28, 'AGCTC': 81, 'ATCTG': 82, 'AGCTG': 106, 'ACCTT': 79, 'ACCTG': 57, 'AGCTA': 116, 'TACTG': 126, 'AGCTT': 127, 'GACTT': 93, 'GACTC': 56, 'CGCTG': 46, 'GACTG': 53, 'CACTG': 83, 'GTCTG': 71, 'TGCTG': 74, 'TACTC': 87, 'TACTA': 154, 'CACTT': 107, 'ACCTA': 57, 'ATCTA': 87, 'GACTA': 76, 'GATTG': 130, 'ACCGG': 37, 'ATCAG': 104, 'AGATG': 101, 'ACATG': 108, 'CATTG': 140, 'ACGTG': 75, 'ACCAG': 72, 'AGTTG': 121, 'GAATG': 81, 'TAATG': 114, 'AGCAG': 76, 'TACAG': 107, 'CAGTG': 83, 'AGCCG': 26, 'GACAG': 63, 'TACCG': 37, 'ACTTG': 96, 'CAATG': 141, 'ATCGG': 49, 'TAGTG': 109, 'CACGG': 21, 'ATCCG': 36, 'GACCG': 23, 'TACGG': 49}\n",
            "AACTT : {'AAGGT': 80, 'AACTT': 148, 'AAGTT': 146, 'AACTC': 89, 'AACGG': 52, 'AACCT': 69, 'AATCT': 81, 'AATTC': 106, 'AAGTC': 94, 'AAGCT': 127, 'AACTG': 113, 'AATGT': 106, 'AACGC': 34, 'AAGTG': 106, 'AATTG': 138, 'AACGT': 56, 'AACCG': 35, 'CACTA': 108, 'AGCTC': 81, 'ATCTG': 82, 'CGCTT': 40, 'AGCTG': 106, 'ACCTT': 79, 'ACCTG': 57, 'AGCTA': 116, 'TACTG': 126, 'AGCTT': 127, 'GACTT': 93, 'GACTC': 56, 'GCCTT': 67, 'GACTG': 53, 'CACTG': 83, 'TACTC': 87, 'TACTA': 154, 'CACTT': 107, 'GGCTT': 53, 'ACCTA': 57, 'ATCTA': 87, 'GACTA': 76, 'AGCCT': 46, 'CACGT': 75, 'ACATT': 109, 'ACCAT': 89, 'ACCGT': 36, 'CAGTT': 114, 'GACAT': 59, 'ATCAT': 151, 'ATCCT': 94, 'TACGT': 105, 'TACCT': 79, 'AGATT': 79, 'GAATT': 105, 'TACAT': 143, 'GACCT': 43, 'CAATT': 137, 'GAGTT': 90, 'GACGT': 37, 'ATCGT': 51, 'AGGTT': 70, 'ACGTT': 56, 'AGCAT': 94, 'AGCGT': 42}\n",
            "AAGCC : {'AAGGT': 80, 'AAGTT': 146, 'AAGCC': 53, 'AACTC': 89, 'AATCC': 113, 'AACCT': 69, 'AATCT': 81, 'AATTC': 106, 'AAGTC': 94, 'AAGCT': 127, 'AACGC': 34, 'AAGTG': 106, 'AATGC': 95, 'AAGCG': 41, 'AATCG': 59, 'AAGGC': 67, 'AACCG': 35, 'TTGCC': 70, 'TGGCC': 56, 'ACGCA': 52, 'ATGCA': 84, 'TAGCA': 100, 'CAGCG': 46, 'CAGCA': 74, 'TAGCT': 116, 'GAGCT': 81, 'CAGCT': 106, 'GAGCC': 60, 'ATGCG': 45, 'ATGCT': 94, 'AGGCC': 42, 'GAGCA': 92, 'ACGCT': 41, 'GTGCC': 30, 'TAGCC': 48, 'ATGCC': 51, 'TAGCG': 41, 'AGGCA': 60, 'AGGCT': 46, 'AGGTC': 43, 'ATGGC': 63, 'TATCC': 78, 'ACGAC': 37, 'ACGTC': 37, 'ATTCC': 94, 'AGGAC': 49, 'TAGTC': 74, 'AGTCC': 62, 'CAGAC': 71, 'AGACC': 58, 'GATCC': 48, 'ATGTC': 58, 'ATACC': 100, 'CAGTC': 53, 'CAGGC': 28, 'ATGAC': 85, 'ACGGC': 28, 'GAACC': 72, 'TAGAC': 62, 'GAGTC': 56, 'TAACC': 60, 'TAGGC': 27}\n",
            "AAGCG : {'AAGGT': 80, 'AAGTT': 146, 'AAGCC': 53, 'AACGG': 52, 'AATCC': 113, 'AACCT': 69, 'AATCT': 81, 'AAGTC': 94, 'AAGCT': 127, 'AACTG': 113, 'AAGTG': 106, 'AATGG': 113, 'AAGCG': 41, 'AATCG': 59, 'AATTG': 138, 'AAGGC': 67, 'AACCG': 35, 'ACGCA': 52, 'ATGCA': 84, 'TAGCA': 100, 'CAGCG': 46, 'CAGCA': 74, 'TAGCT': 116, 'GAGCT': 81, 'CAGCT': 106, 'GAGCC': 60, 'CTGCG': 69, 'ATGCG': 45, 'ATGCT': 94, 'TTGCG': 62, 'AGGCC': 42, 'GAGCA': 92, 'ACGCT': 41, 'TAGCC': 48, 'ATGCC': 51, 'TAGCG': 41, 'AGGCA': 60, 'AGGCT': 46, 'GAACG': 46, 'TAACG': 48, 'ATTCG': 57, 'ACGTG': 75, 'ACTCG': 55, 'ACGAG': 58, 'ATGAG': 110, 'CAGTG': 83, 'AGCCG': 26, 'ATACG': 93, 'CATCG': 69, 'TACCG': 37, 'TATCG': 68, 'CAACG': 52, 'TAGTG': 109, 'ATCCG': 36, 'AGACG': 53, 'GACCG': 23, 'AGTCG': 36, 'GATCG': 42}\n",
            "AAGCT : {'AAGGT': 80, 'AACTT': 148, 'AAGTT': 146, 'AAGCC': 53, 'AATCC': 113, 'AACCT': 69, 'AATCT': 81, 'AAGTC': 94, 'AAGCT': 127, 'AATGT': 106, 'AAGTG': 106, 'AAGCG': 41, 'AATCG': 59, 'AACGT': 56, 'AAGGC': 67, 'AACCG': 35, 'ACGCA': 52, 'ATGCA': 84, 'TAGCA': 100, 'TGGCT': 89, 'CAGCG': 46, 'TCGCT': 65, 'CAGCA': 74, 'TAGCT': 116, 'GAGCT': 81, 'CAGCT': 106, 'GAGCC': 60, 'ATGCG': 45, 'ATGCT': 94, 'AGGCC': 42, 'CTGCT': 76, 'CGGCT': 26, 'GAGCA': 92, 'ACGCT': 41, 'TAGCC': 48, 'ATGCC': 51, 'TAGCG': 41, 'GTGCT': 71, 'AGGCA': 60, 'AGGCT': 46, 'GAACT': 98, 'AGGAT': 94, 'ATGGT': 90, 'AGCCT': 46, 'CAACT': 121, 'AGACT': 85, 'ATACT': 141, 'CAGTT': 114, 'CAGGT': 57, 'ATCCT': 94, 'TACCT': 79, 'ATGAT': 151, 'GACCT': 43, 'CAGAT': 81, 'ACGGT': 36, 'AGTCT': 85, 'GAGTT': 90, 'TAGGT': 57, 'CATCT': 101, 'ACGAT': 51, 'AGGTT': 70, 'ACGTT': 56, 'TAGAT': 87, 'TAACT': 92, 'GATCT': 49}\n",
            "AAGGC : {'AAGGT': 80, 'AAGTT': 146, 'AAGCC': 53, 'AACTC': 89, 'AACGG': 52, 'AATCC': 113, 'AATTC': 106, 'AAGTC': 94, 'AAGCT': 127, 'AATGT': 106, 'AACGC': 34, 'AAGTG': 106, 'AATGG': 113, 'AATGC': 95, 'AAGCG': 41, 'AACGT': 56, 'AAGGC': 67, 'ACGGT': 36, 'CTGGC': 51, 'ACGGC': 28, 'TTGGC': 99, 'TAGGT': 57, 'ATGGT': 90, 'CAGGA': 78, 'ATGGC': 63, 'ATGGA': 80, 'TCGGC': 31, 'TAGGA': 73, 'ACGGA': 48, 'TAGGC': 27, 'CAGGC': 28, 'CAGGT': 57, 'AGGTC': 43, 'ATTGC': 89, 'TAAGC': 66, 'CAAGC': 66, 'GAGCC': 60, 'ATAGC': 110, 'ACAGC': 87, 'GATGC': 54, 'CATGC': 51, 'ACGAC': 37, 'ACGTC': 37, 'TAGCC': 48, 'AGGAC': 49, 'TAGTC': 74, 'CAGAC': 71, 'ACTGC': 78, 'ATGTC': 58, 'ATGCC': 51, 'GAAGC': 82, 'TACGC': 33, 'AGTGC': 66, 'ATCGC': 71, 'CAGTC': 53, 'AGGCC': 42, 'ATGAC': 85, 'GACGC': 22, 'TAGAC': 62, 'GAGTC': 56, 'TATGC': 74}\n",
            "AAGGT : {'AAGGT': 80, 'AACTT': 148, 'AAGTT': 146, 'AAGCC': 53, 'AACGG': 52, 'AACCT': 69, 'AATCT': 81, 'AAGTC': 94, 'AAGCT': 127, 'AATGT': 106, 'AACGC': 34, 'AAGTG': 106, 'AATGG': 113, 'AATGC': 95, 'AAGCG': 41, 'AACGT': 56, 'AAGGC': 67, 'ACGGT': 36, 'ACGGC': 28, 'TAGGT': 57, 'ATGGT': 90, 'CAGGA': 78, 'ATGGC': 63, 'ATGGA': 80, 'TAGGA': 73, 'CTGGT': 73, 'CCGGT': 36, 'TCGGT': 45, 'ACGGA': 48, 'TAGGC': 27, 'CAGGC': 28, 'CAGGT': 57, 'GAGCT': 81, 'AGGAT': 94, 'GAAGT': 150, 'CAGCT': 106, 'CACGT': 75, 'ACCGT': 36, 'TAGCT': 116, 'ACTGT': 109, 'CAGTT': 114, 'CATGT': 107, 'CAAGT': 96, 'TACGT': 105, 'ATGAT': 151, 'GATGT': 92, 'CAGAT': 81, 'TAAGT': 79, 'ACAGT': 109, 'GAGTT': 90, 'GACGT': 37, 'AGGCT': 46, 'ACGAT': 51, 'ATCGT': 51, 'AGGTT': 70, 'ACGTT': 56, 'ATAGT': 164, 'TAGAT': 87, 'ATGCT': 94, 'AGCGT': 42, 'ACGCT': 41}\n",
            "AAGTC : {'AAGGT': 80, 'AACTT': 148, 'AAGTT': 146, 'AAGCC': 53, 'AACTC': 89, 'AATCC': 113, 'AATTC': 106, 'AAGTC': 94, 'AAGCT': 127, 'AACTG': 113, 'AACGC': 34, 'AAGTG': 106, 'AATGC': 95, 'AAGCG': 41, 'AATTG': 138, 'AAGGC': 67, 'AGGTC': 43, 'ATGTA': 140, 'AGGTA': 79, 'TGGTC': 90, 'TCGTC': 34, 'ACGTC': 37, 'ACGTG': 75, 'CAGTT': 114, 'TAGTC': 74, 'GAGTT': 90, 'CAGTA': 124, 'ATGTC': 58, 'CAGTG': 83, 'CGGTC': 22, 'CAGTC': 53, 'TAGTA': 154, 'ACGTA': 105, 'AGGTT': 70, 'TAGTG': 109, 'GAGTA': 88, 'ACGTT': 56, 'GCGTC': 22, 'CTGTC': 63, 'GAGTC': 56, 'ACTTC': 149, 'AGTTC': 100, 'CAATC': 130, 'AGCTC': 81, 'GAGCC': 60, 'GATTC': 74, 'ACATC': 93, 'ATGGC': 63, 'ACGAC': 37, 'GACTC': 56, 'TAGCC': 48, 'CATTC': 81, 'AGGAC': 49, 'CAGAC': 71, 'TAATC': 96, 'ATGCC': 51, 'TACTC': 87, 'CAGGC': 28, 'AGGCC': 42, 'GAATC': 74, 'ATGAC': 85, 'ACGGC': 28, 'AGATC': 50, 'TAGAC': 62, 'TAGGC': 27}\n",
            "AAGTG : {'AAGGT': 80, 'AACTT': 148, 'AAGTT': 146, 'AAGCC': 53, 'AACTC': 89, 'AACGG': 52, 'AATTC': 106, 'AAGTC': 94, 'AAGCT': 127, 'AACTG': 113, 'AAGTG': 106, 'AATGG': 113, 'AAGCG': 41, 'AATCG': 59, 'AATTG': 138, 'AAGGC': 67, 'AACCG': 35, 'AGGTC': 43, 'ATGTA': 140, 'AGGTA': 79, 'ACGTC': 37, 'ACGTG': 75, 'CAGTT': 114, 'TAGTC': 74, 'GAGTT': 90, 'CAGTA': 124, 'ATGTC': 58, 'CAGTG': 83, 'CAGTC': 53, 'TAGTA': 154, 'TCGTG': 35, 'ACGTA': 105, 'AGGTT': 70, 'TAGTG': 109, 'CCGTG': 20, 'GAGTA': 88, 'ACGTT': 56, 'GAGTC': 56, 'GATTG': 130, 'CAGCG': 46, 'ATCTG': 82, 'AGCTG': 106, 'ACCTG': 57, 'AGATG': 101, 'TACTG': 126, 'ACATG': 108, 'CATTG': 140, 'AGTTG': 121, 'ACGAG': 58, 'GACTG': 53, 'GAATG': 81, 'TAATG': 114, 'CACTG': 83, 'ATGAG': 110, 'ACTTG': 96, 'CAATG': 141, 'TAGCG': 41, 'ATGCG': 45}\n",
            "AAGTT : {'AAGGT': 80, 'AACTT': 148, 'AAGTT': 146, 'AAGCC': 53, 'AACTC': 89, 'AACCT': 69, 'AATCT': 81, 'AATTC': 106, 'AAGTC': 94, 'AAGCT': 127, 'AACTG': 113, 'AATGT': 106, 'AAGTG': 106, 'AAGCG': 41, 'AATTG': 138, 'AACGT': 56, 'AAGGC': 67, 'AGGTC': 43, 'ATGTA': 140, 'AGGTA': 79, 'CCGTT': 53, 'ACGTC': 37, 'GCGTT': 34, 'ACGTG': 75, 'CAGTT': 114, 'TAGTC': 74, 'GAGTT': 90, 'CAGTA': 124, 'ATGTC': 58, 'CAGTG': 83, 'CAGTC': 53, 'TAGTA': 154, 'ACGTA': 105, 'AGGTT': 70, 'TAGTG': 109, 'GAGTA': 88, 'ACGTT': 56, 'GAGTC': 56, 'CGGTT': 35, 'GAGCT': 81, 'AGGAT': 94, 'ATGGT': 90, 'CAGCT': 106, 'AGCTT': 127, 'ACATT': 109, 'TAGCT': 116, 'CACTT': 107, 'CAGGT': 57, 'GACTT': 93, 'ACCTT': 79, 'AGATT': 79, 'GAATT': 105, 'ATGAT': 151, 'CAGAT': 81, 'CAATT': 137, 'ACGGT': 36, 'AGGCT': 46, 'TAGGT': 57, 'ACGAT': 51, 'TAGAT': 87, 'ATGCT': 94, 'ACGCT': 41}\n",
            "AATCC : {'AAGCC': 53, 'AACTC': 89, 'AATCC': 113, 'AACCT': 69, 'AATCT': 81, 'AATTC': 106, 'AAGTC': 94, 'AAGCT': 127, 'AATGT': 106, 'AACGC': 34, 'AATGG': 113, 'AATGC': 95, 'AAGCG': 41, 'AATCG': 59, 'AATTG': 138, 'AAGGC': 67, 'AACCG': 35, 'GGTCC': 54, 'ATTCG': 57, 'GTTCC': 71, 'CATCT': 101, 'GATCA': 76, 'TATCC': 78, 'ACTCG': 55, 'ACTCA': 74, 'ATTCC': 94, 'TGTCC': 57, 'AGTCA': 94, 'AGTCC': 62, 'CATCA': 92, 'AGTCT': 85, 'GATCC': 48, 'CATCG': 69, 'ATTCA': 125, 'TATCA': 175, 'TATCG': 68, 'GATCT': 49, 'AGTCG': 36, 'GATCG': 42, 'ACTTC': 149, 'ATTGC': 89, 'AGTTC': 100, 'GAGCC': 60, 'GATTC': 74, 'GATGC': 54, 'CATGC': 51, 'TAGCC': 48, 'GATAC': 93, 'CATTC': 81, 'AGACC': 58, 'CATAC': 91, 'ACTGC': 78, 'ATTAC': 132, 'ACTAC': 115, 'ATGCC': 51, 'AGTAC': 115, 'AGTGC': 66, 'ATACC': 100, 'AGGCC': 42, 'GAACC': 72, 'TATGC': 74, 'TAACC': 60}\n",
            "AATCG : {'AAGCC': 53, 'AACGG': 52, 'AATCC': 113, 'AACCT': 69, 'AATCT': 81, 'AATTC': 106, 'AAGCT': 127, 'AACTG': 113, 'AATGT': 106, 'AAGTG': 106, 'AATGG': 113, 'AATGC': 95, 'AAGCG': 41, 'AATCG': 59, 'AATTG': 138, 'AACCG': 35, 'ATTCG': 57, 'CATCT': 101, 'GATCA': 76, 'GCTCG': 37, 'TATCC': 78, 'GTTCG': 39, 'ACTCG': 55, 'CTTCG': 77, 'ACTCA': 74, 'ATTCC': 94, 'AGTCA': 94, 'AGTCC': 62, 'TGTCG': 40, 'CATCA': 92, 'AGTCT': 85, 'GATCC': 48, 'CGTCG': 23, 'CATCG': 69, 'ATTCA': 125, 'TATCA': 175, 'TATCG': 68, 'GATCT': 49, 'AGTCG': 36, 'GATCG': 42, 'GATTG': 130, 'ATTGG': 200, 'CAGCG': 46, 'GAACG': 46, 'TAACG': 48, 'TATGG': 77, 'ACTGG': 95, 'CATTG': 140, 'AGTTG': 121, 'CATGG': 48, 'GATAG': 81, 'AGCCG': 26, 'ATACG': 93, 'TACCG': 37, 'ACTTG': 96, 'CAACG': 52, 'AGTAG': 108, 'TAGCG': 41, 'ATCCG': 36, 'AGACG': 53, 'ATGCG': 45, 'ACTAG': 90, 'ATTAG': 95, 'GACCG': 23, 'CATAG': 65}\n",
            "AATCT : {'AAGGT': 80, 'AACTT': 148, 'AAGTT': 146, 'AAGCC': 53, 'AATCC': 113, 'AACCT': 69, 'AATCT': 81, 'AATTC': 106, 'AAGCT': 127, 'AATGT': 106, 'AATGG': 113, 'AATGC': 95, 'AAGCG': 41, 'AATCG': 59, 'AATTG': 138, 'AACGT': 56, 'AACCG': 35, 'ATTCG': 57, 'CATCT': 101, 'GATCA': 76, 'TATCC': 78, 'ACTCG': 55, 'CGTCT': 53, 'ACTCA': 74, 'ATTCC': 94, 'AGTCA': 94, 'AGTCC': 62, 'CATCA': 92, 'AGTCT': 85, 'GATCC': 48, 'GGTCT': 58, 'CATCG': 69, 'ATTCA': 125, 'TATCA': 175, 'TATCG': 68, 'GATCT': 49, 'AGTCG': 36, 'GATCG': 42, 'GAACT': 98, 'GAGCT': 81, 'AGTAT': 141, 'CAGCT': 106, 'AGCCT': 46, 'CAACT': 121, 'AGACT': 85, 'ATACT': 141, 'TAGCT': 116, 'ACTGT': 109, 'CATGT': 107, 'ATCCT': 94, 'TACCT': 79, 'GATGT': 92, 'GACCT': 43, 'AGGCT': 46, 'ATGCT': 94, 'ACTAT': 163, 'TAACT': 92, 'ACGCT': 41}\n",
            "AATGC : {'AAGGT': 80, 'AAGCC': 53, 'AACTC': 89, 'AACGG': 52, 'AATCC': 113, 'AATCT': 81, 'AATTC': 106, 'AAGTC': 94, 'AATGT': 106, 'AACGC': 34, 'AATGG': 113, 'AATGC': 95, 'AATCG': 59, 'AATTG': 138, 'AACGT': 56, 'AAGGC': 67, 'ATTGC': 89, 'ATTGG': 200, 'GATGT': 92, 'AGTGA': 119, 'GCTGC': 62, 'TATGG': 77, 'GATGC': 54, 'ACTGG': 95, 'CATGC': 51, 'CTTGC': 89, 'TATGA': 120, 'ACTGA': 93, 'TCTGC': 102, 'GTTGC': 72, 'CATGG': 48, 'ACTGC': 78, 'GATGA': 123, 'AGTGC': 66, 'ACTGT': 109, 'ATTGA': 127, 'CATGT': 107, 'CATGA': 71, 'TATGC': 74, 'CGTGC': 29, 'ACTTC': 149, 'AGTTC': 100, 'TAAGC': 66, 'CAAGC': 66, 'GATTC': 74, 'ATAGC': 110, 'ATGGC': 63, 'ACAGC': 87, 'TATCC': 78, 'GATAC': 93, 'ATTCC': 94, 'CATTC': 81, 'AGTCC': 62, 'CATAC': 91, 'GATCC': 48, 'ATTAC': 132, 'ACTAC': 115, 'GAAGC': 82, 'TACGC': 33, 'AGTAC': 115, 'ATCGC': 71, 'CAGGC': 28, 'ACGGC': 28, 'GACGC': 22, 'TAGGC': 27}\n"
          ]
        }
      ]
    },
    {
      "cell_type": "markdown",
      "source": [
        "Le dictionnaire à deux dimensions n'est pas encore trié. Dans un premier temps, on va trier chaque dictionnaire \"fils\" un par un :"
      ],
      "metadata": {
        "id": "oNRS1_wPBOuY"
      }
    },
    {
      "cell_type": "code",
      "source": [
        "sorter = MotiveDictSorter()\n",
        "for motif in im_dict.keys():\n",
        "  im_dict[motif] = sorter.fit_transform(im_dict[motif])\n",
        "\n",
        "first_n_motives(im_dict, 20)"
      ],
      "metadata": {
        "colab": {
          "base_uri": "https://localhost:8080/"
        },
        "id": "BRt2llOjCBaz",
        "outputId": "1d4dffed-661c-4f12-db89-98efeea70acb"
      },
      "execution_count": null,
      "outputs": [
        {
          "output_type": "stream",
          "name": "stdout",
          "text": [
            "AACCG : {'AACTT': 148, 'AATTG': 138, 'AAGCT': 127, 'TACTG': 126, 'AATCC': 113, 'AACTG': 113, 'AATGG': 113, 'TACAG': 107, 'AAGTG': 106, 'AGCTG': 106, 'ATCAG': 104, 'TACCA': 97, 'ATCCT': 94, 'ATACG': 93, 'AACTC': 89, 'AGCCA': 89, 'ATCCA': 89, 'GACCA': 88, 'CACTG': 83, 'ATCTG': 82, 'AATCT': 81, 'TACCT': 79, 'AGCAG': 76, 'ACCAG': 72, 'AACCT': 69, 'CATCG': 69, 'TATCG': 68, 'GACAG': 63, 'AATCG': 59, 'ATTCG': 57, 'ACCTG': 57, 'AACGT': 56, 'ACTCG': 55, 'AAGCC': 53, 'GACTG': 53, 'AGACG': 53, 'AACGG': 52, 'CAACG': 52, 'ATCGG': 49, 'TACGG': 49, 'TAACG': 48, 'AGCCT': 46, 'CAGCG': 46, 'GAACG': 46, 'ATGCG': 45, 'TTCCG': 44, 'GACCT': 43, 'GATCG': 42, 'AAGCG': 41, 'TAGCG': 41, 'TACCG': 37, 'ACCGG': 37, 'ATCCG': 36, 'AGTCG': 36, 'AACCG': 35, 'TGCCG': 35, 'AACGC': 34, 'GTCCG': 31, 'AGCCG': 26, 'GACCG': 23, 'CACGG': 21}\n",
            "AACCT : {'ATCAT': 151, 'AACTT': 148, 'AAGTT': 146, 'TACAT': 143, 'ATACT': 141, 'AAGCT': 127, 'AGCTT': 127, 'CAACT': 121, 'TAGCT': 116, 'AATCC': 113, 'AACTG': 113, 'CACTT': 107, 'AATGT': 106, 'CAGCT': 106, 'TACGT': 105, 'CATCT': 101, 'GAACT': 98, 'TACCA': 97, 'ATCCT': 94, 'AGCAT': 94, 'ATGCT': 94, 'GACTT': 93, 'TAACT': 92, 'AACTC': 89, 'AGCCA': 89, 'ATCCA': 89, 'ACCAT': 89, 'GACCA': 88, 'AGACT': 85, 'AGTCT': 85, 'AATCT': 81, 'GAGCT': 81, 'AAGGT': 80, 'TACCT': 79, 'ACCTT': 79, 'CACGT': 75, 'AACCT': 69, 'TGCCT': 60, 'AATCG': 59, 'GACAT': 59, 'AACGT': 56, 'AAGCC': 53, 'AACGG': 52, 'ATCGT': 51, 'GTCCT': 49, 'GATCT': 49, 'AGCCT': 46, 'AGGCT': 46, 'GACCT': 43, 'GGCCT': 42, 'AGCGT': 42, 'AAGCG': 41, 'ACGCT': 41, 'TACCG': 37, 'GACGT': 37, 'ATCCG': 36, 'ACCGT': 36, 'AACCG': 35, 'AACGC': 34, 'AGCCG': 26, 'GACCG': 23}\n",
            "AACGC : {'AACTT': 148, 'ATCAC': 137, 'AATCC': 113, 'AACTG': 113, 'AATGG': 113, 'ATAGC': 110, 'AATTC': 106, 'AATGT': 106, 'TACGT': 105, 'AATGC': 95, 'AAGTC': 94, 'AACTC': 89, 'ATTGC': 89, 'ACAGC': 87, 'TACTC': 87, 'GAAGC': 82, 'TACGA': 81, 'AGCTC': 81, 'AAGGT': 80, 'ACTGC': 78, 'CACGT': 75, 'TATGC': 74, 'ATCGC': 71, 'AGCAC': 70, 'AACCT': 69, 'AAGGC': 67, 'ATCGA': 67, 'AGCGA': 66, 'TAAGC': 66, 'CAAGC': 66, 'AGTGC': 66, 'ATGGC': 63, 'AACGT': 56, 'GACTC': 56, 'GATGC': 54, 'AAGCC': 53, 'TTCGC': 53, 'AACGG': 52, 'ATCGT': 51, 'CATGC': 51, 'TACGG': 49, 'ATCGG': 49, 'ACCGA': 47, 'AGCGT': 42, 'ACCGG': 37, 'GACGT': 37, 'ACCGT': 36, 'AACCG': 35, 'CACGA': 35, 'AACGC': 34, 'GACGA': 34, 'TACGC': 33, 'CAGGC': 28, 'ACGGC': 28, 'TAGGC': 27, 'GTCGC': 23, 'GACGC': 22, 'CACGG': 21}\n",
            "AACGG : {'ATTGG': 200, 'AACTT': 148, 'AATTG': 138, 'TACTG': 126, 'AACTG': 113, 'AATGG': 113, 'TACAG': 107, 'AATGT': 106, 'AAGTG': 106, 'AGCTG': 106, 'TACGT': 105, 'ATCAG': 104, 'AATGC': 95, 'ACTGG': 95, 'AACTC': 89, 'CACTG': 83, 'ATCTG': 82, 'TACGA': 81, 'AAGGT': 80, 'TATGG': 77, 'AGCAG': 76, 'CACGT': 75, 'ACCAG': 72, 'ATCGC': 71, 'AACCT': 69, 'CAAGG': 69, 'AAGGC': 67, 'ATCGA': 67, 'AGCGA': 66, 'GACAG': 63, 'TAAGG': 60, 'AATCG': 59, 'ATAGG': 57, 'ACCTG': 57, 'AACGT': 56, 'ACAGG': 54, 'GACTG': 53, 'AACGG': 52, 'CTCGG': 51, 'ATCGT': 51, 'TACGG': 49, 'ATCGG': 49, 'CATGG': 48, 'ACCGA': 47, 'AGCGT': 42, 'AAGCG': 41, 'TTCGG': 38, 'TCCGG': 38, 'ACCGG': 37, 'GACGT': 37, 'TACCG': 37, 'ACCGT': 36, 'ATCCG': 36, 'AACCG': 35, 'CACGA': 35, 'AACGC': 34, 'GACGA': 34, 'TACGC': 33, 'AGCCG': 26, 'GACCG': 23, 'GACGC': 22, 'CACGG': 21}\n",
            "AACGT : {'ATAGT': 164, 'ATCAT': 151, 'GAAGT': 150, 'AACTT': 148, 'AAGTT': 146, 'TACAT': 143, 'AAGCT': 127, 'AGCTT': 127, 'AACTG': 113, 'AATGG': 113, 'ACTGT': 109, 'ACAGT': 109, 'CACTT': 107, 'CATGT': 107, 'AATGT': 106, 'TACGT': 105, 'CAAGT': 96, 'AATGC': 95, 'ATCCT': 94, 'AGCAT': 94, 'GACTT': 93, 'GATGT': 92, 'ATGGT': 90, 'AACTC': 89, 'ACCAT': 89, 'AATCT': 81, 'TACGA': 81, 'AAGGT': 80, 'TACCT': 79, 'ACCTT': 79, 'TAAGT': 79, 'CACGT': 75, 'ATCGC': 71, 'AACCT': 69, 'AAGGC': 67, 'ATCGA': 67, 'AGCGA': 66, 'GACAT': 59, 'CTCGT': 58, 'CAGGT': 57, 'TAGGT': 57, 'AACGT': 56, 'AACGG': 52, 'TGCGT': 51, 'ATCGT': 51, 'TACGG': 49, 'ATCGG': 49, 'ACCGA': 47, 'TCCGT': 47, 'AGCCT': 46, 'GACCT': 43, 'AGCGT': 42, 'ACCGG': 37, 'GACGT': 37, 'GTCGT': 37, 'ACCGT': 36, 'ACGGT': 36, 'AACCG': 35, 'CACGA': 35, 'AACGC': 34, 'GACGA': 34, 'TACGC': 33, 'GCCGT': 28, 'GACGC': 22, 'CACGG': 21}\n",
            "AACTC : {'TACTA': 154, 'ACTTC': 149, 'AACTT': 148, 'AAGTT': 146, 'AATTG': 138, 'ATCAC': 137, 'CAATC': 130, 'AGCTT': 127, 'TACTG': 126, 'AGCTA': 116, 'AATCC': 113, 'AACTG': 113, 'CACTA': 108, 'CACTT': 107, 'AATTC': 106, 'AAGTG': 106, 'AGCTG': 106, 'AGTTC': 100, 'TAATC': 96, 'AATGC': 95, 'AAGTC': 94, 'GACTT': 93, 'ACATC': 93, 'TGCTC': 92, 'AACTC': 89, 'TACTC': 87, 'ATCTA': 87, 'CACTG': 83, 'ATCTG': 82, 'AGCTC': 81, 'CATTC': 81, 'ACCTT': 79, 'GACTA': 76, 'GATTC': 74, 'TAGTC': 74, 'GAATC': 74, 'ATCGC': 71, 'AGCAC': 70, 'AACCT': 69, 'AAGGC': 67, 'GGCTC': 60, 'ATGTC': 58, 'ACCTG': 57, 'ACCTA': 57, 'AACGT': 56, 'GACTC': 56, 'GAGTC': 56, 'AAGCC': 53, 'GACTG': 53, 'CAGTC': 53, 'AACGG': 52, 'AGATC': 50, 'AGGTC': 43, 'ACGTC': 37, 'AACCG': 35, 'AACGC': 34, 'TACGC': 33, 'GACGC': 22}\n",
            "AACTG : {'TACTA': 154, 'AACTT': 148, 'AAGTT': 146, 'CAATG': 141, 'CATTG': 140, 'AATTG': 138, 'GATTG': 130, 'AGCTT': 127, 'TACTG': 126, 'AGTTG': 121, 'AGCTA': 116, 'TAATG': 114, 'AACTG': 113, 'AATGG': 113, 'TAGTG': 109, 'CACTA': 108, 'ACATG': 108, 'CACTT': 107, 'TACAG': 107, 'AATTC': 106, 'AAGTG': 106, 'AGCTG': 106, 'ATCAG': 104, 'AGATG': 101, 'ACTTG': 96, 'AAGTC': 94, 'GACTT': 93, 'AACTC': 89, 'TACTC': 87, 'ATCTA': 87, 'CACTG': 83, 'CAGTG': 83, 'ATCTG': 82, 'AGCTC': 81, 'GAATG': 81, 'ACCTT': 79, 'TCCTG': 78, 'GACTA': 76, 'AGCAG': 76, 'ACGTG': 75, 'TGCTG': 74, 'ACCAG': 72, 'GTCTG': 71, 'AACCT': 69, 'GACAG': 63, 'AATCG': 59, 'ACCTG': 57, 'ACCTA': 57, 'AACGT': 56, 'GACTC': 56, 'GACTG': 53, 'AACGG': 52, 'ATCGG': 49, 'TACGG': 49, 'CGCTG': 46, 'AAGCG': 41, 'ACCGG': 37, 'TACCG': 37, 'ATCCG': 36, 'AACCG': 35, 'AACGC': 34, 'GCCTG': 28, 'AGCCG': 26, 'GACCG': 23, 'CACGG': 21}\n",
            "AACTT : {'TACTA': 154, 'ATCAT': 151, 'AACTT': 148, 'AAGTT': 146, 'TACAT': 143, 'AATTG': 138, 'CAATT': 137, 'AAGCT': 127, 'AGCTT': 127, 'TACTG': 126, 'AGCTA': 116, 'CAGTT': 114, 'AACTG': 113, 'ACATT': 109, 'CACTA': 108, 'CACTT': 107, 'AATTC': 106, 'AATGT': 106, 'AAGTG': 106, 'AGCTG': 106, 'TACGT': 105, 'GAATT': 105, 'AAGTC': 94, 'ATCCT': 94, 'AGCAT': 94, 'GACTT': 93, 'GAGTT': 90, 'AACTC': 89, 'ACCAT': 89, 'TACTC': 87, 'ATCTA': 87, 'CACTG': 83, 'ATCTG': 82, 'AATCT': 81, 'AGCTC': 81, 'AAGGT': 80, 'ACCTT': 79, 'TACCT': 79, 'AGATT': 79, 'GACTA': 76, 'CACGT': 75, 'AGGTT': 70, 'AACCT': 69, 'GCCTT': 67, 'GACAT': 59, 'ACCTG': 57, 'ACCTA': 57, 'AACGT': 56, 'GACTC': 56, 'ACGTT': 56, 'GACTG': 53, 'GGCTT': 53, 'AACGG': 52, 'ATCGT': 51, 'AGCCT': 46, 'GACCT': 43, 'AGCGT': 42, 'CGCTT': 40, 'GACGT': 37, 'ACCGT': 36, 'AACCG': 35, 'AACGC': 34}\n",
            "AAGCC : {'AAGTT': 146, 'AAGCT': 127, 'TAGCT': 116, 'AATCC': 113, 'AATTC': 106, 'AAGTG': 106, 'CAGCT': 106, 'TAGCA': 100, 'ATACC': 100, 'AATGC': 95, 'AAGTC': 94, 'ATGCT': 94, 'ATTCC': 94, 'GAGCA': 92, 'AACTC': 89, 'ATGAC': 85, 'ATGCA': 84, 'AATCT': 81, 'GAGCT': 81, 'AAGGT': 80, 'TATCC': 78, 'CAGCA': 74, 'TAGTC': 74, 'GAACC': 72, 'CAGAC': 71, 'TTGCC': 70, 'AACCT': 69, 'AAGGC': 67, 'ATGGC': 63, 'AGTCC': 62, 'TAGAC': 62, 'GAGCC': 60, 'AGGCA': 60, 'TAACC': 60, 'AATCG': 59, 'AGACC': 58, 'ATGTC': 58, 'TGGCC': 56, 'GAGTC': 56, 'AAGCC': 53, 'CAGTC': 53, 'ACGCA': 52, 'ATGCC': 51, 'AGGAC': 49, 'TAGCC': 48, 'GATCC': 48, 'CAGCG': 46, 'AGGCT': 46, 'ATGCG': 45, 'AGGTC': 43, 'AGGCC': 42, 'AAGCG': 41, 'ACGCT': 41, 'TAGCG': 41, 'ACGAC': 37, 'ACGTC': 37, 'AACCG': 35, 'AACGC': 34, 'GTGCC': 30, 'CAGGC': 28, 'ACGGC': 28, 'TAGGC': 27}\n",
            "AAGCG : {'AAGTT': 146, 'AATTG': 138, 'AAGCT': 127, 'TAGCT': 116, 'AATCC': 113, 'AACTG': 113, 'AATGG': 113, 'ATGAG': 110, 'TAGTG': 109, 'AAGTG': 106, 'CAGCT': 106, 'TAGCA': 100, 'AAGTC': 94, 'ATGCT': 94, 'ATACG': 93, 'GAGCA': 92, 'ATGCA': 84, 'CAGTG': 83, 'AATCT': 81, 'GAGCT': 81, 'AAGGT': 80, 'ACGTG': 75, 'CAGCA': 74, 'AACCT': 69, 'CTGCG': 69, 'CATCG': 69, 'TATCG': 68, 'AAGGC': 67, 'TTGCG': 62, 'GAGCC': 60, 'AGGCA': 60, 'AATCG': 59, 'ACGAG': 58, 'ATTCG': 57, 'ACTCG': 55, 'AAGCC': 53, 'AGACG': 53, 'AACGG': 52, 'ACGCA': 52, 'CAACG': 52, 'ATGCC': 51, 'TAGCC': 48, 'TAACG': 48, 'CAGCG': 46, 'AGGCT': 46, 'GAACG': 46, 'ATGCG': 45, 'AGGCC': 42, 'GATCG': 42, 'AAGCG': 41, 'ACGCT': 41, 'TAGCG': 41, 'TACCG': 37, 'ATCCG': 36, 'AGTCG': 36, 'AACCG': 35, 'AGCCG': 26, 'GACCG': 23}\n",
            "AAGCT : {'ATGAT': 151, 'AACTT': 148, 'AAGTT': 146, 'ATACT': 141, 'AAGCT': 127, 'CAACT': 121, 'TAGCT': 116, 'CAGTT': 114, 'AATCC': 113, 'AATGT': 106, 'AAGTG': 106, 'CAGCT': 106, 'CATCT': 101, 'TAGCA': 100, 'GAACT': 98, 'AAGTC': 94, 'ATGCT': 94, 'AGGAT': 94, 'ATCCT': 94, 'GAGCA': 92, 'TAACT': 92, 'ATGGT': 90, 'GAGTT': 90, 'TGGCT': 89, 'TAGAT': 87, 'AGACT': 85, 'AGTCT': 85, 'ATGCA': 84, 'AATCT': 81, 'GAGCT': 81, 'CAGAT': 81, 'AAGGT': 80, 'TACCT': 79, 'CTGCT': 76, 'CAGCA': 74, 'GTGCT': 71, 'AGGTT': 70, 'AACCT': 69, 'AAGGC': 67, 'TCGCT': 65, 'GAGCC': 60, 'AGGCA': 60, 'AATCG': 59, 'CAGGT': 57, 'TAGGT': 57, 'AACGT': 56, 'ACGTT': 56, 'AAGCC': 53, 'ACGCA': 52, 'ATGCC': 51, 'ACGAT': 51, 'GATCT': 49, 'TAGCC': 48, 'CAGCG': 46, 'AGGCT': 46, 'AGCCT': 46, 'ATGCG': 45, 'GACCT': 43, 'AGGCC': 42, 'AAGCG': 41, 'ACGCT': 41, 'TAGCG': 41, 'ACGGT': 36, 'AACCG': 35, 'CGGCT': 26}\n",
            "AAGGC : {'AAGTT': 146, 'AAGCT': 127, 'AATCC': 113, 'AATGG': 113, 'ATAGC': 110, 'AATTC': 106, 'AATGT': 106, 'AAGTG': 106, 'TTGGC': 99, 'AATGC': 95, 'AAGTC': 94, 'ATGGT': 90, 'AACTC': 89, 'ATTGC': 89, 'ACAGC': 87, 'ATGAC': 85, 'GAAGC': 82, 'AAGGT': 80, 'ATGGA': 80, 'CAGGA': 78, 'ACTGC': 78, 'TAGTC': 74, 'TATGC': 74, 'TAGGA': 73, 'CAGAC': 71, 'ATCGC': 71, 'AAGGC': 67, 'TAAGC': 66, 'CAAGC': 66, 'AGTGC': 66, 'ATGGC': 63, 'TAGAC': 62, 'GAGCC': 60, 'ATGTC': 58, 'TAGGT': 57, 'CAGGT': 57, 'AACGT': 56, 'GAGTC': 56, 'GATGC': 54, 'AAGCC': 53, 'CAGTC': 53, 'AACGG': 52, 'CTGGC': 51, 'CATGC': 51, 'ATGCC': 51, 'AGGAC': 49, 'ACGGA': 48, 'TAGCC': 48, 'AGGTC': 43, 'AGGCC': 42, 'AAGCG': 41, 'ACGAC': 37, 'ACGTC': 37, 'ACGGT': 36, 'AACGC': 34, 'TACGC': 33, 'TCGGC': 31, 'ACGGC': 28, 'CAGGC': 28, 'TAGGC': 27, 'GACGC': 22}\n",
            "AAGGT : {'ATAGT': 164, 'ATGAT': 151, 'GAAGT': 150, 'AACTT': 148, 'AAGTT': 146, 'AAGCT': 127, 'TAGCT': 116, 'CAGTT': 114, 'AATGG': 113, 'ACTGT': 109, 'ACAGT': 109, 'CATGT': 107, 'AATGT': 106, 'AAGTG': 106, 'CAGCT': 106, 'TACGT': 105, 'CAAGT': 96, 'AATGC': 95, 'AAGTC': 94, 'AGGAT': 94, 'ATGCT': 94, 'GATGT': 92, 'ATGGT': 90, 'GAGTT': 90, 'TAGAT': 87, 'AATCT': 81, 'GAGCT': 81, 'CAGAT': 81, 'AAGGT': 80, 'ATGGA': 80, 'TAAGT': 79, 'CAGGA': 78, 'CACGT': 75, 'TAGGA': 73, 'CTGGT': 73, 'AGGTT': 70, 'AACCT': 69, 'AAGGC': 67, 'ATGGC': 63, 'TAGGT': 57, 'CAGGT': 57, 'AACGT': 56, 'ACGTT': 56, 'AAGCC': 53, 'AACGG': 52, 'ACGAT': 51, 'ATCGT': 51, 'ACGGA': 48, 'AGGCT': 46, 'TCGGT': 45, 'AGCGT': 42, 'AAGCG': 41, 'ACGCT': 41, 'GACGT': 37, 'ACGGT': 36, 'CCGGT': 36, 'ACCGT': 36, 'AACGC': 34, 'ACGGC': 28, 'CAGGC': 28, 'TAGGC': 27}\n",
            "AAGTC : {'TAGTA': 154, 'ACTTC': 149, 'AACTT': 148, 'AAGTT': 146, 'ATGTA': 140, 'AATTG': 138, 'CAATC': 130, 'AAGCT': 127, 'CAGTA': 124, 'CAGTT': 114, 'AATCC': 113, 'AACTG': 113, 'TAGTG': 109, 'AATTC': 106, 'AAGTG': 106, 'ACGTA': 105, 'AGTTC': 100, 'TAATC': 96, 'AATGC': 95, 'AAGTC': 94, 'ACATC': 93, 'TGGTC': 90, 'GAGTT': 90, 'AACTC': 89, 'GAGTA': 88, 'TACTC': 87, 'ATGAC': 85, 'CAGTG': 83, 'AGCTC': 81, 'CATTC': 81, 'AAGGT': 80, 'AGGTA': 79, 'ACGTG': 75, 'TAGTC': 74, 'GATTC': 74, 'GAATC': 74, 'CAGAC': 71, 'AGGTT': 70, 'AAGGC': 67, 'CTGTC': 63, 'ATGGC': 63, 'TAGAC': 62, 'GAGCC': 60, 'ATGTC': 58, 'ACGTT': 56, 'GAGTC': 56, 'GACTC': 56, 'AAGCC': 53, 'CAGTC': 53, 'ATGCC': 51, 'AGATC': 50, 'AGGAC': 49, 'TAGCC': 48, 'AGGTC': 43, 'AGGCC': 42, 'AAGCG': 41, 'ACGTC': 37, 'ACGAC': 37, 'AACGC': 34, 'TCGTC': 34, 'CAGGC': 28, 'ACGGC': 28, 'TAGGC': 27, 'CGGTC': 22, 'GCGTC': 22}\n",
            "AAGTG : {'TAGTA': 154, 'AACTT': 148, 'AAGTT': 146, 'CAATG': 141, 'ATGTA': 140, 'CATTG': 140, 'AATTG': 138, 'GATTG': 130, 'AAGCT': 127, 'TACTG': 126, 'CAGTA': 124, 'AGTTG': 121, 'CAGTT': 114, 'TAATG': 114, 'AACTG': 113, 'AATGG': 113, 'ATGAG': 110, 'TAGTG': 109, 'ACATG': 108, 'AATTC': 106, 'AAGTG': 106, 'AGCTG': 106, 'ACGTA': 105, 'AGATG': 101, 'ACTTG': 96, 'AAGTC': 94, 'GAGTT': 90, 'AACTC': 89, 'GAGTA': 88, 'CAGTG': 83, 'CACTG': 83, 'ATCTG': 82, 'GAATG': 81, 'AAGGT': 80, 'AGGTA': 79, 'ACGTG': 75, 'TAGTC': 74, 'AGGTT': 70, 'AAGGC': 67, 'AATCG': 59, 'ATGTC': 58, 'ACGAG': 58, 'ACCTG': 57, 'ACGTT': 56, 'GAGTC': 56, 'AAGCC': 53, 'CAGTC': 53, 'GACTG': 53, 'AACGG': 52, 'CAGCG': 46, 'ATGCG': 45, 'AGGTC': 43, 'AAGCG': 41, 'TAGCG': 41, 'ACGTC': 37, 'AACCG': 35, 'TCGTG': 35, 'CCGTG': 20}\n",
            "AAGTT : {'TAGTA': 154, 'ATGAT': 151, 'AACTT': 148, 'AAGTT': 146, 'ATGTA': 140, 'AATTG': 138, 'CAATT': 137, 'AAGCT': 127, 'AGCTT': 127, 'CAGTA': 124, 'TAGCT': 116, 'CAGTT': 114, 'AACTG': 113, 'TAGTG': 109, 'ACATT': 109, 'CACTT': 107, 'AATTC': 106, 'AATGT': 106, 'AAGTG': 106, 'CAGCT': 106, 'ACGTA': 105, 'GAATT': 105, 'AAGTC': 94, 'AGGAT': 94, 'ATGCT': 94, 'GACTT': 93, 'GAGTT': 90, 'ATGGT': 90, 'AACTC': 89, 'GAGTA': 88, 'TAGAT': 87, 'CAGTG': 83, 'AATCT': 81, 'GAGCT': 81, 'CAGAT': 81, 'AAGGT': 80, 'AGGTA': 79, 'ACCTT': 79, 'AGATT': 79, 'ACGTG': 75, 'TAGTC': 74, 'AGGTT': 70, 'AACCT': 69, 'AAGGC': 67, 'ATGTC': 58, 'CAGGT': 57, 'TAGGT': 57, 'AACGT': 56, 'ACGTT': 56, 'GAGTC': 56, 'AAGCC': 53, 'CCGTT': 53, 'CAGTC': 53, 'ACGAT': 51, 'AGGCT': 46, 'AGGTC': 43, 'AAGCG': 41, 'ACGCT': 41, 'ACGTC': 37, 'ACGGT': 36, 'CGGTT': 35, 'GCGTT': 34}\n",
            "AATCC : {'TATCA': 175, 'ACTTC': 149, 'AATTG': 138, 'ATTAC': 132, 'AAGCT': 127, 'ATTCA': 125, 'ACTAC': 115, 'AGTAC': 115, 'AATCC': 113, 'AATGG': 113, 'AATTC': 106, 'AATGT': 106, 'CATCT': 101, 'AGTTC': 100, 'ATACC': 100, 'AATGC': 95, 'AAGTC': 94, 'ATTCC': 94, 'AGTCA': 94, 'GATAC': 93, 'CATCA': 92, 'CATAC': 91, 'AACTC': 89, 'ATTGC': 89, 'AGTCT': 85, 'AATCT': 81, 'CATTC': 81, 'TATCC': 78, 'ACTGC': 78, 'GATCA': 76, 'ACTCA': 74, 'GATTC': 74, 'TATGC': 74, 'GAACC': 72, 'GTTCC': 71, 'AACCT': 69, 'CATCG': 69, 'TATCG': 68, 'AAGGC': 67, 'AGTGC': 66, 'AGTCC': 62, 'GAGCC': 60, 'TAACC': 60, 'AATCG': 59, 'AGACC': 58, 'ATTCG': 57, 'TGTCC': 57, 'ACTCG': 55, 'GGTCC': 54, 'GATGC': 54, 'AAGCC': 53, 'CATGC': 51, 'ATGCC': 51, 'GATCT': 49, 'GATCC': 48, 'TAGCC': 48, 'GATCG': 42, 'AGGCC': 42, 'AAGCG': 41, 'AGTCG': 36, 'AACCG': 35, 'AACGC': 34}\n",
            "AATCG : {'ATTGG': 200, 'TATCA': 175, 'CATTG': 140, 'AATTG': 138, 'GATTG': 130, 'AAGCT': 127, 'ATTCA': 125, 'AGTTG': 121, 'AATCC': 113, 'AACTG': 113, 'AATGG': 113, 'AGTAG': 108, 'AATTC': 106, 'AATGT': 106, 'AAGTG': 106, 'CATCT': 101, 'ACTTG': 96, 'AATGC': 95, 'ACTGG': 95, 'ATTAG': 95, 'ATTCC': 94, 'AGTCA': 94, 'ATACG': 93, 'CATCA': 92, 'ACTAG': 90, 'AGTCT': 85, 'AATCT': 81, 'GATAG': 81, 'TATCC': 78, 'CTTCG': 77, 'TATGG': 77, 'GATCA': 76, 'ACTCA': 74, 'AACCT': 69, 'CATCG': 69, 'TATCG': 68, 'CATAG': 65, 'AGTCC': 62, 'AATCG': 59, 'ATTCG': 57, 'ACTCG': 55, 'AAGCC': 53, 'AGACG': 53, 'AACGG': 52, 'CAACG': 52, 'GATCT': 49, 'GATCC': 48, 'TAACG': 48, 'CATGG': 48, 'CAGCG': 46, 'GAACG': 46, 'ATGCG': 45, 'GATCG': 42, 'AAGCG': 41, 'TAGCG': 41, 'TGTCG': 40, 'GTTCG': 39, 'GCTCG': 37, 'TACCG': 37, 'AGTCG': 36, 'ATCCG': 36, 'AACCG': 35, 'AGCCG': 26, 'CGTCG': 23, 'GACCG': 23}\n",
            "AATCT : {'TATCA': 175, 'ACTAT': 163, 'AACTT': 148, 'AAGTT': 146, 'AGTAT': 141, 'ATACT': 141, 'AATTG': 138, 'AAGCT': 127, 'ATTCA': 125, 'CAACT': 121, 'TAGCT': 116, 'AATCC': 113, 'AATGG': 113, 'ACTGT': 109, 'CATGT': 107, 'AATTC': 106, 'AATGT': 106, 'CAGCT': 106, 'CATCT': 101, 'GAACT': 98, 'AATGC': 95, 'ATTCC': 94, 'AGTCA': 94, 'ATCCT': 94, 'ATGCT': 94, 'CATCA': 92, 'GATGT': 92, 'TAACT': 92, 'AGTCT': 85, 'AGACT': 85, 'AATCT': 81, 'GAGCT': 81, 'AAGGT': 80, 'TACCT': 79, 'TATCC': 78, 'GATCA': 76, 'ACTCA': 74, 'AACCT': 69, 'CATCG': 69, 'TATCG': 68, 'AGTCC': 62, 'AATCG': 59, 'GGTCT': 58, 'ATTCG': 57, 'AACGT': 56, 'ACTCG': 55, 'AAGCC': 53, 'CGTCT': 53, 'GATCT': 49, 'GATCC': 48, 'AGCCT': 46, 'AGGCT': 46, 'GACCT': 43, 'GATCG': 42, 'AAGCG': 41, 'ACGCT': 41, 'AGTCG': 36, 'AACCG': 35}\n",
            "AATGC : {'ATTGG': 200, 'ACTTC': 149, 'AATTG': 138, 'ATTAC': 132, 'ATTGA': 127, 'GATGA': 123, 'TATGA': 120, 'AGTGA': 119, 'ACTAC': 115, 'AGTAC': 115, 'AATCC': 113, 'AATGG': 113, 'ATAGC': 110, 'ACTGT': 109, 'CATGT': 107, 'AATTC': 106, 'AATGT': 106, 'TCTGC': 102, 'AGTTC': 100, 'AATGC': 95, 'ACTGG': 95, 'AAGTC': 94, 'ATTCC': 94, 'ACTGA': 93, 'GATAC': 93, 'GATGT': 92, 'CATAC': 91, 'AACTC': 89, 'ATTGC': 89, 'CTTGC': 89, 'ACAGC': 87, 'GAAGC': 82, 'AATCT': 81, 'CATTC': 81, 'AAGGT': 80, 'ACTGC': 78, 'TATCC': 78, 'TATGG': 77, 'TATGC': 74, 'GATTC': 74, 'GTTGC': 72, 'CATGA': 71, 'ATCGC': 71, 'AAGGC': 67, 'AGTGC': 66, 'TAAGC': 66, 'CAAGC': 66, 'ATGGC': 63, 'GCTGC': 62, 'AGTCC': 62, 'AATCG': 59, 'AACGT': 56, 'GATGC': 54, 'AAGCC': 53, 'AACGG': 52, 'CATGC': 51, 'CATGG': 48, 'GATCC': 48, 'AACGC': 34, 'TACGC': 33, 'CGTGC': 29, 'CAGGC': 28, 'ACGGC': 28, 'TAGGC': 27, 'GACGC': 22}\n"
          ]
        }
      ]
    },
    {
      "cell_type": "markdown",
      "source": [
        "On va créer une classe de Transformeur qui prend un dictionnaire à deux dimensions `dict(string:dict(string:int))` ainsi qu'une fonction qui associe une valeur d'évaluation à chaque dictionnaire \"fils\"."
      ],
      "metadata": {
        "id": "wXP0CbsaCpCT"
      }
    },
    {
      "cell_type": "code",
      "source": [
        "class TwoDictEval(BaseEstimator, TransformerMixin):\n",
        "\n",
        "  def __init__(self, f):\n",
        "    self.f = f\n",
        "\n",
        "  def fit(self, X, y=None):\n",
        "    return self\n",
        "\n",
        "  def transform(self, X):\n",
        "    out = {}\n",
        "    for motif in X:\n",
        "      out[motif] = self.f(X[motif])\n",
        "    return out"
      ],
      "metadata": {
        "id": "Nnp9iw2MDj63"
      },
      "execution_count": null,
      "outputs": []
    },
    {
      "cell_type": "code",
      "source": [
        "sum_sort_pipeline = Pipeline([\n",
        "    (\"sum\", TwoDictEval(lambda x: sum([value for value in x.values()]))),\n",
        "    (\"sort\", sorter),\n",
        "    (\"collapse\", MotiveCollapser())\n",
        "])\n",
        "im_dict_sum_sorted = sum_sort_pipeline.fit_transform(im_dict)\n",
        "\n",
        "first_n_motives(im_dict_sum_sorted, 20)"
      ],
      "metadata": {
        "colab": {
          "base_uri": "https://localhost:8080/"
        },
        "id": "PtxNCckrENzu",
        "outputId": "f631ac01-4b1d-4ed7-d729-57c39037743a"
      },
      "execution_count": null,
      "outputs": [
        {
          "output_type": "stream",
          "name": "stdout",
          "text": [
            "TAGTA : 11427\n",
            "TTGCA : 11416\n",
            "TGCAT : 11287\n",
            "CAATT : 11197\n",
            "ATGAT : 11172\n",
            "GTAAT : 11138\n",
            "TTGAA : 11137\n",
            "TCAAT : 10969\n",
            "TGAAT : 10943\n",
            "CAGTT : 10856\n",
            "TGCTA : 10854\n",
            "GCATT : 10795\n",
            "GCAAT : 10794\n",
            "CTAGT : 10768\n",
            "AAGTT : 10753\n",
            "GTACT : 10735\n",
            "TCAGT : 10731\n",
            "GAATT : 10729\n",
            "ATGCT : 10671\n",
            "TAACT : 10651\n"
          ]
        }
      ]
    },
    {
      "cell_type": "code",
      "source": [
        "def get_ranking(motif, d):\n",
        "  for i, m in enumerate(d):\n",
        "    if m == motif:\n",
        "      print(\"Motif \" + motif + \" est du rang \" + str(i + 1) + \" avec une valeur de \" + str(d[motif]))\n",
        "\n",
        "get_ranking(consensus, im_dict_sum_sorted)"
      ],
      "metadata": {
        "colab": {
          "base_uri": "https://localhost:8080/"
        },
        "id": "THzlhh7nFUV2",
        "outputId": "e0fe5723-79f0-417c-bf1b-87a1a1c10911"
      },
      "execution_count": null,
      "outputs": [
        {
          "output_type": "stream",
          "name": "stdout",
          "text": [
            "Motif CCAAT est du rang 85 avec une valeur de 9967\n"
          ]
        }
      ]
    },
    {
      "cell_type": "markdown",
      "source": [
        "Notre motif consensus n'est pas dans les meilleurs motifs selon l'algorithme d'Inexact Match. Ceci n'est pas du tout contradictoire aux résultats qu'on a eu avec les autres algorithmes, vu que la fonction d'évaluation qu'on a utilisé pour trier le dictionnaire deux-dimensionnel valorise les motifs ayant beaucoup de \"voisins\" directes en termes de distance de Hamming. Un motif moins complexe que le motif consensus pourrait en théorie avoir beaucoup de voisins, mais avec moins d'occurences respectives pour chaque voisin.\n",
        "\n",
        "On se pose maintenant la question si on commence à voir un peu mieux notre motif consensus si on change un peu les paramèters d'évaluation.."
      ],
      "metadata": {
        "id": "ZxpuDVZuFXRj"
      }
    },
    {
      "cell_type": "markdown",
      "source": [
        "### Essai 1 : \"occurence moyenne\""
      ],
      "metadata": {
        "id": "VngjBILmHpnA"
      }
    },
    {
      "cell_type": "code",
      "source": [
        "avg_sort_pipeline = Pipeline([\n",
        "    (\"sum\", TwoDictEval(lambda x: sum([value for value in x.values()]) / len(x))),\n",
        "    (\"sort\", sorter),\n",
        "    (\"collapse\", MotiveCollapser())\n",
        "])\n",
        "im_dict_avg_sorted = avg_sort_pipeline.fit_transform(im_dict)\n",
        "\n",
        "first_n_motives(im_dict_avg_sorted, 20)"
      ],
      "metadata": {
        "colab": {
          "base_uri": "https://localhost:8080/"
        },
        "id": "BROXfvoZH2JU",
        "outputId": "9c4ef75e-0b8c-4fbb-cb56-2a28a3c331c1"
      },
      "execution_count": null,
      "outputs": [
        {
          "output_type": "stream",
          "name": "stdout",
          "text": [
            "TAGTA : 184.30645161290323\n",
            "CAATT : 183.55737704918033\n",
            "GTAAT : 182.59016393442624\n",
            "ACATT : 180.9655172413793\n",
            "ATGAT : 180.19354838709677\n",
            "TTACA : 179.8793103448276\n",
            "TTGAA : 179.6290322580645\n",
            "TCAAT : 176.9193548387097\n",
            "TGAAT : 176.5\n",
            "GAATT : 175.88524590163934\n",
            "TTGCA : 175.6307692307692\n",
            "ATAGT : 175.60344827586206\n",
            "TAGAT : 175.31481481481484\n",
            "ATACT : 174.86206896551724\n",
            "CACTT : 174.81034482758622\n",
            "AGATT : 174.27586206896552\n",
            "TACAT : 173.92592592592592\n",
            "AAGTT : 173.43548387096774\n",
            "TAATG : 173.40983606557376\n",
            "TTAGA : 172.77586206896552\n"
          ]
        }
      ]
    },
    {
      "cell_type": "code",
      "source": [
        "get_ranking(consensus, im_dict_avg_sorted)"
      ],
      "metadata": {
        "colab": {
          "base_uri": "https://localhost:8080/"
        },
        "id": "_XtIuKexIJ3I",
        "outputId": "d958207c-2a87-4057-e1a5-1ff02b0893ad"
      },
      "execution_count": null,
      "outputs": [
        {
          "output_type": "stream",
          "name": "stdout",
          "text": [
            "Motif CCAAT est du rang 58 avec une valeur de 163.39344262295083\n"
          ]
        }
      ]
    },
    {
      "cell_type": "markdown",
      "source": [
        "On se rapproche, mais on est encore loin des meilleurs motifs...\n",
        "\n",
        "Pourtant, on voit quelques \"variants\" du motif consensus (`CAATT`, `TCAAT`, ..) qui semblent avoir des bons scores selon notre fonction d'évaluation. On peut donc poser l'hypothèse que quelques variations du motif consensus pourraient eux-mêmes avoir beaucoup de \"voisins de Hamming\", et même plus que le motif consensus \"non-modifié\".\n",
        "\n",
        "Concernant le motif consensus, il pourrait s'agir d'un \"minimum local\" de mutations/variations, i.e. d'un motif qui ne varie simplement pas autant que ses voisins directs. Cela est logique sous la perspective d'une pression de sélection plus importante concernant les mutations de ce motif, étant donné que des processus biochimiques impliqués dans la prolifération cellulaire du lévure sont directement dépendants du bon fonctionnement de la liaision du facteur de transcription HAP4 avec notre motif consensus."
      ],
      "metadata": {
        "id": "Tn_5GAPOJl5d"
      }
    },
    {
      "cell_type": "markdown",
      "source": [
        "### Essai 2 : maximum d'occurence multipliée par occurrence moyenne"
      ],
      "metadata": {
        "id": "9Ngd7TJQJp8w"
      }
    },
    {
      "cell_type": "code",
      "source": [
        "mult_sort_pipeline = Pipeline([\n",
        "    (\"sum\", TwoDictEval(lambda x: (sum([value for value in x.values()]) / len(x)) * max(x.values()))),\n",
        "    (\"sort\", sorter),\n",
        "    (\"collapse\", MotiveCollapser())\n",
        "])\n",
        "im_dict_mult_sorted = mult_sort_pipeline.fit_transform(im_dict)\n",
        "\n",
        "first_n_motives(im_dict_mult_sorted, 20)"
      ],
      "metadata": {
        "colab": {
          "base_uri": "https://localhost:8080/"
        },
        "id": "-BPlgNYfMQ28",
        "outputId": "3b2b8b1f-2418-4d82-a479-9c0d587cd3b4"
      },
      "execution_count": null,
      "outputs": [
        {
          "output_type": "stream",
          "name": "stdout",
          "text": [
            "CAATT : 36711.47540983607\n",
            "GTAAT : 36518.03278688525\n",
            "ACATT : 36193.10344827586\n",
            "TCAAT : 35383.87096774194\n",
            "TGAAT : 35300.0\n",
            "ATAGT : 35120.68965517241\n",
            "CAACT : 34216.39344262295\n",
            "CTACT : 34212.903225806454\n",
            "CTAAT : 34193.44262295082\n",
            "TCACT : 34148.148148148146\n",
            "TCCAT : 33990.32258064517\n",
            "GCAAT : 33731.25\n",
            "CTCAT : 33451.724137931036\n",
            "GCATT : 33215.38461538462\n",
            "ATGGT : 33160.65573770492\n",
            "GGAAT : 33173.77049180328\n",
            "CTAGT : 33132.30769230769\n",
            "GCACT : 32864.51612903226\n",
            "ACTGT : 32737.5\n",
            "CCAAT : 32678.688524590165\n"
          ]
        }
      ]
    },
    {
      "cell_type": "code",
      "source": [
        "get_ranking(consensus, im_dict_mult_sorted)"
      ],
      "metadata": {
        "colab": {
          "base_uri": "https://localhost:8080/"
        },
        "id": "VkhiFLPnM-LK",
        "outputId": "dd9ee2d4-6ea5-4cee-d73f-d70aa2284225"
      },
      "execution_count": null,
      "outputs": [
        {
          "output_type": "stream",
          "name": "stdout",
          "text": [
            "Motif CCAAT est du rang 20 avec une valeur de 32678.688524590165\n"
          ]
        }
      ]
    },
    {
      "cell_type": "markdown",
      "source": [
        "On voit finalement notre motif consensus dans les meilleurs motifs selon la nouvelle méthode d'évaluation, cependant le motif est encore seulement dans les vingt meilleurs. Cela supporte encore l'hypothèse du \"minimum locale\" de variations du motif consensus ayant une importance biologique.\n",
        "\n",
        "Pourtant, comme avant, on voit des motifs \"proches\" du motif consensus ayant des très bonnes scores même selon la nouvelle méthode d'évaluation (`CCAAT` en premier, trois motifs `__AAT` dans les Top 5)"
      ],
      "metadata": {
        "id": "9vLn3EqRNGlx"
      }
    },
    {
      "cell_type": "markdown",
      "source": [
        "### Analyse des résultats pour le motif consensus"
      ],
      "metadata": {
        "id": "a-FJyJH8f22V"
      }
    },
    {
      "cell_type": "markdown",
      "source": [
        "On va s'intéresser au dictionnaire de \"voisins directes\" du motif consensus généré par l'algorithme Inexact Match :"
      ],
      "metadata": {
        "id": "ZTbS9RPQf-HN"
      }
    },
    {
      "cell_type": "code",
      "source": [
        "im_dict_consensus = im_dict[consensus]\n",
        "print(len(im_dict_consensus))\n",
        "first_n_motives(im_dict_consensus, 20)"
      ],
      "metadata": {
        "colab": {
          "base_uri": "https://localhost:8080/"
        },
        "id": "tU7ITopuBEpU",
        "outputId": "bcc7baa5-1180-49ba-da0f-a5c1b4c5e8e6"
      },
      "execution_count": null,
      "outputs": [
        {
          "output_type": "stream",
          "name": "stdout",
          "text": [
            "61\n",
            "CCAAT : 200\n",
            "ACTAT : 163\n",
            "CAATT : 137\n",
            "GTAAT : 133\n",
            "TCAAT : 127\n",
            "TGAAT : 126\n",
            "CAACT : 121\n",
            "TCACT : 118\n",
            "CCATT : 112\n",
            "GCTAT : 110\n",
            "CTCAT : 110\n",
            "ACATT : 109\n",
            "ACAGT : 109\n",
            "CTACT : 108\n",
            "CTGAT : 104\n",
            "CTAAT : 96\n",
            "GCATT : 96\n",
            "CAAGT : 96\n",
            "CCAGT : 95\n",
            "GGAAT : 93\n"
          ]
        }
      ]
    },
    {
      "cell_type": "markdown",
      "source": [
        "Même s'il s'agit pas d'un profil (vecteur d'un motif par séquence) mais plutôt d'une collection regroupant la totalité de motifs \"proches\" du motif consensus parmi toutes les séquences, on va l'utiliser pour créer une matrice de probabilités (position x nucléotide), afin de pouvoir comparer les résultats avec les matrices de probabilités générés par les algorithmes Median String et Random Projection :"
      ],
      "metadata": {
        "id": "_MX1bSKVgRFj"
      }
    },
    {
      "cell_type": "code",
      "source": [
        "all_sequences_im_consensus = []\n",
        "for key in im_dict_consensus:\n",
        "  all_sequences_im_consensus += im_dict_consensus[key] * [key]\n",
        "np.array(all_sequences_im_consensus)"
      ],
      "metadata": {
        "colab": {
          "base_uri": "https://localhost:8080/"
        },
        "id": "4cDspg3wiSuf",
        "outputId": "bbb61e7e-f303-4e10-dae7-f7ef3798904e"
      },
      "execution_count": null,
      "outputs": [
        {
          "output_type": "execute_result",
          "data": {
            "text/plain": [
              "array(['CCAAT', 'CCAAT', 'CCAAT', ..., 'CCTAG', 'CCTAG', 'CCTAG'],\n",
              "      dtype='<U5')"
            ]
          },
          "metadata": {},
          "execution_count": 86
        }
      ]
    },
    {
      "cell_type": "code",
      "source": [
        "proba_profile_im = list_to_proba_matrix.fit_transform(all_sequences_im_consensus)\n",
        "weight_matrix(proba_profile_im)"
      ],
      "metadata": {
        "colab": {
          "base_uri": "https://localhost:8080/",
          "height": 565
        },
        "id": "Uf99rAWZjOx4",
        "outputId": "fad3d117-e2e3-4a3d-f4fb-ad515bba563f"
      },
      "execution_count": null,
      "outputs": [
        {
          "output_type": "display_data",
          "data": {
            "text/plain": [
              "<Figure size 800x600 with 2 Axes>"
            ],
            "image/png": "[encoded data removed]"
          },
          "metadata": {}
        }
      ]
    },
    {
      "cell_type": "markdown",
      "source": [
        "# 7) Index Table"
      ],
      "metadata": {
        "id": "rymoNDX1sKZV"
      }
    },
    {
      "cell_type": "markdown",
      "source": [
        "Il s'agit d'une autre méthode de trouvér rapidement des positions de motifs, tout en autorisant des petites variation entre les motifs comparés. En récupérant des différentes variations trouvées d'un motif donné, ainsi que le nombre respectifs d'occurences trouvées, on peut également générer un pseudo-profil récapitulant l'état de variation d'un motif donné sur l'ensemble des séquences étudiées."
      ],
      "metadata": {
        "id": "m0PlhI8Y7fKE"
      }
    },
    {
      "cell_type": "markdown",
      "source": [
        "## 7.1) Classes pour l'algorithme"
      ],
      "metadata": {
        "id": "0oLOmIJG67_f"
      }
    },
    {
      "cell_type": "markdown",
      "source": [
        "### `IndexTableGenerator`\n",
        "\n",
        "**Description** :\n",
        "\n",
        "**Input** : `None` =>\n",
        "\n",
        "**Output** : `None` =>\n",
        "\n",
        "**Hyper-paramètres** : `None`"
      ],
      "metadata": {
        "id": "ddzFRvJN7B9G"
      }
    },
    {
      "cell_type": "code",
      "source": [
        "class IndexTableGenerator(BaseEstimator, TransformerMixin):\n",
        "\n",
        "  def __init__(self, m):\n",
        "    self.m = m\n",
        "\n",
        "  def fit(self, X, y=None):\n",
        "    return self\n",
        "\n",
        "  def transform(self, X):\n",
        "    out = []\n",
        "\n",
        "    X_ = X\n",
        "    if np.shape(X) == ():\n",
        "      X_ = [X]\n",
        "\n",
        "    for sequence in X_:\n",
        "      indexes = {}\n",
        "      for i in range(len(sequence) - self.m + 1):\n",
        "        c = sequence[i:i+self.m]\n",
        "        if c in indexes:\n",
        "          indexes[c].append(i)\n",
        "        else:\n",
        "          indexes[c] = [i]\n",
        "      out.append(indexes)\n",
        "\n",
        "    return out"
      ],
      "metadata": {
        "id": "n8GmPKCpsLki"
      },
      "execution_count": null,
      "outputs": []
    },
    {
      "cell_type": "code",
      "source": [
        "IndexTableGenerator(2).fit_transform(\"abcdefg\")"
      ],
      "metadata": {
        "colab": {
          "base_uri": "https://localhost:8080/"
        },
        "id": "fbW5rSkrv2GJ",
        "outputId": "8cfdc4ba-eefc-41b7-9daa-0bf4c13a8d39"
      },
      "execution_count": null,
      "outputs": [
        {
          "output_type": "execute_result",
          "data": {
            "text/plain": [
              "[{'ab': [0], 'bc': [1], 'cd': [2], 'de': [3], 'ef': [4], 'fg': [5]}]"
            ]
          },
          "metadata": {},
          "execution_count": 89
        }
      ]
    },
    {
      "cell_type": "markdown",
      "source": [
        "### `IndexTableFinder`\n",
        "\n",
        "**Description** :\n",
        "\n",
        "**Input** : `None` =>\n",
        "\n",
        "**Output** : `None` =>\n",
        "\n",
        "**Hyper-paramètres** : `None`"
      ],
      "metadata": {
        "id": "31n-jRCt7OIY"
      }
    },
    {
      "cell_type": "code",
      "source": [
        "class IndexTableFinder(BaseEstimator, ClassifierMixin):\n",
        "\n",
        "  def __init__(self, m, max_var):\n",
        "    self.m = m\n",
        "    self.max_var = max_var\n",
        "    self.table_gen = IndexTableGenerator(m)\n",
        "    self.table = None\n",
        "\n",
        "  def fit(self, X, y=None):\n",
        "    X_ = X\n",
        "    if np.shape(X) == ():\n",
        "      X_ = [X]\n",
        "    self.sequences = X_\n",
        "    self.table = self.table_gen.fit_transform(X_)\n",
        "    return self\n",
        "\n",
        "  def look_with_table(self, sequence, seq_i, motif):\n",
        "    k = len(motif)\n",
        "    motifPos = dict()\n",
        "\n",
        "    for i in range(k - self.m + 1):\n",
        "      c = motif[i:i+self.m]\n",
        "      if c not in self.table[seq_i]:\n",
        "        continue\n",
        "      l = self.table[seq_i][c]\n",
        "      for pos in l:\n",
        "        if i > pos or (pos - i + k >= len(sequence)):\n",
        "          continue\n",
        "        m_seq = sequence[pos-i:pos-i+k]\n",
        "        if hamming(m_seq, motif) <= self.max_var:\n",
        "          if m_seq in motifPos:\n",
        "            if (pos-i) not in motifPos[m_seq]:\n",
        "              motifPos[m_seq].append(pos-i)\n",
        "          else:\n",
        "            motifPos[m_seq] = [pos-i]\n",
        "    return motifPos\n",
        "\n",
        "  def predict(self, X):\n",
        "    # X is a MOTIVE\n",
        "    out = []\n",
        "\n",
        "    for seq_c, sequence in enumerate(self.sequences):\n",
        "      out.append(self.look_with_table(sequence, seq_c, X))\n",
        "\n",
        "    return np.array(out)"
      ],
      "metadata": {
        "id": "B3BklKUpwdVM"
      },
      "execution_count": null,
      "outputs": []
    },
    {
      "cell_type": "markdown",
      "source": [
        "## 7.2) Evaluation + Conclusion Index Table"
      ],
      "metadata": {
        "id": "HU9B2cz87TYx"
      }
    },
    {
      "cell_type": "markdown",
      "source": [
        "On va prendre 3 comme longueur de clefs du dictionnaire Index Table, et on va permettre une variation maximale de 2 sur 5 nucléotides dans la récherche de motifs avec l'Index Table."
      ],
      "metadata": {
        "id": "_g4rmmXX8msi"
      }
    },
    {
      "cell_type": "code",
      "source": [
        "finder = IndexTableFinder(m=3, max_var=2)\n",
        "it_positions = finder.fit(sequences_extended).predict(consensus)\n",
        "it_positions[0:10]"
      ],
      "metadata": {
        "colab": {
          "base_uri": "https://localhost:8080/"
        },
        "id": "XiguooXazwaB",
        "outputId": "94e50bb7-5365-4b4e-e6e4-9f2f7daae088"
      },
      "execution_count": null,
      "outputs": [
        {
          "output_type": "execute_result",
          "data": {
            "text/plain": [
              "array([{'CCAGC': [18, 1430], 'CCACC': [150, 391, 472, 556], 'CCAAG': [156, 1251, 1281, 1421, 2060], 'CCACG': [235, 1008], 'CCATA': [327, 2002], 'CCATT': [381, 1608], 'CCATC': [394, 559, 582, 595, 604, 899, 1883, 2030], 'CCAGA': [403, 729], 'CCAAT': [527, 771], 'CCAAC': [569, 2054], 'CCACA': [588, 610, 1599, 1854], 'CCAAA': [756, 763, 1069], 'CCAGG': [1438, 1791], 'CCAGT': [1683, 1797], 'GCAAG': [26, 834, 1375, 1877], 'TCAAA': [113, 339], 'ACAAC': [204, 1107, 1398, 1455, 1473, 1478], 'GCAAT': [257, 1125, 1135, 1714], 'GCAAC': [323], 'TCAAC': [411], 'ACAAA': [451, 776, 1416], 'ACAAG': [482, 1113, 1145, 1446, 1832, 1925], 'GCAAA': [910, 1266, 1390, 1425, 1433], 'TCAAG': [1214], 'ACAAT': [1467], 'GAAAT': [247, 811, 930, 1735], 'GTAAT': [314, 627, 1552, 1649], 'ATAAT': [487], 'CTAAT': [549], 'CAAAT': [757, 777, 1070, 1267, 1391], 'AAAAT': [765, 905, 917, 1177], 'GGAAT': [795, 1210, 1329, 1337, 1766], 'TAAAT': [1016, 1052, 1292, 1639, 1673], 'TTAAT': [1083], 'AGAAT': [1820]},\n",
              "       {'CCAAT': [52, 291, 373, 1506], 'CCATT': [81], 'CCACG': [254], 'CCATA': [333, 1121], 'CCACA': [538], 'CCACT': [741, 970], 'CCAAG': [853, 938], 'CCAAA': [885], 'CCATG': [963], 'CCAGT': [979, 1230], 'CCACC': [1118], 'CCAGA': [1248], 'CCAAC': [1467], 'ACAAC': [10, 337, 752, 755], 'GCAAA': [95], 'GCAAT': [276, 1191], 'TCAAG': [510], 'TCAAA': [529, 644, 1078, 1424], 'ACAAG': [566, 1097, 1136, 1253], 'TCAAT': [720, 812, 823, 1408], 'ACAAA': [866, 899, 1020], 'ACAAT': [918, 1112, 1152, 1514], 'GCAAG': [1382], 'AGAAT': [64, 944, 1100, 1178], 'ATAAT': [88, 771, 913, 947], 'AAAAT': [97, 193, 902, 910, 927], 'GAAAT': [182, 1476], 'TTAAT': [556, 582, 724, 874], 'GTAAT': [611, 622, 892, 1443], 'CAAAT': [645], 'TAAAT': [692, 780, 1412], 'TGAAT': [776], 'GGAAT': [1318]},\n",
              "       {'CCAGA': [36], 'CCAGT': [203, 214, 332, 475], 'CCAAA': [228], 'CCACA': [306, 355], 'CCAGG': [390, 1081], 'CCACT': [404], 'CCAAT': [486, 1119], 'CCAAC': [505], 'CCATC': [534], 'CCATA': [564], 'CCATT': [586, 1131, 1254], 'CCATG': [973], 'CCACC': [1103], 'TCAAA': [70, 207, 1477], 'GCAAA': [144], 'ACAAT': [149, 437], 'ACAAG': [176, 518], 'TCAAG': [281, 1468], 'TCAAC': [339, 1234], 'GCAAG': [553, 594, 950], 'ACAAC': [560, 1237], 'GCAAC': [730, 1019], 'TCAAT': [1381], 'ACAAA': [1397], 'AGAAT': [3, 221], 'TAAAT': [7, 61, 162, 1446], 'ATAAT': [10, 66, 270, 608, 611, 987, 1377, 1384], 'TTAAT': [53, 426, 1065, 1374], 'AAAAT': [184, 241, 1310, 1441], 'CAAAT': [208, 1398], 'GTAAT': [364, 1242, 1392], 'GAAAT': [398, 528, 909, 1332], 'CTAAT': [500, 628, 1303], 'CGAAT': [1404]},\n",
              "       {'CCACC': [69, 480], 'CCAAT': [72, 268, 513, 542, 878], 'CCATA': [380], 'CCAAC': [474, 483], 'CCAGT': [532], 'CCAGA': [793], 'CCATT': [821], 'CCATC': [886], 'CCAAA': [971], 'TCAAA': [18], 'TCAAT': [182], 'TCAAC': [264, 701, 963], 'GCAAG': [501, 935], 'GCAAA': [524], 'ACAAG': [684], 'ACAAT': [728, 903], 'ACAAA': [807, 928, 1039], 'ACAAC': [1036], 'GTAAT': [6, 111, 590], 'AAAAT': [20, 31, 756, 910, 920, 1022], 'GAAAT': [100, 860, 1088], 'TTAAT': [191, 1063], 'AGAAT': [216, 504, 629, 1009], 'ATAAT': [260, 959], 'GGAAT': [274, 939], 'TAAAT': [286, 1074], 'CTAAT': [581], 'TGAAT': [669], 'CAAAT': [808, 972, 1040]},\n",
              "       {'CCATC': [144], 'CCAAT': [159, 212, 339], 'CCATG': [288], 'CCACC': [479], 'CCACT': [482], 'CCATT': [583], 'CCAGC': [696], 'GCAAA': [40, 760], 'TCAAT': [60], 'ACAAT': [120, 359], 'TCAAC': [155], 'ACAAA': [219], 'GCAAG': [267], 'TCAAA': [363, 442], 'ACAAG': [558], 'TCAAG': [626], 'AAAAT': [6, 206, 552], 'TTAAT': [27, 734, 771, 779], 'GAAAT': [51], 'TAAAT': [65, 400, 621], 'AGAAT': [133, 413, 682], 'TGAAT': [173], 'GGAAT': [322], 'CGAAT': [348], 'CAAAT': [443, 761]},\n",
              "       {'CCAAG': [172, 312], 'CCATC': [192, 749], 'CCACG': [248], 'CCATT': [270, 410, 913, 978], 'CCACT': [286, 705], 'CCAAT': [363, 671, 840], 'CCACA': [595], 'CCAGC': [720], 'CCAGT': [809], 'CCAAC': [992], 'GCAAC': [39], 'ACAAA': [150, 525, 538, 1030, 1034, 1038, 1042, 1068], 'TCAAG': [164, 942], 'GCAAA': [234, 657], 'TCAAC': [263], 'ACAAC': [359], 'TCAAT': [544, 1009], 'GCAAG': [662, 885], 'ACAAT': [825], 'TCAAA': [960], 'ATAAT': [117, 182], 'AGAAT': [175], 'AAAAT': [319, 457], 'TGAAT': [399, 685, 1077], 'GAAAT': [498, 676], 'TTAAT': [651], 'CTAAT': [731, 873, 1073], 'GGAAT': [908], 'CAAAT': [961]},\n",
              "       {'CCACT': [117], 'CCAAT': [155], 'CCATA': [200], 'CCAAC': [249], 'CCATT': [288], 'CCAGT': [365], 'CCATG': [381], 'GCAAT': [18, 223], 'ACAAT': [128, 402], 'ACAAA': [282, 521], 'TCAAT': [511], 'AAAAT': [3, 49, 461], 'TAAAT': [27, 323, 371, 545], 'CTAAT': [44], 'ATAAT': [94, 271, 353, 591], 'TGAAT': [159, 268, 384, 576], 'CGAAT': [192, 210, 307], 'GTAAT': [236], 'AGAAT': [264, 564], 'CAAAT': [283, 522], 'TTAAT': [423], 'GAAAT': [450]},\n",
              "       {'CCATT': [16, 63], 'CCAAT': [224, 253], 'ACAAA': [109, 273], 'TCAAA': [131], 'TCAAT': [154], 'ACAAG': [215], 'ACAAC': [263], 'ACAAT': [289], 'TTAAT': [119], 'TGAAT': [168, 279], 'TAAAT': [180], 'ATAAT': [208, 232], 'CGAAT': [267], 'AAAAT': [275]},\n",
              "       {'CCAGA': [12], 'CCAAC': [129], 'CCATC': [205], 'CCAGT': [288], 'CCAGG': [353], 'TCAAG': [29], 'TCAAC': [91], 'GCAAG': [165, 216], 'TGAAT': [69, 292], 'CTAAT': [102], 'AGAAT': [123]},\n",
              "       {'CCAGT': [0, 6, 466, 479], 'CCATT': [26], 'CCATA': [40, 226], 'CCAAT': [325, 394, 441], 'GCAAA': [107], 'ACAAA': [197], 'TCAAG': [213, 350], 'GCAAC': [257], 'ACAAC': [363], 'ACAAT': [447], 'GGAAT': [117, 402], 'AGAAT': [179], 'AAAAT': [206, 267], 'TTAAT': [233], 'TGAAT': [286], 'CTAAT': [377], 'GTAAT': [469, 482]}],\n",
              "      dtype=object)"
            ]
          },
          "metadata": {},
          "execution_count": 102
        }
      ]
    },
    {
      "cell_type": "markdown",
      "source": [
        "On va sommer tous les motifs trouvés (multipliés par leurs fréquences respectives) pour générer le pseudo-profil :"
      ],
      "metadata": {
        "id": "p2eaw4299L0W"
      }
    },
    {
      "cell_type": "code",
      "source": [
        "it_profile = []\n",
        "for d in it_positions:\n",
        "  for motif in d.keys():\n",
        "    it_profile += len(d[motif]) * [motif]\n",
        "\n",
        "it_profile = np.array(it_profile)\n",
        "it_profile"
      ],
      "metadata": {
        "colab": {
          "base_uri": "https://localhost:8080/"
        },
        "id": "V8jhoz42577q",
        "outputId": "f34291e6-3310-4f90-dbf2-b24072e77f71"
      },
      "execution_count": null,
      "outputs": [
        {
          "output_type": "execute_result",
          "data": {
            "text/plain": [
              "array(['CCAGC', 'CCAGC', 'CCACC', ..., 'AAAAT', 'TGAAT', 'TGAAT'],\n",
              "      dtype='<U5')"
            ]
          },
          "metadata": {},
          "execution_count": 92
        }
      ]
    },
    {
      "cell_type": "code",
      "source": [
        "proba_profile_it = list_to_proba_matrix.fit_transform(it_profile)\n",
        "weight_matrix(proba_profile_it)"
      ],
      "metadata": {
        "colab": {
          "base_uri": "https://localhost:8080/",
          "height": 565
        },
        "id": "XeEWtlpu6WWW",
        "outputId": "8d98c988-d1f6-4eb6-f876-b88e43be96c5"
      },
      "execution_count": null,
      "outputs": [
        {
          "output_type": "display_data",
          "data": {
            "text/plain": [
              "<Figure size 800x600 with 2 Axes>"
            ],
            "image/png": "[encoded data removed]"
          },
          "metadata": {}
        }
      ]
    },
    {
      "cell_type": "markdown",
      "source": [
        "On va enregistrer ce profil afin de le comparer avec les autres profils générés pendant ce projet."
      ],
      "metadata": {
        "id": "h5QLhg9g9ebS"
      }
    },
    {
      "cell_type": "markdown",
      "source": [
        "# 8) Log Likelihood"
      ],
      "metadata": {
        "id": "AzN9Wf7JLIEW"
      }
    },
    {
      "cell_type": "markdown",
      "source": [
        "On a maintenant quatre matrices de probabilité de dimensions `k . nuc` pour une taille k de 5 :"
      ],
      "metadata": {
        "id": "rObwn40FLUWR"
      }
    },
    {
      "cell_type": "code",
      "source": [
        "proba_profile_mss, proba_profile_rp, proba_profile_im, proba_profile_it"
      ],
      "metadata": {
        "colab": {
          "base_uri": "https://localhost:8080/"
        },
        "id": "g_X-M-K_nAvW",
        "outputId": "0fa91d5c-ab08-4a03-ca7a-281602d35c45"
      },
      "execution_count": null,
      "outputs": [
        {
          "output_type": "execute_result",
          "data": {
            "text/plain": [
              "(array([[0.05504587, 0.10091743, 0.94495413, 0.90825688, 0.00917431],\n",
              "        [0.88073394, 0.87155963, 0.01834862, 0.01834862, 0.02752294],\n",
              "        [0.        , 0.        , 0.02752294, 0.03669725, 0.06422018],\n",
              "        [0.06422018, 0.02752294, 0.00917431, 0.03669725, 0.89908257]]),\n",
              " array([[0.16744548, 0.        , 1.        , 0.32320872, 0.        ],\n",
              "        [0.31542056, 1.        , 0.        , 0.14330218, 0.        ],\n",
              "        [0.2546729 , 0.        , 0.        , 0.29049844, 0.        ],\n",
              "        [0.26246106, 0.        , 0.        , 0.24299065, 1.        ]]),\n",
              " array([[0.10447163, 0.08722679, 0.68177261, 0.60517345, 0.04912773],\n",
              "        [0.54541809, 0.61459795, 0.07780229, 0.09023461, 0.05414077],\n",
              "        [0.19290154, 0.14397433, 0.12813315, 0.16583116, 0.1116904 ],\n",
              "        [0.15720874, 0.15420092, 0.11229196, 0.13876078, 0.78504111]]),\n",
              " array([[0.27315647, 0.16569245, 1.        , 0.8125    , 0.18502698],\n",
              "        [0.36016187, 0.61308453, 0.        , 0.05553058, 0.12185252],\n",
              "        [0.17491007, 0.0903777 , 0.        , 0.06205036, 0.10768885],\n",
              "        [0.19177158, 0.13084532, 0.        , 0.06991906, 0.58543165]]))"
            ]
          },
          "metadata": {},
          "execution_count": 94
        }
      ]
    },
    {
      "cell_type": "markdown",
      "source": [
        "On va maintenant utiliser l'algorithme **Log-Likelihood** et la matrice de probabilité empirique du motif consensus pour trouver quel algorithme a réussi à capturer le mieux les \"vraies\" probabilités des différents nucléotides du motif consensus."
      ],
      "metadata": {
        "id": "Ci5sVMJ-nDVW"
      }
    },
    {
      "cell_type": "markdown",
      "source": [
        "## 8.1) Récuperation des données empiriques"
      ],
      "metadata": {
        "id": "lYeP8XK8_zY9"
      }
    },
    {
      "cell_type": "markdown",
      "source": [
        "Pour trouver une matrice de probabilités \"empirique\", on va chercher sur la base de données **Jaspar** : https://jaspar.elixir.no/matrix/MA0314.2/?revcomp=1\n"
      ],
      "metadata": {
        "id": "NtNGUicMsMfu"
      }
    },
    {
      "cell_type": "markdown",
      "source": [
        "![image.png](data:image/png;base64,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)"
      ],
      "metadata": {
        "id": "_bKm2Bytr67A"
      }
    },
    {
      "cell_type": "code",
      "source": [
        "jaspar = np.array([\n",
        "  [12,50,38,0,0,113,115,3,9,94,21,56],\n",
        "  [26,18,4,115,114,0,0,0,84,0,19,32],\n",
        "  [49,42,67,0,1,2,0,1,20,17,611,8],\n",
        "  [28,5,6,0,0,0,0,111,2,4,14,9]\n",
        "])\n",
        "jaspar_proba = ProbabilityMatrixTransformer().fit_transform(jaspar)\n",
        "jaspar_proba"
      ],
      "metadata": {
        "id": "jz0RF8bxnj_5",
        "colab": {
          "base_uri": "https://localhost:8080/"
        },
        "outputId": "1504d689-69d9-4e28-e697-a8c76592a698"
      },
      "execution_count": null,
      "outputs": [
        {
          "output_type": "execute_result",
          "data": {
            "text/plain": [
              "array([[0.10434783, 0.43478261, 0.33043478, 0.        , 0.        ,\n",
              "        0.9826087 , 1.        , 0.02608696, 0.07826087, 0.8173913 ,\n",
              "        0.1826087 , 0.48695652],\n",
              "       [0.22608696, 0.15652174, 0.03478261, 1.        , 0.99130435,\n",
              "        0.        , 0.        , 0.        , 0.73043478, 0.        ,\n",
              "        0.16521739, 0.27826087],\n",
              "       [0.42608696, 0.36521739, 0.5826087 , 0.        , 0.00869565,\n",
              "        0.0173913 , 0.        , 0.00869565, 0.17391304, 0.14782609,\n",
              "        5.31304348, 0.06956522],\n",
              "       [0.24347826, 0.04347826, 0.05217391, 0.        , 0.        ,\n",
              "        0.        , 0.        , 0.96521739, 0.0173913 , 0.03478261,\n",
              "        0.12173913, 0.07826087]])"
            ]
          },
          "metadata": {},
          "execution_count": 95
        }
      ]
    },
    {
      "cell_type": "markdown",
      "source": [
        "La matrice comprend les nucléotides entourant le motif. On va suivre les étapes suivantes :\n",
        "*  Sélection des motifs selon l'algorithme Log-Likelihood utilisant la matrice empirique\n",
        "*  Création d'une matrice de probabilités à partir des motifs sélectionnées\n",
        "*  Pour chaque des quatres matrices générées précédemment, calcul d'une **erreur carrée**\n",
        "*  Sélection de la matrice (et donc de l'algorithme) ayant l'erreur carrée minimale"
      ],
      "metadata": {
        "id": "4NSx1UwGrOe5"
      }
    },
    {
      "cell_type": "markdown",
      "source": [
        "## 8.2) Création de l'algorithme LogLikelihood"
      ],
      "metadata": {
        "id": "g0qWIesO_4F-"
      }
    },
    {
      "cell_type": "code",
      "source": [
        "import math\n",
        "from math import log2\n",
        "\n",
        "class LogLikelihoodEstimator(BaseEstimator, ClassifierMixin):\n",
        "\n",
        "  def __init__(self, alphabet):\n",
        "    self.alphabet = alphabet\n",
        "\n",
        "  def letter_index(self, letter):\n",
        "    for i in range(len(self.alphabet)):\n",
        "      if letter == self.alphabet[i]:\n",
        "        return i\n",
        "    return -1\n",
        "\n",
        "  def fit(self, X, y=None):\n",
        "    self.PWM = X\n",
        "    self.f_0 = np.array([sum(l)/len(l) for l in self.PWM])\n",
        "\n",
        "    return self\n",
        "\n",
        "  def predict(self, X):\n",
        "    out = []\n",
        "\n",
        "    X_ = X\n",
        "    if np.shape(X) == ():\n",
        "      X_ = [X]\n",
        "\n",
        "    for motif in X_:\n",
        "      assert len(motif) == len(self.PWM[0])\n",
        "\n",
        "      ll = 0\n",
        "\n",
        "      for i, letter in enumerate(motif):\n",
        "        n_index = self.letter_index(letter)\n",
        "        rapport = self.PWM[n_index][i] / self.f_0[n_index]\n",
        "        if rapport != 0:\n",
        "          ll += math.log(rapport, 2)\n",
        "        else:\n",
        "          ll = -10e4\n",
        "\n",
        "      out.append(ll)\n",
        "\n",
        "    if len(out) == 1:\n",
        "      return out[0]\n",
        "    return np.array(out)"
      ],
      "metadata": {
        "id": "stGJCThkuFB4"
      },
      "execution_count": null,
      "outputs": []
    },
    {
      "cell_type": "markdown",
      "source": [
        "## 8.3) Génération du profil \"optimal\""
      ],
      "metadata": {
        "id": "GKrXrhMh_8MS"
      }
    },
    {
      "cell_type": "code",
      "source": [
        "k = 12\n",
        "ll_est = LogLikelihoodEstimator(nuc).fit(jaspar_proba)"
      ],
      "metadata": {
        "id": "1R0aXnxhxN-G"
      },
      "execution_count": null,
      "outputs": []
    },
    {
      "cell_type": "code",
      "source": [
        "profile_ll = []\n",
        "\n",
        "for seq in sequences_extended:\n",
        "    bestRapport = 0\n",
        "    bestMotif = seq[0:k]\n",
        "    for i in range(len(seq) - k + 1):\n",
        "        currentMotif = seq[i:i+k]\n",
        "\n",
        "        currentRapport = ll_est.predict(currentMotif)\n",
        "        if(currentRapport > bestRapport):\n",
        "            bestRapport = currentRapport\n",
        "            bestMotif = currentMotif\n",
        "\n",
        "    profile_ll.append(bestMotif[3:8])\n",
        "\n",
        "np.array(profile_ll)"
      ],
      "metadata": {
        "colab": {
          "base_uri": "https://localhost:8080/"
        },
        "id": "nkT_4sNkxbpf",
        "outputId": "f313df2d-cfd6-4c0b-dfed-f5169e3d94b9"
      },
      "execution_count": null,
      "outputs": [
        {
          "output_type": "execute_result",
          "data": {
            "text/plain": [
              "array(['CCAAT', 'CCAAT', 'CCAAT', 'CCAAT', 'CCAAT', 'CCAAT', 'CCAAT',\n",
              "       'CCAAT', 'CCCCC', 'CCAAT', 'CCAAT', 'AGGAG', 'CTTAC', 'CCAAT',\n",
              "       'CCAAT', 'CCAAT', 'CCAAT', 'CCAAT', 'CCAAT', 'CCAAT', 'CCAAT',\n",
              "       'CCAAT', 'CCAAT', 'CCAAT', 'CCAAT', 'CCAAT', 'CCAAT', 'CCAAA',\n",
              "       'CCAAT', 'CCAAT', 'CCAAT', 'CCAAT', 'CCAAT', 'CCAAT', 'CCAAT',\n",
              "       'CCAAT', 'CCAAT', 'AGCTT', 'CCAAT', 'CCAAT', 'CCAAT', 'CCAAT',\n",
              "       'CCAAT', 'CCAAA', 'CCAAT', 'CGAAT', 'CCAAT', 'TCAGA', 'CCAAT',\n",
              "       'CCAAT', 'CCAAT', 'CCAAT', 'CCAAT', 'CCAAT', 'CCAAT', 'CCAAT',\n",
              "       'CCAAT', 'CCAAT', 'CCAAT', 'CCAAT', 'CCAAT', 'CCAAT', 'CCAAT',\n",
              "       'CCAAT', 'AGTTG', 'CCAAT', 'CCAAT', 'CCAAT', 'CCAAT', 'CCAAT',\n",
              "       'CCAAT', 'CCAAT', 'CGAAT', 'CCAAT', 'CCAAT', 'CGAAA', 'GTATC',\n",
              "       'TCTCA', 'CATTC', 'TGTCA', 'CCAAA', 'CCAAT', 'CGAAT', 'CCAAT',\n",
              "       'CCAAT', 'CCAAT', 'CCAAT', 'CCAAT', 'CCAAT', 'CCAAG', 'CCAAT',\n",
              "       'CCAAT', 'CCAAT', 'CGAAT', 'CCAAT', 'CCAAT', 'ACTAG', 'CCAAT',\n",
              "       'CCAAT', 'GTAAT', 'CCAAT', 'CCAAT', 'CTACT', 'CCAAT', 'ATTGA',\n",
              "       'CCAAT', 'CCAAT', 'CCAAT', 'CTATA'], dtype='<U5')"
            ]
          },
          "metadata": {},
          "execution_count": 98
        }
      ]
    },
    {
      "cell_type": "code",
      "source": [
        "proba_profile_ll = list_to_proba_matrix.fit_transform(profile_ll)\n",
        "weight_matrix(proba_profile_ll)"
      ],
      "metadata": {
        "colab": {
          "base_uri": "https://localhost:8080/",
          "height": 565
        },
        "id": "moDFJNGZ2to8",
        "outputId": "27ba147e-c6df-4089-95dc-a781bf7b3bd7"
      },
      "execution_count": null,
      "outputs": [
        {
          "output_type": "display_data",
          "data": {
            "text/plain": [
              "<Figure size 800x600 with 2 Axes>"
            ],
            "image/png": "[encoded data removed]"
          },
          "metadata": {}
        }
      ]
    },
    {
      "cell_type": "markdown",
      "source": [
        "## 8.4) Évaluation par erreur carrée"
      ],
      "metadata": {
        "id": "-gx1aB_IAW-1"
      }
    },
    {
      "cell_type": "code",
      "source": [
        "class TotalSquaredErrorTransformer(BaseEstimator, TransformerMixin):\n",
        "\n",
        "  def __init__(self, mat):\n",
        "    self.mat = mat\n",
        "\n",
        "  def fit(self, X, y=None):\n",
        "    return self\n",
        "\n",
        "  def transform(self, X):\n",
        "    assert np.shape(X) == np.shape(self.mat)\n",
        "\n",
        "    error = 0.\n",
        "    for i, l in enumerate(X):\n",
        "      for j, c in enumerate(l):\n",
        "        error += (X[i][j] - self.mat[i][j]) ** 2\n",
        "\n",
        "    return error"
      ],
      "metadata": {
        "id": "58FOdxng3D2l"
      },
      "execution_count": null,
      "outputs": []
    },
    {
      "cell_type": "code",
      "source": [
        "error_trans = TotalSquaredErrorTransformer(proba_profile_ll)\n",
        "\n",
        "print(\"Erreur totale de la matrice MSS : \" + str(error_trans.fit_transform(proba_profile_mss)))\n",
        "print(\"Erreur totale de la matrice Random Projection : \" + str(error_trans.fit_transform(proba_profile_rp)))\n",
        "print(\"Erreur totale de la matrice Inexact Match : \" + str(error_trans.fit_transform(proba_profile_im)))\n",
        "print(\"Erreur totale de la matrice Index Table : \" + str(error_trans.fit_transform(proba_profile_it)))"
      ],
      "metadata": {
        "colab": {
          "base_uri": "https://localhost:8080/"
        },
        "id": "WUn0EN2R-Dxp",
        "outputId": "0608064b-e9a1-44f8-ba81-76dee6111a31"
      },
      "execution_count": null,
      "outputs": [
        {
          "output_type": "stream",
          "name": "stdout",
          "text": [
            "Erreur totale de la matrice MSS : 0.0336671997306624\n",
            "Erreur totale de la matrice Random Projection : 1.0114732039622805\n",
            "Erreur totale de la matrice Inexact Match : 0.4604511515336287\n",
            "Erreur totale de la matrice Index Table : 0.6044875687922341\n"
          ]
        }
      ]
    },
    {
      "cell_type": "markdown",
      "source": [
        "## 8.5) Conclusion sur les matrices des différents algos"
      ],
      "metadata": {
        "id": "soVf40dA_m-K"
      }
    },
    {
      "cell_type": "markdown",
      "source": [
        "# 9) Conclusion Générale"
      ],
      "metadata": {
        "id": "xu0FoBe6-nKh"
      }
    }
  ],
  "metadata": {
    "colab": {
      "provenance": [],
      "toc_visible": true
    },
    "kernelspec": {
      "display_name": "Python 3",
      "name": "python3"
    },
    "language_info": {
      "name": "python"
    }
  },
  "nbformat": 4,
  "nbformat_minor": 0
}