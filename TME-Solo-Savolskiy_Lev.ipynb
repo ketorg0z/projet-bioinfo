{
 "cells": [
  {
   "cell_type": "markdown",
   "metadata": {
    "id": "87346dca-c701-42cf-a82d-91ad906d2a03"
   },
   "source": [
    "# TME-Solo Projet Bio-informatique\n",
    "\n",
    "Nom: Savolskiy\n",
    "\n",
    "Prénom: Lev\n",
    "\n",
    "Numéro Etudiant: 21241759\n"
   ]
  },
  {
   "cell_type": "markdown",
   "metadata": {
    "id": "k4Ljx8FJe9vb"
   },
   "source": [
    "# **Consignes**\n",
    "\n",
    "## Document à rendre\n",
    "Créez un document TME_Solo_Nom_PreNom.py. Chaque question nécessite d'écrire une fonction, mettre cette fonction dans le fichier TME_Solo_Nom_PreNom.py. \n",
    "\n",
    "Le Jupyter Notebook ne sera pas conservé et seul le fichier TME-Solo-Nom-PreNom.py sera accepté comme réponse à cette évaluation et à\n",
    "déposer sur Moodle. Vous pouvez donc modifier comme vous le souhaitez votre Jupyter Notebook, par exemple en ajoutant\n",
    "des cellules pour faire des essais.\n",
    "\n",
    "## Documents autorisés\n",
    "\n",
    "Vous n'êtes pas autorisés à utiliser d'autres ressources que celles qui vous sont fournies sur Moodle. Vous ne pouvez pas utiliser Internet autrement que pour accéder à Moodle, vous devez pas consulter vos anciens TMEs. Si cette consigne n'est pas respectée, cela signifie automatiquement un zéro pour votre copie. Aidez-vous de la fonction help(***), où *** doit être remplacé par l'objet, la fonction... pour lequel vous souhaitez avoir plus d'informations."
   ]
  },
  {
   "cell_type": "markdown",
   "metadata": {},
   "source": [
    "## Instructions pour vider le cache\n",
    "La commande `quota`vous permet d'avoir accès aux quota qu'il vous reste. \n",
    "La commande `Ncdu` lancée dans votre terminal vous permet d'avoir une vision des ressources memoire qu'il vous reste\n",
    "Vider ensuite le cache des applications qui utilisent trop de mémoire avec la commande:\n",
    "`rm -rf ***` ou *** est le dossier qui prend trop de place\n",
    "\n",
    "La commande `rm -rf .cache` vide l'intégralité du cache. Attention, si une application accède au cache, vous ne pourrez pas le supprimer.\n",
    "\n",
    "Pour plus de méthodes pour régler le problème de dépassement de quota, référez-vous à :\n",
    "https://www-ppti.ufr-info-p6.jussieu.fr/index.php/faq/technique\n",
    "\n",
    "Sinon contacter un responsable du service infromatique ppti qui est dans le meme couloir de la salle TME (pièce à gauche en sortant de la salle de TME)."
   ]
  },
  {
   "cell_type": "code",
   "execution_count": 1,
   "metadata": {
    "id": "odSSWJj9NbLG"
   },
   "outputs": [
    {
     "ename": "ModuleNotFoundError",
     "evalue": "No module named 'TME_Solo_Savolskiy_Lev.py'; 'TME_Solo_Savolskiy_Lev' is not a package",
     "output_type": "error",
     "traceback": [
      "\u001b[0;31m---------------------------------------------------------------------------\u001b[0m",
      "\u001b[0;31mModuleNotFoundError\u001b[0m                       Traceback (most recent call last)",
      "\u001b[1;32m/users/nfs/Etu9/21241759/Documents/Bioinfo/TMESolo/TME-Solo-G1.ipynb Cell 4\u001b[0m line \u001b[0;36m4\n\u001b[1;32m      <a href='vscode-notebook-cell:/users/nfs/Etu9/21241759/Documents/Bioinfo/TMESolo/TME-Solo-G1.ipynb#W3sZmlsZQ%3D%3D?line=0'>1</a>\u001b[0m get_ipython()\u001b[39m.\u001b[39mrun_line_magic(\u001b[39m'\u001b[39m\u001b[39mload_ext\u001b[39m\u001b[39m'\u001b[39m, \u001b[39m'\u001b[39m\u001b[39mautoreload\u001b[39m\u001b[39m'\u001b[39m)\n\u001b[1;32m      <a href='vscode-notebook-cell:/users/nfs/Etu9/21241759/Documents/Bioinfo/TMESolo/TME-Solo-G1.ipynb#W3sZmlsZQ%3D%3D?line=1'>2</a>\u001b[0m get_ipython()\u001b[39m.\u001b[39mrun_line_magic(\u001b[39m'\u001b[39m\u001b[39mautoreload\u001b[39m\u001b[39m'\u001b[39m, \u001b[39m'\u001b[39m\u001b[39m2\u001b[39m\u001b[39m'\u001b[39m)\n\u001b[0;32m----> <a href='vscode-notebook-cell:/users/nfs/Etu9/21241759/Documents/Bioinfo/TMESolo/TME-Solo-G1.ipynb#W3sZmlsZQ%3D%3D?line=3'>4</a>\u001b[0m \u001b[39mimport\u001b[39;00m \u001b[39mTME_Solo_Savolskiy_Lev\u001b[39;00m\u001b[39m.\u001b[39;00m\u001b[39mpy\u001b[39;00m  \u001b[39m##modifier le nom en fonction de votre cas\u001b[39;00m\n",
      "\u001b[0;31mModuleNotFoundError\u001b[0m: No module named 'TME_Solo_Savolskiy_Lev.py'; 'TME_Solo_Savolskiy_Lev' is not a package"
     ]
    }
   ],
   "source": [
    "%load_ext autoreload\n",
    "%autoreload 2\n",
    "\n",
    "import TME_Solo_Savolskiy_Lev.py  ##modifier le nom en fonction de votre cas"
   ]
  },
  {
   "cell_type": "markdown",
   "metadata": {},
   "source": [
    "---\n",
    "Voici un ensemble de séquences (`dataSeqs`) ayant des motifs variables de taille k=6 cachés sur chaque séquence.  Les motifs cachés sont stockés à `trueMotifs`.\n",
    "On note que l'alphabet est fictif et utilisé ici pour des raisons pédagogiques."
   ]
  },
  {
   "cell_type": "code",
   "execution_count": 2,
   "metadata": {
    "id": "m3OrmpuBh2LZ"
   },
   "outputs": [],
   "source": [
    "k = 6\n",
    "\n",
    "nuc = ('A', 'C', 'D', 'P', 'S')\n",
    "\n",
    "dataSeqs = [\n",
    " 'CPCCCSDCSPDSCASADPDSCAPDCDAADDSAASASSPDACAASCA',\n",
    " 'PSPADDDDPSCADSDPACPSDPDDCDSACACPDSCSCADSSSSDAD',\n",
    " 'CPASPDAADPAACPDAASASDDACACPDSCPSAPCCCAPAAACSPS',\n",
    " 'DCAPPDACDCDCACPDSPPPPCCCSSPSSDDPDSSPCACPDASAAC',\n",
    " 'ASSADADSASDSACDASDPDSPPCSPAAACPDSPDPPPPDPASASD',\n",
    " 'PPCCPDSPACPDASAPASPDDDPDASDSCPAPCAASSCADCDAPAA',\n",
    " 'CPCPPDCPDSACPSADAACPPPAAACDSAAAAPDSPCCCSDSPASS',\n",
    " 'PPCSPDCACPSDASCASCCPSAAAPPDSPSPCCPADSCADCCSAAD',\n",
    " 'ASDPADDSPPSSADPDSCSSPCPDAASDADAAPSCAAAADACAACP',\n",
    " 'ADCSSSCSPDSDSAAPSDDCPPACDCSCSSPCADPDPAPSAAPDSP',\n",
    " 'SSPADPASPPDPPAPSACCCSCCCSACPDASDACDAPDDCCDPCAD',\n",
    " 'DDDAACPDPSDSACDDDPACADDDAAPPDSPDCACAASDADCDCSP',\n",
    " 'DCSSAACDDPCAPACACADACAAPCPCPPAPPPACPDSCDSCAADC',\n",
    " 'PACSCSADPDDSACPDSPCCPACDAPASDPAPCSACCAASADSPCA',\n",
    " 'DDPSPCCPPDADDDAASPCAPPDSPDPSAASADDCSDAADADPCCA',\n",
    " 'DSCPCSSPDDPPADPDSCDCPCCAPDPDDSDACDCPSSCCDSDSCS',\n",
    " 'CSDSPPDSSPCCPPPASSAADAAAAPDSPSSDSDACSSPACDAAPS',\n",
    " 'SSPSPACSSPSCCDACPDSCPSSSDSDDAACAASSCAADCSAACAS',\n",
    " 'PAPCPCSCDCPCSDCCDCPPDCADSDSASSACCSASDPPAAPPDSP',\n",
    " 'CDADCPSCDAASPPSSSDCCPACPDASCASDSSPADASSDAADSCP',\n",
    " 'ADPPPSDDACPDSCPSSACSDDCDPDAPPADCDCCAPSCPADPPSD',\n",
    " 'SPASCSPCDCCDACPDSPASDSPCSSCCPSAPDSDSACDCSCSAPC',\n",
    " 'CDDASDCCACSAADPDSCPDACAASCPPPAPSDDCASCSDASACSD',\n",
    " 'SDSCAAASCPADSSPAPCCSPCPSACACPDSPDDPPPPCCPASCDA',\n",
    " 'CPPAPADSDPSCAPCPCDSAPACPDCSPDCDSPAADCADCACPDAS',\n",
    " 'SPCPAADSPASDACPDASCPPPCAAPSCAAACDSCSSSPSCAPAPA',\n",
    " 'ACCPDSSDASACPDSPSCCPCCPSPDSCDDDCDSSCPSSSCCSDAC',\n",
    " 'AAPDSPSACDPDDPDAADSPPCCSSDPSDDAAPSPCSACACPDCSP',\n",
    " 'PCAASPPSPSPDDSAPAAAASADPCDSADCCACPDASSSDCCDCAS',\n",
    " 'SCDPCPSSSAPDCCSCACPDSCCDPSCDPPCCPPCSCSPPAADPDP']\n",
    "\n",
    "#Motifs cachés\n",
    "trueMotifs = ['ADPDSC', 'ACPDSC', 'ACPDSP', 'ACPDAS', 'AAPDSP', 'APPDSP']"
   ]
  },
  {
   "cell_type": "markdown",
   "metadata": {
    "id": "oI2eZSJPTaG9"
   },
   "source": [
    "## Partie I : Matrice de poids positions\n",
    "\n",
    "Vous devez implémenter une matrice de poids position (PWM) à partir d'une matrice de fréquence donnée\n",
    "et l'utiliser pour chercher les motifs cachés dans l'ensemble de séquences `dataSeqs`.\n",
    "Puis calculez la performance de l'algorithme en comparant les motifs trouvés à la liste de vrais motifs cachés.\n",
    "\n",
    "**Q1**. Vous trouverez ci-dessous une matrice de fréquence qui représente\n",
    "les motifs cachés. Écrire la fonction `computing_pwm` pour calculer la matrice de poids position à partir de la matrice de fréquence."
   ]
  },
  {
   "cell_type": "code",
   "execution_count": 8,
   "metadata": {
    "id": "bXkwf6zkq_-a"
   },
   "outputs": [
    {
     "name": "stdout",
     "output_type": "stream",
     "text": [
      "[[0.5454545454545454, 0.1111111111111111, 0.18181818181818182, 0.09090909090909091, 0.18181818181818182, 0.09090909090909091], [0.09090909090909091, 0.4444444444444444, 0.09090909090909091, 0.18181818181818182, 0.09090909090909091, 0.2727272727272727], [0.18181818181818182, 0.2222222222222222, 0.09090909090909091, 0.5454545454545454, 0.09090909090909091, 0.09090909090909091], [0.09090909090909091, 0.1111111111111111, 0.5454545454545454, 0.09090909090909091, 0.09090909090909091, 0.36363636363636365], [0.09090909090909091, 0.1111111111111111, 0.09090909090909091, 0.09090909090909091, 0.5454545454545454, 0.18181818181818182]]\n"
     ]
    }
   ],
   "source": [
    "import numpy as np\n",
    "\n",
    "matFreq = np.array([\n",
    "[6, 1, 2, 1, 2, 1],\n",
    "[1, 4, 1, 2, 1, 3],\n",
    "[2, 2, 1, 6, 1, 1],\n",
    "[1, 1, 6, 1, 1, 4],\n",
    "[1, 1, 1, 1, 6, 2]])\n",
    "\n",
    "## je ne souviens pas comment utiliser numpy proprement, donc j'ai décidé de faire un list simple\n",
    "\n",
    "matFreq = [\n",
    "[6, 1, 2, 1, 2, 1],\n",
    "[1, 4, 1, 2, 1, 3],\n",
    "[2, 2, 1, 6, 1, 1],\n",
    "[1, 1, 6, 1, 1, 4],\n",
    "[1, 1, 1, 1, 6, 2]]\n",
    "\n",
    "def computing_pwm(M):\n",
    "    \"\"\"\n",
    "    Calcul la matrice de poids position à partir de la matrice de frequence\n",
    "    entrée M : matrice de frequence\n",
    "    sortie PWM : matrice de probabilites ou poids position\n",
    "    \"\"\"\n",
    "    PWM = []\n",
    "\n",
    "    for i in range(5):\n",
    "        PWM.append([])\n",
    "        for j in range(len(M[0])):\n",
    "            PWM[i].append(0)\n",
    "\n",
    "    for i in range(len(M[0])):\n",
    "        summ = 0\n",
    "        for j in range(5):\n",
    "            summ += M[j][i]\n",
    "        for j in range(5):\n",
    "            PWM[j][i] = M[j][i] / summ\n",
    "\n",
    "    return PWM\n",
    "\n",
    "\n",
    "PWM = computing_pwm(matFreq)\n",
    "\n",
    "print (PWM)"
   ]
  },
  {
   "cell_type": "markdown",
   "metadata": {
    "id": "39htqgNJUgKW"
   },
   "source": [
    "**Q2**. Déterminer les paramètres f(0)(b) du modèle nul (ou modèle indépendant des positions)\n",
    "\\begin{equation}f^{(0)}(b) = \\frac 1L \\sum_{i=0}^{L-1} \\omega_i(b)\\ ,\n",
    "\\end{equation}\n",
    "où $\\omega_i(b)$ est la valeur de probabilité du residue `b` dans la colonne (position) `i`, et `L` le nombre de colonnes de la matrice poids position"
   ]
  },
  {
   "cell_type": "code",
   "execution_count": 11,
   "metadata": {
    "id": "cJhTH8lPuI73"
   },
   "outputs": [
    {
     "name": "stdout",
     "output_type": "stream",
     "text": [
      "[0.20033670033670034, 0.19528619528619529, 0.20370370370370364, 0.21548821548821548, 0.1851851851851852]\n"
     ]
    }
   ],
   "source": [
    "def f0_calcule(PWM, L):\n",
    "    \"\"\"\n",
    "    Calcul les valeurs de probabilites d'un modele independant de positions (modele Null)\n",
    "    entrée PWM : matrice de probabilites ou poids positions\n",
    "    sortie  f_0 : vecteur contenant un modele independant de positions (modele Null)\n",
    "    \"\"\"\n",
    "    nuc = {'A': 0, 'C' : 1, 'D' : 2, 'P' : 3, 'S' : 4}\n",
    "    f_0 = []\n",
    "    for i in range(5):\n",
    "        f0temp = 0\n",
    "        for j in range(L):\n",
    "            f0temp += PWM[i][j]\n",
    "        f0temp /= L\n",
    "        f_0.append(f0temp)\n",
    "\n",
    "    return f_0\n",
    "\n",
    "f_0 = f0_calcule(PWM, k)\n",
    "print (f_0)"
   ]
  },
  {
   "cell_type": "markdown",
   "metadata": {
    "id": "DJrFkOyuVJ8Y"
   },
   "source": [
    "**Q3**. Écrire la fonction `loglikehood` pour calculer log-rapport de vraisemblance d'une séquence de taille k et la matrice poids position.\n",
    ".\n",
    "\\begin{equation}\n",
    "\\ell(b_0,...,b_{k-1}) = \\log_2 \\frac {P(b_0,...,b_{k-1} | \\omega )\n",
    "}{P^{(0)}(b_0,...,b_{k-1})}\n",
    "= \\sum_{i=0}^{k-1} \\log_2 \\frac {\\omega_i(b_i)}{f^{(0)}(b_i)}\\ ,\n",
    "\\end{equation}\n",
    "\n",
    "où $\\omega_i(b)$ est la valeur de probabilité du residue $b_i$ selon la matrice de poids position, `k` est la taille du motif (`k==L`) et $f^{(0)}(b_i)$ est la valeur de probabilité du residue $b_i$ selon le modèle null."
   ]
  },
  {
   "cell_type": "code",
   "execution_count": 21,
   "metadata": {
    "id": "wtr8Mrzitazb"
   },
   "outputs": [
    {
     "name": "stdout",
     "output_type": "stream",
     "text": [
      "Le rapport de vraissemblance de  ADPDSC  est  6.371759187272214\n"
     ]
    }
   ],
   "source": [
    "import math\n",
    "\n",
    "def loglikehood(seq, PWM, f_0, L):\n",
    "    \"\"\"\n",
    "    Calcul le rapport de vraissemblance entre une sequence de taille L et une matrice de poids position\n",
    "    entrée seq : une sequence de taille k, ou k est le nombre de colonnes de PWM, k == L\n",
    "    entrée PWM : matrice de probabilites ou poids positions\n",
    "    entrée f_0 : vecteur contenant le modele independant de positions (modele Null)\n",
    "    entrée L : nombre de colonnes d'PWM ou taille du motif\n",
    "    sortie ll : rapport de vraissemblance\n",
    "    >>>loglikehood('ADPDSC', PWM, f_0, L)\n",
    "    6.355988430009525\n",
    "    \"\"\"\n",
    "\n",
    "    ll = 0\n",
    "    nuc = {'A': 0, 'C' : 1, 'D' : 2, 'P' : 3, 'S' : 4}\n",
    "\n",
    "    for i in range(L):\n",
    "        ll += math.log2(PWM[nuc[seq[i]]][i]/f_0[nuc[seq[i]]])\n",
    "\n",
    "    return ll\n",
    "\n",
    "ll = loglikehood(trueMotifs[0], PWM, f_0, k)\n",
    "print (\"Le rapport de vraissemblance de \", trueMotifs[0], \" est \", ll)"
   ]
  },
  {
   "cell_type": "markdown",
   "metadata": {
    "id": "RO30QhgwWZFy"
   },
   "source": [
    "**Q4**. Écrire la fonction `searchPWM` qui pour chaque séquence de `dataSeqs` cherche la position du motif de taille k ayant la max\n",
    "log-vraisemblance et renvoie la liste de motifs trouvés."
   ]
  },
  {
   "cell_type": "code",
   "execution_count": 22,
   "metadata": {
    "id": "T7nf14F_ApTc"
   },
   "outputs": [
    {
     "name": "stdout",
     "output_type": "stream",
     "text": [
      "['ADPDSC', 'ACPDSC', 'ACPDSC', 'ACPDSP', 'ACPDSP', 'ACPDAS', 'AAPDSP', 'APPDSP', 'ADPDSC', 'ACDCSC', 'ACPDAS', 'APPDSP', 'ACPDSC', 'ACPDSP', 'APPDSP', 'ADPDSC', 'AAPDSP', 'ACPDSC', 'PCPCSC', 'ACPDAS', 'ACPDSC', 'ACPDSP', 'ADPDSC', 'ACPDSP', 'ACPDCS', 'ACPDAS', 'ACPDSP', 'AAPDSP', 'ACPDAS', 'ACPDSC']\n"
     ]
    }
   ],
   "source": [
    "def searchPWM(sequences, k, PWM, f_0):\n",
    "    \"\"\"\n",
    "    Cherche pour chaque sequence la position du motif de taille k qui maximise le rapport log-vraisemblance\n",
    "    entrée sequences : ensemble de séquence\n",
    "    entrée k : nombre de colonnes d'PWM ou taille du motif\n",
    "    entrée PWM : matrice de probabilités ou poids positions\n",
    "    entrée f_0 : vecteur contenant le modèle indépendant de positions (modèle Null)\n",
    "    sortie foundMotifPWM: liste contenant pour chaque séquence le motif de taille k qui maximise le rapport log-vraisemblance\n",
    "    \"\"\"\n",
    "    \n",
    "    foundMotifPWM = []\n",
    "\n",
    "    for i in range(len(sequences)):\n",
    "        maxx = 0\n",
    "        foundMotifPWM.append(\"\")\n",
    "        for j in range(0, len(sequences[i])-k):\n",
    "            if loglikehood(sequences[i][j:j+k], PWM, f_0, k) > maxx:\n",
    "                foundMotifPWM[i] = sequences[i][j:j+k]\n",
    "                maxx = loglikehood(sequences[i][j:j+k], PWM, f_0, k)\n",
    "\n",
    "    return foundMotifPWM\n",
    "\n",
    "\n",
    "foundMotifPWM = searchPWM(dataSeqs, k, PWM, f_0)\n",
    "print(foundMotifPWM)\n"
   ]
  },
  {
   "cell_type": "markdown",
   "metadata": {
    "id": "hsxt3RF07cL0"
   },
   "source": [
    "**Q5**. Écrire la fonction `performance` qui étant donnée une liste de motifs prédits par un algorithme (exemple PWM)\n",
    "et la liste de vrais motifs renvoie le ratio motif correct divisé par total de séquences."
   ]
  },
  {
   "cell_type": "code",
   "execution_count": 96,
   "metadata": {
    "id": "SXNX7M8zxYO3"
   },
   "outputs": [
    {
     "name": "stdout",
     "output_type": "stream",
     "text": [
      "here\n",
      "here\n",
      "here\n",
      "here\n",
      "here\n",
      "here\n",
      "here\n",
      "here\n",
      "here\n",
      "here\n",
      "here\n",
      "here\n",
      "here\n",
      "here\n",
      "here\n",
      "here\n",
      "here\n",
      "here\n",
      "here\n",
      "here\n",
      "here\n",
      "here\n",
      "here\n",
      "here\n",
      "here\n",
      "here\n",
      "here\n",
      "Performance de PWM =  0.9\n"
     ]
    }
   ],
   "source": [
    "def performance(foundMotifs, trueMotifs):\n",
    "    \"\"\"\n",
    "    Calcule la performance d'un algorithme en divisant le nombre de motifs correctement trouvé par le total de motifs predits\n",
    "    entrée foundMotifs : liste de motifs trouvé par l'algorithme\n",
    "    entrée trueMotifs : liste de vrais motifs\n",
    "    sortie perc: le ration entre le nombre de motifs correctement trouvé par le total de motifs predits\n",
    "    \"\"\"\n",
    "    \n",
    "    perc = 0\n",
    "    for i in foundMotifs:\n",
    "        if (i in trueMotifs):\n",
    "            perc += 1\n",
    "    perc /= len(foundMotifs)\n",
    "    return perc\n",
    "\n",
    "percPWM = performance(foundMotifPWM, trueMotifs)\n",
    "print(\"Performance de PWM = \", percPWM)"
   ]
  },
  {
   "cell_type": "markdown",
   "metadata": {
    "id": "m_60EQuaXgGN"
   },
   "source": [
    "# Partie II : Median String\n",
    "Vous devez implémenter l'algorithme \"Median String\" et l'utiliser pour chercher les motifs cachés dans l'ensemble de séquences `dataSeq`. Puis calculez la performance de l'algorithme en comparant les motifs trouvés à la liste de vrais motifs cachés.\n",
    "\n",
    "**Q6**. Pour Implémenter l'algorithme _\"Median String Search\"_ vous devez tout d'abord écrire une fonction pour calculer une distance qui doit être minimisée au long de l'algorithme. Nous allons implementer la fonction `ld` qui correspont à la distance de lee\n",
    "\n",
    "\\begin{equation}\n",
    "ld(x,y) = \\sum_{i=0}^{k-1} \\ min(|x_i -y_i|, q - |x_i -y_i|),\n",
    "\\end{equation}\n",
    "\n",
    "où $x$ et $y$ sont deux motifs de taille k qui ont été numérisés et $q$ est la taille de l'alphabet.\n",
    "On note que pour calculer cette distance nous devons d'abord numériser les motifs, c'est-à-dire,\n",
    "remplancer chaque lettre par un chiffre correspondant, pour cela vous pouvez utiliser le dictionnaire `inds` ci-dessous.\n"
   ]
  },
  {
   "cell_type": "code",
   "execution_count": 126,
   "metadata": {
    "id": "LyXriGjmPD7e"
   },
   "outputs": [
    {
     "name": "stdout",
     "output_type": "stream",
     "text": [
      "Distance de lee =  2\n"
     ]
    }
   ],
   "source": [
    "def module(t):\n",
    "    if t < 0:\n",
    "        return -t\n",
    "    return t\n",
    "\n",
    "def ld(str1:str, str2:str, inds):\n",
    "    \"\"\"\n",
    "    Calcul la distance de lee entre deux motifs\n",
    "    entrée str1: chaîne de caractères\n",
    "    entrée str2: chaîne de caractères\n",
    "    sortie distance: distance de lee\n",
    "    >>>ld(\"ACDS\", \"ACSS\", inds)\n",
    "    2\n",
    "    \"\"\"\n",
    "\n",
    "    dist = 0\n",
    "\n",
    "    for i in inds.keys():\n",
    "        str1 = str1.replace(i, str(inds[i]))\n",
    "        str2 = str2.replace(i, str(inds[i]))\n",
    "    \n",
    "    for i in range(len(str2)):\n",
    "        dist += min(module(int(str1[i]) - int(str2[i])), len(inds.keys()) - module(int(str1[i]) - int(str2[i])))\n",
    "\n",
    "    return dist\n",
    "\n",
    "inds = {'A': 1, 'C': 2,  'D': 3,  'P': 4,  'S': 5}\n",
    "dist = ld(\"ACDS\", \"ACSS\", inds)\n",
    "\n",
    "print(\"Distance de lee = \", dist)"
   ]
  },
  {
   "cell_type": "markdown",
   "metadata": {
    "id": "jf-h20oONguP"
   },
   "source": [
    "**Q7**. Écrire la fonction `totalDistance` qui étant donnée un motif de taille k et un ensemble de séquences (`dataSeqs`) renvoie la somme de distance lee minimale entre un motif et chaque séquence."
   ]
  },
  {
   "cell_type": "code",
   "execution_count": 127,
   "metadata": {
    "id": "RGXJ0WSBQTuh"
   },
   "outputs": [
    {
     "name": "stdout",
     "output_type": "stream",
     "text": [
      "Total Distance du motif  ADPDSC  est  69\n"
     ]
    }
   ],
   "source": [
    "def totalDistance(motif:str, sequences, k):\n",
    "    \"\"\"\n",
    "                print(bestDist)\n",
    "    Calcul la totalDistance\n",
    "    entrée motif: un motif de taille k\n",
    "    entrée sequences: ensemble de séquences\n",
    "    entrée k: taille du motif\n",
    "    sortie totalDistance: somme de distance lee minimal\n",
    "    >>>totalDistance('ADPDSC', dataSeqs, 6)\n",
    "    69\n",
    "    \"\"\"\n",
    "    \n",
    "    td = 0\n",
    "    inds = {'A': 1, 'C': 2,  'D': 3,  'P': 4,  'S': 5}\n",
    "\n",
    "    for sequence in sequences:\n",
    "        minn = math.inf\n",
    "        for i in range(0, len(sequence) - k):\n",
    "            if ld(motif, sequence[i:i+k], inds) < minn:\n",
    "                minn = ld(motif, sequence[i:i+k], inds)\n",
    "        td += minn\n",
    "    return td\n",
    "\n",
    "td = totalDistance(trueMotifs[0], dataSeqs, k)\n",
    "\n",
    "print(\"Total Distance du motif \", trueMotifs[0], \" est \", td)"
   ]
  },
  {
   "cell_type": "code",
   "execution_count": 128,
   "metadata": {
    "id": "0lZg6Vj-QZHo"
   },
   "outputs": [],
   "source": [
    "\n",
    "nuc = ('A', 'C', 'D', 'P', 'S')\n",
    "\n",
    "from itertools import product\n",
    "import re\n",
    "\n",
    "def removeLowComplexeMono(motifs:dict, m:int):\n",
    "    \"\"\"\n",
    "    Eleve les motifs peu complexe ayant m fois le même nucléotide\n",
    "    entrée motifs: dictionnaire de motifs, clé=motif, valeur = fréquence d'observation\n",
    "    entrée m: taille de repetition de nucléotide\n",
    "    sortie motifsClean: dictionnaire de motifs sans les motifs peu complexe.\n",
    "    \"\"\"\n",
    "\n",
    "    motifsClean = {}\n",
    "    motifsDirty = {}\n",
    "\n",
    "    for key in motifs:\n",
    "        countA = key.count(\"A\")\n",
    "        countD = key.count(\"D\")\n",
    "        countP = key.count(\"P\")\n",
    "        countC = key.count(\"C\")\n",
    "        countS = key.count(\"S\")\n",
    "\n",
    "        if countA >= m or countD >= m or countP >= m or countC >= m or countS >= m:\n",
    "            motifsDirty[key] = motifs[key]\n",
    "        else:\n",
    "            motifsClean[key] = motifs[key]\n",
    "\n",
    "    return motifsClean\n",
    "\n",
    "\n",
    "def removeLowComplexeHetero(motifs:dict, m:int, variation = False):\n",
    "    \"\"\"\n",
    "    Eleve les motifs peu complexe ayant m fois un dinucléotide\n",
    "    entrée motifs: dictionnaire de motifs, clé = motif, valeur = fréquence d'observation\n",
    "    entrée m: taille de repetition de dinucléotide\n",
    "    entrée variation : bool, si True permettre variation d'un nucléotide\n",
    "    sortie motifsClean: dictionnaire de motifs sans les motifs peu complexe.\n",
    "    >>>removeLowComplexeHetero(test_motifs_complex, 3, variation = False)\n",
    "    {'GGTTTGG': 583, 'TGAGTTA': 580, 'TGCCGTG': 412, 'TCACCGA': 498, 'TTGGTAT': 572, 'TGGCTTA': 489, 'AGAGTAG': 437}\n",
    "    \"\"\"\n",
    "\n",
    "    motifsClean = {}\n",
    "    trouve = []\n",
    "\n",
    "    # Créer une liste de dinucléotides sans mono dinucléotides\n",
    "    all_nuc_di = [nuc_1 + nuc_2 for nuc_1 in nuc for nuc_2 in nuc if nuc_1 != nuc_2]\n",
    "\n",
    "    # Pour chaque key du dictionaire\n",
    "    for key in motifs:\n",
    "        if variation:\n",
    "            # Permettre une varation\n",
    "            trouve = [nuc_di for nuc_di in all_nuc_di if len(re.findall(re.compile(\"(?=(\"+ nuc_di +\"))\"), key)) >= m]\n",
    "\n",
    "        else:\n",
    "            # Pas permettre de varations\n",
    "            trouve = [nuc_di for nuc_di in all_nuc_di if len(re.findall(re.compile(\"(?=(\"+ nuc_di +\")\"+ nuc_di[0] +\")\"), key)) >= m]\n",
    "\n",
    "        # Après avoir evalué tous les dinucléotides, évaluer si on a trouvé de dinucleotides\n",
    "        if len(trouve) == 0:\n",
    "            # Ajouter juste les motifs que n'ont pas eu des dinucléotides trouves\n",
    "            motifsClean[key] = motifs[key]\n",
    "        # Vider la liste\n",
    "        trouve = []\n",
    "\n",
    "    return motifsClean\n",
    "\n",
    "\n",
    "\n",
    "# Générer tous les k-mers de taille k ayant de AAAAAA à SSSSSS\n",
    "allkmers_k4 = product(nuc, repeat = k)\n",
    "\n",
    "# Il faut convertir la liste de k-mers en un dictionnaire\n",
    "allkmers_k4 = {''.join(list(kmer)): \"NA\" for kmer in allkmers_k4}\n",
    "\n",
    "\n",
    "\n",
    "allkmers_k4 = removeLowComplexeMono(allkmers_k4, 3)\n",
    "\n",
    "\n",
    "allkmers_k4 = removeLowComplexeHetero(allkmers_k4, 1, variation = False)\n"
   ]
  },
  {
   "cell_type": "markdown",
   "metadata": {
    "id": "2wHOksQuXOng"
   },
   "source": [
    "**Q8**. Implémentez l'algorithme MedianStringSearch pour tester une liste de motifs (`allkmers_k4`) et trouver le motif qui donne la distance minimale total."
   ]
  },
  {
   "cell_type": "code",
   "execution_count": 133,
   "metadata": {
    "id": "dSNaP4QmQlFL"
   },
   "outputs": [
    {
     "name": "stdout",
     "output_type": "stream",
     "text": [
      "53 53\n",
      "Le motif avec la distance minimal est:  ACPDSP\n"
     ]
    }
   ],
   "source": [
    "def MedianStringSearch(allkmers, sequences, k):\n",
    "    \"\"\"\n",
    "    Implement l'algorithme MedianStringSearch\n",
    "    entrée allkmers: dictionnaire de K-mers valides\n",
    "    entrée sequences: ensemble de séquences\n",
    "    entrée k: taille du motif\n",
    "    sortie bestMotif: le motif que minimise la somme de distance lee\n",
    "    \"\"\"\n",
    "    bestMotif = \"\"\n",
    "    bestDist = math.inf\n",
    "    secondBest = 0\n",
    "    for i in allkmers.keys():\n",
    "        if totalDistance(i, sequences, k) <= bestDist:\n",
    "            secondBest = bestDist\n",
    "            bestDist = totalDistance(i, sequences, k)\n",
    "            bestMotif = i\n",
    "    print(secondBest, bestDist)\n",
    "    return bestMotif\n",
    "\n",
    "best_motif = MedianStringSearch(allkmers_k4, dataSeqs, k)\n",
    "\n",
    "print(\"Le motif avec la distance minimal est: \", best_motif)"
   ]
  },
  {
   "cell_type": "code",
   "execution_count": 92,
   "metadata": {},
   "outputs": [
    {
     "name": "stdout",
     "output_type": "stream",
     "text": [
      "False\n"
     ]
    }
   ],
   "source": [
    "best_motif in trueMotifs\n",
    "print(3 > math.inf)"
   ]
  },
  {
   "cell_type": "markdown",
   "metadata": {
    "id": "2rrd8VvHZHb4"
   },
   "source": [
    "**Q9**. Écrire la fonction `extraireMotifs` qui étant donné le meilleur motif consensus et l'ensemble de sequence `dataSeqs` renvoie la liste de motifs cachés sur chaque séquence, c'est-à-dire, le motif avec la `ld` (distance de lee) minimal."
   ]
  },
  {
   "cell_type": "code",
   "execution_count": 134,
   "metadata": {
    "id": "ygo4mAlcRO0-"
   },
   "outputs": [
    {
     "name": "stdout",
     "output_type": "stream",
     "text": [
      "List de motifis cachés :  ['ADPDSC', 'ACPDSC', 'ACPDSC', 'ACPDSP', 'ACPDSP', 'CCPDSP', 'AAPDSP', 'APPDSP', 'ADPDSC', 'CSPDSD', 'ACPDAS', 'ACPDPS', 'ACPDSC', 'ACPDSP', 'APPDSP', 'SCPCSS', 'AAPDSP', 'ACPDSC', 'DCPCSD', 'ACPDAS', 'ACPDSC', 'ACPDSP', 'ADPDSC', 'ACPDSP', 'ACPDCS', 'ACPDAS', 'ACPDSP', 'AAPDSP', 'ACPDAS', 'ACPDSC']\n"
     ]
    }
   ],
   "source": [
    "def extraireMotifs(motif:str, sequences):\n",
    "    \"\"\"\n",
    "    Calcul la totalDistance\n",
    "    entrée motif: un motif de taille k\n",
    "    entrée sequences: ensemble de séquences\n",
    "    sortie listMotifs: list de motifs cachés\n",
    "    \"\"\"\n",
    "\n",
    "    listMotifs = []\n",
    "    inds = {'A': 1, 'C': 2,  'D': 3,  'P': 4,  'S': 5}\n",
    "    k = len(motif)\n",
    "\n",
    "    for sequence in sequences:\n",
    "        bestDist = math.inf\n",
    "        bestMot = \"\"\n",
    "        for i in range(len(sequence) - k):\n",
    "            if (ld(motif, sequence[i:i+k], inds) < bestDist):\n",
    "                bestDist = ld(motif, sequence[i:i+k], inds)\n",
    "                bestMot = sequence[i:i+k]\n",
    "        listMotifs.append(bestMot)\n",
    "\n",
    "    return listMotifs\n",
    "\n",
    "foundMotifMS = extraireMotifs(best_motif, dataSeqs)\n",
    "\n",
    "print(\"List de motifis cachés : \", foundMotifMS)"
   ]
  },
  {
   "cell_type": "code",
   "execution_count": 117,
   "metadata": {},
   "outputs": [
    {
     "data": {
      "text/plain": [
       "True"
      ]
     },
     "execution_count": 117,
     "metadata": {},
     "output_type": "execute_result"
    }
   ],
   "source": [
    "'AACPDS' in foundMotifMS"
   ]
  },
  {
   "cell_type": "markdown",
   "metadata": {
    "id": "wQsAbX6_YodN"
   },
   "source": [
    "**Q10**. Reutilisé la fonction `performance` pour calculer la performance de l'algorithme MedianStringSearch."
   ]
  },
  {
   "cell_type": "code",
   "execution_count": 135,
   "metadata": {
    "id": "QPtdKoVjY7vG"
   },
   "outputs": [
    {
     "name": "stdout",
     "output_type": "stream",
     "text": [
      "here\n",
      "here\n",
      "here\n",
      "here\n",
      "here\n",
      "here\n",
      "here\n",
      "here\n",
      "here\n",
      "here\n",
      "here\n",
      "here\n",
      "here\n",
      "here\n",
      "here\n",
      "here\n",
      "here\n",
      "here\n",
      "here\n",
      "here\n",
      "here\n",
      "here\n",
      "here\n",
      "here\n",
      "Performance de MS =  0.8\n"
     ]
    }
   ],
   "source": [
    "percMS = performance(foundMotifMS, trueMotifs)\n",
    "print(\"Performance de MS = \", percMS)"
   ]
  },
  {
   "cell_type": "markdown",
   "metadata": {
    "id": "y7ZE7RY8_qcP"
   },
   "source": [
    "# III - Comparaison de résultats et conclusion\n",
    "\n",
    "**Q11**. Ecrire la fonction `conclusion` qu'affiche quel algorithme qui a obtenu la meilleur performance."
   ]
  },
  {
   "cell_type": "code",
   "execution_count": null,
   "metadata": {
    "id": "CWGb43Yu_yeb"
   },
   "outputs": [],
   "source": [
    "def conclusion(percPWM, percMS):\n",
    "    if percPWM > percMS:\n",
    "        print (\"Le meiuller algorithme est PWM \")\n",
    "    else:\n",
    "        print (\"Le meiuller algorithme est MS \")\n",
    "\n",
    "conclusion(percPWM, percMS)"
   ]
  }
 ],
 "metadata": {
  "colab": {
   "provenance": []
  },
  "kernelspec": {
   "display_name": "Python 3 (ipykernel)",
   "language": "python",
   "name": "python3"
  },
  "language_info": {
   "codemirror_mode": {
    "name": "ipython",
    "version": 3
   },
   "file_extension": ".py",
   "mimetype": "text/x-python",
   "name": "python",
   "nbconvert_exporter": "python",
   "pygments_lexer": "ipython3",
   "version": "3.11.2"
  }
 },
 "nbformat": 4,
 "nbformat_minor": 4
}
