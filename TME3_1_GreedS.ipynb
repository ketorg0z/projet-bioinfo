{
  "cells": [
    {
      "cell_type": "markdown",
      "metadata": {
        "id": "981-NdKA_huf"
      },
      "source": [
        "# TME 3.1 : Greedy Profile Motif Search \n",
        "\n",
        "Numéro étudiant 1 : 21241759<br>\n",
        "Numéro étudiant 2 : 22106550 <br>\n",
        "\n",
        "## Recheche de pattern (motifs) en utilisant les algoritmes randomisés\n",
        "\n",
        "Les algorithmes randomisés prendre des décisions aléatoire plutôt que déterministes.\n",
        "l'algorithme s'exécute différemment à chaque fois. Ils sont couramment utilisés dans situations où aucun algorithme exact et rapide est connu. Nous allons d'abord implémenter l'algorithm Greedy Profile Motif Search.\n"
      ]
    },
    {
      "cell_type": "markdown",
      "metadata": {
        "id": "5z3a_1W0_huk"
      },
      "source": [
        "1\\. Nous allons réutiliser les fonctions du precedent pour générer `t` séquences artificielles de taille `n`, et implanter dans chaque séquence un motif de taille `k` à des positions aléatoires avec `v` substitutions choisies aléatoirement. Nous allons faire varier le motifs dans 50% de cas."
      ]
    },
    {
      "cell_type": "code",
      "execution_count": 178,
      "metadata": {
        "id": "6UbcF5N2_hul"
      },
      "outputs": [
        {
          "name": "stdout",
          "output_type": "stream",
          "text": [
            "tcacc\n",
            "['gttcaccacc', 'attccaccat', 'ggatcactcc']\n",
            "['GTTCACCACC', 'ATTCCACCAT', 'GGATCACTCC']\n"
          ]
        }
      ],
      "source": [
        "import random\n",
        "import numpy as np\n",
        "\n",
        "nuc = ('A', 'C', 'G', 'T')\n",
        "\n",
        "def insertMotif(sequence, motif, position):\n",
        "    return sequence[:position] + motif + sequence[position:]\n",
        "\n",
        "def generateRandomSequence(n:int, upper=False):\n",
        "    \"\"\"\n",
        "    Même chose hein\n",
        "    \"\"\"\n",
        "    sequence = \"\".join([random.choice(nuc) for _ in range(n)])\n",
        "    if upper:\n",
        "        return sequence\n",
        "    return sequence.lower()\n",
        "\n",
        "def modifierMotif(motif:str, nbpos:int,  upper=False):\n",
        "    \"\"\"\n",
        "    Modifie nbpos positions d'un motif aléatoirement \n",
        "    entrée motif: motif à modifier\n",
        "    entrée nbpos: nombre de positions\n",
        "    entrée upper : bool, si True les nucléotides modifiés seront minuscule, False majuscule\n",
        "    sortie motifM: motif modifié\n",
        "    \"\"\"\n",
        "    motifM = list(motif)\n",
        "\n",
        "    nbPos_real = min(nbpos, len(motif))\n",
        "    allPos = list(range(len(motif)))\n",
        "\n",
        "    for _ in range(nbPos_real):\n",
        "        index = random.choice(range(len(allPos)))\n",
        "        changeIndex = allPos[index]\n",
        "        del allPos[index]\n",
        "\n",
        "        nv_L = generateRandomSequence(1, upper)\n",
        "        motifM[changeIndex] = nv_L\n",
        "    return \"\".join(motifM)        \n",
        "\n",
        "\n",
        "def implantMotifVar(k, v, t, n, f):\n",
        "    \"\"\"\n",
        "    Génère des séquences aléatoires et les implante des motifs variables (un motif par séquence)\n",
        "    entrée k: taille du motif\n",
        "    entrée v: nombre de variations\n",
        "    entrée t : nombre de séquences \n",
        "    entrée n : longueur des séquences\n",
        "    sortie DNA : matrice de dimension txn avec les motifs implantés\n",
        "    REMARQUE : La taille totale des séquences plus motif doit être égal à t, pensez à générer de séquence aléatoire de taille t-k pour pouvoir implanter un motif de taille k\n",
        "    \"\"\"\n",
        "    \n",
        "    sequences = []\n",
        "\n",
        "    motif = generateRandomSequence(k)\n",
        "    print(motif)\n",
        "    motif_new = motif\n",
        "    for _ in range(t):\n",
        "        base_seq = generateRandomSequence(n - k)\n",
        "        if random.random() < f:\n",
        "            motif_new = modifierMotif(motif, v)\n",
        "        sequences.append(insertMotif(base_seq, motif_new, random.choice(range(len(base_seq)))))\n",
        "        motif_new = motif\n",
        "    \n",
        "    return sequences\n",
        "\n",
        "k=5 #taille de motif\n",
        "v=1 #nb de positions variable dans le motif\n",
        "t=3 #nb de sequences\n",
        "n=10 #longuer des sequence\n",
        "f= 0.5 #frequence de variation du motif.\n",
        "\n",
        "adn = implantMotifVar(k, v, t, n, f)\n",
        "print (adn)\n",
        "\n",
        "adn  = [s.upper() for s in adn]\n",
        "print (adn)"
      ]
    },
    {
      "cell_type": "markdown",
      "metadata": {
        "id": "NoPjFWpM_huq"
      },
      "source": [
        "2\\. Faire une fonction pour sélectionner des positions de départ aléatoirement `s = (s1, …,st)`.\n"
      ]
    },
    {
      "cell_type": "code",
      "execution_count": 179,
      "metadata": {
        "id": "WwUeYNeJ_hur"
      },
      "outputs": [
        {
          "name": "stdout",
          "output_type": "stream",
          "text": [
            "[4, 0, 1]\n"
          ]
        }
      ],
      "source": [
        "#creating vector s\n",
        "#Get t random positions from 0 to n - k\n",
        "def generateRandomS(sequences, k):\n",
        "\t\"\"\"\n",
        "\tGénère un vecteur de position aléatoires\n",
        "\tentrée sequences: matrice de dimension txn contenant les sequences\n",
        "\tentrée k: taille du motif\n",
        "\tsortie s: vecteur de position aléatoires, une position par séquence\n",
        "  REMARQUE les positions doivent être inférieur à n-k, ou n est la taille de sequence\n",
        "\t\"\"\"\n",
        "\ts = []\n",
        "\tfor i in sequences:\n",
        "\t\ts.append(random.randint(0, (len(i)-k)-1))\n",
        "\treturn s\n",
        "\n",
        "s = generateRandomS(adn, k)\n",
        "print (s)"
      ]
    },
    {
      "cell_type": "markdown",
      "metadata": {
        "id": "vwTv0oVD_hut"
      },
      "source": [
        "3\\. Extraire les motifs en utilisant le vecteur `s`, et construire un profile (matrice de fréquence). \n"
      ]
    },
    {
      "cell_type": "code",
      "execution_count": 180,
      "metadata": {
        "id": "GMC6y17y_hut"
      },
      "outputs": [
        {
          "name": "stdout",
          "output_type": "stream",
          "text": [
            "['ACCAC', 'ATTCC', 'GATCA']\n",
            "[[2. 1. 0. 1. 1.]\n",
            " [0. 1. 1. 2. 2.]\n",
            " [1. 0. 0. 0. 0.]\n",
            " [0. 1. 2. 0. 0.]]\n"
          ]
        }
      ],
      "source": [
        "#extract sequences from seqs\n",
        "def extractSeqs(s, seqs, k):\n",
        "    \"\"\"\n",
        "    Extraire les motifs des séquences à l'aide de positions s\n",
        "    entrée s: vecteur contenant les positions de départs\n",
        "    entrée seqs: matrice de dimension txn contenant les séquences\n",
        "    entrée k: taille du motif\n",
        "    sortie motifs: liste de motifs de taille k extrait des séquences\n",
        "    \"\"\"\n",
        "    motifs = []    \n",
        "    for i in range(len(seqs)):\n",
        "        motifs.append(\"\".join(seqs[i][s[i]:s[i]+k]).upper())\n",
        "\n",
        "    return motifs\n",
        "        \n",
        "motifs = extractSeqs(s, adn, k)\n",
        "print (motifs)\n",
        "\n",
        "\n",
        "#Construire un profile = matrice de fréquence\n",
        "def profile(motifs, k, nuc):\n",
        "    \"\"\"\n",
        "    Construire une matrice de fréquence de dimension k x |nuc|\n",
        "    entrée motifs: liste de motifs\n",
        "    entrée k: taille du motif\n",
        "    entrée nuc: alphabet\n",
        "    sortie MF: matrice de fréquence\n",
        "    \"\"\"\n",
        "    q = len(nuc)\n",
        "    PWM = np.zeros((q, k))\n",
        "    for i in motifs:\n",
        "        for j in range(k):\n",
        "            if i[j] == \"A\":\n",
        "                PWM[0][j] += 1\n",
        "            if i[j] == \"C\":\n",
        "                PWM[1][j] += 1\n",
        "            if i[j] == \"G\":\n",
        "                PWM[2][j] += 1\n",
        "            if i[j] == \"T\":\n",
        "                PWM[3][j] += 1\n",
        "  \n",
        "    return PWM\n",
        "\n",
        "MF = profile(motifs, k, nuc)\n",
        "print(MF)"
      ]
    },
    {
      "cell_type": "markdown",
      "metadata": {
        "id": "zIw6koU2_huu"
      },
      "source": [
        "4\\. Transformer la matrice de fréquence en PWM. Il faut diviser chaque élément par la somme de ses colonnes."
      ]
    },
    {
      "cell_type": "code",
      "execution_count": 181,
      "metadata": {
        "id": "wOH5mbkA_huv"
      },
      "outputs": [
        {
          "name": "stdout",
          "output_type": "stream",
          "text": [
            "[[0.66666667 0.33333333 0.         0.33333333 0.33333333]\n",
            " [0.         0.33333333 0.33333333 0.66666667 0.66666667]\n",
            " [0.33333333 0.         0.         0.         0.        ]\n",
            " [0.         0.33333333 0.66666667 0.         0.        ]]\n"
          ]
        }
      ],
      "source": [
        "def generatePWM(MF):\n",
        "  \"\"\"\n",
        "  Transforme la matrice de fréquence en PWM\n",
        "  entrée MF: matrice de fréquence\n",
        "  sortie PWM: matrice de probabilité (poids positions)\n",
        "  \"\"\"\n",
        "  PWM = MF.copy()\n",
        "  for i in range(len(MF[0])):\n",
        "    summ = 0\n",
        "    for j in range(len(MF)):\n",
        "      summ += MF[j][i]\n",
        "    for j in range(len(MF)):\n",
        "      PWM[j][i] /= summ\n",
        "    \n",
        "  return PWM\n",
        "\n",
        "PWM = generatePWM(MF)\n",
        "print(PWM)"
      ]
    },
    {
      "cell_type": "markdown",
      "metadata": {
        "id": "ThOfxUGq_huw"
      },
      "source": [
        "5\\. Faire une fonction pour calculer la probabilité d'un motif de taille `k` selon une PWM.\n"
      ]
    },
    {
      "cell_type": "code",
      "execution_count": 182,
      "metadata": {
        "id": "ZUNbTtum_huw"
      },
      "outputs": [
        {
          "name": "stdout",
          "output_type": "stream",
          "text": [
            "0.13333333333333333\n"
          ]
        }
      ],
      "source": [
        "def probability(PWM, motif):\n",
        "    \"\"\"\n",
        "    Calcul la probalité d'un motif selon PWM\n",
        "    entrée PWM: matrice de probabilité (poids positions)\n",
        "    entrée motif: motif\n",
        "    sortie prob: probalité Prob(motif|PWM)\n",
        "    \"\"\"\n",
        "    prob = []\n",
        "\n",
        "    for i in range(len(motif)):\n",
        "        match motif[i]:\n",
        "            case \"A\":\n",
        "                prob.append(PWM[0][i])\n",
        "            case \"C\":\n",
        "                prob.append(PWM[1][i])\n",
        "            case \"G\":\n",
        "                prob.append(PWM[2][i])\n",
        "            case \"T\":\n",
        "                prob.append(PWM[3][i])\n",
        "            case _:\n",
        "                print(\"nucléotide n'est pas accepté\")\n",
        "  \n",
        "    return sum(prob)/len(prob)\n",
        "\n",
        "prob = probability(PWM, \"CGCTA\")\n",
        "print (prob)"
      ]
    },
    {
      "cell_type": "markdown",
      "metadata": {
        "id": "aqLjmxrx_hux"
      },
      "source": [
        "6\\. Faire une fonction pour calculer le pMostProbkmer d'une séquence, voir un exemple dans les slides de cours."
      ]
    },
    {
      "cell_type": "code",
      "execution_count": 183,
      "metadata": {
        "id": "-_GDK4mQ_huy"
      },
      "outputs": [
        {
          "name": "stdout",
          "output_type": "stream",
          "text": [
            "0\n"
          ]
        }
      ],
      "source": [
        "from itertools import product\n",
        "\n",
        "def trouverLowComplexe(motif):\n",
        "    \"\"\"\n",
        "    Eleve les motifs peu complexe ayant \n",
        "    entrée motifs: dictionnaire de motifs, clé=motif, valeur = fréquence d'observation\n",
        "    sortie motifsClean: dictionnaire de motifs sans les motifs peu complexe.\n",
        "    \"\"\"\n",
        "    twoLetterCombs = [\"\".join(tup) for tup in list(product([\"A\", \"T\", \"G\", \"C\"], repeat=2))]\n",
        "    for i in motifs:\n",
        "        mot = i.upper()\n",
        "        if mot.count(\"A\") > 4 or mot.count(\"T\") > 4 or mot.count(\"G\") > 4 or mot.count(\"C\") > 4:\n",
        "            return True\n",
        "        if True in [x*3 in motif for x in twoLetterCombs]:\n",
        "            return True\n",
        "        \n",
        "    return False\n",
        "\n",
        "def pMostProbkmer(PWM, k, sequence):\n",
        "    \"\"\"\n",
        "    calcul la position du k-mer le plus probable dans la séquence\n",
        "    entrée PWM: matrice de probabilité (poids positions)\n",
        "    entrée k: taille du motif\n",
        "    entrée sequence: séquence nucleotidique\n",
        "    sortie s: la position la plus probable \n",
        "    \"\"\"\n",
        "    maxProb = 0\n",
        "    s = 0 # position du k-mer le plus probable dans la sequence\n",
        "    \n",
        "    for i in range(0, len(sequence)-k, 1):\n",
        "        if probability(PWM, sequence[i:i+k]) > maxProb:\n",
        "            if trouverLowComplexe(sequence[i:i+k]):\n",
        "                continue\n",
        "            maxProb = probability(PWM, sequence[i:i+k])\n",
        "            s = i\n",
        "    return s\n",
        "\n",
        "s = pMostProbkmer(PWM, k, \"GCTATCGCTA\")\n",
        "print(s)"
      ]
    },
    {
      "cell_type": "markdown",
      "metadata": {
        "id": "QwXuMhNn_huy"
      },
      "source": [
        "7\\. Faire une fonction pour obtenir les nouvelles positions de départ `s = (s1, …,st)`, c’était à dire les positions qui contiens les k-mer le plus probables."
      ]
    },
    {
      "cell_type": "code",
      "execution_count": 184,
      "metadata": {
        "id": "G3neuRM9_huz"
      },
      "outputs": [
        {
          "name": "stdout",
          "output_type": "stream",
          "text": [
            "[0, 0, 0]\n"
          ]
        }
      ],
      "source": [
        "def getNewS(PWM, k, sequences):\n",
        "    \"\"\"\n",
        "    Trouve les nouvelles positions des k-mer le plus probables\n",
        "    entrée PWM: matrice de probabilité (poids positions)\n",
        "    entrée k: taille du motif\n",
        "    entrée sequence: séquence nucleotidique\n",
        "    sortie s: vecteur avec les positions les plus problables\n",
        "    \"\"\"\n",
        "\n",
        "    s = []\n",
        "    for i in sequences:\n",
        "        tmp = pMostProbkmer(PWM, k, i)\n",
        "        s.append(tmp)\n",
        "   \n",
        "    return s\n",
        "\n",
        "ns = getNewS(PWM, k, adn)\n",
        "print (ns)"
      ]
    },
    {
      "cell_type": "markdown",
      "metadata": {
        "id": "WoETBPxq_huz"
      },
      "source": [
        "8\\. La condition d’arrêt de l'algorithme est le non changement de la matrice de fréquence d'une itération à l'autre, \n",
        "faire une fonction pour comparer deux matrices et détecter le changement. \n",
        "Faire aussi une fonction pour obtenir le score d'une matrice de fréquence : la somme de max de chaque colonne"
      ]
    },
    {
      "cell_type": "code",
      "execution_count": 185,
      "metadata": {
        "id": "NUDOYB6A_hu0"
      },
      "outputs": [
        {
          "name": "stdout",
          "output_type": "stream",
          "text": [
            "0 [0, 0, 0]\n",
            "7.0\n"
          ]
        }
      ],
      "source": [
        "def changeProfile(P1, P2):\n",
        "    \"\"\"\n",
        "    Compare deux matrice\n",
        "    entrée P1: matrice de fréquence\n",
        "    entrée P2: matrice de fréquence\n",
        "    sortie: True si les matrices sont différents, False au contraire\n",
        "    \"\"\"\n",
        "    return P1 != P2\n",
        "\n",
        "def getScore(MF, k):\n",
        "    \"\"\"\n",
        "    Renvoie le score de MF, la somme des max de chaque colonne\n",
        "    entrée MF: matrice de fréquence\n",
        "    entrée k: taille du motif\n",
        "    sortie sc: score\n",
        "    \"\"\"\n",
        "    sc = 0\n",
        "    for i in MF:\n",
        "        sc = sc + max(i)\n",
        "    return sc\n",
        "\n",
        "ns = getNewS(PWM, k, adn)\n",
        "print (s, ns)\n",
        "\n",
        "sc = getScore(MF, k)\n",
        "print (sc)"
      ]
    },
    {
      "cell_type": "markdown",
      "metadata": {
        "id": "QhO7GPfn_hu0"
      },
      "source": [
        "9\\. Implementer l'algorithme ``GreedyProfileMotifSearch`` en utilisant les fonctions precedentes. \n",
        "BONUS: Pour ameliorer la performance vous pouvez abandonner les positions qui génèrent des motifs peu complexes."
      ]
    },
    {
      "cell_type": "code",
      "execution_count": 186,
      "metadata": {
        "id": "s3wvHQUp_hu0"
      },
      "outputs": [
        {
          "name": "stdout",
          "output_type": "stream",
          "text": [
            "['GTTCACCACC', 'ATTCCACCAT', 'GGATCACTCC']\n",
            "['GTTCA', 'ATTCC', 'GGATC']\n"
          ]
        }
      ],
      "source": [
        "def GreedyProfileMotifSearch(sequences, k):\n",
        "    \"\"\"\n",
        "    Implémente l'algorithme GreedyProfileMotifSearch \n",
        "\t  entrée sequences: matrice de dimension txn contenant les séquences \n",
        "\t  entrée k : taille du motif \n",
        "    sortie s : vecteur de positions de départ ayant le meilleur motif \n",
        "    sortie bestScore : le score associé à s\n",
        "    \"\"\"\n",
        "    nuc = ('A', 'C', 'G', 'T')\n",
        "    \n",
        "    s = generateRandomS(sequences, k)\n",
        "    motifs = extractSeqs(s, sequences, k)\n",
        "    MF = profile(motifs, k, nuc)\n",
        "    PWM = generatePWM(MF)\n",
        "    \n",
        "    bestScore = 0\n",
        "    \n",
        "    s = getNewS(PWM, k, sequences)\n",
        "    # Optimiser dans getNewS\n",
        "    # trouverLowComplexes doit verifier si on n'a pas choisi des motifs peu complexes, maos il faut l'amiliorer, car la compléxité depend de la longueur \n",
        "    for i, j in zip(sequences, s):\n",
        "        score = 0\n",
        "        for l in range(k):\n",
        "            match i[j + l]:\n",
        "                case \"A\":\n",
        "                    score += MF[0][l]\n",
        "                case \"C\":\n",
        "                    score += MF[1][l]\n",
        "                case \"G\":\n",
        "                    score += MF[2][l]\n",
        "                case \"T\":\n",
        "                    score += MF[3][l]\n",
        "        if score > bestScore:\n",
        "            bestScore = score\n",
        "    \n",
        "    return s, bestScore\n",
        "\n",
        "print (adn)\n",
        "s, bestScore = GreedyProfileMotifSearch(adn, k)   \n",
        "motifs = extractSeqs(s, adn, k)\n",
        "print (motifs)\n",
        "        "
      ]
    },
    {
      "cell_type": "markdown",
      "metadata": {
        "id": "xvo0wA0R_hu1"
      },
      "source": [
        "10\\. Avez vous trouvez le motif implanté? Rexécuter l’algorithme plusieurs fois pour le trouver. "
      ]
    },
    {
      "cell_type": "markdown",
      "metadata": {
        "id": "tQw_6g6I_hu1"
      },
      "source": [
        "Reponse: Oui, après quelques éxécutions on trouve le morif de taille k implanté."
      ]
    },
    {
      "cell_type": "markdown",
      "metadata": {
        "id": "hFC52cFb_hu1"
      },
      "source": [
        "11\\. Vous avez certainement observer que l’algorithme ne produire pas toujours la même sortie et que les résultats dépendent de la sélection aléatoire des positions de départ `s`. Pour augmenter nous chances de retrouvez les bons motifs, nous allons implémenter une version itérative ``GreedyProfileMotifSearchIte`` \n",
        "qui a chaque fois sauvegarde `s` et le score du profile associé à `s`, après `I` itération, l’algorithme renvoie le vecteur `s` ayant le plus grand score."
      ]
    },
    {
      "cell_type": "code",
      "execution_count": 187,
      "metadata": {
        "id": "RN4HsjUX_hu2"
      },
      "outputs": [
        {
          "name": "stdout",
          "output_type": "stream",
          "text": [
            "{13.0: {3, 4}, 12.0: {2}, 11.0: {1, 2, 3, 4}, 10.0: {0, 1, 2, 3, 4}, 9.0: {0, 1, 2, 3, 4}, 8.0: {0, 1, 2, 3}, 7.0: {0, 1, 2, 3}, 6.0: {1}}\n",
            "{13.0: {'ACCAC', 'CACCA'}, 12.0: {'ATCAC'}, 11.0: {'CACCA', 'TCCAC', 'TCACC', 'ACCAC', 'TTCAC'}, 10.0: {'CACCA', 'ATTCC', 'TCACC', 'ACCAC', 'TTCAC', 'CCACC', 'CACTC'}, 9.0: {'CACCA', 'ATTCC', 'TTCCA', 'TCACC', 'GTTCA', 'TTCAC', 'CCACC', 'CACTC'}, 8.0: {'TTCCA', 'TCACC', 'GTTCA', 'TTCAC', 'CCACC'}, 7.0: {'CACCA', 'TCCAC', 'GGATC', 'TCACC', 'GTTCA', 'TTCAC'}, 6.0: {'TTCAC'}}\n"
          ]
        }
      ],
      "source": [
        "def GreedyProfileMotifSearchIte(sequences, k, It):\n",
        "    \"\"\"\n",
        "    Implémente l'algorithme GreedyProfileMotifSearch iteratif\n",
        "\t  entrée séquences: matrice de dimension txn contenant les séquences\n",
        "\t  entrée k: taille du motif \n",
        "    entrée It: nombre d'iterations\n",
        "    sortie positions: dictionnaire clé=score, valeur= vecteur s \n",
        "    sortie consensus: dictionnaire clé=score, valeur= sequence consensus du motif\n",
        "    \"\"\"\n",
        "    pos = {}\n",
        "    consensus = {}\n",
        "   \n",
        "    nuc = ('A', 'C', 'G', 'T')\n",
        "    s = generateRandomS(sequences, k)\n",
        "    for i in range(It):\n",
        "        s = generateRandomS(sequences, k)\n",
        "        motifs = extractSeqs(s, sequences, k)\n",
        "        MF = profile(motifs, k, nuc)\n",
        "        PWM = generatePWM(MF)\n",
        "        \n",
        "        bestScore = 0\n",
        "        \n",
        "        s = getNewS(PWM, k, sequences)\n",
        "        for m, j in zip(sequences, s):\n",
        "            if trouverLowComplexe(m[j:j+k]): #Test pour les sequences peu complexes, je crois que ça marche pas\n",
        "                continue\n",
        "            else:\n",
        "                score = 0\n",
        "                for l in range(k):\n",
        "                    match m[j + l]:\n",
        "                        case \"A\":\n",
        "                            score += MF[0][l]\n",
        "                        case \"C\":\n",
        "                            score += MF[1][l]\n",
        "                        case \"G\":\n",
        "                            score += MF[2][l]\n",
        "                        case \"T\":\n",
        "                            score += MF[3][l]\n",
        "                if score > bestScore:\n",
        "                    bestScore = score\n",
        "                    if (bestScore in pos.keys()): \n",
        "                        pos[bestScore].add(j)\n",
        "                    else:\n",
        "                        pos[bestScore] = set()\n",
        "                        pos[bestScore].add(j)\n",
        "                    if (bestScore in consensus.keys()):\n",
        "                        consensus[bestScore].add(m[j:j+k])\n",
        "                    else:\n",
        "                        consensus[bestScore] = set()\n",
        "                        consensus[bestScore].add(m[j:j+k])\n",
        "\n",
        "    return dict(sorted(pos.items(), reverse=True)), dict(sorted(consensus.items(), reverse=True))\n",
        "\n",
        "\n",
        "s, consensus = GreedyProfileMotifSearchIte(adn, k, 50)\n",
        "\n",
        "print (s)\n",
        "print (consensus)"
      ]
    },
    {
      "cell_type": "code",
      "execution_count": 188,
      "metadata": {
        "id": "S7DtjmxjCyQ-"
      },
      "outputs": [
        {
          "name": "stdout",
          "output_type": "stream",
          "text": [
            "{'ACCAC', 'CACCA'}\n",
            "{'ATCAC'}\n"
          ]
        }
      ],
      "source": [
        "#Affiche les sequence consensus de top motifs\n",
        "def printTopFMotifsScore(consensus, top):\n",
        "\n",
        "    motifsSort = sorted(consensus.keys())\n",
        "    motifsSort.reverse()\n",
        "    for i in range(top):\n",
        "      print (consensus[motifsSort[i]])\n",
        "\n",
        "printTopFMotifsScore(consensus, 2)\n",
        "\n",
        "\n"
      ]
    },
    {
      "cell_type": "markdown",
      "metadata": {
        "id": "js7TuAsB_hu2"
      },
      "source": [
        "12\\. Tester algorithme  ``GreedyProfileMotifSearchIte`` sur vos données de chipSeq. N'oubliez pas de chercher les motifs dans le brin complémentaire et faire un merge de résultats."
      ]
    },
    {
      "cell_type": "code",
      "execution_count": 189,
      "metadata": {
        "id": "8um7xWi4URGv"
      },
      "outputs": [],
      "source": [
        "\n",
        "def reverseComplement(seq):\n",
        "    seq_dict = {'A':'T','T':'A','G':'C','C':'G'}\n",
        "    return \"\".join([seq_dict[base] for base in reversed(seq)])"
      ]
    },
    {
      "cell_type": "code",
      "execution_count": 190,
      "metadata": {
        "id": "-M8y_sOS_hu3"
      },
      "outputs": [
        {
          "name": "stdout",
          "output_type": "stream",
          "text": [
            "CTGATCAGCA 4616 8\n"
          ]
        },
        {
          "name": "stdout",
          "output_type": "stream",
          "text": [
            "{'AAATAATT'}\n",
            "{'AATTAATT'}\n",
            "{'TAATAATT'}\n",
            "{'AAATAATA'}\n",
            "{'AAATAATT'}\n",
            "{'AAATAATT'}\n",
            "{'AATTAATT'}\n",
            "{'AAATAAAT'}\n",
            "{'TAATAATA'}\n",
            "{'AATTAATT'}\n"
          ]
        }
      ],
      "source": [
        "k=8\n",
        "\n",
        "def readFasta(genome, n):\n",
        "    sequence = []\n",
        "    file = open(genome, \"r\")\n",
        "    sequence = []\n",
        "    for s in file:\n",
        "        if s[0] != \">\":\n",
        "            sequence.append(s.strip().upper())\n",
        "    sequenceStr = \"\".join(sequence)\n",
        "    #sequence = [sequenceStr]\n",
        "    sequence = [sequenceStr[i:i+n] for i in range(0, len(sequenceStr), n)]\n",
        "    sequenceRet = [x for x in sequence if x]\n",
        "    return sequenceRet\n",
        "\n",
        "genome = \"Sequence_by_Peaks_3.fasta\"\n",
        "\n",
        "sequencesChip = readFasta(genome, n)\n",
        "t = len(sequencesChip)\n",
        "print (sequencesChip[8], t, k)\n",
        "revSequences = [reverseComplement(m) for m in sequencesChip]\n",
        "\n",
        "sequencesChip = sequencesChip + revSequences\n",
        "s, consensus = GreedyProfileMotifSearchIte(sequencesChip, k, 20)\n",
        "printTopFMotifsScore(consensus, 10)\n"
      ]
    }
  ],
  "metadata": {
    "celltoolbar": "Raw Cell Format",
    "colab": {
      "provenance": []
    },
    "kernelspec": {
      "display_name": "Python 3",
      "language": "python",
      "name": "python3"
    },
    "language_info": {
      "codemirror_mode": {
        "name": "ipython",
        "version": 3
      },
      "file_extension": ".py",
      "mimetype": "text/x-python",
      "name": "python",
      "nbconvert_exporter": "python",
      "pygments_lexer": "ipython3",
      "version": "3.11.5"
    }
  },
  "nbformat": 4,
  "nbformat_minor": 0
}
