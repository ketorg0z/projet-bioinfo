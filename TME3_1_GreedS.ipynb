{
  "cells": [
    {
      "cell_type": "markdown",
      "metadata": {
        "id": "981-NdKA_huf"
      },
      "source": [
        "# TME 3.1 : Greedy Profile Motif Search \n",
        "\n",
        "\n",
        "## Recheche de pattern (motifs) en utilisant les algoritmes randomisés\n",
        "\n",
        "Les algorithmes randomisés prendre des décisions aléatoire plutôt que déterministes.\n",
        "l'algorithme s'exécute différemment à chaque fois. Ils sont couramment utilisés dans situations où aucun algorithme exact et rapide est connu. Nous allons d'abord implémenter l'algorithm Greedy Profile Motif Search.\n"
      ]
    },
    {
      "cell_type": "markdown",
      "metadata": {
        "id": "5z3a_1W0_huk"
      },
      "source": [
        "1\\. Nous allons réutiliser les fonctions du precedent pour générer `t` séquences artificielles de taille `n`, et implanter dans chaque séquence un motif de taille `k` à des positions aléatoires avec `v` substitutions choisies aléatoirement. Nous allons faire varier le motifs dans 50% de cas."
      ]
    },
    {
      "cell_type": "code",
      "execution_count": null,
      "metadata": {
        "id": "6UbcF5N2_hul"
      },
      "outputs": [],
      "source": [
        "import random\n",
        "import numpy as np\n",
        "\n",
        "nuc = ('A', 'C', 'G', 'T')\n",
        "\n",
        "k=5 #taille de motif\n",
        "v=1 #nb de positions variable dans le motif\n",
        "t=3 #nb de sequences\n",
        "n=10 #longuer des sequence\n",
        "f= 0.5 #frequence de variation du motif.\n"
      ]
    },
    {
      "cell_type": "code",
      "execution_count": null,
      "metadata": {
        "id": "IplKLaGL_hun"
      },
      "outputs": [],
      "source": [
        "\n",
        "def generateRandomSequence(n, upper=True):\n",
        "    \"\"\"\n",
        "    Génère une séquence nucléotidique aléatoire \n",
        "    entrée n : longueur de la sequence\n",
        "    entrée upper : bool, si True les nucléotides seront en majuscule, False minuscule\n",
        "    sortie sequence : une séquence nucléotidique aléatoire \n",
        "    \"\"\"\n",
        "    sequence = \"\"\n",
        "   \n",
        "    return sequence\n",
        "\n",
        "def modifierMotif(motif, nbpos,  upper=True):\n",
        "    \"\"\"\n",
        "    Modifie nbpos positions d'un motif aléatoirement \n",
        "    entrée motif: motif à modifier\n",
        "    entrée nbpos: nombre de positions\n",
        "    entrée upper : bool, si True les nucléotides modifiés seront majuscule, False minuscule\n",
        "    sortie motifM: motif modifié\n",
        "    \"\"\"\n",
        "    motifM = list(motif)\n",
        "    \n",
        "    return \"\".join(motifM)\n",
        "\n",
        "#tester la fonction modifierMotif\n",
        "#print (modifierMotif(\"acg\", 2))\n",
        "\n",
        "\n",
        "def implantMotifVar(k, v, t, n, f):\n",
        "    \"\"\"\n",
        "    Génère des séquences aléatoires et les implante des motifs variables (un motif par séquence)\n",
        "    entrée k: taille du motif\n",
        "    entrée v: nombre de variations\n",
        "    entrée t : nombre de séquences \n",
        "    entrée n : longueur des séquences\n",
        "    entrée f : frequence de variation du motif.\n",
        "    sortie DNA : matrice de dimension txn avec les motifs implantés\n",
        "    REMARQUE : La taille totale des séquences plus motif doit être égal à t, pensez à générer de séquence aléatoire de taille t-k pour pouvoir implanter un motif de taille k\n",
        "    \"\"\"\n",
        "    motif = generateRandomSequence(k, False)\n",
        "    sequences = []\n",
        "   \n",
        "    return sequences\n",
        "\n",
        "adn = implantMotifVar(k, v, t, n, f)\n",
        "print (adn)\n",
        "\n",
        "adn  = [s.upper() for s in adn]\n",
        "print (adn)"
      ]
    },
    {
      "cell_type": "markdown",
      "metadata": {
        "id": "NoPjFWpM_huq"
      },
      "source": [
        "2\\. Faire une fonction pour sélectionner des positions de départ aléatoirement `s = (s1, …,st)`.\n"
      ]
    },
    {
      "cell_type": "code",
      "execution_count": null,
      "metadata": {
        "id": "WwUeYNeJ_hur"
      },
      "outputs": [],
      "source": [
        "#creating vector s\n",
        "#Get t random positions from 0 to n - k\n",
        "def generateRandomS(sequences, k):\n",
        "\t\"\"\"\n",
        "\tGénère un vecteur de position aléatoires\n",
        "\tentrée sequences: matrice de dimension txn contenant les sequences\n",
        "\tentrée k: taille du motif\n",
        "\tsortie s: vecteur de position aléatoires, une position par séquence\n",
        "  REMARQUE les positions doivent être inférieur à n-k, ou n est la taille de sequence\n",
        "\t\"\"\"\n",
        "\ts = []\n",
        "\n",
        "\treturn s\n",
        "\n",
        "s = generateRandomS(adn, k)\n",
        "print (s)"
      ]
    },
    {
      "cell_type": "markdown",
      "metadata": {
        "id": "vwTv0oVD_hut"
      },
      "source": [
        "3\\. Extraire les motifs en utilisant le vecteur `s`, et construire un profile (matrice de fréquence). \n"
      ]
    },
    {
      "cell_type": "code",
      "execution_count": null,
      "metadata": {
        "id": "GMC6y17y_hut"
      },
      "outputs": [],
      "source": [
        "#extract sequences from seqs\n",
        "def extractSeqs(s, seqs, k):\n",
        "    \"\"\"\n",
        "    Extraire les motifs des séquences à l'aide de positions s\n",
        "    entrée s: vecteur contenant les positions de départs\n",
        "    entrée seqs: matrice de dimension txn contenant les séquences\n",
        "    entrée k: taille du motif\n",
        "    sortie motifs: liste de motifs de taille k extrait des séquences\n",
        "    \"\"\"\n",
        "    motifs = []    \n",
        "   \n",
        "    return motifs\n",
        "        \n",
        "motifs = extractSeqs(s, adn, k)\n",
        "print (motifs)\n",
        "\n",
        "\n",
        "#Construire un profile = matrice de fréquence\n",
        "def profile(motifs, k, nuc):\n",
        "    \"\"\"\n",
        "    Construire une matrice de fréquence de dimension k x |nuc|\n",
        "    entrée motifs: liste de motifs\n",
        "    entrée k: taille du motif\n",
        "    entrée nuc: alphabet\n",
        "    sortie MF: matrice de fréquence\n",
        "    \"\"\"\n",
        "    q = len(nuc)\n",
        "    PWM = np.zeros((q, k))\n",
        "    \n",
        "  \n",
        "    return PWM\n",
        "MF = profile(motifs, k, nuc)\n",
        "print(MF)"
      ]
    },
    {
      "cell_type": "markdown",
      "metadata": {
        "id": "zIw6koU2_huu"
      },
      "source": [
        "4\\. Transformer la matrice de fréquence en PWM. Il faut diviser chaque élément par la somme de ses colonnes."
      ]
    },
    {
      "cell_type": "code",
      "execution_count": null,
      "metadata": {
        "id": "wOH5mbkA_huv"
      },
      "outputs": [],
      "source": [
        "def generatePWM(MF):\n",
        "  \"\"\"\n",
        "  Transforme la matrice de fréquence en PWM\n",
        "  entrée MF: matrice de fréquence\n",
        "  sortie PWM: matrice de probabilité (poids positions)\n",
        "  \"\"\"\n",
        "  \n",
        "\n",
        "PWM = generatePWM(MF)"
      ]
    },
    {
      "cell_type": "markdown",
      "metadata": {
        "id": "ThOfxUGq_huw"
      },
      "source": [
        "5\\. Faire une fonction pour calculer la probabilité d'un motif de taille `k` selon une PWM.\n"
      ]
    },
    {
      "cell_type": "code",
      "execution_count": null,
      "metadata": {
        "id": "ZUNbTtum_huw"
      },
      "outputs": [],
      "source": [
        "def probability(PWM, motif):\n",
        "    \"\"\"\n",
        "    Calcul la probalité d'un motif selon PWM\n",
        "    entrée PWM: matrice de probabilité (poids positions)\n",
        "    entrée motif: motif\n",
        "    sortie prob: probalité Prob(motif|PWM)\n",
        "    \"\"\"\n",
        "    prob = 1\n",
        "  \n",
        "    return prob\n",
        "\n",
        "prob = probability(PWM, \"AAACA\")\n",
        "print (prob)"
      ]
    },
    {
      "cell_type": "markdown",
      "metadata": {
        "id": "aqLjmxrx_hux"
      },
      "source": [
        "6\\. Faire une fonction pour calculer le pMostProbkmer d'une séquence, voir un exemple dans les slides de cours."
      ]
    },
    {
      "cell_type": "code",
      "execution_count": null,
      "metadata": {
        "id": "-_GDK4mQ_huy"
      },
      "outputs": [],
      "source": [
        "def pMostProbkmer(PWM, k, sequence):\n",
        "    \"\"\"\n",
        "    calcul la position du k-mer le plus probable dans la séquence\n",
        "    entrée PWM: matrice de probabilité (poids positions)\n",
        "    entrée k: taille du motif\n",
        "    entrée sequence: séquence nucleotidique\n",
        "    sortie s: la position la plus probable \n",
        "    \"\"\"\n",
        "    maxProb = 0\n",
        "    s = 0 # position du k-mer le plus probable dans la sequence\n",
        "    \n",
        "    return s\n",
        "s = pMostProbkmer(PWM, k, \"GCCGGATACT\")\n",
        "print (s)"
      ]
    },
    {
      "cell_type": "markdown",
      "metadata": {
        "id": "QwXuMhNn_huy"
      },
      "source": [
        "7\\. Faire une fonction pour obtenir les nouvelles positions de départ `s = (s1, …,st)`, c’était à dire les positions qui contiens les k-mer le plus probables."
      ]
    },
    {
      "cell_type": "code",
      "execution_count": null,
      "metadata": {
        "id": "G3neuRM9_huz"
      },
      "outputs": [],
      "source": [
        "def getNewS(PWM, k, sequences):\n",
        "    \"\"\"\n",
        "    Trouve les nouvelles positions des k-mer le plus probables\n",
        "    entrée PWM: matrice de probabilité (poids positions)\n",
        "    entrée k: taille du motif\n",
        "    entrée sequence: séquence nucleotidique\n",
        "    sortie s: vecteur avec les positions les plus problables\n",
        "    \"\"\"\n",
        "\n",
        "    s = []\n",
        "   \n",
        "    return s\n",
        "\n",
        "ns = getNewS(PWM, k, adn)\n",
        "print (ns)"
      ]
    },
    {
      "cell_type": "markdown",
      "metadata": {
        "id": "WoETBPxq_huz"
      },
      "source": [
        "8\\. La condition d’arrêt de l'algorithme est le non changement de la matrice de fréquence d'une itération à l'autre, \n",
        "faire une fonction pour comparer deux matrices et détecter le changement. \n",
        "Faire aussi une fonction pour obtenir le score d'une matrice de fréquence : la somme de max de chaque colonne"
      ]
    },
    {
      "cell_type": "code",
      "execution_count": null,
      "metadata": {
        "id": "NUDOYB6A_hu0"
      },
      "outputs": [],
      "source": [
        "def changeProfile(P1, P2):\n",
        "    \"\"\"\n",
        "    Compare deux matrice\n",
        "    entrée P1: matrice de fréquence\n",
        "    entrée P2: matrice de fréquence\n",
        "    sortie: True si les matrices sont différents, False au contraire\n",
        "    \"\"\"\n",
        "   \n",
        "    return True\n",
        "\n",
        "def getScore(MF, k):\n",
        "    \"\"\"\n",
        "    Renvoie le score de MF, la somme des max de chaque colonne\n",
        "    entrée MF: matrice de fréquence\n",
        "    entrée k: taille du motif\n",
        "    sortie sc: score\n",
        "    \"\"\"\n",
        "    sc = 0\n",
        "    \n",
        "    return sc\n",
        "\n",
        "ns = getNewS(PWM, k, adn)\n",
        "print (s, ns)\n",
        "\n",
        "sc = getScore(MF, k)\n",
        "print (sc)\n"
      ]
    },
    {
      "cell_type": "markdown",
      "metadata": {
        "id": "QhO7GPfn_hu0"
      },
      "source": [
        "9\\. Implementer l'algorithme ``GreedyProfileMotifSearch`` en utilisant les fonctions precedentes. \n",
        "BONUS: Pour ameliorer la performance vous pouvez abandonner les positions qui génèrent des motifs peu complexes."
      ]
    },
    {
      "cell_type": "code",
      "execution_count": null,
      "metadata": {
        "id": "s3wvHQUp_hu0"
      },
      "outputs": [],
      "source": [
        "def GreedyProfileMotifSearch(sequences, k):\n",
        "    \"\"\"\n",
        "    Implémente l'algorithme GreedyProfileMotifSearch \n",
        "\t  entrée sequences: matrice de dimension txn contenant les séquences \n",
        "\t  entrée k : taille du motif \n",
        "    sortie s : vecteur de positions de départ ayant le meilleur motif \n",
        "    sortie bestScore : le score associé à s\n",
        "    \"\"\"\n",
        "    s = generateRandomS(sequences, k)\n",
        "    bestScore = 0\n",
        "  \n",
        "    \n",
        "    return s, bestScore\n",
        "\n",
        "print (adn)\n",
        "s, bestScore = GreedyProfileMotifSearch(adn, k)   \n",
        "motifs = extractSeqs(s, adn, k)\n",
        "print (motifs)\n",
        "        "
      ]
    },
    {
      "cell_type": "markdown",
      "metadata": {
        "id": "xvo0wA0R_hu1"
      },
      "source": [
        "10\\. Avez vous trouvez le motif implanté? Rexécuter l’algorithme plusieurs fois pour le trouver. "
      ]
    },
    {
      "cell_type": "markdown",
      "metadata": {
        "id": "tQw_6g6I_hu1"
      },
      "source": [
        "Reponse:"
      ]
    },
    {
      "cell_type": "markdown",
      "metadata": {
        "id": "hFC52cFb_hu1"
      },
      "source": [
        "11\\. Vous avez certainement observer que l’algorithme ne produire pas toujours la même sortie et que les résultats dépendent de la sélection aléatoire des positions de départ `s`. Pour augmenter nous chances de retrouvez les bons motifs, nous allons implémenter une version itérative ``GreedyProfileMotifSearchIte`` \n",
        "qui a chaque fois sauvegarde `s` et le score du profile associé à `s`, après `I` itération, l’algorithme renvoie le vecteur `s` ayant le plus grand score."
      ]
    },
    {
      "cell_type": "code",
      "execution_count": null,
      "metadata": {
        "id": "RN4HsjUX_hu2"
      },
      "outputs": [],
      "source": [
        "def GreedyProfileMotifSearchIte(sequences, k, It):\n",
        "    \"\"\"\n",
        "    Implémente l'algorithme GreedyProfileMotifSearch iteratif\n",
        "\t  entrée séquences: matrice de dimension txn contenant les séquences\n",
        "\t  entrée k: taille du motif \n",
        "    entrée It: nombre d'iterations\n",
        "    sortie positions: dictionnaire clé=score, valeur= vecteur s \n",
        "    sortie consensus: dictionnaire clé=score, valeur= sequence consensus du motif\n",
        "    \"\"\"\n",
        "   \n",
        "    pos = {}\n",
        "    consensus = {}\n",
        "   \n",
        "    return pos, consensus\n",
        "\n",
        "\n",
        "s, consensus = GreedyProfileMotifSearchIte(adn, k, 50)\n",
        "\n",
        "print (s)\n",
        "print (consensus)"
      ]
    },
    {
      "cell_type": "code",
      "source": [
        "#Affiche les sequence consensus de top motifs\n",
        "def printTopFMotifsScore(consensus, top):\n",
        "\n",
        "    motifsSort = sorted(consensus.keys())\n",
        "    motifsSort.reverse()\n",
        "    for i in range(top):\n",
        "      print (consensus[motifsSort[i]])\n",
        "\n",
        "printTopFMotifsScore(consensus, 2)\n",
        "\n",
        "\n"
      ],
      "metadata": {
        "id": "S7DtjmxjCyQ-"
      },
      "execution_count": null,
      "outputs": []
    },
    {
      "cell_type": "markdown",
      "metadata": {
        "id": "js7TuAsB_hu2"
      },
      "source": [
        "12\\. Tester algorithme  ``GreedyProfileMotifSearchIte`` sur vos données de chipSeq. N'oubliez pas de chercher les motifs dans le brin complémentaire et faire un merge de résultats."
      ]
    },
    {
      "cell_type": "code",
      "source": [
        "\n",
        "def reverseComplement(seq):\n",
        "    seq_dict = {'A':'T','T':'A','G':'C','C':'G'}\n",
        "    return \"\".join([seq_dict[base] for base in reversed(seq)])"
      ],
      "metadata": {
        "id": "8um7xWi4URGv"
      },
      "execution_count": null,
      "outputs": []
    },
    {
      "cell_type": "code",
      "execution_count": null,
      "metadata": {
        "id": "-M8y_sOS_hu3"
      },
      "outputs": [],
      "source": [
        "k=8\n",
        "\n",
        "def readFasta(genome, n):\n",
        "    sequence = []\n",
        "    file = open(genome, \"r\")\n",
        "    sequence = []\n",
        "    for s in file:\n",
        "        if s[0] != \">\":\n",
        "            sequence.append(s.strip().upper())\n",
        "    sequenceStr = \"\".join(sequence)\n",
        "    #sequence = [sequenceStr]\n",
        "    sequence = [sequenceStr[i:i+n] for i in range(0, len(sequenceStr), n)]\n",
        "    sequenceRet = [x for x in sequence if x]\n",
        "    return sequenceRet\n",
        "\n",
        "genome = \"Sequence_by_Peaks_1.fasta\"\n",
        "\n",
        "\n",
        "sequencesChip   = readFasta(genome, n)\n",
        "t = len(sequencesChip)\n",
        "print (sequencesChip[8], t, k)\n",
        "revSequences = [reverseComplement(m) for m in sequencesChip]\n",
        "\n",
        "sequencesChip = sequencesChip + revSequences\n",
        "s, consensus = GreedyProfileMotifSearchIte(sequencesChip, k, 20)\n",
        "printTopFMotifsScore(consensus, 10)\n"
      ]
    }
  ],
  "metadata": {
    "celltoolbar": "Raw Cell Format",
    "colab": {
      "provenance": []
    },
    "kernelspec": {
      "display_name": "Python 3",
      "language": "python",
      "name": "python3"
    },
    "language_info": {
      "codemirror_mode": {
        "name": "ipython",
        "version": 3
      },
      "file_extension": ".py",
      "mimetype": "text/x-python",
      "name": "python",
      "nbconvert_exporter": "python",
      "pygments_lexer": "ipython3",
      "version": "3.8.8"
    }
  },
  "nbformat": 4,
  "nbformat_minor": 0
}