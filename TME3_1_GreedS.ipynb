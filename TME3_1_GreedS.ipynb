{
  "cells": [
    {
      "cell_type": "markdown",
      "metadata": {
        "id": "981-NdKA_huf"
      },
      "source": [
        "# TME 3.1 : Greedy Profile Motif Search \n",
        "\n",
        "Numéro étudiant 1 : 21241759<br>\n",
        "Numéro étudiant 2 : 22106550 <br>\n",
        "\n",
        "## Recheche de pattern (motifs) en utilisant les algoritmes randomisés\n",
        "\n",
        "Les algorithmes randomisés prendre des décisions aléatoire plutôt que déterministes.\n",
        "l'algorithme s'exécute différemment à chaque fois. Ils sont couramment utilisés dans situations où aucun algorithme exact et rapide est connu. Nous allons d'abord implémenter l'algorithm Greedy Profile Motif Search.\n"
      ]
    },
    {
      "cell_type": "markdown",
      "metadata": {
        "id": "5z3a_1W0_huk"
      },
      "source": [
        "1\\. Nous allons réutiliser les fonctions du precedent pour générer `t` séquences artificielles de taille `n`, et implanter dans chaque séquence un motif de taille `k` à des positions aléatoires avec `v` substitutions choisies aléatoirement. Nous allons faire varier le motifs dans 50% de cas."
      ]
    },
    {
      "cell_type": "code",
      "execution_count": 25,
      "metadata": {
        "id": "6UbcF5N2_hul"
      },
      "outputs": [
        {
          "name": "stdout",
          "output_type": "stream",
          "text": [
            "ctagt\n",
            "['agtactagtg', 'attatagtta', 'gctagtacag']\n",
            "['AGTACTAGTG', 'ATTATAGTTA', 'GCTAGTACAG']\n"
          ]
        }
      ],
      "source": [
        "import random\n",
        "import numpy as np\n",
        "\n",
        "nuc = ('A', 'C', 'G', 'T')\n",
        "\n",
        "def insertMotif(sequence, motif, position):\n",
        "    return sequence[:position] + motif + sequence[position:]\n",
        "\n",
        "def generateRandomSequence(n:int, upper=False):\n",
        "    \"\"\"\n",
        "    Même chose hein\n",
        "    \"\"\"\n",
        "    sequence = \"\".join([random.choice(nuc) for _ in range(n)])\n",
        "    if upper:\n",
        "        return sequence\n",
        "    return sequence.lower()\n",
        "\n",
        "def modifierMotif(motif:str, nbpos:int,  upper=False):\n",
        "    \"\"\"\n",
        "    Modifie nbpos positions d'un motif aléatoirement \n",
        "    entrée motif: motif à modifier\n",
        "    entrée nbpos: nombre de positions\n",
        "    entrée upper : bool, si True les nucléotides modifiés seront minuscule, False majuscule\n",
        "    sortie motifM: motif modifié\n",
        "    \"\"\"\n",
        "    motifM = list(motif)\n",
        "\n",
        "    nbPos_real = min(nbpos, len(motif))\n",
        "    allPos = list(range(len(motif)))\n",
        "\n",
        "    for _ in range(nbPos_real):\n",
        "        index = random.choice(range(len(allPos)))\n",
        "        changeIndex = allPos[index]\n",
        "        del allPos[index]\n",
        "\n",
        "        nv_L = generateRandomSequence(1, upper)\n",
        "        motifM[changeIndex] = nv_L\n",
        "    return \"\".join(motifM)        \n",
        "\n",
        "\n",
        "def implantMotifVar(k, v, t, n, f):\n",
        "    \"\"\"\n",
        "    Génère des séquences aléatoires et les implante des motifs variables (un motif par séquence)\n",
        "    entrée k: taille du motif\n",
        "    entrée v: nombre de variations\n",
        "    entrée t : nombre de séquences \n",
        "    entrée n : longueur des séquences\n",
        "    sortie DNA : matrice de dimension txn avec les motifs implantés\n",
        "    REMARQUE : La taille totale des séquences plus motif doit être égal à t, pensez à générer de séquence aléatoire de taille t-k pour pouvoir implanter un motif de taille k\n",
        "    \"\"\"\n",
        "    \n",
        "    sequences = []\n",
        "\n",
        "    motif = generateRandomSequence(k)\n",
        "    print(motif)\n",
        "    motif_new = motif\n",
        "    for _ in range(t):\n",
        "        base_seq = generateRandomSequence(n - k)\n",
        "        if random.random() < f:\n",
        "            motif_new = modifierMotif(motif, v)\n",
        "        sequences.append(insertMotif(base_seq, motif_new, random.choice(range(len(base_seq)))))\n",
        "        motif_new = motif\n",
        "    \n",
        "    return sequences\n",
        "\n",
        "k=5 #taille de motif\n",
        "v=1 #nb de positions variable dans le motif\n",
        "t=3 #nb de sequences\n",
        "n=10 #longuer des sequence\n",
        "f= 0.5 #frequence de variation du motif.\n",
        "\n",
        "adn = implantMotifVar(k, v, t, n, f)\n",
        "print (adn)\n",
        "\n",
        "adn  = [s.upper() for s in adn]\n",
        "print (adn)"
      ]
    },
    {
      "cell_type": "markdown",
      "metadata": {
        "id": "NoPjFWpM_huq"
      },
      "source": [
        "2\\. Faire une fonction pour sélectionner des positions de départ aléatoirement `s = (s1, …,st)`.\n"
      ]
    },
    {
      "cell_type": "code",
      "execution_count": 26,
      "metadata": {
        "id": "WwUeYNeJ_hur"
      },
      "outputs": [
        {
          "name": "stdout",
          "output_type": "stream",
          "text": [
            "[3, 1, 0]\n"
          ]
        }
      ],
      "source": [
        "#creating vector s\n",
        "#Get t random positions from 0 to n - k\n",
        "def generateRandomS(sequences, k):\n",
        "\t\"\"\"\n",
        "\tGénère un vecteur de position aléatoires\n",
        "\tentrée sequences: matrice de dimension txn contenant les sequences\n",
        "\tentrée k: taille du motif\n",
        "\tsortie s: vecteur de position aléatoires, une position par séquence\n",
        "  REMARQUE les positions doivent être inférieur à n-k, ou n est la taille de sequence\n",
        "\t\"\"\"\n",
        "\ts = []\n",
        "\tfor i in sequences:\n",
        "\t\ts.append(random.randint(0, (len(i)-k)-1))\n",
        "\treturn s\n",
        "\n",
        "s = generateRandomS(adn, k)\n",
        "print (s)"
      ]
    },
    {
      "cell_type": "markdown",
      "metadata": {
        "id": "vwTv0oVD_hut"
      },
      "source": [
        "3\\. Extraire les motifs en utilisant le vecteur `s`, et construire un profile (matrice de fréquence). \n"
      ]
    },
    {
      "cell_type": "code",
      "execution_count": 27,
      "metadata": {
        "id": "GMC6y17y_hut"
      },
      "outputs": [
        {
          "name": "stdout",
          "output_type": "stream",
          "text": [
            "['ACTAG', 'TTATA', 'GCTAG']\n",
            "[[1. 0. 1. 2. 1.]\n",
            " [0. 2. 0. 0. 0.]\n",
            " [1. 0. 0. 0. 2.]\n",
            " [1. 1. 2. 1. 0.]]\n"
          ]
        }
      ],
      "source": [
        "#extract sequences from seqs\n",
        "def extractSeqs(s, seqs, k):\n",
        "    \"\"\"\n",
        "    Extraire les motifs des séquences à l'aide de positions s\n",
        "    entrée s: vecteur contenant les positions de départs\n",
        "    entrée seqs: matrice de dimension txn contenant les séquences\n",
        "    entrée k: taille du motif\n",
        "    sortie motifs: liste de motifs de taille k extrait des séquences\n",
        "    \"\"\"\n",
        "    motifs = []    \n",
        "    for i in range(len(seqs)):\n",
        "        motifs.append(\"\".join(seqs[i][s[i]:s[i]+k]).upper())\n",
        "\n",
        "    return motifs\n",
        "        \n",
        "motifs = extractSeqs(s, adn, k)\n",
        "print (motifs)\n",
        "\n",
        "\n",
        "#Construire un profile = matrice de fréquence\n",
        "def profile(motifs, k, nuc):\n",
        "    \"\"\"\n",
        "    Construire une matrice de fréquence de dimension k x |nuc|\n",
        "    entrée motifs: liste de motifs\n",
        "    entrée k: taille du motif\n",
        "    entrée nuc: alphabet\n",
        "    sortie MF: matrice de fréquence\n",
        "    \"\"\"\n",
        "    q = len(nuc)\n",
        "    PWM = np.zeros((q, k))\n",
        "    for i in motifs:\n",
        "        for j in range(k):\n",
        "            if i[j] == \"A\":\n",
        "                PWM[0][j] += 1\n",
        "            if i[j] == \"C\":\n",
        "                PWM[1][j] += 1\n",
        "            if i[j] == \"G\":\n",
        "                PWM[2][j] += 1\n",
        "            if i[j] == \"T\":\n",
        "                PWM[3][j] += 1\n",
        "  \n",
        "    return PWM\n",
        "\n",
        "MF = profile(motifs, k, nuc)\n",
        "print(MF)"
      ]
    },
    {
      "cell_type": "markdown",
      "metadata": {
        "id": "zIw6koU2_huu"
      },
      "source": [
        "4\\. Transformer la matrice de fréquence en PWM. Il faut diviser chaque élément par la somme de ses colonnes."
      ]
    },
    {
      "cell_type": "code",
      "execution_count": 28,
      "metadata": {
        "id": "wOH5mbkA_huv"
      },
      "outputs": [
        {
          "name": "stdout",
          "output_type": "stream",
          "text": [
            "[[0.33333333 0.         0.33333333 0.66666667 0.33333333]\n",
            " [0.         0.66666667 0.         0.         0.        ]\n",
            " [0.33333333 0.         0.         0.         0.66666667]\n",
            " [0.33333333 0.33333333 0.66666667 0.33333333 0.        ]]\n"
          ]
        }
      ],
      "source": [
        "def generatePWM(MF):\n",
        "  \"\"\"\n",
        "  Transforme la matrice de fréquence en PWM\n",
        "  entrée MF: matrice de fréquence\n",
        "  sortie PWM: matrice de probabilité (poids positions)\n",
        "  \"\"\"\n",
        "  PWM = MF.copy()\n",
        "  for i in range(len(MF[0])):\n",
        "    summ = 0\n",
        "    for j in range(len(MF)):\n",
        "      summ += MF[j][i]\n",
        "    for j in range(len(MF)):\n",
        "      PWM[j][i] /= summ\n",
        "    \n",
        "  return PWM\n",
        "\n",
        "PWM = generatePWM(MF)\n",
        "print(PWM)"
      ]
    },
    {
      "cell_type": "markdown",
      "metadata": {
        "id": "ThOfxUGq_huw"
      },
      "source": [
        "5\\. Faire une fonction pour calculer la probabilité d'un motif de taille `k` selon une PWM.\n"
      ]
    },
    {
      "cell_type": "code",
      "execution_count": 29,
      "metadata": {
        "id": "ZUNbTtum_huw"
      },
      "outputs": [
        {
          "name": "stdout",
          "output_type": "stream",
          "text": [
            "0.13333333333333333\n"
          ]
        }
      ],
      "source": [
        "def probability(PWM, motif):\n",
        "    \"\"\"\n",
        "    Calcul la probalité d'un motif selon PWM\n",
        "    entrée PWM: matrice de probabilité (poids positions)\n",
        "    entrée motif: motif\n",
        "    sortie prob: probalité Prob(motif|PWM)\n",
        "    \"\"\"\n",
        "    prob = []\n",
        "\n",
        "    for i in range(len(motif)):\n",
        "        match motif[i]:\n",
        "            case \"A\":\n",
        "                prob.append(PWM[0][i])\n",
        "            case \"C\":\n",
        "                prob.append(PWM[1][i])\n",
        "            case \"G\":\n",
        "                prob.append(PWM[2][i])\n",
        "            case \"T\":\n",
        "                prob.append(PWM[3][i])\n",
        "            case _:\n",
        "                print(\"nucléotide n'est pas accepté\")\n",
        "  \n",
        "    return sum(prob)/len(prob)\n",
        "\n",
        "prob = probability(PWM, \"CGCTA\")\n",
        "print (prob)"
      ]
    },
    {
      "cell_type": "markdown",
      "metadata": {
        "id": "aqLjmxrx_hux"
      },
      "source": [
        "6\\. Faire une fonction pour calculer le pMostProbkmer d'une séquence, voir un exemple dans les slides de cours."
      ]
    },
    {
      "cell_type": "code",
      "execution_count": 30,
      "metadata": {
        "id": "-_GDK4mQ_huy"
      },
      "outputs": [
        {
          "name": "stdout",
          "output_type": "stream",
          "text": [
            "0\n"
          ]
        }
      ],
      "source": [
        "from itertools import product\n",
        "\n",
        "def trouverLowComplexe(motif, size):\n",
        "    \"\"\"\n",
        "    Eleve les motifs peu complexe ayant \n",
        "    entrée motifs: dictionnaire de motifs, clé=motif, valeur = fréquence d'observation\n",
        "    sortie motifsClean: dictionnaire de motifs sans les motifs peu complexe.\n",
        "    \"\"\"\n",
        "    twoLetterCombs = [\"\".join(tup) for tup in list(product([\"A\", \"T\", \"G\", \"C\"], repeat=2))]\n",
        "    motif = motif.upper()\n",
        "    if motif.count(\"A\") > size or motif.count(\"T\") > size or motif.count(\"G\") > size or motif.count(\"C\") > size:\n",
        "        return True\n",
        "    if True in [x*3 in motif for x in twoLetterCombs]:\n",
        "        return True\n",
        "        \n",
        "    return False\n",
        "\n",
        "def pMostProbkmer(PWM, k, sequence):\n",
        "    \"\"\"\n",
        "    calcul la position du k-mer le plus probable dans la séquence\n",
        "    entrée PWM: matrice de probabilité (poids positions)\n",
        "    entrée k: taille du motif\n",
        "    entrée sequence: séquence nucleotidique\n",
        "    sortie s: la position la plus probable \n",
        "    \"\"\"\n",
        "    maxProb = 0\n",
        "    s = 0 # position du k-mer le plus probable dans la sequence\n",
        "    \n",
        "    for i in range(0, len(sequence)-k, 1):\n",
        "        if probability(PWM, sequence[i:i+k]) > maxProb:\n",
        "            if trouverLowComplexe(sequence[i:i+k], k):\n",
        "                continue\n",
        "            maxProb = probability(PWM, sequence[i:i+k])\n",
        "            s = i\n",
        "    return s\n",
        "\n",
        "s = pMostProbkmer(PWM, k, \"GCTATCGCTA\")\n",
        "print(s)"
      ]
    },
    {
      "cell_type": "markdown",
      "metadata": {
        "id": "QwXuMhNn_huy"
      },
      "source": [
        "7\\. Faire une fonction pour obtenir les nouvelles positions de départ `s = (s1, …,st)`, c’était à dire les positions qui contiens les k-mer le plus probables."
      ]
    },
    {
      "cell_type": "code",
      "execution_count": 31,
      "metadata": {
        "id": "G3neuRM9_huz"
      },
      "outputs": [
        {
          "name": "stdout",
          "output_type": "stream",
          "text": [
            "[3, 2, 0]\n"
          ]
        }
      ],
      "source": [
        "def getNewS(PWM, k, sequences):\n",
        "    \"\"\"\n",
        "    Trouve les nouvelles positions des k-mer le plus probables\n",
        "    entrée PWM: matrice de probabilité (poids positions)\n",
        "    entrée k: taille du motif\n",
        "    entrée sequence: séquence nucleotidique\n",
        "    sortie s: vecteur avec les positions les plus problables\n",
        "    \"\"\"\n",
        "\n",
        "    s = []\n",
        "    for i in sequences:\n",
        "        tmp = pMostProbkmer(PWM, k, i)\n",
        "        s.append(tmp)\n",
        "   \n",
        "    return s\n",
        "\n",
        "ns = getNewS(PWM, k, adn)\n",
        "print (ns)"
      ]
    },
    {
      "cell_type": "markdown",
      "metadata": {
        "id": "WoETBPxq_huz"
      },
      "source": [
        "8\\. La condition d’arrêt de l'algorithme est le non changement de la matrice de fréquence d'une itération à l'autre, \n",
        "faire une fonction pour comparer deux matrices et détecter le changement. \n",
        "Faire aussi une fonction pour obtenir le score d'une matrice de fréquence : la somme de max de chaque colonne"
      ]
    },
    {
      "cell_type": "code",
      "execution_count": 32,
      "metadata": {
        "id": "NUDOYB6A_hu0"
      },
      "outputs": [
        {
          "name": "stdout",
          "output_type": "stream",
          "text": [
            "0 [3, 2, 0]\n",
            "9.0\n"
          ]
        }
      ],
      "source": [
        "def changeProfile(P1, P2):\n",
        "    \"\"\"\n",
        "    Compare deux matrice\n",
        "    entrée P1: matrice de fréquence\n",
        "    entrée P2: matrice de fréquence\n",
        "    sortie: True si les matrices sont différents, False au contraire\n",
        "    \"\"\"\n",
        "    return P1 != P2\n",
        "\n",
        "def getScore(MF, k):\n",
        "    \"\"\"\n",
        "    Renvoie le score de MF, la somme des max de chaque colonne\n",
        "    entrée MF: matrice de fréquence\n",
        "    entrée k: taille du motif\n",
        "    sortie sc: score\n",
        "    \"\"\"\n",
        "    sc = 0\n",
        "    for i in range(k):\n",
        "        sc += max(MF[0][i], MF[1][i], MF[2][i], MF[3][i])\n",
        "    return sc\n",
        "\n",
        "ns = getNewS(PWM, k, adn)\n",
        "print (s, ns)\n",
        "\n",
        "sc = getScore(MF, k)\n",
        "print (sc)"
      ]
    },
    {
      "cell_type": "markdown",
      "metadata": {
        "id": "QhO7GPfn_hu0"
      },
      "source": [
        "9\\. Implementer l'algorithme ``GreedyProfileMotifSearch`` en utilisant les fonctions precedentes. \n",
        "BONUS: Pour ameliorer la performance vous pouvez abandonner les positions qui génèrent des motifs peu complexes."
      ]
    },
    {
      "cell_type": "code",
      "execution_count": 33,
      "metadata": {
        "id": "s3wvHQUp_hu0"
      },
      "outputs": [
        {
          "name": "stdout",
          "output_type": "stream",
          "text": [
            "['AGTACTAGTG', 'ATTATAGTTA', 'GCTAGTACAG']\n",
            "['CTAGT', 'ATAGT', 'CTAGT']\n"
          ]
        }
      ],
      "source": [
        "def GreedyProfileMotifSearch(sequences, k):\n",
        "    \"\"\"\n",
        "    Implémente l'algorithme GreedyProfileMotifSearch \n",
        "\t  entrée sequences: matrice de dimension txn contenant les séquences \n",
        "\t  entrée k : taille du motif \n",
        "    sortie s : vecteur de positions de départ ayant le meilleur motif \n",
        "    sortie bestScore : le score associé à s\n",
        "    \"\"\"\n",
        "    nuc = ('A', 'C', 'G', 'T')\n",
        "    \n",
        "    s = generateRandomS(sequences, k)\n",
        "    motifs = extractSeqs(s, sequences, k)\n",
        "    MF = profile(motifs, k, nuc)\n",
        "    PWM = generatePWM(MF)\n",
        "    \n",
        "    bestScore = 0\n",
        "    \n",
        "    s = getNewS(PWM, k, sequences)\n",
        "    # Optimiser dans getNewS\n",
        "    # trouverLowComplexes doit verifier si on n'a pas choisi des motifs peu complexes, maos il faut l'amiliorer, car la compléxité depend de la longueur \n",
        "    for i, j in zip(sequences, s):\n",
        "        if trouverLowComplexe(i, k/2):\n",
        "            continue\n",
        "        score = 0\n",
        "        for l in range(k):\n",
        "            match i[j + l]:\n",
        "                case \"A\":\n",
        "                    score += MF[0][l]\n",
        "                case \"C\":\n",
        "                    score += MF[1][l]\n",
        "                case \"G\":\n",
        "                    score += MF[2][l]\n",
        "                case \"T\":\n",
        "                    score += MF[3][l]\n",
        "        if score > bestScore:\n",
        "            bestScore = score\n",
        "    \n",
        "    return s, bestScore\n",
        "\n",
        "print (adn)\n",
        "s, bestScore = GreedyProfileMotifSearch(adn, k)   \n",
        "motifs = extractSeqs(s, adn, k)\n",
        "print (motifs)\n",
        "        "
      ]
    },
    {
      "cell_type": "markdown",
      "metadata": {
        "id": "xvo0wA0R_hu1"
      },
      "source": [
        "10\\. Avez vous trouvez le motif implanté? Rexécuter l’algorithme plusieurs fois pour le trouver. "
      ]
    },
    {
      "cell_type": "markdown",
      "metadata": {
        "id": "tQw_6g6I_hu1"
      },
      "source": [
        "Reponse: Oui, après quelques éxécutions on trouve le morif de taille k implanté."
      ]
    },
    {
      "cell_type": "markdown",
      "metadata": {
        "id": "hFC52cFb_hu1"
      },
      "source": [
        "11\\. Vous avez certainement observer que l’algorithme ne produire pas toujours la même sortie et que les résultats dépendent de la sélection aléatoire des positions de départ `s`. Pour augmenter nous chances de retrouvez les bons motifs, nous allons implémenter une version itérative ``GreedyProfileMotifSearchIte`` \n",
        "qui a chaque fois sauvegarde `s` et le score du profile associé à `s`, après `I` itération, l’algorithme renvoie le vecteur `s` ayant le plus grand score."
      ]
    },
    {
      "cell_type": "code",
      "execution_count": 34,
      "metadata": {
        "id": "RN4HsjUX_hu2"
      },
      "outputs": [
        {
          "name": "stdout",
          "output_type": "stream",
          "text": [
            "{13.0: {2}, 12.0: {2}, 10.0: {0, 1, 3, 4}, 9.0: {1, 2, 4}, 8.0: {0, 1, 2, 3, 4}, 7.0: {0, 1, 2, 4}, 6.0: {1, 2, 3, 4}}\n",
            "{13.0: {'TAGTA'}, 12.0: {'TACTA'}, 10.0: {'ATAGT', 'GTACT', 'GTACA', 'ACTAG', 'AGTAC'}, 9.0: {'GTACT', 'TACTA', 'TAGTA', 'CTAGT', 'TATAG'}, 8.0: {'ATAGT', 'GTACA', 'GTACT', 'TACTA', 'TAGTA', 'ACTAG', 'AGTAC'}, 7.0: {'GTACT', 'TACTA', 'CTAGT', 'AGTAC', 'TATAG'}, 6.0: {'GTACT', 'CTAGT', 'TACTA', 'ACTAG'}}\n"
          ]
        }
      ],
      "source": [
        "def GreedyProfileMotifSearchIte(sequences, k, It):\n",
        "    \"\"\"\n",
        "    Implémente l'algorithme GreedyProfileMotifSearch iteratif\n",
        "\t  entrée séquences: matrice de dimension txn contenant les séquences\n",
        "\t  entrée k: taille du motif \n",
        "    entrée It: nombre d'iterations\n",
        "    sortie positions: dictionnaire clé=score, valeur= vecteur s \n",
        "    sortie consensus: dictionnaire clé=score, valeur= sequence consensus du motif\n",
        "    \"\"\"\n",
        "    pos = {}\n",
        "    consensus = {}\n",
        "   \n",
        "    nuc = ('A', 'C', 'G', 'T')\n",
        "    s = generateRandomS(sequences, k)\n",
        "    for i in range(It):\n",
        "        s = generateRandomS(sequences, k)\n",
        "        motifs = extractSeqs(s, sequences, k)\n",
        "        MF = profile(motifs, k, nuc)\n",
        "        PWM = generatePWM(MF)\n",
        "        \n",
        "        bestScore = 0\n",
        "        \n",
        "        s = getNewS(PWM, k, sequences)\n",
        "        for m, j in zip(sequences, s):\n",
        "            if trouverLowComplexe(m[j:j+k], k): #Test pour les sequences peu complexes, je crois que ça marche pas\n",
        "                continue\n",
        "            else:\n",
        "                score = 0\n",
        "                for l in range(k):\n",
        "                    match m[j + l]:\n",
        "                        case \"A\":\n",
        "                            score += MF[0][l]\n",
        "                        case \"C\":\n",
        "                            score += MF[1][l]\n",
        "                        case \"G\":\n",
        "                            score += MF[2][l]\n",
        "                        case \"T\":\n",
        "                            score += MF[3][l]\n",
        "                if score > bestScore:\n",
        "                    bestScore = score\n",
        "                    if (bestScore in pos.keys()): \n",
        "                        pos[bestScore].add(j)\n",
        "                    else:\n",
        "                        pos[bestScore] = set()\n",
        "                        pos[bestScore].add(j)\n",
        "                    if (bestScore in consensus.keys()):\n",
        "                        consensus[bestScore].add(m[j:j+k])\n",
        "                    else:\n",
        "                        consensus[bestScore] = set()\n",
        "                        consensus[bestScore].add(m[j:j+k])\n",
        "\n",
        "    return dict(sorted(pos.items(), reverse=True)), dict(sorted(consensus.items(), reverse=True))\n",
        "\n",
        "\n",
        "s, consensus = GreedyProfileMotifSearchIte(adn, k, 50)\n",
        "\n",
        "print (s)\n",
        "print (consensus)"
      ]
    },
    {
      "cell_type": "code",
      "execution_count": 18,
      "metadata": {
        "id": "S7DtjmxjCyQ-"
      },
      "outputs": [
        {
          "name": "stdout",
          "output_type": "stream",
          "text": [
            "{'TGTGA'}\n",
            "{'TGTGA', 'GTGAG'}\n"
          ]
        }
      ],
      "source": [
        "#Affiche les sequence consensus de top motifs\n",
        "def printTopFMotifsScore(consensus, top):\n",
        "\n",
        "    motifsSort = sorted(consensus.keys())\n",
        "    motifsSort.reverse()\n",
        "    for i in range(top):\n",
        "      print (consensus[motifsSort[i]])\n",
        "\n",
        "printTopFMotifsScore(consensus, 2)\n",
        "\n",
        "\n"
      ]
    },
    {
      "cell_type": "markdown",
      "metadata": {
        "id": "js7TuAsB_hu2"
      },
      "source": [
        "12\\. Tester algorithme  ``GreedyProfileMotifSearchIte`` sur vos données de chipSeq. N'oubliez pas de chercher les motifs dans le brin complémentaire et faire un merge de résultats."
      ]
    },
    {
      "cell_type": "code",
      "execution_count": 19,
      "metadata": {
        "id": "8um7xWi4URGv"
      },
      "outputs": [],
      "source": [
        "\n",
        "def reverseComplement(seq):\n",
        "    seq_dict = {'A':'T','T':'A','G':'C','C':'G'}\n",
        "    return \"\".join([seq_dict[base] for base in reversed(seq)])"
      ]
    },
    {
      "cell_type": "code",
      "execution_count": 23,
      "metadata": {
        "id": "-M8y_sOS_hu3"
      },
      "outputs": [
        {
          "name": "stdout",
          "output_type": "stream",
          "text": [
            "CTGATCAGCA 4616 7\n"
          ]
        },
        {
          "data": {
            "text/plain": [
              "{18648.0: {'ATGTATA'},\n",
              " 18599.0: {'AATTCTA', 'ATATACT'},\n",
              " 18589.0: {'AGTATAT'},\n",
              " 18573.0: {'ATCTATA'},\n",
              " 18562.0: {'TAATATC'},\n",
              " 18540.0: {'AATCTAT'},\n",
              " 18539.0: {'AGTATTA'},\n",
              " 18538.0: {'AATAGTT'},\n",
              " 18537.0: {'ATACATT'},\n",
              " 18533.0: {'TATCAAT'},\n",
              " 18529.0: {'AAGTTAT', 'ATACATT'},\n",
              " 18525.0: {'AATGATT', 'TAAAGTT', 'TAATCTA'},\n",
              " 18523.0: {'AATATTG'},\n",
              " 18517.0: {'AATTACT'},\n",
              " 18514.0: {'TATTCAA'},\n",
              " 18513.0: {'TATACTA'},\n",
              " 18511.0: {'TATTAAG'},\n",
              " 18509.0: {'AATCATT'},\n",
              " 18506.0: {'ATCAATT'},\n",
              " 18504.0: {'AAATTGT', 'CAATTAT'},\n",
              " 18503.0: {'AAATCTT', 'AATTACT'},\n",
              " 18500.0: {'ATATAGT'},\n",
              " 18496.0: {'ATACTAT'},\n",
              " 18493.0: {'AATCATT'},\n",
              " 18491.0: {'AAATCTT'},\n",
              " 18487.0: {'ATACTTA'},\n",
              " 18485.0: {'GTAATAT'},\n",
              " 18483.0: {'AATCATT'},\n",
              " 18482.0: {'AAACTTT'},\n",
              " 18481.0: {'AAAGTTT', 'ATTATAG'},\n",
              " 18480.0: {'ATGATAT'},\n",
              " 18479.0: {'AAGATTT'},\n",
              " 18477.0: {'TGAAATT'},\n",
              " 18476.0: {'AATAGTT', 'AATTTAC'},\n",
              " 18473.0: {'AATCATT'},\n",
              " 18472.0: {'GATAATT'},\n",
              " 18470.0: {'ATACTAT'},\n",
              " 18469.0: {'AAACTTT', 'TATAATG'},\n",
              " 18465.0: {'TTACTAA'},\n",
              " 18463.0: {'AAACTTT', 'ACATTAT'},\n",
              " 18457.0: {'CAATATT'},\n",
              " 18455.0: {'GTATTAA'},\n",
              " 18449.0: {'ATCAATT'},\n",
              " 18443.0: {'GTAATAT', 'TGAAATT'},\n",
              " 18441.0: {'AAATCTT'},\n",
              " 18440.0: {'ACATTAT'},\n",
              " 18436.0: {'AAAGTTT'},\n",
              " 18430.0: {'TGAAATT'},\n",
              " 18429.0: {'AACATTT'},\n",
              " 18427.0: {'GATATTA'},\n",
              " 18423.0: {'AAATCTT'},\n",
              " 18420.0: {'AAATCTT'},\n",
              " 18417.0: {'AAACTTT'},\n",
              " 18412.0: {'ATCAATT'},\n",
              " 18404.0: {'AAAGTTT'},\n",
              " 18403.0: {'AAATCTT'},\n",
              " 18395.0: {'AAACTTT'},\n",
              " 18394.0: {'AAATCTT'},\n",
              " 18392.0: {'AAACTTT'},\n",
              " 18388.0: {'TATAATG'},\n",
              " 18387.0: {'AAATCTT'},\n",
              " 18384.0: {'AAATCTT'},\n",
              " 18381.0: {'AAACTTT', 'AAATCTT'},\n",
              " 18379.0: {'AATCATT'},\n",
              " 18378.0: {'AATTGTA'},\n",
              " 18375.0: {'AAATCTT'},\n",
              " 18373.0: {'AAATCTT'},\n",
              " 18369.0: {'AATCATT'},\n",
              " 18363.0: {'AAACTTT'},\n",
              " 18356.0: {'TGAAATT'},\n",
              " 18355.0: {'AAACTTT'},\n",
              " 18349.0: {'AAATCTT'},\n",
              " 18333.0: {'TGAAATT'},\n",
              " 18329.0: {'AAATCTT'},\n",
              " 18328.0: {'AAACTTT'},\n",
              " 18302.0: {'AAATCTT'},\n",
              " 18297.0: {'AAATCTT'},\n",
              " 18292.0: {'AAACTTT'},\n",
              " 18285.0: {'AAATCTT'},\n",
              " 18282.0: {'AAATCTT'},\n",
              " 18233.0: {'AAATCTT'},\n",
              " 18187.0: {'AAATCTT'},\n",
              " 17745.0: {'AAGTATG'},\n",
              " 17674.0: {'ATATAGC'},\n",
              " 17659.0: {'AAGTATG'},\n",
              " 17614.0: {'TGCATTA'},\n",
              " 17599.0: {'AAGTTGT'},\n",
              " 17594.0: {'AAGTATG'},\n",
              " 17584.0: {'CTTATAG'},\n",
              " 17583.0: {'CTTATAG'},\n",
              " 17579.0: {'AGTTGTA'},\n",
              " 17575.0: {'CTTATAG'},\n",
              " 17574.0: {'AAGTTGT', 'GAAGTAT'},\n",
              " 17571.0: {'GAAGTAT'},\n",
              " 17568.0: {'AACTGTA', 'AAGTATG'},\n",
              " 17561.0: {'GCTTATA'},\n",
              " 17560.0: {'TGCATTA'},\n",
              " 17555.0: {'AAGTTGT'},\n",
              " 17552.0: {'AAGTATG'},\n",
              " 17551.0: {'AAGTATG'},\n",
              " 17550.0: {'GAAGTAT'},\n",
              " 17547.0: {'TCGTAAT'},\n",
              " 17542.0: {'GAAGTAT'},\n",
              " 17540.0: {'AACTGTA'},\n",
              " 17537.0: {'GAAGTAT'},\n",
              " 17534.0: {'GAAGTAT'},\n",
              " 17531.0: {'AAGTATG', 'CTTATAG'},\n",
              " 17520.0: {'TTATAGC'},\n",
              " 17519.0: {'GAAGTAT'},\n",
              " 17514.0: {'TCGTAAT'},\n",
              " 17506.0: {'GAAGTAT'},\n",
              " 17503.0: {'AAGTATG'},\n",
              " 17487.0: {'GAAGTAT'},\n",
              " 17460.0: {'TGCATTA'},\n",
              " 17457.0: {'GAAGTAT'},\n",
              " 17438.0: {'AAGTATG'},\n",
              " 17437.0: {'AAGTATG'},\n",
              " 16823.0: {'AACTCCT'},\n",
              " 16796.0: {'TGATCAG'},\n",
              " 16773.0: {'TGATCAG'},\n",
              " 16755.0: {'TGATCAG'},\n",
              " 16752.0: {'AACTCCT'},\n",
              " 16727.0: {'AACTCCT'},\n",
              " 16712.0: {'AACTCCT', 'CTGATCA'},\n",
              " 16695.0: {'AACTCCT'},\n",
              " 16683.0: {'CTGATCA'},\n",
              " 16682.0: {'AACTCCT'},\n",
              " 16680.0: {'TGATCAG'},\n",
              " 16678.0: {'AACTCCT'},\n",
              " 16671.0: {'TGATCAG'},\n",
              " 16670.0: {'CTGATCA'},\n",
              " 16657.0: {'AACTCCT'},\n",
              " 16655.0: {'AACTCCT'},\n",
              " 16652.0: {'AACTCCT'},\n",
              " 16650.0: {'CTGATCA'},\n",
              " 16647.0: {'AACTCCT'},\n",
              " 16637.0: {'AACTCCT'},\n",
              " 16623.0: {'CTGATCA'},\n",
              " 16605.0: {'AACTCCT'},\n",
              " 16581.0: {'TTCAGGA'},\n",
              " 16563.0: {'AACTCCT'},\n",
              " 16554.0: {'TTCAGGA'},\n",
              " 16539.0: {'AACTCCT'},\n",
              " 16536.0: {'AACTCCT'},\n",
              " 16532.0: {'AACTCCT'},\n",
              " 16509.0: {'AACTCCT'},\n",
              " 16487.0: {'AACTCCT'},\n",
              " 16479.0: {'AACTCCT'},\n",
              " 15045.0: {'CGCAGCA'},\n",
              " 15018.0: {'AGCGCAG'},\n",
              " 15004.0: {'AGCGCAG'},\n",
              " 14997.0: {'CGCAGCA'},\n",
              " 14996.0: {'AGCGCAG'},\n",
              " 14987.0: {'CGCAGCA'},\n",
              " 14979.0: {'AGCGCAG'},\n",
              " 14957.0: {'CGCAGCA'},\n",
              " 14939.0: {'AGCGCAG'},\n",
              " 14934.0: {'AGCGCAG'},\n",
              " 14906.0: {'AGCGCAG'},\n",
              " 14903.0: {'CGCAGCA'},\n",
              " 14891.0: {'AGCGCAG'},\n",
              " 14886.0: {'AGCGCAG'},\n",
              " 14844.0: {'CGCAGCA'},\n",
              " 14832.0: {'AGCGCAG'},\n",
              " 14824.0: {'AGCGCAG'},\n",
              " 14801.0: {'AGCGCAG'},\n",
              " 14783.0: {'AGCGCAG'}}"
            ]
          },
          "execution_count": 23,
          "metadata": {},
          "output_type": "execute_result"
        }
      ],
      "source": [
        "k=7\n",
        "\n",
        "def readFasta(genome, n):\n",
        "    sequence = []\n",
        "    file = open(genome, \"r\")\n",
        "    sequence = []\n",
        "    for s in file:\n",
        "        if s[0] != \">\":\n",
        "            sequence.append(s.strip().upper())\n",
        "    sequenceStr = \"\".join(sequence)\n",
        "    #sequence = [sequenceStr]\n",
        "    sequence = [sequenceStr[i:i+n] for i in range(0, len(sequenceStr), n)]\n",
        "    sequenceRet = [x for x in sequence if x]\n",
        "    return sequenceRet\n",
        "\n",
        "genome = \"Sequence_by_Peaks_3.fasta\"\n",
        "\n",
        "sequencesChip = readFasta(genome, n)\n",
        "t = len(sequencesChip)\n",
        "print (sequencesChip[8], t, k)\n",
        "revSequences = [reverseComplement(m) for m in sequencesChip]\n",
        "\n",
        "sequencesChip = sequencesChip + revSequences\n",
        "s, consensus = GreedyProfileMotifSearchIte(sequencesChip, k, 20)\n",
        "consensus\n",
        "\n"
      ]
    }
  ],
  "metadata": {
    "celltoolbar": "Raw Cell Format",
    "colab": {
      "provenance": []
    },
    "kernelspec": {
      "display_name": "Python 3",
      "language": "python",
      "name": "python3"
    },
    "language_info": {
      "codemirror_mode": {
        "name": "ipython",
        "version": 3
      },
      "file_extension": ".py",
      "mimetype": "text/x-python",
      "name": "python",
      "nbconvert_exporter": "python",
      "pygments_lexer": "ipython3",
      "version": "3.11.5"
    }
  },
  "nbformat": 4,
  "nbformat_minor": 0
}
