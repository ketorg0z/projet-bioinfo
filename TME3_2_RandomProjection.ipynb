{
  "cells": [
    {
      "cell_type": "markdown",
      "metadata": {
        "id": "981-NdKA_huf"
      },
      "source": [
        "# TME 3.2: Projet Detection de motifs\n",
        "\n",
        "\n",
        "## Recheche de pattern (motifs) en utilisant les algoritmes randomisés\n",
        "\n",
        "Les algorithmes randomisés prendre des décisions aléatoire plutôt que déterministes.\n",
        "l'algorithme s'exécute différemment à chaque fois. Ils sont couramment utilisés dans situations où aucun algorithme exact et rapide est connu. Nous allons d'abord implémenter l'algorithm random Projections.\n"
      ]
    },
    {
      "cell_type": "markdown",
      "metadata": {
        "id": "5z3a_1W0_huk"
      },
      "source": [
        "1\\.  Nous allons réutiliser les fonctions du precedent pour générer t séquences artificielles de taille n, et implanter dans chaque séquence un motif de taille k à des positions aléatoires avec v substitutions choisies aléatoirement. Nous allons faire varier le motifs dans 50% de cas."
      ]
    },
    {
      "cell_type": "code",
      "execution_count": null,
      "metadata": {
        "id": "6UbcF5N2_hul"
      },
      "outputs": [],
      "source": [
        "import random\n",
        "import numpy as np\n",
        "\n",
        "nuc = ('A', 'C', 'G', 'T')\n",
        "\n",
        "k=5 #taille de motif\n",
        "v=1 #nb de positions variable dans le motif\n",
        "t=3 #nb de sequences\n",
        "n=10 #longuer des sequence\n"
      ]
    },
    {
      "cell_type": "code",
      "execution_count": null,
      "metadata": {
        "id": "IplKLaGL_hun"
      },
      "outputs": [],
      "source": [
        "def generateRandomSequence(n, upper=True):\n",
        "    \"\"\"\n",
        "    Génère une séquence nucléotidique aléatoire \n",
        "    entrée n : longueur de la sequence\n",
        "    entrée upper : bool, si True les nucléotides seront en majuscule, False minuscule\n",
        "    sortie sequence : une séquence nucléotidique aléatoire \n",
        "    \"\"\"\n",
        "    sequence = \"\"\n",
        "   \n",
        "    return sequence\n",
        "\n",
        "def modifierMotif(motif, nbpos,  upper=True):\n",
        "    \"\"\"\n",
        "    Modifie nbpos positions d'un motif aléatoirement \n",
        "    entrée motif: motif à modifier\n",
        "    entrée nbpos: nombre de positions\n",
        "    entrée upper : bool, si True les nucléotides modifiés seront majuscule, False minuscule\n",
        "    sortie motifM: motif modifié\n",
        "    \"\"\"\n",
        "    motifM = list(motif)\n",
        "    \n",
        "    return \"\".join(motifM)\n",
        "\n",
        "#tester modifMotif\n",
        "#print (modifMotif(\"acg\", 2))\n",
        "\n",
        "\n",
        "def implantMotifVar(k, v, t, n, f):\n",
        "    \"\"\"\n",
        "    Génère des séquences aléatoires et les implante des motifs variables (un motif par séquence)\n",
        "    entrée k: taille du motif\n",
        "    entrée v: nombre de variations\n",
        "    entrée t : nombre de séquences \n",
        "    entrée n : longueur des séquences\n",
        "    entrée f : frequence de variation du motif.\n",
        "    sortie DNA : matrice de dimension txn avec les motifs implantés\n",
        "    REMARQUE : La taille totale des séquences plus motif doit être égal à t, pensez à générer de séquence aléatoire de taille t-k pour pouvoir implanter un motif de taille k\n",
        "    \"\"\"\n",
        "    motif = generateRandomSequence(k, False)\n",
        "    sequences = []\n",
        "    \n",
        "    return sequences\n",
        "\n",
        "adn = implantMotifVar(k, v, t, n, f)\n",
        "print (adn)\n",
        "\n",
        "adn  = [s.upper() for s in adn]\n",
        "print (adn)"
      ]
    },
    {
      "cell_type": "markdown",
      "metadata": {
        "id": "UO-2rHmt_hu3"
      },
      "source": [
        "2\\. Nous allons implémenter l'algorithme ``randomProjection``. D'abord, faites la fonction `getRandomFixePositions` pour générer une projection de p à k, voir un exemple dans les slides de cours. Faire aussi la fonction `generateKey` qui extrait les caractères du motif puis génère une cle qui représente la projection."
      ]
    },
    {
      "cell_type": "code",
      "execution_count": null,
      "metadata": {
        "id": "72rT-OkS_hu3"
      },
      "outputs": [],
      "source": [
        "def getRandomFixePositions(p, k):\n",
        "    \"\"\"\n",
        "    Genere une projection de p vers k\n",
        "    entrée p: nombre de positions choisi pour la projection \n",
        "    entrée k: nombre de positions du motif original\n",
        "    sortie projection: liste de positions choisi aléatoirement\n",
        "    \"\"\"\n",
        "    projection = []\n",
        "    count = 0\n",
        "   \n",
        "    return projection\n",
        "\n",
        "lR = getRandomFixePositions(7, 4)\n",
        "lR.sort()\n",
        "print (lR)\n",
        "\n",
        "def generateKey(projection, motif):\n",
        "    \"\"\"\n",
        "    extrait les caractères du motif et génère la cle de la projection\n",
        "    entrée projection : liste de positions qui represent la projection\n",
        "    entrée motif : motif de taille k\n",
        "    sortie cle : cle de la projection\n",
        "    \"\"\"\n",
        "    cle = \"\"\n",
        "    \n",
        "    return cle\n",
        "\n",
        "generateKey(lR, \"01234567\")"
      ]
    },
    {
      "cell_type": "markdown",
      "metadata": {
        "id": "NK0BhSs1_hu3"
      },
      "source": [
        "3\\. Implémenter l'algorithme ``randomProjection``. Bonnus : Pour ameliorer la performance vous pouvez abandonner les motifs de taille k peu complexes."
      ]
    },
    {
      "cell_type": "code",
      "execution_count": null,
      "metadata": {
        "id": "yaDXNosb_hu3"
      },
      "outputs": [],
      "source": [
        "def randomProjection(k, p, sequences):\n",
        "    \"\"\"\n",
        "    Implémente l'algorithme randomProjection\n",
        "    entrée k : taille du motif\n",
        "    entrée p : nombre de positions de la projection \n",
        "    entrée sequences : matrice de dimension txn contenant les séquences \n",
        "    sortie motifs : dictionaire, cle = projection, valeur= frequence\n",
        "    sortie motifsSeq:  dictionaire, cle = projection, valeur= original motif\n",
        "    \"\"\"\n",
        "    motifs  = {}; motifsSeq  = {}\n",
        "    \n",
        "    return motifs, motifsSeq\n",
        "\n",
        "#motifsSort = sorted(motifs, reverse=True, key=motifs.get)\n",
        "\n",
        "adnTest = ['TTAACGGCAC', 'GCTCACGCCA', 'TACCGGCCGT']\n",
        "motifsProj, motifsSeq = randomProjection(7, 4, adnTest)\n",
        "print (motifsProj)\n",
        "print (motifsSeq)\n",
        "\n",
        "#motifsProj => {'TACG': 1, 'TCGC': 3, 'AGGA': 1, 'AGCC': 1, 'GCAG': 1, 'CACC': 1, 'CGCA': 1, 'AGGC': 1, 'CGCG': 1, 'CCCT': 1}\n",
        "#motifsSeq => {'TACG': ['TTAACGG'], 'TCGC': ['TAACGGC', 'TCACGCC', 'TACCGGC'], 'AGGA': ['AACGGCA'], 'AGCC': ['ACGGCAC'], 'GCAG': ['GCTCACG'], 'CACC': ['CTCACGC'], 'CGCA': ['CACGCCA'], 'AGGC': ['ACCGGCC'], 'CGCG': ['CCGGCCG'], 'CCCT': ['CGGCCGT']}"
      ]
    },
    {
      "cell_type": "markdown",
      "metadata": {
        "id": "RWMsME8t_hu3"
      },
      "source": [
        "4\\. Avez vous trouvez le motif implanté? Rexécuter l’algorithme plusieurs fois pour augmenter les chances de le trouver. "
      ]
    },
    {
      "cell_type": "markdown",
      "metadata": {
        "id": "gj5RGPey_hu4"
      },
      "source": [
        "reponse: "
      ]
    },
    {
      "cell_type": "markdown",
      "metadata": {
        "id": "1DHZjpi4_hu6"
      },
      "source": [
        "5\\. Implémenter la version itérative de l’algorithme ``randomProjection``. "
      ]
    },
    {
      "cell_type": "code",
      "source": [
        "\n",
        "#Construire matrice de fréquence\n",
        "def profile(motifs, k, nuc):\n",
        "    \"\"\"\n",
        "    Construire une matrice de fréquence de dimension k x |nuc|\n",
        "    entrée motifs: liste de motifs\n",
        "    entrée k: taille du motif\n",
        "    entrée nuc: alphabet\n",
        "    sortie MF: matrice de fréquence\n",
        "    \"\"\"\n",
        "    q = len(nuc)\n",
        "    PWM = np.zeros((q, k))\n",
        "    \n",
        "    \n",
        "    return PWM\n",
        "\n",
        "def getScore(MF, k):\n",
        "    \"\"\"\n",
        "    Renvoie le score de MF, la somme des max de chaque colonne\n",
        "    entrée MF: matrice de fréquence\n",
        "    entrée k: taille du motif\n",
        "    sortie sc: score\n",
        "    \"\"\"\n",
        "    sc = 0\n",
        "    \n",
        "    return sc"
      ],
      "metadata": {
        "id": "ku5JseaVqagY"
      },
      "execution_count": null,
      "outputs": []
    },
    {
      "cell_type": "code",
      "execution_count": null,
      "metadata": {
        "id": "WkfqvtsT_hu6"
      },
      "outputs": [],
      "source": [
        "def randomProjIt(sequences, k, v, nuc, It):\n",
        "    \"\"\"\n",
        "    Implémente l'algorithme randomProjection version iteractive\n",
        "    entrée sequences : matrice de dimension txn contenant les séquences \n",
        "    entrée k : nombre de positions du motif\n",
        "    entrée v : nombre de positions de la projection \n",
        "    entrée nuc : alphabet\n",
        "    entrée It: nombre d'iterations\n",
        "    sortie score : meilleur score\n",
        "    sortie motifs :  liste de motifs associés au meilleur score\n",
        "    \"\"\"\n",
        " \n",
        "    motifs = []; scores = 0\n",
        "    \n",
        "    return scores, motifs\n",
        "\n",
        "score, seqsMotif = randomProjIt(adnTest, 7, 4, nuc, 100)\n",
        "\n",
        "print (score, seqsMotif)\n"
      ]
    },
    {
      "cell_type": "markdown",
      "metadata": {
        "id": "JeBaa7f1_hu6"
      },
      "source": [
        "6\\. Tester l'algorithme  ``randomProjection`` sur vos données de chipSeq. N'oubliez pas de chercher les motifs dans le brin complémentaire et faire un merge de résultats. Puis générér le LOGO du motif trouvé."
      ]
    },
    {
      "cell_type": "code",
      "execution_count": null,
      "metadata": {
        "id": "TqwsXVV7_hu4"
      },
      "outputs": [],
      "source": [
        "def reverseComplement(seq):\n",
        "    seq_dict = {'A':'T','T':'A','G':'C','C':'G'}\n",
        "    return \"\".join([seq_dict[base] for base in reversed(seq)])\n",
        "\n",
        "def complement(seq):\n",
        "    seq_dict = {'A':'T','T':'A','G':'C','C':'G'}\n",
        "    return \"\".join([seq_dict[base] for base in seq])\n",
        "\n",
        "def printTopFMotifsFreq(motifs, m, rev=False):\n",
        "    motifsRet = {}\n",
        "    motifsSort = sorted(motifs, reverse=True, key=motifs.get)\n",
        "    i = 0\n",
        "    while (i < m):\n",
        "        motifPrint = motifsSort[i]\n",
        "        print (motifsSort[i])\n",
        "        if rev:\n",
        "            motifPrint = reverseComplement(motifsSort[i])\n",
        "        print (i, motifPrint, \"-\", motifs[motifsSort[i]])\n",
        "        i = i + 1\n",
        "        \n",
        "printTopFMotifsFreq(motifs, 10)\n",
        "print (motifsSeq['TCGC'])"
      ]
    },
    {
      "cell_type": "code",
      "source": [
        "k=7; p=4; n=80\n",
        "\n",
        "def readFasta(genome, n):\n",
        "    sequence = []\n",
        "    file = open(genome, \"r\")\n",
        "    sequence = []\n",
        "    for s in file:\n",
        "        if s[0] != \">\":\n",
        "            sequence.append(s.strip().upper())\n",
        "    sequenceStr = \"\".join(sequence)\n",
        "    #sequence = [sequenceStr]\n",
        "    sequence = [sequenceStr[i:i+n] for i in range(0, len(sequenceStr), n)]\n",
        "    sequenceRet = [x for x in sequence if x]\n",
        "    return sequenceRet\n",
        "\n",
        "genome = \"Sequence_by_Peaks_1.fasta\"\n",
        "\n",
        "sequencesChip   = readFasta(genome, n)\n",
        "t = len(sequencesChip)\n",
        "print (sequencesChip[8], t, n, k)\n",
        "revSequences = [reverseComplement(m) for m in sequencesChip]\n",
        "\n",
        "sequences = sequencesChip + revSequences\n",
        "\n",
        "score, seqsMotif = randomProjIt(sequences, k, p, nuc, 100)"
      ],
      "metadata": {
        "id": "_FVlr-KYtsQB"
      },
      "execution_count": null,
      "outputs": []
    }
  ],
  "metadata": {
    "celltoolbar": "Raw Cell Format",
    "colab": {
      "provenance": []
    },
    "kernelspec": {
      "display_name": "Python 3",
      "language": "python",
      "name": "python3"
    },
    "language_info": {
      "codemirror_mode": {
        "name": "ipython",
        "version": 3
      },
      "file_extension": ".py",
      "mimetype": "text/x-python",
      "name": "python",
      "nbconvert_exporter": "python",
      "pygments_lexer": "ipython3",
      "version": "3.8.8"
    }
  },
  "nbformat": 4,
  "nbformat_minor": 0
}