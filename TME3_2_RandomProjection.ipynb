{
  "cells": [
    {
      "cell_type": "markdown",
      "metadata": {
        "id": "981-NdKA_huf"
      },
      "source": [
        "# TME 3.2: Projet Detection de motifs\n",
        "\n",
        "\n",
        "## Recheche de pattern (motifs) en utilisant les algoritmes randomisés\n",
        "\n",
        "Les algorithmes randomisés prendre des décisions aléatoire plutôt que déterministes.\n",
        "l'algorithme s'exécute différemment à chaque fois. Ils sont couramment utilisés dans situations où aucun algorithme exact et rapide est connu. Nous allons d'abord implémenter l'algorithm random Projections.\n"
      ]
    },
    {
      "cell_type": "markdown",
      "metadata": {
        "id": "5z3a_1W0_huk"
      },
      "source": [
        "1\\.  Nous allons réutiliser les fonctions du precedent pour générer t séquences artificielles de taille n, et implanter dans chaque séquence un motif de taille k à des positions aléatoires avec v substitutions choisies aléatoirement. Nous allons faire varier le motifs dans 50% de cas."
      ]
    },
    {
      "cell_type": "code",
      "execution_count": 1,
      "metadata": {
        "id": "6UbcF5N2_hul"
      },
      "outputs": [],
      "source": [
        "import random\n",
        "\n",
        "nuc = ('A', 'C', 'G', 'T')\n",
        "\n",
        "k=7 #taille de motif\n",
        "v=1 #nb de positions variable dans le motif\n",
        "t=10 #nb de sequences\n",
        "n=10 #longuer des sequence\n",
        "f=0.5"
      ]
    },
    {
      "cell_type": "code",
      "execution_count": 2,
      "metadata": {
        "id": "IplKLaGL_hun"
      },
      "outputs": [
        {
          "name": "stdout",
          "output_type": "stream",
          "text": [
            "motif : atctcat\n",
            "['tatctcattg', 'tatcccattg', 'tgatctcatg', 'aaatctcatc', 'atcttatgcc', 'aatctcataa', 'catcttatat', 'catctcatac', 'aatcgcatct', 'atctcattga']\n",
            "['TATCTCATTG', 'TATCCCATTG', 'TGATCTCATG', 'AAATCTCATC', 'ATCTTATGCC', 'AATCTCATAA', 'CATCTTATAT', 'CATCTCATAC', 'AATCGCATCT', 'ATCTCATTGA']\n"
          ]
        }
      ],
      "source": [
        "def insertMotif(sequence, motif, position):\n",
        "    return sequence[:position] + motif + sequence[position:]\n",
        "\n",
        "def generateRandomSequence(n:int, upper=False):\n",
        "    \"\"\"\n",
        "    Même chose hein\n",
        "    \"\"\"\n",
        "    sequence = \"\".join([random.choice(nuc) for _ in range(n)])\n",
        "    if upper:\n",
        "        return sequence\n",
        "    return sequence.lower()\n",
        "\n",
        "def modifierMotif(motif:str, nbpos:int,  upper=False):\n",
        "    \"\"\"\n",
        "    Modifie nbpos positions d'un motif aléatoirement \n",
        "    entrée motif: motif à modifier\n",
        "    entrée nbpos: nombre de positions\n",
        "    entrée upper : bool, si True les nucléotides modifiés seront minuscule, False majuscule\n",
        "    sortie motifM: motif modifié\n",
        "    \"\"\"\n",
        "    motifM = list(motif)\n",
        "\n",
        "    nbPos_real = min(nbpos, len(motif))\n",
        "    allPos = list(range(len(motif)))\n",
        "\n",
        "    for _ in range(nbPos_real):\n",
        "        index = random.choice(range(len(allPos)))\n",
        "        changeIndex = allPos[index]\n",
        "        del allPos[index]\n",
        "\n",
        "        nv_L = generateRandomSequence(1, upper)\n",
        "        motifM[changeIndex] = nv_L\n",
        "    return \"\".join(motifM)        \n",
        "\n",
        "\n",
        "def implantMotifVar(k, v, t, n, f):\n",
        "    \"\"\"\n",
        "    Génère des séquences aléatoires et les implante des motifs variables (un motif par séquence)\n",
        "    entrée k: taille du motif\n",
        "    entrée v: nombre de variations\n",
        "    entrée t : nombre de séquences \n",
        "    entrée n : longueur des séquences\n",
        "    entrée f : frequence de variation du motif.\n",
        "    sortie DNA : matrice de dimension txn avec les motifs implantés\n",
        "    REMARQUE : La taille totale des séquences plus motif doit être égal à t, pensez à générer de séquence aléatoire de taille t-k pour pouvoir implanter un motif de taille k\n",
        "    \"\"\"\n",
        "\n",
        "    sequences = []\n",
        "\n",
        "    base_motif = generateRandomSequence(k)\n",
        "    print('motif : ' + str(base_motif))\n",
        "    for _ in range(t):\n",
        "        base_seq = generateRandomSequence(n - k)\n",
        "\n",
        "        changed_motif = modifierMotif(base_motif, v) if random.random() < f else base_motif\n",
        "        \n",
        "        sequences.append(insertMotif(base_seq, changed_motif, random.choice(range(len(base_seq)))))\n",
        "    \n",
        "    return sequences\n",
        "\n",
        "adn = implantMotifVar(k, v, t, n, f)\n",
        "print (adn)\n",
        "\n",
        "adn  = [s.upper() for s in adn]\n",
        "print (adn)"
      ]
    },
    {
      "cell_type": "markdown",
      "metadata": {
        "id": "UO-2rHmt_hu3"
      },
      "source": [
        "2\\. Nous allons implémenter l'algorithme ``randomProjection``. D'abord, faites la fonction `getRandomFixePositions` pour générer une projection de p à k, voir un exemple dans les slides de cours. Faire aussi la fonction `generateKey` qui extrait les caractères du motif puis génère une cle qui représente la projection."
      ]
    },
    {
      "cell_type": "code",
      "execution_count": 3,
      "metadata": {
        "id": "72rT-OkS_hu3"
      },
      "outputs": [
        {
          "name": "stdout",
          "output_type": "stream",
          "text": [
            "[0, 1, 4, 6]\n"
          ]
        },
        {
          "data": {
            "text/plain": [
              "'0146'"
            ]
          },
          "execution_count": 3,
          "metadata": {},
          "output_type": "execute_result"
        }
      ],
      "source": [
        "def getRandomFixePositions(k, p):\n",
        "    \"\"\"\n",
        "    Genere une projection de p vers k\n",
        "    entrée p: nombre de positions choisi pour la projection \n",
        "    entrée k: nombre de positions du motif original\n",
        "    sortie projection: liste de positions choisi aléatoirement\n",
        "    \"\"\"\n",
        "    positions = set(range(k))\n",
        "    projection = list()\n",
        "\n",
        "    for _ in range(p):\n",
        "        projection.append(random.choice(list(positions)))\n",
        "        positions.remove(projection[-1])\n",
        "   \n",
        "    projection.sort()\n",
        "    return projection\n",
        "\n",
        "lR = getRandomFixePositions(7, 4)\n",
        "print(lR)\n",
        "\n",
        "def generateKey(projection, motif):\n",
        "    \"\"\"\n",
        "    extrait les caractères du motif et génère la cle de la projection\n",
        "    entrée projection : liste de positions qui represent la projection\n",
        "    entrée motif : motif de taille k\n",
        "    sortie cle : cle de la projection\n",
        "    \"\"\"\n",
        "    return \"\".join([motif[i] for i in projection])\n",
        "\n",
        "generateKey(lR, \"01234567\")"
      ]
    },
    {
      "cell_type": "markdown",
      "metadata": {
        "id": "NK0BhSs1_hu3"
      },
      "source": [
        "3\\. Implémenter l'algorithme ``randomProjection``. Bonus : Pour ameliorer la performance vous pouvez abandonner les motifs de taille k peu complexes."
      ]
    },
    {
      "cell_type": "code",
      "execution_count": 4,
      "metadata": {},
      "outputs": [],
      "source": [
        "from itertools import product\n",
        "\n",
        "def removeLowComplexe(motifs, size):\n",
        "    \"\"\"\n",
        "    Eleve les motifs peu complexe ayant \n",
        "    entrée motifs: dictionnaire de motifs, clé=motif, valeur = fréquence d'observation\n",
        "    sortie motifsClean: dictionnaire de motifs sans les motifs peu complexe.\n",
        "    \"\"\"\n",
        "    motifsClean = []\n",
        "    twoLetterCombs = [\"\".join(tup) for tup in list(product([\"A\", \"T\", \"G\", \"C\"], repeat=2))]\n",
        "    for motif in [m.upper() for m in motifs]:\n",
        "        if motif.count(\"A\") > size or motif.count(\"T\") > size or motif.count(\"G\") > size or motif.count(\"C\") > size:\n",
        "            continue\n",
        "        if True in [x*3 in motif for x in twoLetterCombs]:\n",
        "            print(motif)\n",
        "            continue\n",
        "        motifsClean.append(motif)\n",
        "        \n",
        "    return motifsClean"
      ]
    },
    {
      "cell_type": "code",
      "execution_count": 44,
      "metadata": {
        "id": "yaDXNosb_hu3"
      },
      "outputs": [
        {
          "name": "stdout",
          "output_type": "stream",
          "text": [
            "{'TAAG': 1, 'AACC': 1, 'ACGA': 2, 'CGGC': 1, 'CTCG': 1, 'TCAC': 1, 'CACC': 1, 'ACCC': 1, 'CCGC': 1, 'CGGG': 1, 'GGCT': 1}\n",
            "{'TAAG': ['TTAACGG'], 'AACC': ['TAACGGC'], 'ACGA': ['AACGGCA', 'CACGCCA'], 'CGGC': ['ACGGCAC'], 'CTCG': ['GCTCACG'], 'TCAC': ['CTCACGC'], 'CACC': ['TCACGCC'], 'ACCC': ['TACCGGC'], 'CCGC': ['ACCGGCC'], 'CGGG': ['CCGGCCG'], 'GGCT': ['CGGCCGT']}\n"
          ]
        }
      ],
      "source": [
        "def randomProjection(k, p, sequences):\n",
        "    \"\"\"\n",
        "    Implémente l'algorithme randomProjection\n",
        "    entrée k : taille du motif\n",
        "    entrée p : nombre de positions de la projection \n",
        "    entrée sequences : matrice de dimension txn contenant les séquences \n",
        "    sortie motifs : dictionaire, cle = projection, valeur= frequence\n",
        "    sortie motifsSeq:  dictionaire, cle = projection, valeur = LISTE DES MOTIFS ORIGINAUX (pas 'valeur = original motif' ca n'a pas de sens)\n",
        "    \"\"\"\n",
        "    motifs = {}; motifsSeq = {}\n",
        "    projection = getRandomFixePositions(k, p)\n",
        "\n",
        "    for seq in sequences:\n",
        "        for pos in range(len(seq)-k+1):\n",
        "            currentMotif = seq[pos:pos+k]\n",
        "            key = generateKey(projection, currentMotif)\n",
        "            \n",
        "            if(key in motifs and currentMotif not in motifsSeq[key]):\n",
        "                motifs[key] += 1\n",
        "                motifsSeq[key].append(currentMotif)\n",
        "            else:\n",
        "                motifs[key] = 1\n",
        "                motifsSeq[key] = [currentMotif]\n",
        "    \n",
        "    return motifs, motifsSeq\n",
        "\n",
        "#motifsSort = sorted(motifs, reverse=True, key=motifs.get)\n",
        "\n",
        "adnTest = ['TTAACGGCAC', 'GCTCACGCCA', 'TACCGGCCGT']\n",
        "motifsProj, motifsSeq = randomProjection(7, 4, adnTest)\n",
        "print (motifsProj)\n",
        "print (motifsSeq)\n",
        "\n",
        "#motifsProj => {'TACG': 1, 'TCGC': 3, 'AGGA': 1, 'AGCC': 1, 'GCAG': 1, 'CACC': 1, 'CGCA': 1, 'AGGC': 1, 'CGCG': 1, 'CCCT': 1}\n",
        "#motifsSeq => {'TACG': ['TTAACGG'], 'TCGC': ['TAACGGC', 'TCACGCC', 'TACCGGC'], 'AGGA': ['AACGGCA'], 'AGCC': ['ACGGCAC'], 'GCAG': ['GCTCACG'], 'CACC': ['CTCACGC'], 'CGCA': ['CACGCCA'], 'AGGC': ['ACCGGCC'], 'CGCG': ['CCGGCCG'], 'CCCT': ['CGGCCGT']}"
      ]
    },
    {
      "cell_type": "code",
      "execution_count": 45,
      "metadata": {},
      "outputs": [
        {
          "name": "stdout",
          "output_type": "stream",
          "text": [
            "{'ATTC': 2, 'TCCA': 1, 'CTAT': 2, 'TCTT': 1, 'ATCC': 1, 'CCAT': 1, 'CCTT': 1, 'GACT': 1, 'AACT': 1, 'TCTA': 2, 'TTTG': 1, 'TAGC': 1, 'ATTT': 1, 'TTTA': 1, 'ATGC': 1, 'CGAT': 1, 'GCTC': 1, 'CATG': 1}\n",
            "{'ATTC': ['AATCTCA', 'CATCTCA'], 'TCCA': ['ATCTCAT'], 'CTAT': ['TCTCATA', 'TCTCATT'], 'TCTT': ['CTCATTG'], 'ATCC': ['TATCCCA'], 'CCAT': ['TCCCATT'], 'CCTT': ['CCCATTG'], 'GACT': ['TGATCTC'], 'AACT': ['AAATCTC'], 'TCTA': ['ATCTTAT', 'CTCATAC'], 'TTTG': ['CTTATGC'], 'TAGC': ['TTATGCC'], 'ATTT': ['CATCTTA'], 'TTTA': ['CTTATAT'], 'ATGC': ['AATCGCA'], 'CGAT': ['TCGCATC'], 'GCTC': ['CGCATCT'], 'CATG': ['TCATTGA']}\n"
          ]
        }
      ],
      "source": [
        "motifsProj, motifsSeq = randomProjection(k, 4, adn)\n",
        "print(motifsProj)\n",
        "print(motifsSeq)"
      ]
    },
    {
      "cell_type": "markdown",
      "metadata": {
        "id": "RWMsME8t_hu3"
      },
      "source": [
        "4\\. Avez vous trouvez le motif implanté? Rexécuter l’algorithme plusieurs fois pour augmenter les chances de le trouver. "
      ]
    },
    {
      "cell_type": "markdown",
      "metadata": {
        "id": "gj5RGPey_hu4"
      },
      "source": [
        "**Reponse :** Oui, la fonction trouve bien les séquences implantées. \n",
        "Dans cet example, on a généré 10 séquences avec le motif implanté **actccat**:\n",
        "['tgactccatg', 'taactccaat', 'cactccatct', 'actccatgat', 'cactccattg', 'ccactccatg', 'cactccatcc', 'aacctccatt', 'aactccatta', 'aactccatta']\n",
        "\n",
        "Voici les dictionnaires **motifsProj** et **motifsSeq** générés après application de l'algorithme RandomProjection sur ces 10 séquences:\n",
        "{'TGAT': 1, 'GACC': 1, **'ACTC': 9, 'CTCA': 10**, 'TAAT': 1, 'AACC': 3, 'CACC': 4, 'TCCT': 6, 'CCAG': 1, 'CCAT': 1, 'AACT': 1, 'ACCC': 1, 'CCTC': 1}\n",
        "{\n",
        "    'TGAT': ['TGACTCC'], \n",
        "    'GACC': ['GACTCCA'], \n",
        "    **'ACTC': ['ACTCCAT', 'ACTCCAA', 'ACTCCAT', 'ACTCCAT', 'ACTCCAT', 'ACTCCAT', 'ACTCCAT', 'ACTCCAT', 'ACTCCAT'],** \n",
        "    **'CTCA': ['CTCCATG', 'CTCCAAT', 'CTCCATC', 'CTCCATG', 'CTCCATT', 'CTCCATG', 'CTCCATC', 'CTCCATT', 'CTCCATT', 'CTCCATT']**, \n",
        "    'TAAT': ['TAACTCC'], \n",
        "    'AACC': ['AACTCCA', 'AACTCCA', 'AACTCCA'], \n",
        "    'CACC': ['CACTCCA', 'CACTCCA', 'CACTCCA', 'CACTCCA'],\n",
        "    'TCCT': ['TCCATCT', 'TCCATGA', 'TCCATTG', 'TCCATCC', 'TCCATTA', 'TCCATTA'], \n",
        "    'CCAG': ['CCATGAT'], \n",
        "    'CCAT': ['CCACTCC'], \n",
        "    'AACT': ['AACCTCC'], \n",
        "    'ACCC': ['ACCTCCA'], \n",
        "    'CCTC': ['CCTCCAT']\n",
        "}\n"
      ]
    },
    {
      "cell_type": "markdown",
      "metadata": {
        "id": "1DHZjpi4_hu6"
      },
      "source": [
        "5\\. Implémenter la version itérative de l’algorithme ``randomProjection``. "
      ]
    },
    {
      "cell_type": "code",
      "execution_count": 46,
      "metadata": {
        "id": "ku5JseaVqagY"
      },
      "outputs": [],
      "source": [
        "#Construire matrice de fréquence\n",
        "def profile(motifs, k, nuc):\n",
        "    \"\"\"\n",
        "    Construire une matrice de fréquence de dimension k x |nuc|\n",
        "    entrée motifs: liste de motifs\n",
        "    entrée k: taille du motif\n",
        "    entrée nuc: alphabet\n",
        "    sortie MF: matrice de fréquence\n",
        "    \"\"\"\n",
        "    matrice = list()\n",
        "    for i, nucleotide in enumerate(nuc):\n",
        "        matrice.append(list())\n",
        "        for j in range(k):\n",
        "            matrice[i].append(len([1 for motif in motifs if motif[j] == nucleotide]))\n",
        "    \n",
        "    return matrice\n",
        "\n",
        "def getScore(MF, k):\n",
        "    \"\"\"\n",
        "    Renvoie le score de MF, la somme des max de chaque colonne\n",
        "    entrée MF: matrice de fréquence\n",
        "    entrée k: taille du motif\n",
        "    sortie sc: score\n",
        "    \"\"\"\n",
        "    return sum([max([line[i] for line in MF]) for i in range(k)])"
      ]
    },
    {
      "cell_type": "code",
      "execution_count": 52,
      "metadata": {
        "id": "WkfqvtsT_hu6"
      },
      "outputs": [
        {
          "name": "stdout",
          "output_type": "stream",
          "text": [
            "24 ['AATCTCA', 'CATCTTA', 'CATCTCA', 'AATCGCA']\n"
          ]
        }
      ],
      "source": [
        "def randomProjIt(sequences, k, v, nuc, It):\n",
        "    \"\"\"\n",
        "    Implémente l'algorithme randomProjection version iterative\n",
        "    entrée sequences : matrice de dimension txn contenant les séquences \n",
        "    entrée k : nombre de positions du motif\n",
        "    entrée v : nombre de positions de la projection \n",
        "    entrée nuc : alphabet\n",
        "    entrée It: nombre d'iterations\n",
        "    sortie score : meilleur score\n",
        "    sortie motifs :  liste de motifs associés au meilleur score\n",
        "    \"\"\"\n",
        " \n",
        "    motifs = []; score = 0\n",
        "\n",
        "    for _ in range(It):\n",
        "        motifsProj, motifsSeq = randomProjection(k, v, sequences)\n",
        "        for bucket in motifsSeq.keys():\n",
        "            motif_list = motifsSeq[bucket]\n",
        "            matrice = profile(motif_list, k, nuc)\n",
        "            current_score = getScore(matrice, k)\n",
        "            if current_score > score:\n",
        "                motifs = motif_list\n",
        "                score = current_score\n",
        "    \n",
        "    return score, motifs\n",
        "\n",
        "score, seqsMotif = randomProjIt(adn, 7, 4, nuc, 100)\n",
        "\n",
        "print (score, seqsMotif)\n"
      ]
    },
    {
      "cell_type": "markdown",
      "metadata": {
        "id": "JeBaa7f1_hu6"
      },
      "source": [
        "6\\. Tester l'algorithme  ``randomProjection`` sur vos données de chipSeq. N'oubliez pas de chercher les motifs dans le brin complémentaire et faire un merge de résultats. Puis générér le LOGO du motif trouvé."
      ]
    },
    {
      "cell_type": "code",
      "execution_count": 48,
      "metadata": {
        "id": "TqwsXVV7_hu4"
      },
      "outputs": [],
      "source": [
        "def reverseComplement(seq):\n",
        "    seq_dict = {'A':'T','T':'A','G':'C','C':'G'}\n",
        "    return \"\".join([seq_dict[base] for base in reversed(seq)])\n",
        "\n",
        "def complement(seq):\n",
        "    seq_dict = {'A':'T','T':'A','G':'C','C':'G'}\n",
        "    return \"\".join([seq_dict[base] for base in seq])\n",
        "\n",
        "def printTopFMotifsFreq(motifs, m, rev=False):\n",
        "    motifsRet = {}\n",
        "    motifsSort = sorted(motifs, reverse=True, key=motifs.get)\n",
        "    i = 0\n",
        "    while (i < m):\n",
        "        motifPrint = motifsSort[i]\n",
        "        print (motifsSort[i])\n",
        "        if rev:\n",
        "            motifPrint = reverseComplement(motifsSort[i])\n",
        "        print (i, motifPrint, \"-\", motifs[motifsSort[i]])\n",
        "        i = i + 1"
      ]
    },
    {
      "cell_type": "code",
      "execution_count": 55,
      "metadata": {
        "id": "_FVlr-KYtsQB"
      },
      "outputs": [
        {
          "name": "stdout",
          "output_type": "stream",
          "text": [
            "AAGTTGTAGTACTTGTGTTCCTGGTTTGCTGGTTTGCTTGGTTTGTCGGTGTATCTGCAGTTGTGTATTTGCAGGTCTGT 577 80 8\n"
          ]
        }
      ],
      "source": [
        "k=8; p=4; n=80\n",
        "\n",
        "def readFasta(genome, n):\n",
        "    sequence = []\n",
        "    file = open(genome, \"r\")\n",
        "    sequence = []\n",
        "    for s in file:\n",
        "        if s[0] != \">\":\n",
        "            sequence.append(s.strip().upper())\n",
        "    sequenceStr = \"\".join(sequence)\n",
        "    #sequence = [sequenceStr]\n",
        "    sequence = [sequenceStr[i:i+n] for i in range(0, len(sequenceStr), n)]\n",
        "    sequenceRet = [x for x in sequence if x]\n",
        "    return sequenceRet\n",
        "\n",
        "genome = \"Sequence_by_Peaks_3.fasta\"\n",
        "\n",
        "sequencesChip   = readFasta(genome, n)\n",
        "t = len(sequencesChip)\n",
        "print (sequencesChip[8], t, n, k)\n",
        "revSequences = [reverseComplement(m) for m in sequencesChip]\n",
        "\n",
        "sequences = sequencesChip + revSequences\n",
        "\n",
        "score, seqsMotif = randomProjIt(sequences, k, p, nuc, 100)"
      ]
    },
    {
      "cell_type": "code",
      "execution_count": 57,
      "metadata": {},
      "outputs": [
        {
          "data": {
            "text/plain": [
              "(308,\n",
              " ['TTTGACCT',\n",
              "  'TTTGAACT',\n",
              "  'GTTGGGCT',\n",
              "  'TTTGGGCT',\n",
              "  'TTTGGTCT',\n",
              "  'ATTATACT',\n",
              "  'ATTGAGCT',\n",
              "  'ATTAATCT',\n",
              "  'GTTAAACT',\n",
              "  'CTTTTCCT',\n",
              "  'GTTTCTCT',\n",
              "  'CTTAACCT',\n",
              "  'ATTGCCCT',\n",
              "  'TTTATCCT',\n",
              "  'GTTCAACT',\n",
              "  'TTTTCTCT',\n",
              "  'ATTTGTCT',\n",
              "  'TTTTGGCT',\n",
              "  'ATTTGCCT',\n",
              "  'GTTGGTCT',\n",
              "  'GTTTTCCT',\n",
              "  'TTTGCTCT',\n",
              "  'CTTCCTCT',\n",
              "  'ATTTCCCT',\n",
              "  'ATTGTGCT',\n",
              "  'CTTTTGCT',\n",
              "  'TTTCATCT',\n",
              "  'CTTATGCT',\n",
              "  'ATTATCCT',\n",
              "  'GTTAGACT',\n",
              "  'CTTGCTCT',\n",
              "  'CTTCATCT',\n",
              "  'ATTCCTCT',\n",
              "  'TTTTTTCT',\n",
              "  'GTTAGTCT',\n",
              "  'TTTAATCT',\n",
              "  'GTTTCACT',\n",
              "  'GTTGAACT',\n",
              "  'GTTGAGCT',\n",
              "  'CTTGCCCT',\n",
              "  'CTTTCTCT',\n",
              "  'TTTTCCCT',\n",
              "  'ATTTTTCT',\n",
              "  'CTTATCCT',\n",
              "  'CTTTTTCT',\n",
              "  'TTTATGCT',\n",
              "  'CTTTATCT',\n",
              "  'GTTCTGCT',\n",
              "  'TTTACACT',\n",
              "  'ATTGGACT',\n",
              "  'GTTACACT',\n",
              "  'ATTGTCCT',\n",
              "  'CTTCTTCT',\n",
              "  'GTTCTACT',\n",
              "  'GTTTTTCT',\n",
              "  'TTTCTGCT',\n",
              "  'TTTATACT',\n",
              "  'CTTTGTCT'],\n",
              " 58)"
            ]
          },
          "execution_count": 57,
          "metadata": {},
          "output_type": "execute_result"
        }
      ],
      "source": [
        "score, seqsMotif, len(seqsMotif)"
      ]
    },
    {
      "cell_type": "code",
      "execution_count": null,
      "metadata": {},
      "outputs": [],
      "source": []
    }
  ],
  "metadata": {
    "celltoolbar": "Raw Cell Format",
    "colab": {
      "provenance": []
    },
    "kernelspec": {
      "display_name": "Python 3",
      "language": "python",
      "name": "python3"
    },
    "language_info": {
      "codemirror_mode": {
        "name": "ipython",
        "version": 3
      },
      "file_extension": ".py",
      "mimetype": "text/x-python",
      "name": "python",
      "nbconvert_exporter": "python",
      "pygments_lexer": "ipython3",
      "version": "3.12.1"
    }
  },
  "nbformat": 4,
  "nbformat_minor": 0
}
