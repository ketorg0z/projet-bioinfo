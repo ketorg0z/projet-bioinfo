{
  "cells": [
    {
      "cell_type": "markdown",
      "metadata": {
        "id": "lRIv7xNV0nf9"
      },
      "source": [
        "# TME 4 : Suffix Trees\n",
        "\n",
        "\n",
        "## Recheche de pattern (motifs) en utilisant les suffix trees\n",
        "\n",
        "Nous allons utiliser l'algorithme suffix-tree pour une recherche rapide et éfficace de motifs. Un suffix-tree est construit à partir d'un jeux de séquences, ensuite nous pouvons rechercher le motif en temps O(k) où k est la longueur du motif."
      ]
    },
    {
      "cell_type": "markdown",
      "metadata": {
        "id": "p2zEyqSq0nf_"
      },
      "source": [
        "1\\. Nous allons réutiliser les fonctions du TMEs precedents pour générer ``t`` séquences artificielles de taille ``n``, et implanter dans chaque séquence un motif de taille ``k`` à des positions aléatoires avec ``v`` substitutions choisies aléatoirement. Cependant, les ``t`` séquences artificielles initiales (sans implantation) ainsi que le motif initial (sans variation/mutation) doivent être générées une seule fois. Ensuite, selon chaque question, nous introduisons des différentes variation au motif initial et les implantons dans les séquences initiales afin de générer des nouveau jeux de données. "
      ]
    },
    {
      "cell_type": "code",
      "execution_count": 1,
      "metadata": {
        "id": "VagWKovI0ngA"
      },
      "outputs": [],
      "source": [
        "import random\n",
        "import numpy as np\n",
        "\n",
        "nuc = ('A', 'C', 'G', 'T')\n",
        "\n",
        "k=8 #taille de motif\n",
        "v=0 #nb de positions variables dans le motif\n",
        "t=5 #nb de sequences\n",
        "n=100 #longuer des sequence\n",
        "f=0.9\n"
      ]
    },
    {
      "cell_type": "markdown",
      "metadata": {
        "id": "N39jNZyt0ngC"
      },
      "source": [
        "1.1\\. Generer les séquences artificielles initiales et implanter un motif (sans variation, v=0)"
      ]
    },
    {
      "cell_type": "code",
      "execution_count": null,
      "metadata": {
        "id": "3Vgz0SW71WtP"
      },
      "outputs": [],
      "source": [
        "\n",
        "nuc = ('A', 'C', 'G', 'T')\n",
        "\n",
        "def insertMotif(sequence, motif, position):\n",
        "    return sequence[:position] + motif + sequence[position:]\n",
        "\n",
        "def generateRandomSequence(n:int, upper=False):\n",
        "    \"\"\"\n",
        "    Même chose hein\n",
        "    \"\"\"\n",
        "    sequence = \"\".join([random.choice(nuc) for _ in range(n)])\n",
        "    if upper:\n",
        "        return sequence\n",
        "    return sequence.lower()\n",
        "\n",
        "def modifierMotif(motif:str, nbpos:int,  upper=False):\n",
        "    \"\"\"\n",
        "    Modifie nbpos positions d'un motif aléatoirement \n",
        "    entrée motif: motif à modifier\n",
        "    entrée nbpos: nombre de positions\n",
        "    entrée upper : bool, si True les nucléotides modifiés seront minuscule, False majuscule\n",
        "    sortie motifM: motif modifié\n",
        "    \"\"\"\n",
        "    motifM = list(motif)\n",
        "\n",
        "    nbPos_real = min(nbpos, len(motif))\n",
        "    allPos = list(range(len(motif)))\n",
        "\n",
        "    for _ in range(nbPos_real):\n",
        "        index = random.choice(range(len(allPos)))\n",
        "        changeIndex = allPos[index]\n",
        "        del allPos[index]\n",
        "\n",
        "        nv_L = generateRandomSequence(1, upper)\n",
        "        motifM[changeIndex] = nv_L\n",
        "    return \"\".join(motifM)        \n",
        "\n",
        "\n",
        "def implantMotifVar(k, v, t, n, f):\n",
        "    \"\"\"\n",
        "    Génère des séquences aléatoires et les implante des motifs variables (un motif par séquence)\n",
        "    entrée k: taille du motif\n",
        "    entrée v: nombre de variations\n",
        "    entrée t : nombre de séquences \n",
        "    entrée n : longueur des séquences\n",
        "    sortie DNA : matrice de dimension txn avec les motifs implantés\n",
        "    REMARQUE : La taille totale des séquences plus motif doit être égal à t, pensez à générer de séquence aléatoire de taille t-k pour pouvoir implanter un motif de taille k\n",
        "    \"\"\"\n",
        "    \n",
        "    sequences = []\n",
        "\n",
        "    motif = generateRandomSequence(k)\n",
        "    print(motif)\n",
        "    motif_new = motif\n",
        "    for _ in range(t):\n",
        "        base_seq = generateRandomSequence(n - k)\n",
        "        if random.random() < f:\n",
        "            motif_new = modifierMotif(motif, v)\n",
        "        sequences.append(insertMotif(base_seq, motif_new, random.choice(range(len(base_seq)))))\n",
        "        motif_new = motif\n",
        "    \n",
        "    return sequences\n",
        "\n",
        "\n",
        "adn = implantMotifVar(k, v, t, n, f)\n",
        "print (adn)\n",
        "\n",
        "adn  = [s.upper() for s in adn]\n",
        "print (adn)"
      ]
    },
    {
      "cell_type": "markdown",
      "metadata": {
        "id": "u27bZ9zV0ngE"
      },
      "source": [
        "2\\. Définissez une fonction ``construct_tree`` pour construire un suffix tree à partir des séquences artificielles (après implantation) en utilisant le python package suffix-trees trouvable ici: https://pypi.org/project/suffix-trees/. Tester si votre fonction est capable de trouver le motif sans variation implanté."
      ]
    },
    {
      "cell_type": "code",
      "execution_count": null,
      "metadata": {
        "id": "sDeaGF8V11ew"
      },
      "outputs": [],
      "source": [
        "!pip install suffix-trees"
      ]
    },
    {
      "cell_type": "code",
      "execution_count": null,
      "metadata": {
        "id": "BDYzYIcY0ngF"
      },
      "outputs": [],
      "source": [
        "from suffix_trees import STree\n",
        "\n",
        "st = STree.STree(\"abcdefghab\")\n",
        "print(st.find(\"abc\")) # 0\n",
        "print(st.find_all(\"ab\")) # [0, 8]\n",
        "\n",
        "def construct_tree(sequences):\n",
        "    \"\"\"\n",
        "    construire un abre de suffixe\n",
        "    entrée1 : matrice de dimension txn avec les sequences\n",
        "    sortie1 : arbre de suffixe\n",
        "    REMARK: Vous devez concatener toutes les sequences de la matrice avant d'appeller la fonction STree\n",
        "    \"\"\"\n",
        "    text = ''\n",
        "   \n",
        "    return st\n",
        "\n",
        "tree = construct_tree(adn)\n",
        "fix_motif = 'CGAGCCA' #changer pour un teste rapide\n",
        "print(tree.find_all(fix_motif))\n"
      ]
    },
    {
      "cell_type": "markdown",
      "metadata": {
        "id": "rdSlwIl00ngH"
      },
      "source": [
        "3\\. Avant de chercher les motifs, implémentez ou reutilisez les fonctions pour générer tous les motifs (k-mer) possibles de taille k, en éliminant les motifs peu complexe pour éviter les calculs inutiles."
      ]
    },
    {
      "cell_type": "code",
      "execution_count": null,
      "metadata": {
        "id": "3uxo3Y6j0ngI"
      },
      "outputs": [],
      "source": [
        "def kmerList(allkmers):\n",
        "    validKmers = []\n",
        "    for i in allkmers:\n",
        "        kmer = \"\".join(i)\n",
        "        validKmers.append(kmer)\n",
        "    return validKmers\n",
        "\n",
        "\n",
        "def removeLowComplexe(motifs, minrep):\n",
        "    validMotif = []\n",
        " \n",
        "    return validMotif\n",
        "\n",
        "\n",
        "from itertools import product\n",
        "allkmers = product(nuc, repeat=k)\n",
        "kmers = kmerList(allkmers)\n",
        "\n",
        "print (len(kmers))\n",
        "kmersValid = removeLowComplexe(kmers, 5)\n",
        "print (len(kmersValid))\n",
        "print (kmersValid[0])\n",
        "\n",
        "kmersValid = removeLowComplexePair(kmersValid)\n",
        "print (len(kmersValid))"
      ]
    },
    {
      "cell_type": "markdown",
      "metadata": {
        "id": "AhKHuWkE0ngK"
      },
      "source": [
        "4\\. **Exact matching:** Définissez la fonction ``exact_match`` qui cherche dans le suffix tree tous les motifs possibles (k-mers), générés à la question precedent. La fonction renvoie un dictionnaire qui contient les motifs (clés) et leurs nombre d'occurrence (valeurs). Ce dictionnaire doit être trié par nombre d'occurrences. \n",
        "\n",
        "Ensuite, trouvez et affichez les 10 motifs plus fréquents dans notre jeux de données artificiels."
      ]
    },
    {
      "cell_type": "code",
      "execution_count": null,
      "metadata": {
        "id": "pUmfblsq0ngL"
      },
      "outputs": [],
      "source": [
        "def exact_match(kmersV, stree):\n",
        "    \"\"\"\n",
        "    Cherche dans le suffix tree tous les motifs possibles\n",
        "    entrée1 kmersV: Liste de Kmers à chercher\n",
        "    entrée2 stree: suffix tree\n",
        "    sortie1 motif_occur_sorted: dictionnaire qui contient les motifs (clés) et leurs nombre d'occurrences (values).\n",
        "    \"\"\"\n",
        "    motif_occur_sorted = {}\n",
        "\n",
        "    return motif_occur_sorted\n",
        "\n",
        "st = construct_tree(adn)\n",
        "motif_occur_sorted = exact_match(kmersValid, st)\n",
        "\n"
      ]
    },
    {
      "cell_type": "markdown",
      "metadata": {
        "id": "HrSnp3Q70ngM"
      },
      "source": [
        "5\\. Introduisez deux variation (v=2) au motif initial. Pour cela avant de chaque implantation, créez d'abord un motif varié (avec v substitutions choisies aléatoirement) à partir du motif initial et puis implantez-le dans une séquence. Repetez pour chaque sequence dans le Jeux de donnée. Il suffit de mettre ``v`` égal ``2`` et réutiliser les fonctions définies à la question 1."
      ]
    },
    {
      "cell_type": "code",
      "execution_count": null,
      "metadata": {
        "id": "OqVEMgjW0ngN"
      },
      "outputs": [],
      "source": [
        "v=2\n",
        "adnOri, adn,  fix_motif = implantMotif(adnOri, fix_motif, k, v, t, n)\n"
      ]
    },
    {
      "cell_type": "markdown",
      "metadata": {
        "id": "1RGyKcwP0ngN"
      },
      "source": [
        "6\\. Construisez le suffix tree à nouveau à partir des nouvelles séquences en utilisant le python package suffix-trees."
      ]
    },
    {
      "cell_type": "code",
      "execution_count": null,
      "metadata": {
        "id": "xN70Hhtt0ngO"
      },
      "outputs": [],
      "source": [
        "st = construct_tree(adn)"
      ]
    },
    {
      "cell_type": "markdown",
      "metadata": {
        "id": "ZVbMQGFX0ngO"
      },
      "source": [
        "7\\. **Inexact matching:** \n",
        "\n",
        "Définissez fonction ``inexact_match`` qui cherche tous les motifs possibles (k-mers) générés à la question 2 dans le nouveau suffix tree donné (construit à partir des nouvelle séquences qui incluent le motif varié), et renvoie un dictionnaire qui contient les motifs (keys) et les listes de toutes leurs variations (values) ainsi que le meilleur motif variable. Il faut que vous utilisiez la technique *seed* pour trouver le motif variable. \n",
        "\n",
        "Ensuite, affichez le meilleur motif variable avec toutes son variation dans notre nouveaux jeux de données artificiels.\n",
        "***Transformer en deux fonction separer, une pour for motif et autre for seed***"
      ]
    },
    {
      "cell_type": "code",
      "execution_count": null,
      "metadata": {
        "id": "P9Zg_PCh0ngO"
      },
      "outputs": [],
      "source": [
        "\n"
      ]
    },
    {
      "cell_type": "code",
      "execution_count": null,
      "metadata": {
        "id": "IJ1qE29o0ngP"
      },
      "outputs": [],
      "source": [
        "def inexact_match(kmersV, sequences, stree, v):\n",
        "    \"\"\"\n",
        "    cherche de motif variables dans un suffix tree\n",
        "    entrée1 kmersV: liste de motifs à chercher\n",
        "    entrée2 sequences: matrice de dimension txn avec les sequences\n",
        "    entrée3 stree: suffix Tree\n",
        "    entrée4 v: nombre de variations dans le motifs\n",
        "    sortie1 motif_occur_sorted: dictionnaire clés=sequence consensus des motifs; value= nombre d'occurrences.\n",
        "    \"\"\"\n",
        "    motif_occur_sorted = {}\n",
        "  \n",
        "\n",
        "    return motif_occur_sorted\n",
        "\n",
        "#Test\n",
        "seqTest = \"banananabanbnaabanbna\"\n",
        "st = construct_tree([seqTest])\n",
        "k=6\n",
        "motif_occur_sorted = inexact_match(['banbna'], [seqTest], st, 1)\n"
      ]
    },
    {
      "cell_type": "markdown",
      "metadata": {
        "id": "5ABb0l6D0ngQ"
      },
      "source": [
        "8\\. Créez le motif logo à partir des séquences du meilleur motif variable que vouz venez de trouver. Vous pouvez utilizer ce site: https://weblogo.berkeley.edu/logo.cgi. Affichez votre logo ci-dessous."
      ]
    },
    {
      "cell_type": "markdown",
      "metadata": {
        "id": "tXYeF8IY0ngQ"
      },
      "source": []
    },
    {
      "cell_type": "markdown",
      "metadata": {
        "id": "acxgFV6b0ngQ"
      },
      "source": [
        "9\\. Avez-vous réussi à trouver votre motif initial implanté en séquences? l'algorithme était-il rapide? Quelle est la complexité de chaque recherche de motif?"
      ]
    },
    {
      "cell_type": "markdown",
      "metadata": {
        "id": "XZZ_TLV9ePVF"
      },
      "source": [
        "Votre reponse"
      ]
    },
    {
      "cell_type": "markdown",
      "metadata": {
        "id": "NAygy1d00ngR"
      },
      "source": [
        "10\\. Tester l'algorithme  suffix tree sur vos données de chipSeq. Puis générér le LOGO du motif trouvé"
      ]
    },
    {
      "cell_type": "code",
      "execution_count": null,
      "metadata": {
        "id": "kPIHUtnb0ngR"
      },
      "outputs": [],
      "source": [
        "def readFasta(genome):\n",
        "    sequence = []\n",
        "    file = open(genome, \"r\")\n",
        "    sequences = []\n",
        "    seq = \"\"\n",
        "    for s in file:\n",
        "        if s[0] != \">\":\n",
        "            seq += s.strip().upper()\n",
        "        else:\n",
        "            sequences.append(seq)\n",
        "            seq = \"\"\n",
        "    return sequences[1:]\n",
        "genome = \"Sequence_by_Peaks_0.fasta\"\n",
        "sequences = readFasta(genome)\n",
        "#print(sequences)"
      ]
    },
    {
      "cell_type": "code",
      "execution_count": null,
      "metadata": {
        "id": "u3RGPJ240ngR"
      },
      "outputs": [],
      "source": []
    }
  ],
  "metadata": {
    "celltoolbar": "Raw Cell Format",
    "colab": {
      "provenance": []
    },
    "kernelspec": {
      "display_name": "Python 3",
      "language": "python",
      "name": "python3"
    },
    "language_info": {
      "codemirror_mode": {
        "name": "ipython",
        "version": 3
      },
      "file_extension": ".py",
      "mimetype": "text/x-python",
      "name": "python",
      "nbconvert_exporter": "python",
      "pygments_lexer": "ipython3",
      "version": "3.11.5"
    }
  },
  "nbformat": 4,
  "nbformat_minor": 0
}
