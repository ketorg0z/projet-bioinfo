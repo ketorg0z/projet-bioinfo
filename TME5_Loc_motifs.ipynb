{
 "cells": [
  {
   "cell_type": "markdown",
   "metadata": {
    "id": "cMBXoJy9Cn-E"
   },
   "source": [
    "# TME 5 : Localisation de pattern (motifs) dans le genome\n",
    "\n",
    "Nous allons implémenter plusieurs algorithmes afin de localiser un motif d'intérêt dans un génome."
   ]
  },
  {
   "cell_type": "markdown",
   "metadata": {
    "id": "AbQu4NSfCn-a"
   },
   "source": [
    "### A -  Index of fixed length words\n",
    "3\\. Nous allons implémenter l'algorithme \"Index of fixed length words\". Faire une fonction pour indexer les positions d'occurrences de tous les mots de taille k dans un texte (génome), la fonction doit renvoyer un dictionnaire ou les clés sont les mots et les valeurs les positions dans le texte où se trouve les mots."
   ]
  },
  {
   "cell_type": "code",
   "execution_count": null,
   "metadata": {
    "id": "jzo936laCn-a"
   },
   "outputs": [],
   "source": [
    "def indexTable(m, sequence):\n",
    "    \"\"\"\n",
    "    Indexer les positions d'occurrences de tous les mots de taille k dans une sequence\n",
    "    entrée m : taille du mot à chercher dans le motif m <= k\n",
    "    entrée sequence : chaine de caractère représentant une sequence d'ADN\n",
    "    sortie indexes : dictionaire où les clés sont les mots et les valeurs les positions dans la sequence\n",
    "    \"\"\"\n",
    "    indexes  = {}\n",
    "\n",
    "    return indexes\n",
    "\n",
    "inds = indexTable(2, \"abcdabda\") #{'ab': [0, 4], 'bc': [1], 'cd': [2], 'da': [3, 6], 'bd': [5]}\n",
    "print (inds)"
   ]
  },
  {
   "cell_type": "markdown",
   "metadata": {
    "id": "LM7VVxtWCn-c"
   },
   "source": [
    "4\\. Faire une fonction pour chercher toutes les occurrences d'un motif dans un génome utilisant la table des indexes de la question précédente. Nous allons permettre un nombre maximum de variations. Pour cela, implémenter ou re-utiliser la fonction distance de hamming"
   ]
  },
  {
   "cell_type": "code",
   "execution_count": null,
   "metadata": {
    "id": "Vw1sHsR2-TZQ"
   },
   "outputs": [],
   "source": [
    "def hamming(seq1, seq2):\n",
    "    count = 0\n",
    "    \n",
    "    return count\n",
    "\n",
    "\n",
    "def chercherWithIndexTable(m, table, sequence, motif, maxVar):\n",
    "    \"\"\"\n",
    "    chercher les positions d'un motif dans une séquence en admettant au maximum maxVar variations\n",
    "    entrée m : taille du mot à chercher dans le motif m <= k, le meme utilise pour indexer les sequences\n",
    "    entrée table : dictionaire où les clés sont les mots et les valeurs les positions dans la sequence\n",
    "    entrée sequence : chaine de caractère représentant une sequence d'ADN\n",
    "    entrée motif : chaine de caractère représentant le motif à chercher\n",
    "    entrée maxVar : le maximum variations entre le motif et un mot de taille k dans la sequence\n",
    "    sortie motifPos : dictionnaire où les clés sont les motifs trouvé et les valeurs leurs positions dans la sequence.\n",
    "    \"\"\"\n",
    "    k = len(motif)\n",
    "    motifPos = {}\n",
    "    motif = motif.lower()\n",
    "\n",
    "    return motifPos\n",
    "\n",
    "\n",
    "m = 3; motif =  \"TAGTT\"; maxVar = 2\n",
    "inds = indexTable(m, \"ACGAAATAGTTAGAA\")\n",
    "print (inds)\n",
    "#{'acg': [0], 'cga': [1], 'gaa': [2, 12], 'aaa': [3], 'aat': [4], 'ata': [5], 'tag': [6, 10], 'agt': [7], 'gtt': [8], 'tta': [9], 'aga': [11]}\n",
    "motifPos = chercherWithIndexTable(m, inds, 'ACGAAATAGTTAGAA', \"TAGTT\", maxVar)\n",
    "print (motifPos)\n",
    "#{'tagtt': [6]}"
   ]
  },
  {
   "cell_type": "markdown",
   "metadata": {
    "id": "hmedHvbACn-Z"
   },
   "source": [
    "5\\. Tester l'algorithme **\"Index of fixed length words\"** sur vos données de chipSeq. Pour cela développer une fonction pour chercher un motif d'intérêt sur chaque séquence du fichier Peaks.\n",
    "Voici les motifs que vous devez trouver selon le fichier de Peaks:\n",
    "\n",
    " - Peaks 1 Atf1 (TGCACCC / GGGTGCA)\n",
    " - Peaks 2 Atm1 (CAGCAAaaa / tttTTGCTG)\n",
    " - Peaks 3 Hap4 (CCAAT / ATTGG)\n",
    " - Peaks 4 Mac1 (GAGCAAA / TTTGCTC)\n",
    " - Peaks 5 Mac1 (GAGCAAA / TTTGCTC)\n",
    " - Peaks 6 Pdr1 (CCACGGA / TCCGTGG)\n",
    " - Peaks 7 Pdr1 (CCACGGA / TCCGTGG)"
   ]
  },
  {
   "cell_type": "code",
   "execution_count": null,
   "metadata": {
    "id": "yHw0ytHCCn-M"
   },
   "outputs": [],
   "source": [
    "import time\n",
    "\n",
    "k = 7\n",
    "genome = \"C_glabrata_1000bp_only.fasta\"\n",
    "peaks = \"Sequence_by_Peaks_##.fasta\" ### modifier avec votre fichier !!!\n",
    "motif = 'NNNNN' # Le motif à localiser pour votre fichier, par example \"tgcaccc\"\n",
    "\n",
    "# Fonction modifié\n",
    "def readFasta(fastaFileName):\n",
    "    \"\"\"\n",
    "    Read a fasta file\n",
    "    entrée fastaFileName: nom du fichier fasta\n",
    "    sortie sequences: liste contenant toutes les sequences du fichier\n",
    "    \"\"\"\n",
    "\n",
    "    sequence = \"\"\n",
    "    sequences_list = []\n",
    "    prev_header = \"\"\n",
    "    header = \"\"\n",
    "\n",
    "    for line in open(fastaFileName):\n",
    "        string = line.strip()\n",
    "        if string[0] != \">\":\n",
    "            if prev_header != header:\n",
    "                # print(header) # dans le cas ou on veut garde cet info\n",
    "                prev_header = header\n",
    "            sequence = sequence + string\n",
    "        else:\n",
    "            header = string\n",
    "            if sequence != \"\":\n",
    "                sequences_list.append(sequence)\n",
    "                sequence = \"\"\n",
    "\n",
    "    sequences_list.append(sequence)\n",
    "    return sequences_list\n",
    "\n",
    "sequencesPeaks = readFasta(peaks)\n",
    "sequences1000 = readFasta(genome)\n",
    "\n",
    "\n",
    "def findMotifData(sequences, motif, m, maxVar):\n",
    "    \"\"\"\n",
    "    chercher les positions d'un motif dans un ensemble de séquence d'ADN en admettant un maximum de variations\n",
    "    entrée m : taille du mot à chercher dans le motif m <= k, le meme utilise pour indexer les sequences\n",
    "    entrée sequences : list contenant les sequence d'ADN\n",
    "    entrée motif : chaine de caractère représentant le motif à chercher\n",
    "    entrée maxVar : le maximum variations entre le motif et un mot de taille k dans la sequence\n",
    "    sortie posList : list contenant les positions dans les sequences ou se trouve le motif.\n",
    "    \"\"\"\n",
    "    count = 0; posList = []\n",
    "\n",
    "    return posList\n",
    "\n"
   ]
  },
  {
   "cell_type": "code",
   "execution_count": null,
   "metadata": {
    "id": "NSK8JswV-TZU"
   },
   "outputs": [],
   "source": [
    "posList = findMotifData(sequencesPeaks, motif, 4, 1)\n",
    "\n",
    "print(len(posList))\n"
   ]
  },
  {
   "cell_type": "markdown",
   "metadata": {
    "id": "Ab90XjUGCn-c"
   },
   "source": [
    "6\\. Récupérer les motifs et générer un LOGO à l'aide de l'outil WEB-LOGO https://weblogo.berkeley.edu/logo.cgi"
   ]
  },
  {
   "cell_type": "code",
   "execution_count": null,
   "metadata": {
    "id": "O96O4exmCn-c"
   },
   "outputs": [],
   "source": []
  },
  {
   "cell_type": "markdown",
   "metadata": {
    "id": "zkavuApHCn-d"
   },
   "source": [
    "### B -  Matrice de fréquences\n",
    "7\\.Nous allons implémenter la recherche de motif par matrice de fréquence. Nous allons utiliser les matrices déjà fabriquées que vous pouvez télécharger sur le site http://jaspar.genereg.net/.\n",
    "Une fois que vous avez chargé votre matrice de fréquence, vous devez la transformer en matrice de probabilité en la normalisant, diviser chaque cellule par la somme de sa colonne."
   ]
  },
  {
   "cell_type": "code",
   "execution_count": null,
   "metadata": {
    "colab": {
     "base_uri": "https://localhost:8080/"
    },
    "id": "3OQvYbMZCn-d",
    "outputId": "2072ddf5-8eac-4b58-d0c2-619d4c58f816"
   },
   "outputs": [],
   "source": [
    "import numpy as np\n",
    "\n",
    "nuc = ['A', 'C', 'G', 'T']\n",
    "q = 4\n",
    "\n",
    "#Matrice du motif Atf1, attention la matrice peut avoir plus de colonnes que le motif décrit précédemment,\n",
    "#ajuster le k ou effacer les colonnes qui ne vous intéressent pas.\n",
    "\n",
    "matFreq = np.array([[136,716,145,34,160,10,961,8,25,19],\n",
    "[78,25,31,47,10,966,9,972,955,740],\n",
    "[142,31,288,39,812,11,15,9,2,13],\n",
    "[641,226,535,878,16,10,14,10,16,225]])\n",
    "\n",
    "print (matFreq)\n",
    "\n",
    "def computing_pwm(M, cols):\n",
    "    \"\"\"\n",
    "    Calcul la matrice de poids position à partir de la matrice de frequence\n",
    "    entrée M : matrice de frequence\n",
    "    sortie PWM : matrice de probabilites ou poids position\n",
    "    \"\"\"\n",
    "    PWM = M+1\n",
    "\n",
    "    return PWM/s\n",
    "\n",
    "k = 10\n",
    "PWM = get_pwm(matrice, k); print (PWM)\n"
   ]
  },
  {
   "cell_type": "markdown",
   "metadata": {
    "id": "GWbpvjdLCn-d"
   },
   "source": [
    "8\\. Déterminer les paramètres f(0)(b) du modèle nul, où\n",
    "\\begin{equation}\n",
    "f^{(0)}(b) = \\frac 1L \\sum_{i=0}^{L-1} \\omega_i(b)\\ ,\n",
    "\\end{equation}"
   ]
  },
  {
   "cell_type": "code",
   "execution_count": null,
   "metadata": {
    "colab": {
     "base_uri": "https://localhost:8080/"
    },
    "id": "oP-SHzFICn-d",
    "outputId": "38374119-25b8-419f-d6a0-34424b88869f",
    "scrolled": true
   },
   "outputs": [],
   "source": [
    "def f0_calcule(PWM, L):\n",
    "    \"\"\"\n",
    "    Calcul les valeurs de probabilites d'un modele independant de positions (modele Null)\n",
    "    entrée PWM : matrice de probabilites ou poids positions\n",
    "    sortie  f_0 : vecteur contenant un modele independant de positions (modele Null)\n",
    "    \"\"\"\n",
    "    modele = []\n",
    "\n",
    "    return modele\n",
    "\n",
    "f_0 = f0_calcule(PWM, k)\n",
    "print (f_0)"
   ]
  },
  {
   "cell_type": "markdown",
   "metadata": {
    "id": "YE3jpfh5Cn-e"
   },
   "source": [
    "9\\. Faites une fonction pour calculer log-rapport de vraisemblancee d'une sequence de taille k et la matrice poids position.\n",
    "\\begin{equation}\n",
    "\\label{eq:ll}\n",
    "\\ell(b_0,...,b_{k-1}) = \\log_2 \\frac {P(b_0,...,b_{k-1} | \\omega )\n",
    "}{P^{(0)}(b_0,...,b_{k-1})}\n",
    "= \\sum_{i=0}^{k-1} \\log_2 \\frac {\\omega_i(b_i)}{f^{(0)}(b_i)}\\ .\n",
    "\\end{equation}"
   ]
  },
  {
   "cell_type": "code",
   "execution_count": null,
   "metadata": {
    "colab": {
     "base_uri": "https://localhost:8080/"
    },
    "id": "msAGTcn_Cn-e",
    "outputId": "209a8450-323c-4852-fe81-d6a5151d88fb"
   },
   "outputs": [],
   "source": [
    "def loglikehood(seq, PWM, f_0, L):\n",
    "\t\"\"\"\n",
    "\tCalcul le rapport de vraissemblance entre une sequence et une matrice de poids position\n",
    "\tentrée PWM : matrice de probabilites ou poids positions\n",
    "\tentrée f_0 : vecteur contenant le modele independant de positions (modele Null)\n",
    "\tentrée seq : une sequence d'ADN de taille k, ou k est le nombre de colonnes de PWM\n",
    "\tsortie ll : rapport de vraissemblance\n",
    "\t\"\"\"\n",
    "\tL_0 = len(seq)\n",
    "\tl_win = 0\n",
    "\n",
    "\treturn l_win\n",
    "\n",
    "loglikehood('acctgcaccc'.upper(), PWM, f_0, k)"
   ]
  },
  {
   "cell_type": "markdown",
   "metadata": {
    "id": "wqKrEGUg-TZZ"
   },
   "source": [
    "10\\. Faire une fonction que pour chaque séquence cherche la/les positions avec une log-vraisemblance positive."
   ]
  },
  {
   "cell_type": "code",
   "execution_count": null,
   "metadata": {
    "id": "wY13WdCS-TZa",
    "outputId": "88a38de3-8c4a-41a5-afe8-be47a8fa4ee2"
   },
   "outputs": [],
   "source": [
    "def searchPWM(sequences, k, PWM, f_0):\n",
    "    \"\"\"\n",
    "    Cherche les positions dans un ensemble de séquence qui maxime le rapport de vraisemblance\n",
    "    entrée sequences : ensemble de séquence d'ADN\n",
    "    entrée k : nombre de colonnes d'PWM\n",
    "    entrée PWM : matrice de probabilités ou poids positions\n",
    "    entrée f_0 : vecteur contenant le modèle indépendant de positions (modèle Null)\n",
    "    sortie posList: liste contenant pour chaque séquence la/les positions ayant un rapport de vraisemblance positive\n",
    "    \"\"\"\n",
    "    count = 0; posList = []; pos = []\n",
    "    \n",
    "    return posList\n",
    "\n",
    "\n",
    "posList = searchPWM(sequencesPeaks, k, PWM, f_0)\n",
    "print(posList)\n"
   ]
  },
  {
   "cell_type": "markdown",
   "metadata": {
    "id": "nW_A2lhF-TZa"
   },
   "source": [
    "11\\.  (Bonus) Certains motifs si chevauche dans ce cas il faut choisir ceux qui ont la meilleur  log-vraisemblance. Par exemple pour une taille de motif k = 7, si vous avez deux motifs, un qui commence dans la position 45 et un autre en position 47, garder celui avec la log-vraisemblance la plus grande."
   ]
  },
  {
   "cell_type": "code",
   "execution_count": null,
   "metadata": {
    "id": "cyuRQS9UCn-f"
   },
   "outputs": [],
   "source": [
    "def searchPWMOptmiseMotifs(sequences, k, PWM, f_0):\n",
    "    \"\"\"\n",
    "    Cherche les positions dans un ensemble de séquence qui maxime le rapport de vraisemblance et elimine les motifs chevauchante\n",
    "    entrée sequences : ensemble de séquence d'ADN\n",
    "    entrée k : nombre de colonnes d'PWM\n",
    "    entrée PWM : matrice de probabilités ou poids positions\n",
    "    entrée f_0 : vecteur contenant le modèle indépendant de positions (modèle Null)\n",
    "    sortie posList: liste contenant pour chaque séquence la/les positions ayant un rapport de vraisemblance positive\n",
    "\n",
    "    \"\"\"\n",
    "    \n",
    "    return None"
   ]
  },
  {
   "cell_type": "markdown",
   "metadata": {
    "id": "nZYLXP2HCn-e"
   },
   "source": [
    "12\\.Tester l'algorithme sur vos données de chipSeq et dessiner le LOGO"
   ]
  },
  {
   "cell_type": "code",
   "execution_count": null,
   "metadata": {
    "id": "v4MZ0n-i-TZc"
   },
   "outputs": [],
   "source": []
  }
 ],
 "metadata": {
  "celltoolbar": "Raw Cell Format",
  "colab": {
   "provenance": []
  },
  "kernelspec": {
   "display_name": "Python 3 (ipykernel)",
   "language": "python",
   "name": "python3"
  },
  "language_info": {
   "codemirror_mode": {
    "name": "ipython",
    "version": 3
   },
   "file_extension": ".py",
   "mimetype": "text/x-python",
   "name": "python",
   "nbconvert_exporter": "python",
   "pygments_lexer": "ipython3",
   "version": "3.9.13"
  }
 },
 "nbformat": 4,
 "nbformat_minor": 1
}
