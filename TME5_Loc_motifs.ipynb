{
 "cells": [
  {
   "cell_type": "markdown",
   "metadata": {
    "id": "cMBXoJy9Cn-E"
   },
   "source": [
    "# TME 5 : Localisation de pattern (motifs) dans le genome\n",
    "\n",
    "Lev Savolskiy\n",
    "21241759\n",
    "\n",
    "Nous allons implémenter plusieurs algorithmes afin de localiser un motif d'intérêt dans un génome."
   ]
  },
  {
   "cell_type": "markdown",
   "metadata": {
    "id": "AbQu4NSfCn-a"
   },
   "source": [
    "### A -  Index of fixed length words\n",
    "3\\. Nous allons implémenter l'algorithme \"Index of fixed length words\". Faire une fonction pour indexer les positions d'occurrences de tous les mots de taille k dans un texte (génome), la fonction doit renvoyer un dictionnaire ou les clés sont les mots et les valeurs les positions dans le texte où se trouve les mots."
   ]
  },
  {
   "cell_type": "code",
   "execution_count": 1,
   "metadata": {
    "id": "jzo936laCn-a"
   },
   "outputs": [
    {
     "name": "stdout",
     "output_type": "stream",
     "text": [
      "{'ab': [0, 4], 'bc': [1], 'cd': [2], 'da': [3, 6], 'bd': [5]}\n"
     ]
    }
   ],
   "source": [
    "def indexTable(m, sequence):\n",
    "    \"\"\"\n",
    "    Indexer les positions d'occurrences de tous les mots de taille k dans une sequence\n",
    "    entrée m : taille du mot à chercher dans le motif m <= k\n",
    "    entrée sequence : chaine de caractère représentant une sequence d'ADN\n",
    "    sortie indexes : dictionaire où les clés sont les mots et les valeurs les positions dans la sequence\n",
    "    \"\"\"\n",
    "    indexes  = {}\n",
    "\n",
    "    for i in range(0, len(sequence)-m + 1):\n",
    "        if (sequence[i:i+m] not in indexes.keys()):\n",
    "            indexes[sequence[i:i+m]] = []\n",
    "            indexes[sequence[i:i+m]].append(i)\n",
    "        else:\n",
    "            indexes[sequence[i:i+m]].append(i)\n",
    "\n",
    "    return indexes\n",
    "\n",
    "inds = indexTable(2, \"abcdabda\") #{'ab': [0, 4], 'bc': [1], 'cd': [2], 'da': [3, 6], 'bd': [5]}\n",
    "print (inds)"
   ]
  },
  {
   "cell_type": "markdown",
   "metadata": {
    "id": "LM7VVxtWCn-c"
   },
   "source": [
    "4\\. Faire une fonction pour chercher toutes les occurrences d'un motif dans un génome utilisant la table des indexes de la question précédente. Nous allons permettre un nombre maximum de variations. Pour cela, implémenter ou re-utiliser la fonction distance de hamming"
   ]
  },
  {
   "cell_type": "code",
   "execution_count": 16,
   "metadata": {
    "id": "Vw1sHsR2-TZQ"
   },
   "outputs": [
    {
     "name": "stdout",
     "output_type": "stream",
     "text": [
      "{'ACG': [0], 'CGA': [1], 'GAA': [2, 12], 'AAA': [3], 'AAT': [4], 'ATA': [5], 'TAG': [6, 10], 'AGT': [7], 'GTT': [8], 'TTA': [9], 'AGA': [11]}\n",
      "{'TAGTT': [6]}\n"
     ]
    }
   ],
   "source": [
    "def hamming(seq1, seq2):\n",
    "    \"\"\"\n",
    "\tCalcul la distance de hamming entre deux chaînes de caractères\n",
    "\tentrée str1: chaîne de caractères\n",
    "\tentrée str2: chaîne de caractères\n",
    "\tsortie distance: distance de hamming\n",
    "\t\"\"\"\n",
    "    if len(seq1) != len(seq2):\n",
    "\t    raise Exception(\"str1 = \" + seq1 + \", str2 = \" + seq2)\n",
    "    \n",
    "    return sum([1 for i in range(len(seq1)) if seq1[i].lower() != seq2[i].lower()])\n",
    "\n",
    "def chercherWithIndexTable(m, table, sequence, motif, maxVar):\n",
    "    \"\"\"\n",
    "    chercher les positions d'un motif dans une séquence en admettant au maximum maxVar variations\n",
    "    entrée m : taille du mot à chercher dans le motif m <= k, le meme utilise pour indexer les sequences\n",
    "    entrée table : dictionaire où les clés sont les mots et les valeurs les positions dans la sequence\n",
    "    entrée sequence : chaine de caractère représentant une sequence d'ADN\n",
    "    entrée motif : chaine de caractère représentant le motif à chercher\n",
    "    entrée maxVar : le maximum variations entre le motif et un mot de taille k dans la sequence\n",
    "    sortie motifPos : dictionnaire où les clés sont les motifs trouvé et les valeurs leurs positions dans la sequence.\n",
    "    \"\"\"\n",
    "    k = len(motif)\n",
    "    motifPos = {}\n",
    "    if motif[0:m] in table.keys():\n",
    "        for i in table[motif[0:m]]:\n",
    "            if i+k < len(sequence):\n",
    "                if hamming(sequence[i:i+k], motif) < maxVar:\n",
    "                        if sequence[i:i+k] in motifPos.keys():\n",
    "                            motifPos[sequence[i:i+k]].append(i)\n",
    "                        else:\n",
    "                            motifPos[sequence[i:i+k]] = []\n",
    "                            motifPos[sequence[i:i+k]].append(i)\n",
    "\n",
    "\n",
    "    return motifPos\n",
    "\n",
    "\n",
    "m = 3; motif = \"TAGTT\"; maxVar = 2\n",
    "inds = indexTable(m, \"ACGAAATAGTTAGAA\")\n",
    "print(inds)\n",
    "#{'acg': [0], 'cga': [1], 'gaa': [2, 12], 'aaa': [3], 'aat': [4], 'ata': [5], 'tag': [6, 10], 'agt': [7], 'gtt': [8], 'tta': [9], 'aga': [11]}\n",
    "motifPos = chercherWithIndexTable(m, inds, \"ACGAAATAGTTAGAA\", \"TAGTT\", maxVar)\n",
    "print(motifPos)\n",
    "#{'tagtt': [6]}"
   ]
  },
  {
   "cell_type": "markdown",
   "metadata": {
    "id": "hmedHvbACn-Z"
   },
   "source": [
    "5\\. Tester l'algorithme **\"Index of fixed length words\"** sur vos données de chipSeq. Pour cela développer une fonction pour chercher un motif d'intérêt sur chaque séquence du fichier Peaks.\n",
    "Voici les motifs que vous devez trouver selon le fichier de Peaks:\n",
    "\n",
    " - Peaks 1 Atf1 (TGCACCC / GGGTGCA)\n",
    " - Peaks 2 Atm1 (CAGCAAaaa / tttTTGCTG)\n",
    " - Peaks 3 Hap4 (CCAAT / ATTGG)\n",
    " - Peaks 4 Mac1 (GAGCAAA / TTTGCTC)\n",
    " - Peaks 5 Mac1 (GAGCAAA / TTTGCTC)\n",
    " - Peaks 6 Pdr1 (CCACGGA / TCCGTGG)\n",
    " - Peaks 7 Pdr1 (CCACGGA / TCCGTGG)"
   ]
  },
  {
   "cell_type": "code",
   "execution_count": 17,
   "metadata": {
    "id": "yHw0ytHCCn-M"
   },
   "outputs": [],
   "source": [
    "import time\n",
    "\n",
    "k = 5\n",
    "genome = \"C_glabrata_1000bp_only.fasta\"\n",
    "peaks = \"Sequence_by_Peaks_3.fasta\" ### modifier avec votre fichier !!!\n",
    "motif = \"CCATT\" # Le motif à localiser pour votre fichier, par example \"tgcaccc\"\n",
    "\n",
    "# Fonction modifié\n",
    "def readFasta(fastaFileName):\n",
    "    \"\"\"\n",
    "    Read a fasta file\n",
    "    entrée fastaFileName: nom du fichier fasta\n",
    "    sortie sequences: liste contenant toutes les sequences du fichier\n",
    "    \"\"\"\n",
    "\n",
    "    sequence = \"\"\n",
    "    sequences_list = []\n",
    "    prev_header = \"\"\n",
    "    header = \"\"\n",
    "\n",
    "    for line in open(fastaFileName):\n",
    "        string = line.strip()\n",
    "        if string[0] != \">\":\n",
    "            if prev_header != header:\n",
    "                # print(header) # dans le cas ou on veut garde cet info\n",
    "                prev_header = header\n",
    "            sequence = sequence + string\n",
    "        else:\n",
    "            header = string\n",
    "            if sequence != \"\":\n",
    "                sequences_list.append(sequence)\n",
    "                sequence = \"\"\n",
    "\n",
    "    sequences_list.append(sequence)\n",
    "    return sequences_list\n",
    "\n",
    "sequencesPeaks = readFasta(peaks)\n",
    "sequences1000 = readFasta(genome)\n",
    "\n",
    "\n",
    "def findMotifData(sequences, motif, m, maxVar):\n",
    "    \"\"\"\n",
    "    chercher les positions d'un motif dans un ensemble de séquence d'ADN en admettant un maximum de variations\n",
    "    entrée m : taille du mot à chercher dans le motif m <= k, le meme utilise pour indexer les sequences\n",
    "    entrée sequences : list contenant les sequence d'ADN\n",
    "    entrée motif : chaine de caractère représentant le motif à chercher\n",
    "    entrée maxVar : le maximum variations entre le motif et un mot de taille k dans la sequence\n",
    "    sortie posList : list contenant les positions dans les sequences ou se trouve le motif.\n",
    "    \"\"\"\n",
    "    count = 0; posList = []\n",
    "\n",
    "    for i in sequences:\n",
    "        inds = indexTable(m, i.upper())\n",
    "        posList += chercherWithIndexTable(m, inds, i.upper(), motif, maxVar).items()\n",
    "\n",
    "\n",
    "    return posList\n",
    "\n"
   ]
  },
  {
   "cell_type": "code",
   "execution_count": 18,
   "metadata": {
    "id": "NSK8JswV-TZU"
   },
   "outputs": [
    {
     "name": "stdout",
     "output_type": "stream",
     "text": [
      "42\n"
     ]
    }
   ],
   "source": [
    "posList = findMotifData(sequencesPeaks, motif, 4, 1)\n",
    "\n",
    "print(len(posList))\n"
   ]
  },
  {
   "cell_type": "markdown",
   "metadata": {
    "id": "Ab90XjUGCn-c"
   },
   "source": [
    "6\\. Récupérer les motifs et générer un LOGO à l'aide de l'outil WEB-LOGO https://weblogo.berkeley.edu/logo.cgi"
   ]
  },
  {
   "cell_type": "code",
   "execution_count": 19,
   "metadata": {
    "id": "O96O4exmCn-c"
   },
   "outputs": [
    {
     "name": "stdout",
     "output_type": "stream",
     "text": [
      "[('CCATT', [381]), ('CCATT', [81]), ('CCATT', [586]), ('CCATT', [270, 410]), ('CCATT', [288]), ('CCATT', [16, 63]), ('CCATT', [26]), ('CCATT', [24]), ('CCATT', [650, 664]), ('CCATT', [81]), ('CCATT', [76]), ('CCATT', [170, 372, 437]), ('CCATT', [182, 339, 375, 448]), ('CCATT', [73]), ('CCATT', [175]), ('CCATT', [19]), ('CCATT', [130]), ('CCATT', [327, 499]), ('CCATT', [503]), ('CCATT', [406, 458]), ('CCATT', [270]), ('CCATT', [596]), ('CCATT', [240]), ('CCATT', [192]), ('CCATT', [66, 175]), ('CCATT', [472, 749]), ('CCATT', [366, 396, 685]), ('CCATT', [177]), ('CCATT', [66]), ('CCATT', [359]), ('CCATT', [126, 174]), ('CCATT', [213]), ('CCATT', [440, 542]), ('CCATT', [38]), ('CCATT', [200]), ('CCATT', [1]), ('CCATT', [262]), ('CCATT', [52, 87]), ('CCATT', [45]), ('CCATT', [249]), ('CCATT', [113, 252]), ('CCATT', [19])]\n"
     ]
    }
   ],
   "source": [
    "print(posList)"
   ]
  },
  {
   "cell_type": "markdown",
   "metadata": {
    "id": "zkavuApHCn-d"
   },
   "source": [
    "### B -  Matrice de fréquences\n",
    "7\\.Nous allons implémenter la recherche de motif par matrice de fréquence. Nous allons utiliser les matrices déjà fabriquées que vous pouvez télécharger sur le site http://jaspar.genereg.net/.\n",
    "Une fois que vous avez chargé votre matrice de fréquence, vous devez la transformer en matrice de probabilité en la normalisant, diviser chaque cellule par la somme de sa colonne."
   ]
  },
  {
   "cell_type": "code",
   "execution_count": 37,
   "metadata": {
    "colab": {
     "base_uri": "https://localhost:8080/"
    },
    "id": "3OQvYbMZCn-d",
    "outputId": "2072ddf5-8eac-4b58-d0c2-619d4c58f816"
   },
   "outputs": [
    {
     "name": "stdout",
     "output_type": "stream",
     "text": [
      "[[136, 716, 145, 34, 160, 10, 961, 8, 25, 19], [78, 25, 31, 47, 10, 966, 9, 972, 955, 740], [142, 31, 288, 39, 812, 11, 15, 9, 2, 13], [641, 226, 535, 878, 16, 10, 14, 10, 16, 225]]\n",
      "[[0.13640922768304914, 0.717434869739479, 0.14514514514514515, 0.03406813627254509, 0.16032064128256512], [0.07823470411233702, 0.025050100200400802, 0.031031031031031032, 0.047094188376753505, 0.01002004008016032], [0.1424272818455366, 0.031062124248496994, 0.2882882882882883, 0.03907815631262525, 0.8136272545090181], [0.6429287863590772, 0.22645290581162325, 0.5355355355355356, 0.8797595190380761, 0.01603206412825651]]\n"
     ]
    }
   ],
   "source": [
    "import numpy as np\n",
    "\n",
    "nuc = ['A', 'C', 'G', 'T']\n",
    "q = 4\n",
    "\n",
    "#Matrice du motif Atf1, attention la matrice peut avoir plus de colonnes que le motif décrit précédemment,\n",
    "#ajuster le k ou effacer les colonnes qui ne vous intéressent pas.\n",
    "\n",
    "matFreq = [[136,716,145,34,160,10,961,8,25,19],\n",
    "[78,25,31,47,10,966,9,972,955,740],\n",
    "[142,31,288,39,812,11,15,9,2,13],\n",
    "[641,226,535,878,16,10,14,10,16,225]]\n",
    "\n",
    "print(matFreq)\n",
    "\n",
    "def computing_pwm(M, cols):\n",
    "    \"\"\"\n",
    "    Calcul la matrice de poids position à partir de la matrice de frequence\n",
    "    entrée M : matrice de frequence\n",
    "    sortie PWM : matrice de probabilites ou poids position\n",
    "    \"\"\"\n",
    "    PWM = []\n",
    "\n",
    "    for i in range(4):\n",
    "        PWM.append([])\n",
    "        for j in range(cols):\n",
    "            PWM[i].append(0)\n",
    "\n",
    "    for i in range(cols):\n",
    "        summ = 0\n",
    "        for j in range(4):\n",
    "            summ += M[j][i]\n",
    "        for j in range(4):\n",
    "            PWM[j][i] = M[j][i] / summ\n",
    "\n",
    "    return PWM\n",
    "\n",
    "k = 5\n",
    "PWM = computing_pwm(matFreq, k); \n",
    "print (PWM)\n"
   ]
  },
  {
   "cell_type": "markdown",
   "metadata": {
    "id": "GWbpvjdLCn-d"
   },
   "source": [
    "8\\. Déterminer les paramètres f(0)(b) du modèle nul, où\n",
    "\\begin{equation}\n",
    "f^{(0)}(b) = \\frac 1L \\sum_{i=0}^{L-1} \\omega_i(b)\\ ,\n",
    "\\end{equation}"
   ]
  },
  {
   "cell_type": "code",
   "execution_count": 82,
   "metadata": {
    "colab": {
     "base_uri": "https://localhost:8080/"
    },
    "id": "oP-SHzFICn-d",
    "outputId": "38374119-25b8-419f-d6a0-34424b88869f",
    "scrolled": true
   },
   "outputs": [
    {
     "name": "stdout",
     "output_type": "stream",
     "text": [
      "[0.23867560402455665, 0.03828601276013653, 0.26289662104079303, 0.46014176217451375]\n"
     ]
    }
   ],
   "source": [
    "def f0_calcule(PWM, L):\n",
    "    \"\"\"\n",
    "    Calcul les valeurs de probabilites d'un modele independant de positions (modele Null)\n",
    "    entrée PWM : matrice de probabilites ou poids positions\n",
    "    sortie  f_0 : vecteur contenant un modele independant de positions (modele Null)\n",
    "    \"\"\"\n",
    "    f_0 = []\n",
    "    for i in range(4):\n",
    "        f0temp = 0\n",
    "        for j in range(L):\n",
    "            f0temp += PWM[i][j]\n",
    "        f0temp /= L\n",
    "        f_0.append(f0temp)\n",
    "\n",
    "    return f_0\n",
    "\n",
    "f_0 = f0_calcule(PWM, k)\n",
    "print (f_0)"
   ]
  },
  {
   "cell_type": "markdown",
   "metadata": {
    "id": "YE3jpfh5Cn-e"
   },
   "source": [
    "9\\. Faites une fonction pour calculer log-rapport de vraisemblancee d'une sequence de taille k et la matrice poids position.\n",
    "\\begin{equation}\n",
    "\\label{eq:ll}\n",
    "\\ell(b_0,...,b_{k-1}) = \\log_2 \\frac {P(b_0,...,b_{k-1} | \\omega )\n",
    "}{P^{(0)}(b_0,...,b_{k-1})}\n",
    "= \\sum_{i=0}^{k-1} \\log_2 \\frac {\\omega_i(b_i)}{f^{(0)}(b_i)}\\ .\n",
    "\\end{equation}"
   ]
  },
  {
   "cell_type": "code",
   "execution_count": 83,
   "metadata": {
    "colab": {
     "base_uri": "https://localhost:8080/"
    },
    "id": "msAGTcn_Cn-e",
    "outputId": "209a8450-323c-4852-fe81-d6a5151d88fb"
   },
   "outputs": [
    {
     "data": {
      "text/plain": [
       "0.8426865225103377"
      ]
     },
     "execution_count": 83,
     "metadata": {},
     "output_type": "execute_result"
    }
   ],
   "source": [
    "import math\n",
    "\n",
    "def loglikehood(seq, PWM, f_0, L):\n",
    "\t\"\"\"\n",
    "\tCalcul le rapport de vraissemblance entre une sequence et une matrice de poids position\n",
    "\tentrée PWM : matrice de probabilites ou poids positions\n",
    "\tentrée f_0 : vecteur contenant le modele independant de positions (modele Null)\n",
    "\tentrée seq : une sequence d'ADN de taille k, ou k est le nombre de colonnes de PWM\n",
    "\tsortie ll : rapport de vraissemblance\n",
    "\t\"\"\"\n",
    "\tL_0 = len(seq)\n",
    "\tnuc = {'A' : 0, 'C' : 1, 'G' : 2, 'T' : 3}\n",
    "\tl_win = 0\n",
    "\n",
    "\tfor i in range(L): \n",
    "\t\tl_win += math.log2(PWM[nuc[seq[i]]][i]/f_0[nuc[seq[i]]])\n",
    "\t\n",
    "\treturn l_win\n",
    "\n",
    "loglikehood('acctgcaccc'.upper(), PWM, f_0, k)"
   ]
  },
  {
   "cell_type": "markdown",
   "metadata": {
    "id": "wqKrEGUg-TZZ"
   },
   "source": [
    "10\\. Faire une fonction que pour chaque séquence cherche la/les positions avec une log-vraisemblance positive."
   ]
  },
  {
   "cell_type": "code",
   "execution_count": 90,
   "metadata": {
    "id": "wY13WdCS-TZa",
    "outputId": "88a38de3-8c4a-41a5-afe8-be47a8fa4ee2"
   },
   "outputs": [
    {
     "name": "stdout",
     "output_type": "stream",
     "text": [
      "[382, 82, 156, 368, 183, 271, 231, 7, 64, 49, 68, 76, 56, 354, 665, 16, 401, 19, 106, 122, 171, 129, 493, 222, 118, 110, 253, 164, 38, 44, 95, 190, 405, 151, 278, 21, 9, 66, 115, 16, 4, 564, 439, 158, 190, 119, 277, 53, 454, 179, 246, 329, 27, 67, 51, 276, 241, 26, 219, 94, 367, 448, 611, 183, 169, 143, 322, 237, 257, 127, 344, 1, 88, 54, 92, 67, 88, 138, 63, 125, 62, 94, 98, 2, 61, 83, 32, 146, 288, 263, 80, 53, 175, 39, 163, 125, 66, 18, 136, 224, 61, 39, 112, 86, 2, 10, 227, 215, 100]\n"
     ]
    }
   ],
   "source": [
    "def searchPWM(sequences, k, PWM, f_0):\n",
    "    \"\"\"\n",
    "    Cherche les positions dans un ensemble de séquence qui maxime le rapport de vraisemblance\n",
    "    entrée sequences : ensemble de séquence d'ADN\n",
    "    entrée k : nombre de colonnes d'PWM\n",
    "    entrée PWM : matrice de probabilités ou poids positions\n",
    "    entrée f_0 : vecteur contenant le modèle indépendant de positions (modèle Null)\n",
    "    sortie posList: liste contenant pour chaque séquence la/les positions ayant un rapport de vraisemblance positive\n",
    "    \"\"\"\n",
    "    posList = []; foundMotifPWM = []\n",
    "\n",
    "    for i in range(len(sequences)):\n",
    "        maxx = 0\n",
    "        foundMotifPWM.append(\"\")\n",
    "        posList.append(\"\")\n",
    "        for j in range(0, len(sequences[i])-k):\n",
    "            if loglikehood(sequences[i][j:j+k].upper(), PWM, f_0, k) > maxx:\n",
    "                posList[i] = j\n",
    "                foundMotifPWM[i] = sequences[i][j:j+k]\n",
    "                maxx = loglikehood(sequences[i][j:j+k].upper(), PWM, f_0, k)\n",
    "\n",
    "    return posList, foundMotifPWM\n",
    "\n",
    "\n",
    "posList, motifs = searchPWM(sequencesPeaks, k, PWM, f_0)\n",
    "print(posList)\n"
   ]
  },
  {
   "cell_type": "markdown",
   "metadata": {
    "id": "nW_A2lhF-TZa"
   },
   "source": [
    "11\\.  (Bonus) Certains motifs si chevauche dans ce cas il faut choisir ceux qui ont la meilleur  log-vraisemblance. Par exemple pour une taille de motif k = 7, si vous avez deux motifs, un qui commence dans la position 45 et un autre en position 47, garder celui avec la log-vraisemblance la plus grande."
   ]
  },
  {
   "cell_type": "code",
   "execution_count": null,
   "metadata": {
    "id": "cyuRQS9UCn-f"
   },
   "outputs": [],
   "source": [
    "def searchPWMOptmiseMotifs(sequences, k, PWM, f_0):\n",
    "    \"\"\"\n",
    "    Cherche les positions dans un ensemble de séquence qui maxime le rapport de vraisemblance et elimine les motifs chevauchante\n",
    "    entrée sequences : ensemble de séquence d'ADN\n",
    "    entrée k : nombre de colonnes d'PWM\n",
    "    entrée PWM : matrice de probabilités ou poids positions\n",
    "    entrée f_0 : vecteur contenant le modèle indépendant de positions (modèle Null)\n",
    "    sortie posList: liste contenant pour chaque séquence la/les positions ayant un rapport de vraisemblance positive\n",
    "\n",
    "    \"\"\"\n",
    "    \n",
    "    \n",
    "    return None"
   ]
  },
  {
   "cell_type": "markdown",
   "metadata": {
    "id": "nZYLXP2HCn-e"
   },
   "source": [
    "12\\.Tester l'algorithme sur vos données de chipSeq et dessiner le LOGO"
   ]
  },
  {
   "cell_type": "code",
   "execution_count": null,
   "metadata": {
    "id": "v4MZ0n-i-TZc"
   },
   "outputs": [],
   "source": []
  }
 ],
 "metadata": {
  "celltoolbar": "Raw Cell Format",
  "colab": {
   "provenance": []
  },
  "kernelspec": {
   "display_name": "Python 3 (ipykernel)",
   "language": "python",
   "name": "python3"
  },
  "language_info": {
   "codemirror_mode": {
    "name": "ipython",
    "version": 3
   },
   "file_extension": ".py",
   "mimetype": "text/x-python",
   "name": "python",
   "nbconvert_exporter": "python",
   "pygments_lexer": "ipython3",
   "version": "3.11.5"
  }
 },
 "nbformat": 4,
 "nbformat_minor": 1
}
